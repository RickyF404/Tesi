{
  "nbformat": 4,
  "nbformat_minor": 0,
  "metadata": {
    "colab": {
      "provenance": [],
      "collapsed_sections": [
        "hi2BArF2Pyc2",
        "AWokvbThPqd1"
      ],
      "mount_file_id": "1TPyusiQsY-mQ32gEdTxICzBQQvhWtl6h",
      "authorship_tag": "ABX9TyMP9+e0GNOEBus9bCQQF6FU",
      "include_colab_link": true
    },
    "kernelspec": {
      "name": "python3",
      "display_name": "Python 3"
    },
    "language_info": {
      "name": "python"
    }
  },
  "cells": [
    {
      "cell_type": "markdown",
      "metadata": {
        "id": "view-in-github",
        "colab_type": "text"
      },
      "source": [
        "<a href=\"https://colab.research.google.com/github/RickyF404/Tesi/blob/main/SVM.ipynb\" target=\"_parent\"><img src=\"https://colab.research.google.com/assets/colab-badge.svg\" alt=\"Open In Colab\"/></a>"
      ]
    },
    {
      "cell_type": "code",
      "execution_count": null,
      "metadata": {
        "id": "AeXzzQQEH18Y"
      },
      "outputs": [],
      "source": [
        "import pandas as pd\n",
        "from sklearn.preprocessing import StandardScaler\n",
        "from sklearn.svm import OneClassSVM\n",
        "import numpy as np\n",
        "import matplotlib.pyplot as plt\n",
        "import gdown"
      ]
    },
    {
      "cell_type": "code",
      "source": [
        "url_no_temp = \"https://drive.google.com/uc?id=1jerpsOqjogEnnriBkHOrDDEeh1wJry_o\"\n",
        "output_no_temp = \"data_no_temperature.csv\"\n",
        "gdown.download(url_no_temp, output_no_temp)\n",
        "\n",
        "url_temp = \" https://drive.google.com/uc?id=1RofjUHZS_UAnbF6Xe74jTp9z4Mmk7swH\"\n",
        "output_temp = \"data_temperature.csv\"\n",
        "gdown.download(url_temp, output_temp)"
      ],
      "metadata": {
        "id": "EIzWnIx1F9Uh"
      },
      "execution_count": null,
      "outputs": []
    },
    {
      "cell_type": "markdown",
      "source": [
        "# Dataset senza temperatura"
      ],
      "metadata": {
        "id": "hi2BArF2Pyc2"
      }
    },
    {
      "cell_type": "code",
      "source": [
        "df = pd.read_csv(\"/content/data_no_temperature.csv\", parse_dates=[\"timestamp\"])\n",
        "df = df.sort_values(\"timestamp\")\n",
        "df[\"month\"] = df[\"timestamp\"].dt.to_period(\"M\")\n",
        "months = sorted(df[\"month\"].unique())\n",
        "\n",
        "for i in range(1, len(months)):\n",
        "  train_months = months[:i]\n",
        "  val_months = months[i:]\n",
        "\n",
        "  train_data = df[df[\"month\"].isin(train_months)]\n",
        "  val_data = df[df[\"month\"].isin(val_months)]\n",
        "\n",
        "  #preprocessing\n",
        "  scaler = StandardScaler()\n",
        "  X_train = scaler.fit_transform(train_data.drop(columns = [\"timestamp\", \"month\"]))\n",
        "  X_val = scaler.transform(val_data.drop(columns = [\"timestamp\", \"month\"]))\n",
        "\n",
        "  ocsvm = OneClassSVM(kernel=\"rbf\", nu=0.01, gamma=0.01)\n",
        "  ocsvm.fit(X_train)\n",
        "\n",
        "  preds = ocsvm.predict(X_val)\n",
        "  anomaly_rate = np.mean(preds == -1)*100\n",
        "\n",
        "  print(f\"Train su {i} mesi -> {anomaly_rate:.2f}% anomalie:\")"
      ],
      "metadata": {
        "colab": {
          "base_uri": "https://localhost:8080/"
        },
        "id": "K_NINSLZID6e",
        "outputId": "3599f80e-39a7-44b4-f86f-6d8c3ebd38ec"
      },
      "execution_count": null,
      "outputs": [
        {
          "output_type": "stream",
          "name": "stderr",
          "text": [
            "/tmp/ipython-input-253523872.py:3: UserWarning: Converting to PeriodArray/Index representation will drop timezone information.\n",
            "  df[\"month\"] = df[\"timestamp\"].dt.to_period(\"M\")\n"
          ]
        },
        {
          "output_type": "stream",
          "name": "stdout",
          "text": [
            "Train su 1 mesi -> 15.64% anomalie:\n",
            "Train su 2 mesi -> 18.09% anomalie:\n",
            "Train su 3 mesi -> 20.88% anomalie:\n",
            "Train su 4 mesi -> 11.65% anomalie:\n",
            "Train su 5 mesi -> 6.69% anomalie:\n",
            "Train su 6 mesi -> 3.97% anomalie:\n",
            "Train su 7 mesi -> 2.80% anomalie:\n",
            "Train su 8 mesi -> 1.53% anomalie:\n",
            "Train su 9 mesi -> 1.24% anomalie:\n",
            "Train su 10 mesi -> 1.26% anomalie:\n",
            "Train su 11 mesi -> 1.30% anomalie:\n",
            "Train su 12 mesi -> 1.24% anomalie:\n",
            "Train su 13 mesi -> 1.42% anomalie:\n",
            "Train su 14 mesi -> 1.35% anomalie:\n",
            "Train su 15 mesi -> 1.59% anomalie:\n",
            "Train su 16 mesi -> 1.82% anomalie:\n",
            "Train su 17 mesi -> 1.94% anomalie:\n",
            "Train su 18 mesi -> 2.51% anomalie:\n",
            "Train su 19 mesi -> 1.91% anomalie:\n"
          ]
        }
      ]
    },
    {
      "cell_type": "markdown",
      "source": [
        "# Dataset con temperatura"
      ],
      "metadata": {
        "id": "AWokvbThPqd1"
      }
    },
    {
      "cell_type": "code",
      "source": [
        "df = pd.read_csv(\"/content/data_temperature.csv\", parse_dates=[\"timestamp\"])\n",
        "df = df.sort_values(\"timestamp\")\n",
        "df[\"month\"] = df[\"timestamp\"].dt.to_period(\"M\")\n",
        "months = sorted(df[\"month\"].unique())\n",
        "\n",
        "for i in range(1, len(months)):\n",
        "  train_months = months[:i]\n",
        "  val_months = months[i:]\n",
        "\n",
        "  train_data = df[df[\"month\"].isin(train_months)]\n",
        "  val_data = df[df[\"month\"].isin(val_months)]\n",
        "\n",
        "  #preprocessing\n",
        "  scaler = StandardScaler()\n",
        "  X_train = scaler.fit_transform(train_data.drop(columns = [\"timestamp\", \"month\"]))\n",
        "  X_val = scaler.transform(val_data.drop(columns = [\"timestamp\", \"month\"]))\n",
        "\n",
        "  ocsvm = OneClassSVM(kernel=\"rbf\", nu=0.01, gamma=0.01)\n",
        "  ocsvm.fit(X_train)\n",
        "\n",
        "  preds = ocsvm.predict(X_val)\n",
        "  anomaly_rate = np.mean(preds == -1)*100\n",
        "\n",
        "  print(f\"Train su {i} mesi -> {anomaly_rate:.2f}% anomalie:\")"
      ],
      "metadata": {
        "colab": {
          "base_uri": "https://localhost:8080/"
        },
        "id": "MpIoi2FLPlEO",
        "outputId": "8f8b5292-0553-4140-f778-dee8f28c2e48"
      },
      "execution_count": null,
      "outputs": [
        {
          "output_type": "stream",
          "name": "stderr",
          "text": [
            "/tmp/ipython-input-568729014.py:3: UserWarning: Converting to PeriodArray/Index representation will drop timezone information.\n",
            "  df[\"month\"] = df[\"timestamp\"].dt.to_period(\"M\")\n"
          ]
        },
        {
          "output_type": "stream",
          "name": "stdout",
          "text": [
            "Train su 1 mesi -> 57.90% anomalie:\n",
            "Train su 2 mesi -> 59.14% anomalie:\n",
            "Train su 3 mesi -> 56.89% anomalie:\n",
            "Train su 4 mesi -> 38.03% anomalie:\n",
            "Train su 5 mesi -> 26.30% anomalie:\n",
            "Train su 6 mesi -> 7.12% anomalie:\n",
            "Train su 7 mesi -> 2.54% anomalie:\n",
            "Train su 8 mesi -> 1.46% anomalie:\n",
            "Train su 9 mesi -> 1.25% anomalie:\n",
            "Train su 10 mesi -> 1.38% anomalie:\n",
            "Train su 11 mesi -> 1.39% anomalie:\n",
            "Train su 12 mesi -> 1.32% anomalie:\n",
            "Train su 13 mesi -> 1.46% anomalie:\n",
            "Train su 14 mesi -> 1.31% anomalie:\n",
            "Train su 15 mesi -> 1.61% anomalie:\n",
            "Train su 16 mesi -> 1.70% anomalie:\n",
            "Train su 17 mesi -> 1.94% anomalie:\n",
            "Train su 18 mesi -> 2.45% anomalie:\n",
            "Train su 19 mesi -> 1.79% anomalie:\n"
          ]
        }
      ]
    },
    {
      "cell_type": "markdown",
      "source": [
        "# Finestre temporali senza temperatura"
      ],
      "metadata": {
        "id": "cdpb6Btzq49M"
      }
    },
    {
      "cell_type": "code",
      "source": [
        "df_original = pd.read_csv(\"/content/data_no_temperature.csv\", encoding = \"utf-8\")\n",
        "df_original[\"timestamp\"] = pd.to_datetime(df_original[\"timestamp\"])\n",
        "df_original[\"timestamp\"] = df_original[\"timestamp\"].dt.tz_localize(None)\n",
        "df_original = df_original.sort_values(\"timestamp\")\n",
        "\n",
        "end = \"2025-01-01\"\n",
        "df = df_original[(df_original[\"timestamp\"] < end)]"
      ],
      "metadata": {
        "id": "ngw8YaANq8sY"
      },
      "execution_count": null,
      "outputs": []
    },
    {
      "cell_type": "code",
      "source": [
        "def anomaly_rate_SVM(train_df, valid_df, features):\n",
        "  scaler = StandardScaler()\n",
        "  # scaler = RobustScaler()\n",
        "  X_train = scaler.fit_transform(train_df[features])\n",
        "  X_val = scaler.transform(valid_df[features])\n",
        "\n",
        "  ocsvm = OneClassSVM(kernel=\"rbf\", nu=0.01, gamma=0.01)\n",
        "  ocsvm.fit(X_train)\n",
        "\n",
        "  preds = ocsvm.predict(X_val)\n",
        "  anomaly_rate = np.mean(preds == -1)\n",
        "\n",
        "  return anomaly_rate"
      ],
      "metadata": {
        "id": "UussSFp8rCY2"
      },
      "execution_count": null,
      "outputs": []
    },
    {
      "cell_type": "code",
      "source": [
        "def create_fake_month(df, frac_per_month, random_state):\n",
        "  rng = np.random.default_rng(seed=random_state) # generatore casuale con seed\n",
        "  df[\"day\"] = df[\"timestamp\"].dt.floor(\"D\")\n",
        "  df[\"year_month\"] = df[\"timestamp\"].dt.to_period(\"M\")\n",
        "  train_indices = []\n",
        "\n",
        "  for ym, group in df.groupby(\"year_month\"):\n",
        "    days = group[\"day\"].unique()\n",
        "    n_take = max(1, int(len(days) * frac_per_month))\n",
        "    sampled_days = rng.choice(days, size=n_take, replace=False)\n",
        "    sel = group[group[\"day\"].isin(sampled_days)].index.tolist()\n",
        "    train_indices += sel\n",
        "\n",
        "  train_df = df.loc[train_indices].copy()\n",
        "  valid_df = df.drop(index=train_indices).copy()\n",
        "  train_df = train_df.drop(columns=[\"day\", \"year_month\"])\n",
        "  valid_df = valid_df.drop(columns=[\"day\", \"year_month\"])\n",
        "  train_df = train_df.sort_values(\"timestamp\")\n",
        "  valid_df = valid_df.sort_values(\"timestamp\")\n",
        "\n",
        "  return train_df, valid_df"
      ],
      "metadata": {
        "id": "Ztrpk0GmrQCo"
      },
      "execution_count": null,
      "outputs": []
    },
    {
      "cell_type": "markdown",
      "source": [
        "2 mesi di dati reali"
      ],
      "metadata": {
        "id": "tqCKolszrSc5"
      }
    },
    {
      "cell_type": "code",
      "source": [
        "#parametri\n",
        "features = [\"Mode 1\", \"Mode 2\", \"Mode 3\", \"Mode 4\", \"Mode 5\", \"Mode 6\"]\n",
        "results = []\n",
        "window_size = 2\n",
        "n_months = 12\n",
        "start_date = df[\"timestamp\"].min()\n",
        "\n",
        "for m in range(1, n_months - window_size + 2):\n",
        "  train_start = start_date + pd.DateOffset(months=m-1)\n",
        "  train_end = start_date + pd.DateOffset(months=m-1+window_size)\n",
        "  train_df = df[(df[\"timestamp\"] >= train_start) & (df[\"timestamp\"] < train_end)]\n",
        "\n",
        "  valid_df = df[~df[\"timestamp\"].isin(train_df[\"timestamp\"])]\n",
        "\n",
        "  anomaly = anomaly_rate_SVM(train_df, valid_df, features)\n",
        "\n",
        "  train_months = sorted(train_df[\"timestamp\"].dt.to_period(\"M\").unique())\n",
        "\n",
        "  results.append({\"train_months\": [str(x) for x in train_months] ,  \"window_size\": len(train_months), \"anomaly rate\": anomaly})\n",
        "\n",
        "results_df_2m = pd.DataFrame(results)\n",
        "print(results_df_2m)"
      ],
      "metadata": {
        "colab": {
          "base_uri": "https://localhost:8080/"
        },
        "id": "gftgMvlgrSNA",
        "outputId": "6a8d2acd-6d3f-46b2-f495-0dee009bc46c"
      },
      "execution_count": null,
      "outputs": [
        {
          "output_type": "stream",
          "name": "stdout",
          "text": [
            "          train_months  window_size  anomaly rate\n",
            "0   [2024-01, 2024-02]            2      0.178981\n",
            "1   [2024-02, 2024-03]            2      0.253484\n",
            "2   [2024-03, 2024-04]            2      0.080255\n",
            "3   [2024-04, 2024-05]            2      0.040639\n",
            "4   [2024-05, 2024-06]            2      0.032254\n",
            "5   [2024-06, 2024-07]            2      0.024365\n",
            "6   [2024-07, 2024-08]            2      0.015126\n",
            "7   [2024-08, 2024-09]            2      0.019818\n",
            "8   [2024-09, 2024-10]            2      0.108907\n",
            "9   [2024-10, 2024-11]            2      0.089722\n",
            "10  [2024-11, 2024-12]            2      0.087247\n"
          ]
        }
      ]
    },
    {
      "cell_type": "markdown",
      "source": [
        "4 mesi di dati reali"
      ],
      "metadata": {
        "id": "RBAh5fo4rgK1"
      }
    },
    {
      "cell_type": "code",
      "source": [
        "#parametri\n",
        "features = [\"Mode 1\", \"Mode 2\", \"Mode 3\", \"Mode 4\", \"Mode 5\", \"Mode 6\"]\n",
        "results = []\n",
        "window_size = 4\n",
        "n_months = 12\n",
        "start_date = df[\"timestamp\"].min()\n",
        "\n",
        "for m in range(1, n_months - window_size + 2):\n",
        "  train_start = start_date + pd.DateOffset(months=m-1)\n",
        "  train_end = start_date + pd.DateOffset(months=m-1+window_size)\n",
        "  train_df = df[(df[\"timestamp\"] >= train_start) & (df[\"timestamp\"] < train_end)]\n",
        "\n",
        "  valid_df = df[~df[\"timestamp\"].isin(train_df[\"timestamp\"])]\n",
        "\n",
        "  anomaly = anomaly_rate_SVM(train_df, valid_df, features)\n",
        "\n",
        "  train_months = sorted(train_df[\"timestamp\"].dt.to_period(\"M\").unique())\n",
        "\n",
        "  results.append({\"train_months\": [str(x) for x in train_months] ,  \"window_size\": len(train_months), \"anomaly rate\": anomaly})\n",
        "\n",
        "results_df_4m = pd.DataFrame(results)\n",
        "print(results_df_4m)"
      ],
      "metadata": {
        "colab": {
          "base_uri": "https://localhost:8080/"
        },
        "id": "WmytLvdkrhwm",
        "outputId": "99e7bcb1-9a32-4d24-b4d0-dd3c7bd54cee"
      },
      "execution_count": null,
      "outputs": [
        {
          "output_type": "stream",
          "name": "stdout",
          "text": [
            "                           train_months  window_size  anomaly rate\n",
            "0  [2024-01, 2024-02, 2024-03, 2024-04]            4      0.124148\n",
            "1  [2024-02, 2024-03, 2024-04, 2024-05]            4      0.067025\n",
            "2  [2024-03, 2024-04, 2024-05, 2024-06]            4      0.032695\n",
            "3  [2024-04, 2024-05, 2024-06, 2024-07]            4      0.025982\n",
            "4  [2024-05, 2024-06, 2024-07, 2024-08]            4      0.017337\n",
            "5  [2024-06, 2024-07, 2024-08, 2024-09]            4      0.013792\n",
            "6  [2024-07, 2024-08, 2024-09, 2024-10]            4      0.016380\n",
            "7  [2024-08, 2024-09, 2024-10, 2024-11]            4      0.029643\n",
            "8  [2024-09, 2024-10, 2024-11, 2024-12]            4      0.044574\n"
          ]
        }
      ]
    },
    {
      "cell_type": "markdown",
      "source": [
        "6 mesi di dati reali"
      ],
      "metadata": {
        "id": "pV8W-F7BBsEh"
      }
    },
    {
      "cell_type": "code",
      "source": [
        "#parametri\n",
        "features = [\"Mode 1\", \"Mode 2\", \"Mode 3\", \"Mode 4\", \"Mode 5\", \"Mode 6\"]\n",
        "results = []\n",
        "window_size = 6\n",
        "n_months = 12\n",
        "start_date = df[\"timestamp\"].min()\n",
        "\n",
        "for m in range(1, n_months - window_size + 2):\n",
        "  train_start = start_date + pd.DateOffset(months=m-1)\n",
        "  train_end = start_date + pd.DateOffset(months=m-1+window_size)\n",
        "  train_df = df[(df[\"timestamp\"] >= train_start) & (df[\"timestamp\"] < train_end)]\n",
        "\n",
        "  valid_df = df[~df[\"timestamp\"].isin(train_df[\"timestamp\"])]\n",
        "\n",
        "  anomaly = anomaly_rate_SVM(train_df, valid_df, features)\n",
        "\n",
        "  train_months = sorted(train_df[\"timestamp\"].dt.to_period(\"M\").unique())\n",
        "\n",
        "  results.append({\"train_months\": [str(x) for x in train_months] , \"window_size\": len(train_months), \"anomaly rate\": anomaly})\n",
        "\n",
        "results_df_6m = pd.DataFrame(results)\n",
        "print(results_df_6m)"
      ],
      "metadata": {
        "colab": {
          "base_uri": "https://localhost:8080/"
        },
        "id": "LAEwnw1yBuZm",
        "outputId": "05732b00-c140-4a06-f42d-ba8c68a43fb5"
      },
      "execution_count": null,
      "outputs": [
        {
          "output_type": "stream",
          "name": "stdout",
          "text": [
            "                                        train_months  window_size  \\\n",
            "0  [2024-01, 2024-02, 2024-03, 2024-04, 2024-05, ...            6   \n",
            "1  [2024-02, 2024-03, 2024-04, 2024-05, 2024-06, ...            6   \n",
            "2  [2024-03, 2024-04, 2024-05, 2024-06, 2024-07, ...            6   \n",
            "3  [2024-04, 2024-05, 2024-06, 2024-07, 2024-08, ...            6   \n",
            "4  [2024-05, 2024-06, 2024-07, 2024-08, 2024-09, ...            6   \n",
            "5  [2024-06, 2024-07, 2024-08, 2024-09, 2024-10, ...            6   \n",
            "6  [2024-07, 2024-08, 2024-09, 2024-10, 2024-11, ...            6   \n",
            "\n",
            "   anomaly rate  \n",
            "0      0.049080  \n",
            "1      0.026595  \n",
            "2      0.014123  \n",
            "3      0.014979  \n",
            "4      0.017630  \n",
            "5      0.018401  \n",
            "6      0.013502  \n"
          ]
        }
      ]
    },
    {
      "cell_type": "markdown",
      "source": [
        "2 mesi di dati falsi"
      ],
      "metadata": {
        "id": "22ef6ztHBx8A"
      }
    },
    {
      "cell_type": "code",
      "source": [
        "#parametri\n",
        "features = [\"Mode 1\", \"Mode 2\", \"Mode 3\", \"Mode 4\", \"Mode 5\", \"Mode 6\"]\n",
        "results_2m_fake =[]\n",
        "train_df, valid_df = create_fake_month(df_original, frac_per_month=0.1, random_state=42)\n",
        "\n",
        "print(\"Giorni training:\", train_df[\"timestamp\"].dt.date.nunique())\n",
        "print(\"Giorni validation:\", valid_df[\"timestamp\"].dt.date.nunique())\n",
        "\n",
        "anomaly = anomaly_rate_SVM(train_df, valid_df, features)\n",
        "results_2m_fake.append({\"window_size\": 2, \"anomaly\": anomaly})\n",
        "\n",
        "results_df_2m_fake = pd.DataFrame(results_2m_fake)\n",
        "print(results_df_2m_fake)"
      ],
      "metadata": {
        "colab": {
          "base_uri": "https://localhost:8080/"
        },
        "id": "IUc-XVmdBzjH",
        "outputId": "7701adf7-739a-4ad8-a293-0ea6c29ccb4c"
      },
      "execution_count": null,
      "outputs": [
        {
          "output_type": "stream",
          "name": "stdout",
          "text": [
            "Giorni training: 57\n",
            "Giorni validation: 547\n",
            "   window_size   anomaly\n",
            "0            2  0.015853\n"
          ]
        }
      ]
    },
    {
      "cell_type": "markdown",
      "source": [
        "4 mesi di dati falsi"
      ],
      "metadata": {
        "id": "KwNneYBPB6wZ"
      }
    },
    {
      "cell_type": "code",
      "source": [
        "#parametri\n",
        "features = [\"Mode 1\", \"Mode 2\", \"Mode 3\", \"Mode 4\", \"Mode 5\", \"Mode 6\"]\n",
        "results_4m_fake = []\n",
        "train_df, valid_df = create_fake_month(df_original, frac_per_month=0.2, random_state=42)\n",
        "\n",
        "print(\"Giorni training:\", train_df[\"timestamp\"].dt.date.nunique())\n",
        "print(\"Giorni validation:\", valid_df[\"timestamp\"].dt.date.nunique())\n",
        "\n",
        "anomaly = anomaly_rate_SVM(train_df, valid_df, features)\n",
        "results_4m_fake.append({\"window_size\": 4, \"anomaly\": anomaly})\n",
        "\n",
        "results_df_4m_fake = pd.DataFrame(results_4m_fake)\n",
        "print(results_df_4m_fake)"
      ],
      "metadata": {
        "colab": {
          "base_uri": "https://localhost:8080/"
        },
        "id": "0pbKoWWzB8hb",
        "outputId": "ef415174-8f78-4f80-e1ce-c531dba018df"
      },
      "execution_count": null,
      "outputs": [
        {
          "output_type": "stream",
          "name": "stdout",
          "text": [
            "Giorni training: 117\n",
            "Giorni validation: 487\n",
            "   window_size   anomaly\n",
            "0            4  0.007916\n"
          ]
        }
      ]
    },
    {
      "cell_type": "markdown",
      "source": [
        "6 mesi di dati falsi"
      ],
      "metadata": {
        "id": "3-ACgKhaCBN5"
      }
    },
    {
      "cell_type": "code",
      "source": [
        "#parametri\n",
        "features = [\"Mode 1\", \"Mode 2\", \"Mode 3\", \"Mode 4\", \"Mode 5\", \"Mode 6\"]\n",
        "results_6m_fake = []\n",
        "train_df, valid_df = create_fake_month(df_original, frac_per_month=0.3, random_state=42)\n",
        "\n",
        "print(\"Giorni training:\", train_df[\"timestamp\"].dt.date.nunique())\n",
        "print(\"Giorni validation:\", valid_df[\"timestamp\"].dt.date.nunique())\n",
        "\n",
        "anomaly = anomaly_rate_SVM(train_df, valid_df, features)\n",
        "results_6m_fake.append({\"window_size\": 6, \"anomaly\": anomaly})\n",
        "\n",
        "results_df_6m_fake = pd.DataFrame(results_6m_fake)\n",
        "print(results_df_6m_fake)"
      ],
      "metadata": {
        "colab": {
          "base_uri": "https://localhost:8080/"
        },
        "id": "iGCda_wNCCrT",
        "outputId": "99d896b9-026d-4f96-f6dd-dea8e0a75995"
      },
      "execution_count": null,
      "outputs": [
        {
          "output_type": "stream",
          "name": "stdout",
          "text": [
            "Giorni training: 177\n",
            "Giorni validation: 427\n",
            "   window_size   anomaly\n",
            "0            6  0.007316\n"
          ]
        }
      ]
    },
    {
      "cell_type": "code",
      "source": [
        "real_results_df = pd.concat([results_df_2m, results_df_4m, results_df_6m])\n",
        "real_mean = real_results_df.groupby(\"window_size\")[\"anomaly rate\"].mean().reset_index()\n",
        "\n",
        "fake_results_df = pd.concat([results_df_2m_fake, results_df_4m_fake, results_df_6m_fake])\n",
        "\n",
        "plt.figure(figsize=(8,5))\n",
        "plt.plot(real_mean[\"window_size\"], real_mean[\"anomaly rate\"]*100, \"o-\", label=\"Media mesi reali\")\n",
        "plt.plot(fake_results_df[\"window_size\"], fake_results_df[\"anomaly\"]*100, \"o-\", label=\"Mesi fake\")\n",
        "plt.axhline(2, color=\"r\", linestyle=\"--\", label=\"soglia 2%\")\n",
        "plt.xlabel(\"Numero di mesi nel training set\")\n",
        "plt.ylabel(\"Anomaly rate (%)\")\n",
        "plt.title(\"Confronto mesi reali vs mesi fake\")\n",
        "plt.legend()\n",
        "plt.grid(True)\n",
        "\n",
        "plt.show()"
      ],
      "metadata": {
        "colab": {
          "base_uri": "https://localhost:8080/",
          "height": 487
        },
        "id": "dNnwTeK92Aks",
        "outputId": "181e452d-9bae-4d47-8407-06c026455ee5"
      },
      "execution_count": null,
      "outputs": [
        {
          "output_type": "display_data",
          "data": {
            "text/plain": [
              "<Figure size 800x500 with 1 Axes>"
            ],
            "image/png": "[encoded data removed]"
          },
          "metadata": {}
        }
      ]
    },
    {
      "cell_type": "code",
      "source": [
        "labels = [\"2 mesi\", \"4 mesi\", \"6 mesi\"]\n",
        "real_results_df = pd.concat([results_df_2m, results_df_4m, results_df_6m])\n",
        "real_mean = real_results_df.groupby(\"window_size\")[\"anomaly rate\"].mean().reset_index()\n",
        "real_std = real_results_df.groupby(\"window_size\")[\"anomaly rate\"].std().reset_index()\n",
        "\n",
        "fake_results_df = pd.concat([results_df_2m_fake, results_df_4m_fake, results_df_6m_fake])\n",
        "\n",
        "x = np.arange(len(labels))\n",
        "w = 0.35\n",
        "\n",
        "fig, ax = plt.subplots(figsize=(8, 5))\n",
        "bars1 = ax.bar(x - w/2, real_mean[\"anomaly rate\"]*100, w, yerr= real_std[\"anomaly rate\"]*100, label=\"Mesi reali consecutivi (media)\")\n",
        "bars2 = ax.bar(x + w/2, fake_results_df[\"anomaly\"]*100, w, label=\"Mesi falsi\")\n",
        "ax.axhline(2, color=\"r\", linestyle=\"--\", label=\"soglia 2%\")\n",
        "ax.set_xlabel(\"Numero di mesi nel training set\")\n",
        "ax.set_ylabel(\"Anomaly rate (%)\")\n",
        "ax.set_title(\"Confronto mesi reali vs mesi fake\")\n",
        "\n",
        "ax.set_xticks(x)\n",
        "ax.set_xticklabels(labels)\n",
        "ax.legend()\n",
        "ax.grid(axis=\"y\", linestyle=\":\", alpha=0.6)\n",
        "\n",
        "def add_labels(bars):\n",
        "  for bar in bars:\n",
        "    height = bar.get_height()\n",
        "    ax.text(\n",
        "        bar.get_x() + bar.get_width()/2,\n",
        "        height + 0.4,\n",
        "        f\"{height:.2f}\",\n",
        "        ha=\"center\",\n",
        "        va=\"bottom\",\n",
        "        fontsize=9,\n",
        "        color=\"white\",\n",
        "        bbox = dict(facecolor=\"black\", alpha=0.5, edgecolor=\"none\")\n",
        "    )\n",
        "\n",
        "add_labels(bars1)\n",
        "add_labels(bars2)\n",
        "plt.tight_layout()\n",
        "plt.show()"
      ],
      "metadata": {
        "colab": {
          "base_uri": "https://localhost:8080/",
          "height": 507
        },
        "id": "bCCG9GWk2EXx",
        "outputId": "e62935ff-bb08-4ed6-9950-a88322e2fd24"
      },
      "execution_count": null,
      "outputs": [
        {
          "output_type": "display_data",
          "data": {
            "text/plain": [
              "<Figure size 800x500 with 1 Axes>"
            ],
            "image/png": "[encoded data removed]"
          },
          "metadata": {}
        }
      ]
    },
    {
      "cell_type": "markdown",
      "source": [
        "# Finestre temporali con temperatura"
      ],
      "metadata": {
        "id": "5H2Ici02CLBH"
      }
    },
    {
      "cell_type": "code",
      "source": [
        "df_temp = pd.read_csv(\"/content/data_temperature.csv\", encoding = \"utf-8\")\n",
        "df_temp[\"timestamp\"] = pd.to_datetime(df_temp[\"timestamp\"])\n",
        "df_temp[\"timestamp\"] = df_temp[\"timestamp\"].dt.tz_localize(None)\n",
        "df_temp = df_temp.sort_values(\"timestamp\")\n",
        "\n",
        "end = \"2025-01-01\"\n",
        "new_df = df_temp[(df_temp[\"timestamp\"] < end)]"
      ],
      "metadata": {
        "id": "GjQjhu-wCPzU"
      },
      "execution_count": null,
      "outputs": []
    },
    {
      "cell_type": "code",
      "source": [
        "#parametri\n",
        "features = [\"Mode 1\", \"Mode 2\", \"Mode 3\", \"Mode 4\", \"Mode 5\", \"Mode 6\", \"temperatura\"]\n",
        "results = []\n",
        "window_size = 2\n",
        "n_months = 12\n",
        "start_date = new_df[\"timestamp\"].min()\n",
        "\n",
        "for m in range(1, n_months - window_size + 2):\n",
        "  train_start = start_date + pd.DateOffset(months=m-1)\n",
        "  train_end = start_date + pd.DateOffset(months=m-1+window_size)\n",
        "  train_df = new_df[(new_df[\"timestamp\"] >= train_start) & (new_df[\"timestamp\"] < train_end)]\n",
        "\n",
        "  valid_df = new_df[~new_df[\"timestamp\"].isin(train_df[\"timestamp\"])]\n",
        "\n",
        "  anomaly = anomaly_rate_SVM(train_df, valid_df, features)\n",
        "\n",
        "  train_months = sorted(train_df[\"timestamp\"].dt.to_period(\"M\").unique())\n",
        "\n",
        "  results.append({\"train_months\": [str(x) for x in train_months] , \"anomaly rate\": anomaly})\n",
        "\n",
        "results_df = pd.DataFrame(results)\n",
        "print(results_df)"
      ],
      "metadata": {
        "colab": {
          "base_uri": "https://localhost:8080/"
        },
        "id": "0hbYJPvBCTsy",
        "outputId": "cb94b172-f974-4593-fc5c-c8f7778d2ead"
      },
      "execution_count": null,
      "outputs": [
        {
          "output_type": "stream",
          "name": "stdout",
          "text": [
            "          train_months  anomaly rate\n",
            "0   [2024-01, 2024-02]      0.633248\n",
            "1   [2024-02, 2024-03]      0.574994\n",
            "2   [2024-03, 2024-04]      0.275796\n",
            "3   [2024-04, 2024-05]      0.189137\n",
            "4   [2024-05, 2024-06]      0.126456\n",
            "5   [2024-06, 2024-07]      0.364594\n",
            "6   [2024-07, 2024-08]      0.651837\n",
            "7   [2024-08, 2024-09]      0.281422\n",
            "8   [2024-09, 2024-10]      0.420655\n",
            "9   [2024-10, 2024-11]      0.256880\n",
            "10  [2024-11, 2024-12]      0.384506\n"
          ]
        }
      ]
    },
    {
      "cell_type": "code",
      "source": [
        "#parametri\n",
        "features = [\"Mode 1\", \"Mode 2\", \"Mode 3\", \"Mode 4\", \"Mode 5\", \"Mode 6\", \"temperatura\"]\n",
        "results = []\n",
        "window_size = 4\n",
        "n_months = 12\n",
        "start_date = new_df[\"timestamp\"].min()\n",
        "\n",
        "for m in range(1, n_months - window_size + 2):\n",
        "  train_start = start_date + pd.DateOffset(months=m-1)\n",
        "  train_end = start_date + pd.DateOffset(months=m-1+window_size)\n",
        "  train_df = new_df[(new_df[\"timestamp\"] >= train_start) & (new_df[\"timestamp\"] < train_end)]\n",
        "\n",
        "  valid_df = new_df[~new_df[\"timestamp\"].isin(train_df[\"timestamp\"])]\n",
        "\n",
        "  anomaly = anomaly_rate_SVM(train_df, valid_df, features)\n",
        "\n",
        "  train_months = sorted(train_df[\"timestamp\"].dt.to_period(\"M\").unique())\n",
        "\n",
        "  results.append({\"train_months\": [str(x) for x in train_months] , \"anomaly rate\": anomaly})\n",
        "\n",
        "results_df = pd.DataFrame(results)\n",
        "print(results_df)"
      ],
      "metadata": {
        "colab": {
          "base_uri": "https://localhost:8080/"
        },
        "id": "-Za-xPe6CZ-D",
        "outputId": "47aacbba-a3a6-42c2-c28b-46830afbb707"
      },
      "execution_count": null,
      "outputs": [
        {
          "output_type": "stream",
          "name": "stdout",
          "text": [
            "                           train_months  anomaly rate\n",
            "0  [2024-01, 2024-02, 2024-03, 2024-04]      0.399080\n",
            "1  [2024-02, 2024-03, 2024-04, 2024-05]      0.245179\n",
            "2  [2024-03, 2024-04, 2024-05, 2024-06]      0.061404\n",
            "3  [2024-04, 2024-05, 2024-06, 2024-07]      0.044518\n",
            "4  [2024-05, 2024-06, 2024-07, 2024-08]      0.146493\n",
            "5  [2024-06, 2024-07, 2024-08, 2024-09]      0.327838\n",
            "6  [2024-07, 2024-08, 2024-09, 2024-10]      0.143607\n",
            "7  [2024-08, 2024-09, 2024-10, 2024-11]      0.038616\n",
            "8  [2024-09, 2024-10, 2024-11, 2024-12]      0.056363\n"
          ]
        }
      ]
    },
    {
      "cell_type": "code",
      "source": [
        "#parametri\n",
        "features = [\"Mode 1\", \"Mode 2\", \"Mode 3\", \"Mode 4\", \"Mode 5\", \"Mode 6\", \"temperatura\"]\n",
        "results = []\n",
        "window_size = 6\n",
        "n_months = 12\n",
        "start_date = new_df[\"timestamp\"].min()\n",
        "\n",
        "for m in range(1, n_months - window_size + 2):\n",
        "  train_start = start_date + pd.DateOffset(months=m-1)\n",
        "  train_end = start_date + pd.DateOffset(months=m-1+window_size)\n",
        "  train_df = new_df[(new_df[\"timestamp\"] >= train_start) & (new_df[\"timestamp\"] < train_end)]\n",
        "\n",
        "  valid_df = new_df[~new_df[\"timestamp\"].isin(train_df[\"timestamp\"])]\n",
        "\n",
        "  anomaly = anomaly_rate_SVM(train_df, valid_df, features)\n",
        "\n",
        "  train_months = sorted(train_df[\"timestamp\"].dt.to_period(\"M\").unique())\n",
        "\n",
        "  results.append({\"train_months\": [str(x) for x in train_months] , \"anomaly rate\": anomaly})\n",
        "\n",
        "results_df = pd.DataFrame(results)\n",
        "print(results_df)"
      ],
      "metadata": {
        "colab": {
          "base_uri": "https://localhost:8080/"
        },
        "id": "IHqJ6efZCboH",
        "outputId": "7f56bd9a-d1dd-451e-a28e-f2a716a7a4bf"
      },
      "execution_count": null,
      "outputs": [
        {
          "output_type": "stream",
          "name": "stdout",
          "text": [
            "                                        train_months  anomaly rate\n",
            "0  [2024-01, 2024-02, 2024-03, 2024-04, 2024-05, ...      0.081870\n",
            "1  [2024-02, 2024-03, 2024-04, 2024-05, 2024-06, ...      0.023894\n",
            "2  [2024-03, 2024-04, 2024-05, 2024-06, 2024-07, ...      0.017496\n",
            "3  [2024-04, 2024-05, 2024-06, 2024-07, 2024-08, ...      0.057384\n",
            "4  [2024-05, 2024-06, 2024-07, 2024-08, 2024-09, ...      0.127443\n",
            "5  [2024-06, 2024-07, 2024-08, 2024-09, 2024-10, ...      0.043570\n",
            "6  [2024-07, 2024-08, 2024-09, 2024-10, 2024-11, ...      0.009859\n"
          ]
        }
      ]
    }
  ]
}