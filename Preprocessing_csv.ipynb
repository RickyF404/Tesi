{
  "nbformat": 4,
  "nbformat_minor": 0,
  "metadata": {
    "colab": {
      "provenance": [],
      "mount_file_id": "1LlZO_nWXGSUmoDxF79dL8PFXTgy1ec4b",
      "authorship_tag": "ABX9TyMI/fHwS0aqXprMf6iwK+J4",
      "include_colab_link": true
    },
    "kernelspec": {
      "name": "python3",
      "display_name": "Python 3"
    },
    "language_info": {
      "name": "python"
    }
  },
  "cells": [
    {
      "cell_type": "markdown",
      "metadata": {
        "id": "view-in-github",
        "colab_type": "text"
      },
      "source": [
        "<a href=\"https://colab.research.google.com/github/RickyF404/Tesi/blob/main/Preprocessing_csv.ipynb\" target=\"_parent\"><img src=\"https://colab.research.google.com/assets/colab-badge.svg\" alt=\"Open In Colab\"/></a>"
      ]
    },
    {
      "cell_type": "code",
      "execution_count": null,
      "metadata": {
        "id": "WJQ97K3LCkH0"
      },
      "outputs": [],
      "source": [
        "import pandas as pd"
      ]
    },
    {
      "cell_type": "code",
      "source": [
        "file_path = \"/content/drive/MyDrive/oma_data(25)(in).csv\""
      ],
      "metadata": {
        "id": "-NPtZ9erCql0"
      },
      "execution_count": null,
      "outputs": []
    },
    {
      "cell_type": "code",
      "source": [
        "df = pd.read_csv(file_path, header=None, names=[\"variable\", \"OMA\", \"timestamp\", \"mode\", \"value\"])"
      ],
      "metadata": {
        "id": "CFt-er0TC_4H"
      },
      "execution_count": null,
      "outputs": []
    },
    {
      "cell_type": "code",
      "source": [
        "df.head()"
      ],
      "metadata": {
        "colab": {
          "base_uri": "https://localhost:8080/",
          "height": 206
        },
        "id": "c0_8IQ7ADHKR",
        "outputId": "fba25210-6e18-4140-bb75-93a986f648a1"
      },
      "execution_count": null,
      "outputs": [
        {
          "output_type": "execute_result",
          "data": {
            "text/plain": [
              "         variable  OMA             timestamp    mode  value\n",
              "0  FREQUENCY_DATA  FDD  2024-01-01T00:00:00Z  Mode 1   4.26\n",
              "1  FREQUENCY_DATA  FDD  2024-01-01T00:00:00Z  Mode 2  10.06\n",
              "2  FREQUENCY_DATA  FDD  2024-01-01T00:00:00Z  Mode 3  13.32\n",
              "3  FREQUENCY_DATA  FDD  2024-01-01T00:00:00Z  Mode 4  15.34\n",
              "4  FREQUENCY_DATA  FDD  2024-01-01T00:00:00Z  Mode 5  28.82"
            ],
            "text/html": [
              "\n",
              "  <div id=\"df-30405e71-f5e5-47c1-80d0-00d95b06e5c5\" class=\"colab-df-container\">\n",
              "    <div>\n",
              "<style scoped>\n",
              "    .dataframe tbody tr th:only-of-type {\n",
              "        vertical-align: middle;\n",
              "    }\n",
              "\n",
              "    .dataframe tbody tr th {\n",
              "        vertical-align: top;\n",
              "    }\n",
              "\n",
              "    .dataframe thead th {\n",
              "        text-align: right;\n",
              "    }\n",
              "</style>\n",
              "<table border=\"1\" class=\"dataframe\">\n",
              "  <thead>\n",
              "    <tr style=\"text-align: right;\">\n",
              "      <th></th>\n",
              "      <th>variable</th>\n",
              "      <th>OMA</th>\n",
              "      <th>timestamp</th>\n",
              "      <th>mode</th>\n",
              "      <th>value</th>\n",
              "    </tr>\n",
              "  </thead>\n",
              "  <tbody>\n",
              "    <tr>\n",
              "      <th>0</th>\n",
              "      <td>FREQUENCY_DATA</td>\n",
              "      <td>FDD</td>\n",
              "      <td>2024-01-01T00:00:00Z</td>\n",
              "      <td>Mode 1</td>\n",
              "      <td>4.26</td>\n",
              "    </tr>\n",
              "    <tr>\n",
              "      <th>1</th>\n",
              "      <td>FREQUENCY_DATA</td>\n",
              "      <td>FDD</td>\n",
              "      <td>2024-01-01T00:00:00Z</td>\n",
              "      <td>Mode 2</td>\n",
              "      <td>10.06</td>\n",
              "    </tr>\n",
              "    <tr>\n",
              "      <th>2</th>\n",
              "      <td>FREQUENCY_DATA</td>\n",
              "      <td>FDD</td>\n",
              "      <td>2024-01-01T00:00:00Z</td>\n",
              "      <td>Mode 3</td>\n",
              "      <td>13.32</td>\n",
              "    </tr>\n",
              "    <tr>\n",
              "      <th>3</th>\n",
              "      <td>FREQUENCY_DATA</td>\n",
              "      <td>FDD</td>\n",
              "      <td>2024-01-01T00:00:00Z</td>\n",
              "      <td>Mode 4</td>\n",
              "      <td>15.34</td>\n",
              "    </tr>\n",
              "    <tr>\n",
              "      <th>4</th>\n",
              "      <td>FREQUENCY_DATA</td>\n",
              "      <td>FDD</td>\n",
              "      <td>2024-01-01T00:00:00Z</td>\n",
              "      <td>Mode 5</td>\n",
              "      <td>28.82</td>\n",
              "    </tr>\n",
              "  </tbody>\n",
              "</table>\n",
              "</div>\n",
              "    <div class=\"colab-df-buttons\">\n",
              "\n",
              "  <div class=\"colab-df-container\">\n",
              "    <button class=\"colab-df-convert\" onclick=\"convertToInteractive('df-30405e71-f5e5-47c1-80d0-00d95b06e5c5')\"\n",
              "            title=\"Convert this dataframe to an interactive table.\"\n",
              "            style=\"display:none;\">\n",
              "\n",
              "  <svg xmlns=\"http://www.w3.org/2000/svg\" height=\"24px\" viewBox=\"0 -960 960 960\">\n",
              "    <path d=\"M120-120v-720h720v720H120Zm60-500h600v-160H180v160Zm220 220h160v-160H400v160Zm0 220h160v-160H400v160ZM180-400h160v-160H180v160Zm440 0h160v-160H620v160ZM180-180h160v-160H180v160Zm440 0h160v-160H620v160Z\"/>\n",
              "  </svg>\n",
              "    </button>\n",
              "\n",
              "  <style>\n",
              "    .colab-df-container {\n",
              "      display:flex;\n",
              "      gap: 12px;\n",
              "    }\n",
              "\n",
              "    .colab-df-convert {\n",
              "      background-color: #E8F0FE;\n",
              "      border: none;\n",
              "      border-radius: 50%;\n",
              "      cursor: pointer;\n",
              "      display: none;\n",
              "      fill: #1967D2;\n",
              "      height: 32px;\n",
              "      padding: 0 0 0 0;\n",
              "      width: 32px;\n",
              "    }\n",
              "\n",
              "    .colab-df-convert:hover {\n",
              "      background-color: #E2EBFA;\n",
              "      box-shadow: 0px 1px 2px rgba(60, 64, 67, 0.3), 0px 1px 3px 1px rgba(60, 64, 67, 0.15);\n",
              "      fill: #174EA6;\n",
              "    }\n",
              "\n",
              "    .colab-df-buttons div {\n",
              "      margin-bottom: 4px;\n",
              "    }\n",
              "\n",
              "    [theme=dark] .colab-df-convert {\n",
              "      background-color: #3B4455;\n",
              "      fill: #D2E3FC;\n",
              "    }\n",
              "\n",
              "    [theme=dark] .colab-df-convert:hover {\n",
              "      background-color: #434B5C;\n",
              "      box-shadow: 0px 1px 3px 1px rgba(0, 0, 0, 0.15);\n",
              "      filter: drop-shadow(0px 1px 2px rgba(0, 0, 0, 0.3));\n",
              "      fill: #FFFFFF;\n",
              "    }\n",
              "  </style>\n",
              "\n",
              "    <script>\n",
              "      const buttonEl =\n",
              "        document.querySelector('#df-30405e71-f5e5-47c1-80d0-00d95b06e5c5 button.colab-df-convert');\n",
              "      buttonEl.style.display =\n",
              "        google.colab.kernel.accessAllowed ? 'block' : 'none';\n",
              "\n",
              "      async function convertToInteractive(key) {\n",
              "        const element = document.querySelector('#df-30405e71-f5e5-47c1-80d0-00d95b06e5c5');\n",
              "        const dataTable =\n",
              "          await google.colab.kernel.invokeFunction('convertToInteractive',\n",
              "                                                    [key], {});\n",
              "        if (!dataTable) return;\n",
              "\n",
              "        const docLinkHtml = 'Like what you see? Visit the ' +\n",
              "          '<a target=\"_blank\" href=https://colab.research.google.com/notebooks/data_table.ipynb>data table notebook</a>'\n",
              "          + ' to learn more about interactive tables.';\n",
              "        element.innerHTML = '';\n",
              "        dataTable['output_type'] = 'display_data';\n",
              "        await google.colab.output.renderOutput(dataTable, element);\n",
              "        const docLink = document.createElement('div');\n",
              "        docLink.innerHTML = docLinkHtml;\n",
              "        element.appendChild(docLink);\n",
              "      }\n",
              "    </script>\n",
              "  </div>\n",
              "\n",
              "\n",
              "    <div id=\"df-a0224607-d53c-48d3-8417-f6ef92281ff3\">\n",
              "      <button class=\"colab-df-quickchart\" onclick=\"quickchart('df-a0224607-d53c-48d3-8417-f6ef92281ff3')\"\n",
              "                title=\"Suggest charts\"\n",
              "                style=\"display:none;\">\n",
              "\n",
              "<svg xmlns=\"http://www.w3.org/2000/svg\" height=\"24px\"viewBox=\"0 0 24 24\"\n",
              "     width=\"24px\">\n",
              "    <g>\n",
              "        <path d=\"M19 3H5c-1.1 0-2 .9-2 2v14c0 1.1.9 2 2 2h14c1.1 0 2-.9 2-2V5c0-1.1-.9-2-2-2zM9 17H7v-7h2v7zm4 0h-2V7h2v10zm4 0h-2v-4h2v4z\"/>\n",
              "    </g>\n",
              "</svg>\n",
              "      </button>\n",
              "\n",
              "<style>\n",
              "  .colab-df-quickchart {\n",
              "      --bg-color: #E8F0FE;\n",
              "      --fill-color: #1967D2;\n",
              "      --hover-bg-color: #E2EBFA;\n",
              "      --hover-fill-color: #174EA6;\n",
              "      --disabled-fill-color: #AAA;\n",
              "      --disabled-bg-color: #DDD;\n",
              "  }\n",
              "\n",
              "  [theme=dark] .colab-df-quickchart {\n",
              "      --bg-color: #3B4455;\n",
              "      --fill-color: #D2E3FC;\n",
              "      --hover-bg-color: #434B5C;\n",
              "      --hover-fill-color: #FFFFFF;\n",
              "      --disabled-bg-color: #3B4455;\n",
              "      --disabled-fill-color: #666;\n",
              "  }\n",
              "\n",
              "  .colab-df-quickchart {\n",
              "    background-color: var(--bg-color);\n",
              "    border: none;\n",
              "    border-radius: 50%;\n",
              "    cursor: pointer;\n",
              "    display: none;\n",
              "    fill: var(--fill-color);\n",
              "    height: 32px;\n",
              "    padding: 0;\n",
              "    width: 32px;\n",
              "  }\n",
              "\n",
              "  .colab-df-quickchart:hover {\n",
              "    background-color: var(--hover-bg-color);\n",
              "    box-shadow: 0 1px 2px rgba(60, 64, 67, 0.3), 0 1px 3px 1px rgba(60, 64, 67, 0.15);\n",
              "    fill: var(--button-hover-fill-color);\n",
              "  }\n",
              "\n",
              "  .colab-df-quickchart-complete:disabled,\n",
              "  .colab-df-quickchart-complete:disabled:hover {\n",
              "    background-color: var(--disabled-bg-color);\n",
              "    fill: var(--disabled-fill-color);\n",
              "    box-shadow: none;\n",
              "  }\n",
              "\n",
              "  .colab-df-spinner {\n",
              "    border: 2px solid var(--fill-color);\n",
              "    border-color: transparent;\n",
              "    border-bottom-color: var(--fill-color);\n",
              "    animation:\n",
              "      spin 1s steps(1) infinite;\n",
              "  }\n",
              "\n",
              "  @keyframes spin {\n",
              "    0% {\n",
              "      border-color: transparent;\n",
              "      border-bottom-color: var(--fill-color);\n",
              "      border-left-color: var(--fill-color);\n",
              "    }\n",
              "    20% {\n",
              "      border-color: transparent;\n",
              "      border-left-color: var(--fill-color);\n",
              "      border-top-color: var(--fill-color);\n",
              "    }\n",
              "    30% {\n",
              "      border-color: transparent;\n",
              "      border-left-color: var(--fill-color);\n",
              "      border-top-color: var(--fill-color);\n",
              "      border-right-color: var(--fill-color);\n",
              "    }\n",
              "    40% {\n",
              "      border-color: transparent;\n",
              "      border-right-color: var(--fill-color);\n",
              "      border-top-color: var(--fill-color);\n",
              "    }\n",
              "    60% {\n",
              "      border-color: transparent;\n",
              "      border-right-color: var(--fill-color);\n",
              "    }\n",
              "    80% {\n",
              "      border-color: transparent;\n",
              "      border-right-color: var(--fill-color);\n",
              "      border-bottom-color: var(--fill-color);\n",
              "    }\n",
              "    90% {\n",
              "      border-color: transparent;\n",
              "      border-bottom-color: var(--fill-color);\n",
              "    }\n",
              "  }\n",
              "</style>\n",
              "\n",
              "      <script>\n",
              "        async function quickchart(key) {\n",
              "          const quickchartButtonEl =\n",
              "            document.querySelector('#' + key + ' button');\n",
              "          quickchartButtonEl.disabled = true;  // To prevent multiple clicks.\n",
              "          quickchartButtonEl.classList.add('colab-df-spinner');\n",
              "          try {\n",
              "            const charts = await google.colab.kernel.invokeFunction(\n",
              "                'suggestCharts', [key], {});\n",
              "          } catch (error) {\n",
              "            console.error('Error during call to suggestCharts:', error);\n",
              "          }\n",
              "          quickchartButtonEl.classList.remove('colab-df-spinner');\n",
              "          quickchartButtonEl.classList.add('colab-df-quickchart-complete');\n",
              "        }\n",
              "        (() => {\n",
              "          let quickchartButtonEl =\n",
              "            document.querySelector('#df-a0224607-d53c-48d3-8417-f6ef92281ff3 button');\n",
              "          quickchartButtonEl.style.display =\n",
              "            google.colab.kernel.accessAllowed ? 'block' : 'none';\n",
              "        })();\n",
              "      </script>\n",
              "    </div>\n",
              "\n",
              "    </div>\n",
              "  </div>\n"
            ],
            "application/vnd.google.colaboratory.intrinsic+json": {
              "type": "dataframe",
              "variable_name": "df"
            }
          },
          "metadata": {},
          "execution_count": 4
        }
      ]
    },
    {
      "cell_type": "code",
      "source": [
        "print(df.columns)"
      ],
      "metadata": {
        "colab": {
          "base_uri": "https://localhost:8080/"
        },
        "id": "WTHm8aF7Rh2d",
        "outputId": "660abbd7-1e64-4ae6-fb96-b685dc3f1fe4"
      },
      "execution_count": null,
      "outputs": [
        {
          "output_type": "stream",
          "name": "stdout",
          "text": [
            "Index(['variable', 'OMA', 'timestamp', 'mode', 'value'], dtype='object')\n"
          ]
        }
      ]
    },
    {
      "cell_type": "code",
      "source": [
        "df_filtered = df[\n",
        "    (df['variable'] == \"FREQUENCY_DATA\") &\n",
        "    (df['OMA'] == \"SSI\")\n",
        " ].copy()"
      ],
      "metadata": {
        "id": "H2zNAn5DQ3MT"
      },
      "execution_count": null,
      "outputs": []
    },
    {
      "cell_type": "code",
      "source": [
        "df_pivot = df_filtered.pivot_table(\n",
        "    index = \"timestamp\",\n",
        "    columns = \"mode\",\n",
        "    values = \"value\"\n",
        ")"
      ],
      "metadata": {
        "id": "c_w1ICoYTipX"
      },
      "execution_count": null,
      "outputs": []
    },
    {
      "cell_type": "code",
      "source": [
        "df_final = df_pivot.reset_index()"
      ],
      "metadata": {
        "id": "Cj8D0QEYiIlv"
      },
      "execution_count": null,
      "outputs": []
    },
    {
      "cell_type": "code",
      "source": [
        "print(df_final.head())"
      ],
      "metadata": {
        "colab": {
          "base_uri": "https://localhost:8080/"
        },
        "id": "CAn07wQFiRrN",
        "outputId": "fac4396e-d0ee-4279-897f-f711a8c7d550"
      },
      "execution_count": null,
      "outputs": [
        {
          "output_type": "stream",
          "name": "stdout",
          "text": [
            "mode             timestamp    Mode 1    Mode 2     Mode 3     Mode 4  \\\n",
            "0     2024-01-01T00:00:00Z  4.504158  9.547615  13.401077  15.026217   \n",
            "1     2024-01-01T00:05:00Z  4.453061  9.699910  13.374415  15.219135   \n",
            "2     2024-01-01T01:00:00Z  4.512711  9.704551  13.273648  15.218402   \n",
            "3     2024-01-01T01:05:00Z  4.452378  9.985414  13.316543  15.159350   \n",
            "4     2024-01-01T02:00:00Z  4.521476  9.661182  13.332174  15.195343   \n",
            "\n",
            "mode     Mode 5     Mode 6  \n",
            "0     28.995299  43.445547  \n",
            "1     28.841254  43.489484  \n",
            "2     28.907298  43.198765  \n",
            "3     28.635115  43.424606  \n",
            "4     29.087169  43.409862  \n"
          ]
        }
      ]
    },
    {
      "cell_type": "code",
      "source": [
        "df_final.to_csv(\"/content/drive/MyDrive/data_no_temperature.csv\", index=False, encoding=\"utf-8\")"
      ],
      "metadata": {
        "id": "AcVOhWCTpYgc"
      },
      "execution_count": null,
      "outputs": []
    },
    {
      "cell_type": "code",
      "source": [
        "file_path = \"/content/drive/MyDrive/data_no_temperature.csv\"\n",
        "df = pd.read_csv(file_path)\n",
        "print(df.head())"
      ],
      "metadata": {
        "colab": {
          "base_uri": "https://localhost:8080/"
        },
        "id": "tQZTB7awpt5e",
        "outputId": "f0834a7b-6741-4db4-b1f4-b18599debfbc"
      },
      "execution_count": null,
      "outputs": [
        {
          "output_type": "stream",
          "name": "stdout",
          "text": [
            "              timestamp    Mode 1    Mode 2     Mode 3     Mode 4     Mode 5  \\\n",
            "0  2024-01-01T00:00:00Z  4.504158  9.547615  13.401077  15.026217  28.995299   \n",
            "1  2024-01-01T00:05:00Z  4.453061  9.699910  13.374415  15.219135  28.841254   \n",
            "2  2024-01-01T01:00:00Z  4.512711  9.704551  13.273648  15.218402  28.907298   \n",
            "3  2024-01-01T01:05:00Z  4.452378  9.985414  13.316543  15.159350  28.635115   \n",
            "4  2024-01-01T02:00:00Z  4.521476  9.661182  13.332174  15.195343  29.087169   \n",
            "\n",
            "      Mode 6  \n",
            "0  43.445547  \n",
            "1  43.489484  \n",
            "2  43.198765  \n",
            "3  43.424606  \n",
            "4  43.409862  \n"
          ]
        }
      ]
    },
    {
      "cell_type": "code",
      "source": [
        "df.info()"
      ],
      "metadata": {
        "colab": {
          "base_uri": "https://localhost:8080/"
        },
        "id": "_mZwKM9ErszA",
        "outputId": "e8e4ead8-9e7c-4e58-a318-dd87fb10f3d5"
      },
      "execution_count": null,
      "outputs": [
        {
          "output_type": "stream",
          "name": "stdout",
          "text": [
            "<class 'pandas.core.frame.DataFrame'>\n",
            "RangeIndex: 15614 entries, 0 to 15613\n",
            "Data columns (total 7 columns):\n",
            " #   Column     Non-Null Count  Dtype  \n",
            "---  ------     --------------  -----  \n",
            " 0   timestamp  15614 non-null  object \n",
            " 1   Mode 1     15614 non-null  float64\n",
            " 2   Mode 2     15614 non-null  float64\n",
            " 3   Mode 3     15614 non-null  float64\n",
            " 4   Mode 4     15614 non-null  float64\n",
            " 5   Mode 5     15614 non-null  float64\n",
            " 6   Mode 6     15614 non-null  float64\n",
            "dtypes: float64(6), object(1)\n",
            "memory usage: 854.0+ KB\n"
          ]
        }
      ]
    },
    {
      "cell_type": "code",
      "source": [
        "df[\"timestamp\"] = pd.to_datetime(df[\"timestamp\"])"
      ],
      "metadata": {
        "id": "tOGJDrZLr2q7"
      },
      "execution_count": null,
      "outputs": []
    },
    {
      "cell_type": "code",
      "source": [
        "df.head()"
      ],
      "metadata": {
        "colab": {
          "base_uri": "https://localhost:8080/",
          "height": 206
        },
        "id": "YDSlQ0-PsLix",
        "outputId": "fc57ff7d-1b72-41bf-d7aa-b753c36052d4"
      },
      "execution_count": null,
      "outputs": [
        {
          "output_type": "execute_result",
          "data": {
            "text/plain": [
              "                  timestamp    Mode 1    Mode 2     Mode 3     Mode 4  \\\n",
              "0 2024-01-01 00:00:00+00:00  4.504158  9.547615  13.401077  15.026217   \n",
              "1 2024-01-01 00:05:00+00:00  4.453061  9.699910  13.374415  15.219135   \n",
              "2 2024-01-01 01:00:00+00:00  4.512711  9.704551  13.273648  15.218402   \n",
              "3 2024-01-01 01:05:00+00:00  4.452378  9.985414  13.316543  15.159350   \n",
              "4 2024-01-01 02:00:00+00:00  4.521476  9.661182  13.332174  15.195343   \n",
              "\n",
              "      Mode 5     Mode 6  \n",
              "0  28.995299  43.445547  \n",
              "1  28.841254  43.489484  \n",
              "2  28.907298  43.198765  \n",
              "3  28.635115  43.424606  \n",
              "4  29.087169  43.409862  "
            ],
            "text/html": [
              "\n",
              "  <div id=\"df-bd29b210-54bd-4882-a8e6-685e16ed3347\" class=\"colab-df-container\">\n",
              "    <div>\n",
              "<style scoped>\n",
              "    .dataframe tbody tr th:only-of-type {\n",
              "        vertical-align: middle;\n",
              "    }\n",
              "\n",
              "    .dataframe tbody tr th {\n",
              "        vertical-align: top;\n",
              "    }\n",
              "\n",
              "    .dataframe thead th {\n",
              "        text-align: right;\n",
              "    }\n",
              "</style>\n",
              "<table border=\"1\" class=\"dataframe\">\n",
              "  <thead>\n",
              "    <tr style=\"text-align: right;\">\n",
              "      <th></th>\n",
              "      <th>timestamp</th>\n",
              "      <th>Mode 1</th>\n",
              "      <th>Mode 2</th>\n",
              "      <th>Mode 3</th>\n",
              "      <th>Mode 4</th>\n",
              "      <th>Mode 5</th>\n",
              "      <th>Mode 6</th>\n",
              "    </tr>\n",
              "  </thead>\n",
              "  <tbody>\n",
              "    <tr>\n",
              "      <th>0</th>\n",
              "      <td>2024-01-01 00:00:00+00:00</td>\n",
              "      <td>4.504158</td>\n",
              "      <td>9.547615</td>\n",
              "      <td>13.401077</td>\n",
              "      <td>15.026217</td>\n",
              "      <td>28.995299</td>\n",
              "      <td>43.445547</td>\n",
              "    </tr>\n",
              "    <tr>\n",
              "      <th>1</th>\n",
              "      <td>2024-01-01 00:05:00+00:00</td>\n",
              "      <td>4.453061</td>\n",
              "      <td>9.699910</td>\n",
              "      <td>13.374415</td>\n",
              "      <td>15.219135</td>\n",
              "      <td>28.841254</td>\n",
              "      <td>43.489484</td>\n",
              "    </tr>\n",
              "    <tr>\n",
              "      <th>2</th>\n",
              "      <td>2024-01-01 01:00:00+00:00</td>\n",
              "      <td>4.512711</td>\n",
              "      <td>9.704551</td>\n",
              "      <td>13.273648</td>\n",
              "      <td>15.218402</td>\n",
              "      <td>28.907298</td>\n",
              "      <td>43.198765</td>\n",
              "    </tr>\n",
              "    <tr>\n",
              "      <th>3</th>\n",
              "      <td>2024-01-01 01:05:00+00:00</td>\n",
              "      <td>4.452378</td>\n",
              "      <td>9.985414</td>\n",
              "      <td>13.316543</td>\n",
              "      <td>15.159350</td>\n",
              "      <td>28.635115</td>\n",
              "      <td>43.424606</td>\n",
              "    </tr>\n",
              "    <tr>\n",
              "      <th>4</th>\n",
              "      <td>2024-01-01 02:00:00+00:00</td>\n",
              "      <td>4.521476</td>\n",
              "      <td>9.661182</td>\n",
              "      <td>13.332174</td>\n",
              "      <td>15.195343</td>\n",
              "      <td>29.087169</td>\n",
              "      <td>43.409862</td>\n",
              "    </tr>\n",
              "  </tbody>\n",
              "</table>\n",
              "</div>\n",
              "    <div class=\"colab-df-buttons\">\n",
              "\n",
              "  <div class=\"colab-df-container\">\n",
              "    <button class=\"colab-df-convert\" onclick=\"convertToInteractive('df-bd29b210-54bd-4882-a8e6-685e16ed3347')\"\n",
              "            title=\"Convert this dataframe to an interactive table.\"\n",
              "            style=\"display:none;\">\n",
              "\n",
              "  <svg xmlns=\"http://www.w3.org/2000/svg\" height=\"24px\" viewBox=\"0 -960 960 960\">\n",
              "    <path d=\"M120-120v-720h720v720H120Zm60-500h600v-160H180v160Zm220 220h160v-160H400v160Zm0 220h160v-160H400v160ZM180-400h160v-160H180v160Zm440 0h160v-160H620v160ZM180-180h160v-160H180v160Zm440 0h160v-160H620v160Z\"/>\n",
              "  </svg>\n",
              "    </button>\n",
              "\n",
              "  <style>\n",
              "    .colab-df-container {\n",
              "      display:flex;\n",
              "      gap: 12px;\n",
              "    }\n",
              "\n",
              "    .colab-df-convert {\n",
              "      background-color: #E8F0FE;\n",
              "      border: none;\n",
              "      border-radius: 50%;\n",
              "      cursor: pointer;\n",
              "      display: none;\n",
              "      fill: #1967D2;\n",
              "      height: 32px;\n",
              "      padding: 0 0 0 0;\n",
              "      width: 32px;\n",
              "    }\n",
              "\n",
              "    .colab-df-convert:hover {\n",
              "      background-color: #E2EBFA;\n",
              "      box-shadow: 0px 1px 2px rgba(60, 64, 67, 0.3), 0px 1px 3px 1px rgba(60, 64, 67, 0.15);\n",
              "      fill: #174EA6;\n",
              "    }\n",
              "\n",
              "    .colab-df-buttons div {\n",
              "      margin-bottom: 4px;\n",
              "    }\n",
              "\n",
              "    [theme=dark] .colab-df-convert {\n",
              "      background-color: #3B4455;\n",
              "      fill: #D2E3FC;\n",
              "    }\n",
              "\n",
              "    [theme=dark] .colab-df-convert:hover {\n",
              "      background-color: #434B5C;\n",
              "      box-shadow: 0px 1px 3px 1px rgba(0, 0, 0, 0.15);\n",
              "      filter: drop-shadow(0px 1px 2px rgba(0, 0, 0, 0.3));\n",
              "      fill: #FFFFFF;\n",
              "    }\n",
              "  </style>\n",
              "\n",
              "    <script>\n",
              "      const buttonEl =\n",
              "        document.querySelector('#df-bd29b210-54bd-4882-a8e6-685e16ed3347 button.colab-df-convert');\n",
              "      buttonEl.style.display =\n",
              "        google.colab.kernel.accessAllowed ? 'block' : 'none';\n",
              "\n",
              "      async function convertToInteractive(key) {\n",
              "        const element = document.querySelector('#df-bd29b210-54bd-4882-a8e6-685e16ed3347');\n",
              "        const dataTable =\n",
              "          await google.colab.kernel.invokeFunction('convertToInteractive',\n",
              "                                                    [key], {});\n",
              "        if (!dataTable) return;\n",
              "\n",
              "        const docLinkHtml = 'Like what you see? Visit the ' +\n",
              "          '<a target=\"_blank\" href=https://colab.research.google.com/notebooks/data_table.ipynb>data table notebook</a>'\n",
              "          + ' to learn more about interactive tables.';\n",
              "        element.innerHTML = '';\n",
              "        dataTable['output_type'] = 'display_data';\n",
              "        await google.colab.output.renderOutput(dataTable, element);\n",
              "        const docLink = document.createElement('div');\n",
              "        docLink.innerHTML = docLinkHtml;\n",
              "        element.appendChild(docLink);\n",
              "      }\n",
              "    </script>\n",
              "  </div>\n",
              "\n",
              "\n",
              "    <div id=\"df-bdf8a5ce-6b43-46d0-92ed-9ec94eed21be\">\n",
              "      <button class=\"colab-df-quickchart\" onclick=\"quickchart('df-bdf8a5ce-6b43-46d0-92ed-9ec94eed21be')\"\n",
              "                title=\"Suggest charts\"\n",
              "                style=\"display:none;\">\n",
              "\n",
              "<svg xmlns=\"http://www.w3.org/2000/svg\" height=\"24px\"viewBox=\"0 0 24 24\"\n",
              "     width=\"24px\">\n",
              "    <g>\n",
              "        <path d=\"M19 3H5c-1.1 0-2 .9-2 2v14c0 1.1.9 2 2 2h14c1.1 0 2-.9 2-2V5c0-1.1-.9-2-2-2zM9 17H7v-7h2v7zm4 0h-2V7h2v10zm4 0h-2v-4h2v4z\"/>\n",
              "    </g>\n",
              "</svg>\n",
              "      </button>\n",
              "\n",
              "<style>\n",
              "  .colab-df-quickchart {\n",
              "      --bg-color: #E8F0FE;\n",
              "      --fill-color: #1967D2;\n",
              "      --hover-bg-color: #E2EBFA;\n",
              "      --hover-fill-color: #174EA6;\n",
              "      --disabled-fill-color: #AAA;\n",
              "      --disabled-bg-color: #DDD;\n",
              "  }\n",
              "\n",
              "  [theme=dark] .colab-df-quickchart {\n",
              "      --bg-color: #3B4455;\n",
              "      --fill-color: #D2E3FC;\n",
              "      --hover-bg-color: #434B5C;\n",
              "      --hover-fill-color: #FFFFFF;\n",
              "      --disabled-bg-color: #3B4455;\n",
              "      --disabled-fill-color: #666;\n",
              "  }\n",
              "\n",
              "  .colab-df-quickchart {\n",
              "    background-color: var(--bg-color);\n",
              "    border: none;\n",
              "    border-radius: 50%;\n",
              "    cursor: pointer;\n",
              "    display: none;\n",
              "    fill: var(--fill-color);\n",
              "    height: 32px;\n",
              "    padding: 0;\n",
              "    width: 32px;\n",
              "  }\n",
              "\n",
              "  .colab-df-quickchart:hover {\n",
              "    background-color: var(--hover-bg-color);\n",
              "    box-shadow: 0 1px 2px rgba(60, 64, 67, 0.3), 0 1px 3px 1px rgba(60, 64, 67, 0.15);\n",
              "    fill: var(--button-hover-fill-color);\n",
              "  }\n",
              "\n",
              "  .colab-df-quickchart-complete:disabled,\n",
              "  .colab-df-quickchart-complete:disabled:hover {\n",
              "    background-color: var(--disabled-bg-color);\n",
              "    fill: var(--disabled-fill-color);\n",
              "    box-shadow: none;\n",
              "  }\n",
              "\n",
              "  .colab-df-spinner {\n",
              "    border: 2px solid var(--fill-color);\n",
              "    border-color: transparent;\n",
              "    border-bottom-color: var(--fill-color);\n",
              "    animation:\n",
              "      spin 1s steps(1) infinite;\n",
              "  }\n",
              "\n",
              "  @keyframes spin {\n",
              "    0% {\n",
              "      border-color: transparent;\n",
              "      border-bottom-color: var(--fill-color);\n",
              "      border-left-color: var(--fill-color);\n",
              "    }\n",
              "    20% {\n",
              "      border-color: transparent;\n",
              "      border-left-color: var(--fill-color);\n",
              "      border-top-color: var(--fill-color);\n",
              "    }\n",
              "    30% {\n",
              "      border-color: transparent;\n",
              "      border-left-color: var(--fill-color);\n",
              "      border-top-color: var(--fill-color);\n",
              "      border-right-color: var(--fill-color);\n",
              "    }\n",
              "    40% {\n",
              "      border-color: transparent;\n",
              "      border-right-color: var(--fill-color);\n",
              "      border-top-color: var(--fill-color);\n",
              "    }\n",
              "    60% {\n",
              "      border-color: transparent;\n",
              "      border-right-color: var(--fill-color);\n",
              "    }\n",
              "    80% {\n",
              "      border-color: transparent;\n",
              "      border-right-color: var(--fill-color);\n",
              "      border-bottom-color: var(--fill-color);\n",
              "    }\n",
              "    90% {\n",
              "      border-color: transparent;\n",
              "      border-bottom-color: var(--fill-color);\n",
              "    }\n",
              "  }\n",
              "</style>\n",
              "\n",
              "      <script>\n",
              "        async function quickchart(key) {\n",
              "          const quickchartButtonEl =\n",
              "            document.querySelector('#' + key + ' button');\n",
              "          quickchartButtonEl.disabled = true;  // To prevent multiple clicks.\n",
              "          quickchartButtonEl.classList.add('colab-df-spinner');\n",
              "          try {\n",
              "            const charts = await google.colab.kernel.invokeFunction(\n",
              "                'suggestCharts', [key], {});\n",
              "          } catch (error) {\n",
              "            console.error('Error during call to suggestCharts:', error);\n",
              "          }\n",
              "          quickchartButtonEl.classList.remove('colab-df-spinner');\n",
              "          quickchartButtonEl.classList.add('colab-df-quickchart-complete');\n",
              "        }\n",
              "        (() => {\n",
              "          let quickchartButtonEl =\n",
              "            document.querySelector('#df-bdf8a5ce-6b43-46d0-92ed-9ec94eed21be button');\n",
              "          quickchartButtonEl.style.display =\n",
              "            google.colab.kernel.accessAllowed ? 'block' : 'none';\n",
              "        })();\n",
              "      </script>\n",
              "    </div>\n",
              "\n",
              "    </div>\n",
              "  </div>\n"
            ],
            "application/vnd.google.colaboratory.intrinsic+json": {
              "type": "dataframe",
              "variable_name": "df",
              "summary": "{\n  \"name\": \"df\",\n  \"rows\": 15614,\n  \"fields\": [\n    {\n      \"column\": \"timestamp\",\n      \"properties\": {\n        \"dtype\": \"date\",\n        \"min\": \"2024-01-01 00:00:00+00:00\",\n        \"max\": \"2025-08-31 23:00:00+00:00\",\n        \"num_unique_values\": 15614,\n        \"samples\": [\n          \"2025-08-22 17:00:00+00:00\",\n          \"2024-08-26 10:00:00+00:00\",\n          \"2024-12-15 08:00:00+00:00\"\n        ],\n        \"semantic_type\": \"\",\n        \"description\": \"\"\n      }\n    },\n    {\n      \"column\": \"Mode 1\",\n      \"properties\": {\n        \"dtype\": \"number\",\n        \"std\": 0.07377799866273785,\n        \"min\": 4.036104937,\n        \"max\": 4.998680455,\n        \"num_unique_values\": 15613,\n        \"samples\": [\n          4.545810274,\n          4.437693805,\n          4.521191586\n        ],\n        \"semantic_type\": \"\",\n        \"description\": \"\"\n      }\n    },\n    {\n      \"column\": \"Mode 2\",\n      \"properties\": {\n        \"dtype\": \"number\",\n        \"std\": 0.21760494349756604,\n        \"min\": 9.120887894,\n        \"max\": 10.11941037,\n        \"num_unique_values\": 15614,\n        \"samples\": [\n          9.453656103,\n          9.961105637,\n          9.833840932\n        ],\n        \"semantic_type\": \"\",\n        \"description\": \"\"\n      }\n    },\n    {\n      \"column\": \"Mode 3\",\n      \"properties\": {\n        \"dtype\": \"number\",\n        \"std\": 0.1254344642099667,\n        \"min\": 12.82016162,\n        \"max\": 13.79771447,\n        \"num_unique_values\": 15610,\n        \"samples\": [\n          13.30857583,\n          13.05079555,\n          13.30252095\n        ],\n        \"semantic_type\": \"\",\n        \"description\": \"\"\n      }\n    },\n    {\n      \"column\": \"Mode 4\",\n      \"properties\": {\n        \"dtype\": \"number\",\n        \"std\": 0.11588353261851647,\n        \"min\": 14.6810942,\n        \"max\": 15.56131534,\n        \"num_unique_values\": 15607,\n        \"samples\": [\n          14.99143052,\n          15.02732202,\n          15.1224295\n        ],\n        \"semantic_type\": \"\",\n        \"description\": \"\"\n      }\n    },\n    {\n      \"column\": \"Mode 5\",\n      \"properties\": {\n        \"dtype\": \"number\",\n        \"std\": 0.201156399550157,\n        \"min\": 28.30022851,\n        \"max\": 29.29579663,\n        \"num_unique_values\": 15611,\n        \"samples\": [\n          28.89051015,\n          29.01977912,\n          28.68003915\n        ],\n        \"semantic_type\": \"\",\n        \"description\": \"\"\n      }\n    },\n    {\n      \"column\": \"Mode 6\",\n      \"properties\": {\n        \"dtype\": \"number\",\n        \"std\": 0.20223496994213686,\n        \"min\": 42.70074414,\n        \"max\": 43.69773988,\n        \"num_unique_values\": 15614,\n        \"samples\": [\n          42.95161246,\n          42.91414534,\n          43.22463383\n        ],\n        \"semantic_type\": \"\",\n        \"description\": \"\"\n      }\n    }\n  ]\n}"
            }
          },
          "metadata": {},
          "execution_count": 14
        }
      ]
    },
    {
      "cell_type": "markdown",
      "source": [
        "Aggiungere la temperatura"
      ],
      "metadata": {
        "id": "STqWnV2HNE-b"
      }
    },
    {
      "cell_type": "code",
      "source": [
        "file_path = \"/content/drive/MyDrive/oma_data(25)(in).csv\"\n",
        "df = pd.read_csv(file_path, header=None, names=[\"variable\", \"OMA\", \"timestamp\", \"mode\", \"value\"])\n",
        "\n",
        "file_path_notemp = \"/content/drive/MyDrive/data_no_temperature.csv\"\n",
        "df_notemp = pd.read_csv(file_path_notemp)"
      ],
      "metadata": {
        "id": "GaYi_X_fNJ_k"
      },
      "execution_count": null,
      "outputs": []
    },
    {
      "cell_type": "code",
      "source": [
        "df_temp = df[df[\"variable\"] == \"TEMPERATURE_DATA\"]\n",
        "df_temp_mediana = df_temp.groupby(\"timestamp\")[\"value\"].median().reset_index()\n",
        "df_temp_mediana = df_temp_mediana.rename(columns={\"value\": \"temperatura\"})\n",
        "\n",
        "df_finale = pd.merge(df_notemp, df_temp_mediana, on=\"timestamp\", how=\"left\")"
      ],
      "metadata": {
        "id": "9EX9OchVN5AJ"
      },
      "execution_count": null,
      "outputs": []
    },
    {
      "cell_type": "code",
      "source": [
        "print(df_finale.tail(10))"
      ],
      "metadata": {
        "colab": {
          "base_uri": "https://localhost:8080/"
        },
        "id": "S1x5aAxMQa9q",
        "outputId": "62e8f89a-52df-4bad-a931-46ebb2110c17"
      },
      "execution_count": null,
      "outputs": [
        {
          "output_type": "stream",
          "name": "stdout",
          "text": [
            "                  timestamp    Mode 1     Mode 2     Mode 3     Mode 4  \\\n",
            "15604  2025-08-31T12:10:00Z  4.470175   9.965136  13.076966  15.039097   \n",
            "15605  2025-08-31T13:00:00Z  4.461731   9.756165  13.019949  15.125643   \n",
            "15606  2025-08-31T14:00:00Z  4.370087   9.658853  13.022881  15.075133   \n",
            "15607  2025-08-31T15:00:00Z  4.558424   9.470809  13.044740  14.988262   \n",
            "15608  2025-08-31T17:10:00Z  4.504052   9.707589  13.042355  15.060372   \n",
            "15609  2025-08-31T18:00:00Z  4.495398   9.282644  13.155604  15.090008   \n",
            "15610  2025-08-31T19:00:00Z  4.469636  10.034713  13.019526  15.012732   \n",
            "15611  2025-08-31T20:15:00Z  4.461651   9.349465  13.040601  15.109666   \n",
            "15612  2025-08-31T21:15:00Z  4.526689   9.846314  13.008255  15.100156   \n",
            "15613  2025-08-31T23:00:00Z  4.455170   9.994609  13.051762  14.992991   \n",
            "\n",
            "          Mode 5     Mode 6  temperatura  \n",
            "15604  28.457649  42.990205    30.954395  \n",
            "15605  28.774426  43.204105    31.498971  \n",
            "15606  29.208398  43.013427    30.913690  \n",
            "15607  28.418737  43.079549    30.582764  \n",
            "15608  28.543153  42.927956    30.586270  \n",
            "15609  28.442880  43.001235    30.338848  \n",
            "15610  28.533694  42.984275    28.855198  \n",
            "15611  29.066144  43.095129    27.797903  \n",
            "15612  28.593241  42.924825    27.370075  \n",
            "15613  28.822933  42.826803    26.654661  \n"
          ]
        }
      ]
    },
    {
      "cell_type": "code",
      "source": [
        "df_finale.to_csv(\"/content/drive/MyDrive/data_temperature.csv\", index=False, encoding=\"utf-8\")"
      ],
      "metadata": {
        "id": "cJI1hCboS0Lb"
      },
      "execution_count": null,
      "outputs": []
    },
    {
      "cell_type": "code",
      "source": [
        "file_path2 = \"/content/drive/MyDrive/data_temperature.csv\"\n",
        "df2 = pd.read_csv(file_path2)\n",
        "print(df2.head())"
      ],
      "metadata": {
        "colab": {
          "base_uri": "https://localhost:8080/"
        },
        "id": "Ub3yBVePTjrE",
        "outputId": "b6fc74c3-d726-4a04-d8b8-d5f1db24a192"
      },
      "execution_count": null,
      "outputs": [
        {
          "output_type": "stream",
          "name": "stdout",
          "text": [
            "              timestamp    Mode 1    Mode 2     Mode 3     Mode 4     Mode 5  \\\n",
            "0  2024-01-01T00:00:00Z  4.504158  9.547615  13.401077  15.026217  28.995299   \n",
            "1  2024-01-01T00:05:00Z  4.453061  9.699910  13.374415  15.219135  28.841254   \n",
            "2  2024-01-01T01:00:00Z  4.512711  9.704551  13.273648  15.218402  28.907298   \n",
            "3  2024-01-01T01:05:00Z  4.452378  9.985414  13.316543  15.159350  28.635115   \n",
            "4  2024-01-01T02:00:00Z  4.521476  9.661182  13.332174  15.195343  29.087169   \n",
            "\n",
            "      Mode 6  temperatura  \n",
            "0  43.445547    14.221492  \n",
            "1  43.489484    14.216561  \n",
            "2  43.198765    14.405145  \n",
            "3  43.424606    14.408772  \n",
            "4  43.409862    14.480589  \n"
          ]
        }
      ]
    }
  ]
}