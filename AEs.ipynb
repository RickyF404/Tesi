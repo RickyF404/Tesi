{
  "nbformat": 4,
  "nbformat_minor": 0,
  "metadata": {
    "colab": {
      "provenance": [],
      "mount_file_id": "1tflXDWkUTJxtIhV0Hr7B_z9dvETjM979",
      "authorship_tag": "ABX9TyMtLncWdUbTy+LYCw8fUy5U",
      "include_colab_link": true
    },
    "kernelspec": {
      "name": "python3",
      "display_name": "Python 3"
    },
    "language_info": {
      "name": "python"
    }
  },
  "cells": [
    {
      "cell_type": "markdown",
      "metadata": {
        "id": "view-in-github",
        "colab_type": "text"
      },
      "source": [
        "<a href=\"https://colab.research.google.com/github/RickyF404/Tesi/blob/main/AEs.ipynb\" target=\"_parent\"><img src=\"https://colab.research.google.com/assets/colab-badge.svg\" alt=\"Open In Colab\"/></a>"
      ]
    },
    {
      "cell_type": "code",
      "execution_count": 1,
      "metadata": {
        "id": "Uq5FZWP5TdVO"
      },
      "outputs": [],
      "source": [
        "import pandas as pd\n",
        "from sklearn.preprocessing import StandardScaler\n",
        "import numpy as np\n",
        "import matplotlib.pyplot as plt\n",
        "\n",
        "import tensorflow as tf\n",
        "from tensorflow import keras\n",
        "from tensorflow.keras import layers\n",
        "from tensorflow.keras.layers import Layer"
      ]
    },
    {
      "cell_type": "markdown",
      "source": [
        "# Conditional Variational AutoEncoder (CVAE)"
      ],
      "metadata": {
        "id": "LQ92q83lbiu1"
      }
    },
    {
      "cell_type": "code",
      "source": [
        "df_temp = pd.read_csv(\"/content/drive/MyDrive/data_temperature.csv\", encoding = \"utf-8\")\n",
        "df_temp[\"timestamp\"] = pd.to_datetime(df_temp[\"timestamp\"])\n",
        "df_temp[\"timestamp\"] = df_temp[\"timestamp\"].dt.tz_localize(None)\n",
        "df_temp = df_temp.sort_values(\"timestamp\")\n",
        "\n",
        "end = \"2025-01-01\"\n",
        "new_df = df_temp[(df_temp[\"timestamp\"] < end)]"
      ],
      "metadata": {
        "id": "-Gql2MhYf9e6"
      },
      "execution_count": 2,
      "outputs": []
    },
    {
      "cell_type": "code",
      "source": [
        "class Sampling(Layer):\n",
        "  def call(self, inputs):\n",
        "    z_mean, z_log_var = inputs\n",
        "    epsilon = tf.random.normal(shape=tf.shape(z_mean))\n",
        "    return z_mean + tf.exp(0.5 * z_log_var) * epsilon"
      ],
      "metadata": {
        "id": "YNay6xUIlWwA"
      },
      "execution_count": 3,
      "outputs": []
    },
    {
      "cell_type": "code",
      "source": [
        "class CVAE(keras.Model):\n",
        "  def __init__(self, input_dim, cond_dim = 1, latent_dim = 2, beta = 0.001, **kwargs):\n",
        "    super(CVAE, self).__init__(**kwargs)\n",
        "    self.beta = beta\n",
        "\n",
        "    #encoder\n",
        "    x_input = keras.Input(shape=(input_dim,))\n",
        "    cond_input = keras.Input(shape=(cond_dim,))\n",
        "    x = layers.Concatenate()([x_input, cond_input])\n",
        "    x = layers.Dense(32, activation=\"relu\")(x)\n",
        "    x = layers.Dense(16, activation=\"relu\")(x)\n",
        "    z_mean = layers.Dense(latent_dim)(x)\n",
        "    z_log_var = layers.Dense(latent_dim)(x)\n",
        "\n",
        "    z = Sampling()([z_mean, z_log_var])\n",
        "    self.encoder = keras.Model([x_input, cond_input], [z_mean, z_log_var, z], name=\"encoder\")\n",
        "\n",
        "    #decoder\n",
        "    latent_inputs = keras.Input(shape=(latent_dim,))\n",
        "    cond_inputs_dec = keras.Input(shape=(cond_dim,))\n",
        "    x = layers.Concatenate()([latent_inputs, cond_inputs_dec])\n",
        "    x = layers.Dense(16, activation=\"relu\")(x)\n",
        "    x = layers.Dense(32, activation=\"relu\")(x)\n",
        "    outputs = layers.Dense(input_dim, activation=\"linear\")(x)\n",
        "\n",
        "    self.decoder = keras.Model([latent_inputs, cond_inputs_dec], outputs, name=\"decoder\")\n",
        "\n",
        "  def train_step(self, data):\n",
        "    (x, cond), y = data\n",
        "\n",
        "    with tf.GradientTape() as tape:\n",
        "      z_mean, z_log_var, z = self.encoder([x, cond], training = True)\n",
        "      reconstruction = self.decoder([z, cond], training = True)\n",
        "\n",
        "      reconstruction_loss = tf.reduce_mean(tf.square(x - reconstruction))\n",
        "      kl_loss = -0.5 * tf.reduce_mean(1 + z_log_var - tf.square(z_mean) - tf.exp(z_log_var))\n",
        "      total_loss = reconstruction_loss + self.beta * kl_loss\n",
        "\n",
        "    grads = tape.gradient(total_loss, self.trainable_weights)\n",
        "    self.optimizer.apply_gradients(zip(grads, self.trainable_weights))\n",
        "\n",
        "    return {\"loss\": total_loss, \"recon_loss\": reconstruction_loss, \"kl_loss\": kl_loss}\n",
        "\n",
        "  def call(self, inputs):\n",
        "    x, cond = inputs\n",
        "    z_mean, _,  z = self.encoder([x, cond])\n",
        "    return self.decoder([z, cond])\n"
      ],
      "metadata": {
        "id": "yM-9YEhxYPow"
      },
      "execution_count": 4,
      "outputs": []
    },
    {
      "cell_type": "code",
      "source": [
        "def create_fake_month(df, frac_per_month, random_state):\n",
        "  rng = np.random.default_rng(seed=random_state) # generatore casuale con seed\n",
        "  df[\"day\"] = df[\"timestamp\"].dt.floor(\"D\")\n",
        "  df[\"year_month\"] = df[\"timestamp\"].dt.to_period(\"M\")\n",
        "  train_indices = []\n",
        "\n",
        "  for ym, group in df.groupby(\"year_month\"):\n",
        "    days = group[\"day\"].unique()\n",
        "    n_take = max(1, int(len(days) * frac_per_month))\n",
        "    sampled_days = rng.choice(days, size=n_take, replace=False)\n",
        "    sel = group[group[\"day\"].isin(sampled_days)].index.tolist()\n",
        "    train_indices += sel\n",
        "\n",
        "  train_df = df.loc[train_indices].copy()\n",
        "  valid_df = df.drop(index=train_indices).copy()\n",
        "  train_df = train_df.drop(columns=[\"day\", \"year_month\"])\n",
        "  valid_df = valid_df.drop(columns=[\"day\", \"year_month\"])\n",
        "  train_df = train_df.sort_values(\"timestamp\")\n",
        "  valid_df = valid_df.sort_values(\"timestamp\")\n",
        "\n",
        "  return train_df, valid_df"
      ],
      "metadata": {
        "id": "j196B2YGdqgC"
      },
      "execution_count": 5,
      "outputs": []
    },
    {
      "cell_type": "markdown",
      "source": [
        "2 mesi di dati reali"
      ],
      "metadata": {
        "id": "ni49il78wYB6"
      }
    },
    {
      "cell_type": "code",
      "source": [
        "#parametri\n",
        "features = [\"Mode 1\", \"Mode 2\", \"Mode 3\", \"Mode 4\", \"Mode 5\", \"Mode 6\"]\n",
        "cond = [\"temperatura\"]\n",
        "results = []\n",
        "window_size = 2\n",
        "n_months = 12\n",
        "start_date = new_df[\"timestamp\"].min()\n",
        "\n",
        "for m in range(1, n_months - window_size + 2):\n",
        "  train_start = start_date + pd.DateOffset(months=m-1)\n",
        "  train_end = start_date + pd.DateOffset(months=m-1+window_size)\n",
        "  train_data = new_df[(new_df[\"timestamp\"] >= train_start) & (new_df[\"timestamp\"] < train_end)]\n",
        "\n",
        "  val_data = new_df[~new_df[\"timestamp\"].isin(train_data[\"timestamp\"])]\n",
        "\n",
        "  scaler_X = StandardScaler()\n",
        "  scaler_T = StandardScaler()\n",
        "\n",
        "  X_train = scaler_X.fit_transform(train_data[features])\n",
        "  T_train = scaler_T.fit_transform(train_data[cond])\n",
        "\n",
        "  X_val = scaler_X.transform(val_data[features])\n",
        "  T_val = scaler_T.transform(val_data[cond])\n",
        "\n",
        "  cvae = CVAE(input_dim=X_train.shape[1], cond_dim=T_train.shape[1], latent_dim=2)\n",
        "\n",
        "  cvae.compile(optimizer=keras.optimizers.Adam())\n",
        "\n",
        "  cvae.fit(\n",
        "      [X_train, T_train],\n",
        "      X_train,\n",
        "      epochs = 50,\n",
        "      batch_size = 64,\n",
        "      verbose = 0\n",
        "  )\n",
        "\n",
        "  X_pred = cvae.predict([X_val, T_val])\n",
        "  mse = np.mean(np.square(X_val - X_pred), axis=1)\n",
        "\n",
        "  mean_mse = np.mean(mse)\n",
        "  std_mse = np.std(mse)\n",
        "  threshold = mean_mse + 3 * std_mse\n",
        "  anomalies = mse > threshold\n",
        "  anomaly_rate = np.mean(anomalies)\n",
        "#  anomaly_rate = np.mean(anomalies)*100\n",
        "\n",
        "  train_months = sorted(train_data[\"timestamp\"].dt.to_period(\"M\").unique())\n",
        "  results.append({\"train_months\": [str(x) for x in train_months], \"window_size\": len(train_months), \"anomaly rate\": anomaly_rate})\n",
        "\n",
        "results_df_2m = pd.DataFrame(results)\n",
        "print(results_df_2m)"
      ],
      "metadata": {
        "colab": {
          "base_uri": "https://localhost:8080/"
        },
        "id": "ez3TLOB0fq5i",
        "outputId": "9bd2610f-e91b-49fa-b9af-100d036d1bbf"
      },
      "execution_count": 6,
      "outputs": [
        {
          "output_type": "stream",
          "name": "stdout",
          "text": [
            "\u001b[1m246/246\u001b[0m \u001b[32m━━━━━━━━━━━━━━━━━━━━\u001b[0m\u001b[37m\u001b[0m \u001b[1m1s\u001b[0m 2ms/step\n",
            "\u001b[1m247/247\u001b[0m \u001b[32m━━━━━━━━━━━━━━━━━━━━\u001b[0m\u001b[37m\u001b[0m \u001b[1m1s\u001b[0m 2ms/step\n",
            "\u001b[1m246/246\u001b[0m \u001b[32m━━━━━━━━━━━━━━━━━━━━\u001b[0m\u001b[37m\u001b[0m \u001b[1m1s\u001b[0m 2ms/step\n",
            "\u001b[1m245/245\u001b[0m \u001b[32m━━━━━━━━━━━━━━━━━━━━\u001b[0m\u001b[37m\u001b[0m \u001b[1m1s\u001b[0m 2ms/step\n",
            "\u001b[1m245/245\u001b[0m \u001b[32m━━━━━━━━━━━━━━━━━━━━\u001b[0m\u001b[37m\u001b[0m \u001b[1m1s\u001b[0m 2ms/step\n",
            "\u001b[1m247/247\u001b[0m \u001b[32m━━━━━━━━━━━━━━━━━━━━\u001b[0m\u001b[37m\u001b[0m \u001b[1m1s\u001b[0m 2ms/step\n",
            "\u001b[1m246/246\u001b[0m \u001b[32m━━━━━━━━━━━━━━━━━━━━\u001b[0m\u001b[37m\u001b[0m \u001b[1m1s\u001b[0m 2ms/step\n",
            "\u001b[1m245/245\u001b[0m \u001b[32m━━━━━━━━━━━━━━━━━━━━\u001b[0m\u001b[37m\u001b[0m \u001b[1m1s\u001b[0m 2ms/step\n",
            "\u001b[1m245/245\u001b[0m \u001b[32m━━━━━━━━━━━━━━━━━━━━\u001b[0m\u001b[37m\u001b[0m \u001b[1m1s\u001b[0m 2ms/step\n",
            "\u001b[1m245/245\u001b[0m \u001b[32m━━━━━━━━━━━━━━━━━━━━\u001b[0m\u001b[37m\u001b[0m \u001b[1m1s\u001b[0m 2ms/step\n",
            "\u001b[1m243/243\u001b[0m \u001b[32m━━━━━━━━━━━━━━━━━━━━\u001b[0m\u001b[37m\u001b[0m \u001b[1m1s\u001b[0m 2ms/step\n",
            "          train_months  window_size  anomaly rate\n",
            "0   [2024-01, 2024-02]            2      0.015796\n",
            "1   [2024-02, 2024-03]            2      0.018242\n",
            "2   [2024-03, 2024-04]            2      0.018981\n",
            "3   [2024-04, 2024-05]            2      0.015335\n",
            "4   [2024-05, 2024-06]            2      0.015871\n",
            "5   [2024-06, 2024-07]            2      0.013325\n",
            "6   [2024-07, 2024-08]            2      0.013728\n",
            "7   [2024-08, 2024-09]            2      0.014832\n",
            "8   [2024-09, 2024-10]            2      0.016637\n",
            "9   [2024-10, 2024-11]            2      0.017151\n",
            "10  [2024-11, 2024-12]            2      0.021490\n"
          ]
        }
      ]
    },
    {
      "cell_type": "markdown",
      "source": [
        "4 mesi di dati reali"
      ],
      "metadata": {
        "id": "s8Z5SNvrwcJi"
      }
    },
    {
      "cell_type": "code",
      "source": [
        "#parametri\n",
        "features = [\"Mode 1\", \"Mode 2\", \"Mode 3\", \"Mode 4\", \"Mode 5\", \"Mode 6\"]\n",
        "cond = [\"temperatura\"]\n",
        "results = []\n",
        "window_size = 4\n",
        "n_months = 12\n",
        "start_date = new_df[\"timestamp\"].min()\n",
        "\n",
        "for m in range(1, n_months - window_size + 2):\n",
        "  train_start = start_date + pd.DateOffset(months=m-1)\n",
        "  train_end = start_date + pd.DateOffset(months=m-1+window_size)\n",
        "  train_data = new_df[(new_df[\"timestamp\"] >= train_start) & (new_df[\"timestamp\"] < train_end)]\n",
        "\n",
        "  val_data = new_df[~new_df[\"timestamp\"].isin(train_data[\"timestamp\"])]\n",
        "\n",
        "  scaler_X = StandardScaler()\n",
        "  scaler_T = StandardScaler()\n",
        "\n",
        "  X_train = scaler_X.fit_transform(train_data[features])\n",
        "  T_train = scaler_T.fit_transform(train_data[cond])\n",
        "\n",
        "  X_val = scaler_X.transform(val_data[features])\n",
        "  T_val = scaler_T.transform(val_data[cond])\n",
        "\n",
        "  cvae = CVAE(input_dim=X_train.shape[1], cond_dim=T_train.shape[1], latent_dim=2)\n",
        "\n",
        "  cvae.compile(optimizer=keras.optimizers.Adam())\n",
        "\n",
        "  cvae.fit(\n",
        "      [X_train, T_train],\n",
        "      X_train,\n",
        "      epochs = 50,\n",
        "      batch_size = 64,\n",
        "      verbose = 0\n",
        "  )\n",
        "\n",
        "  X_pred = cvae.predict([X_val, T_val])\n",
        "  mse = np.mean(np.square(X_val - X_pred), axis=1)\n",
        "\n",
        "  mean_mse = np.mean(mse)\n",
        "  std_mse = np.std(mse)\n",
        "  threshold = mean_mse + 3 * std_mse\n",
        "  anomalies = mse > threshold\n",
        "  anomaly_rate = np.mean(anomalies)\n",
        "#  anomaly_rate = np.mean(anomalies)*100\n",
        "\n",
        "  train_months = sorted(train_data[\"timestamp\"].dt.to_period(\"M\").unique())\n",
        "  results.append({\"train_months\": [str(x) for x in train_months], \"window_size\": len(train_months), \"anomaly rate\": anomaly_rate})\n",
        "\n",
        "results_df_4m = pd.DataFrame(results)\n",
        "print(results_df_4m)"
      ],
      "metadata": {
        "colab": {
          "base_uri": "https://localhost:8080/"
        },
        "id": "NInj9d-RwhY3",
        "outputId": "3884853b-f4fc-4825-f187-3c07af3e01e4"
      },
      "execution_count": 7,
      "outputs": [
        {
          "output_type": "stream",
          "name": "stdout",
          "text": [
            "\u001b[1m198/198\u001b[0m \u001b[32m━━━━━━━━━━━━━━━━━━━━\u001b[0m\u001b[37m\u001b[0m \u001b[1m0s\u001b[0m 2ms/step\n",
            "\u001b[1m198/198\u001b[0m \u001b[32m━━━━━━━━━━━━━━━━━━━━\u001b[0m\u001b[37m\u001b[0m \u001b[1m0s\u001b[0m 2ms/step\n",
            "\u001b[1m196/196\u001b[0m \u001b[32m━━━━━━━━━━━━━━━━━━━━\u001b[0m\u001b[37m\u001b[0m \u001b[1m0s\u001b[0m 2ms/step\n",
            "\u001b[1m198/198\u001b[0m \u001b[32m━━━━━━━━━━━━━━━━━━━━\u001b[0m\u001b[37m\u001b[0m \u001b[1m0s\u001b[0m 2ms/step\n",
            "\u001b[1m197/197\u001b[0m \u001b[32m━━━━━━━━━━━━━━━━━━━━\u001b[0m\u001b[37m\u001b[0m \u001b[1m0s\u001b[0m 2ms/step\n",
            "\u001b[1m198/198\u001b[0m \u001b[32m━━━━━━━━━━━━━━━━━━━━\u001b[0m\u001b[37m\u001b[0m \u001b[1m0s\u001b[0m 2ms/step\n",
            "\u001b[1m197/197\u001b[0m \u001b[32m━━━━━━━━━━━━━━━━━━━━\u001b[0m\u001b[37m\u001b[0m \u001b[1m1s\u001b[0m 2ms/step\n",
            "\u001b[1m196/196\u001b[0m \u001b[32m━━━━━━━━━━━━━━━━━━━━\u001b[0m\u001b[37m\u001b[0m \u001b[1m1s\u001b[0m 3ms/step\n",
            "\u001b[1m194/194\u001b[0m \u001b[32m━━━━━━━━━━━━━━━━━━━━\u001b[0m\u001b[37m\u001b[0m \u001b[1m0s\u001b[0m 2ms/step\n",
            "                           train_months  window_size  anomaly rate\n",
            "0  [2024-01, 2024-02, 2024-03, 2024-04]            4      0.016014\n",
            "1  [2024-02, 2024-03, 2024-04, 2024-05]            4      0.014859\n",
            "2  [2024-03, 2024-04, 2024-05, 2024-06]            4      0.018022\n",
            "3  [2024-04, 2024-05, 2024-06, 2024-07]            4      0.017902\n",
            "4  [2024-05, 2024-06, 2024-07, 2024-08]            4      0.015906\n",
            "5  [2024-06, 2024-07, 2024-08, 2024-09]            4      0.011731\n",
            "6  [2024-07, 2024-08, 2024-09, 2024-10]            4      0.016062\n",
            "7  [2024-08, 2024-09, 2024-10, 2024-11]            4      0.018427\n",
            "8  [2024-09, 2024-10, 2024-11, 2024-12]            4      0.015827\n"
          ]
        }
      ]
    },
    {
      "cell_type": "markdown",
      "source": [
        "6 mesi di dati reali"
      ],
      "metadata": {
        "id": "_fPbqN23zETz"
      }
    },
    {
      "cell_type": "code",
      "source": [
        "#parametri\n",
        "features = [\"Mode 1\", \"Mode 2\", \"Mode 3\", \"Mode 4\", \"Mode 5\", \"Mode 6\"]\n",
        "cond = [\"temperatura\"]\n",
        "results = []\n",
        "window_size = 6\n",
        "n_months = 12\n",
        "start_date = new_df[\"timestamp\"].min()\n",
        "\n",
        "for m in range(1, n_months - window_size + 2):\n",
        "  train_start = start_date + pd.DateOffset(months=m-1)\n",
        "  train_end = start_date + pd.DateOffset(months=m-1+window_size)\n",
        "  train_data = new_df[(new_df[\"timestamp\"] >= train_start) & (new_df[\"timestamp\"] < train_end)]\n",
        "\n",
        "  val_data = new_df[~new_df[\"timestamp\"].isin(train_data[\"timestamp\"])]\n",
        "\n",
        "  scaler_X = StandardScaler()\n",
        "  scaler_T = StandardScaler()\n",
        "\n",
        "  X_train = scaler_X.fit_transform(train_data[features])\n",
        "  T_train = scaler_T.fit_transform(train_data[cond])\n",
        "\n",
        "  X_val = scaler_X.transform(val_data[features])\n",
        "  T_val = scaler_T.transform(val_data[cond])\n",
        "\n",
        "  cvae = CVAE(input_dim=X_train.shape[1], cond_dim=T_train.shape[1], latent_dim=2)\n",
        "\n",
        "  cvae.compile(optimizer=keras.optimizers.Adam())\n",
        "\n",
        "  cvae.fit(\n",
        "      [X_train, T_train],\n",
        "      X_train,\n",
        "      epochs = 50,\n",
        "      batch_size = 64,\n",
        "      verbose = 0\n",
        "  )\n",
        "\n",
        "  X_pred = cvae.predict([X_val, T_val])\n",
        "  mse = np.mean(np.square(X_val - X_pred), axis=1)\n",
        "\n",
        "  mean_mse = np.mean(mse)\n",
        "  std_mse = np.std(mse)\n",
        "  threshold = mean_mse + 3 * std_mse\n",
        "  anomalies = mse > threshold\n",
        "  anomaly_rate = np.mean(anomalies)\n",
        "#  anomaly_rate = np.mean(anomalies)*100\n",
        "\n",
        "  train_months = sorted(train_data[\"timestamp\"].dt.to_period(\"M\").unique())\n",
        "  results.append({\"train_months\": [str(x) for x in train_months], \"window_size\": len(train_months), \"anomaly rate\": anomaly_rate})\n",
        "\n",
        "results_df_6m = pd.DataFrame(results)\n",
        "print(results_df_6m)"
      ],
      "metadata": {
        "colab": {
          "base_uri": "https://localhost:8080/"
        },
        "id": "j5LJD1gdxfGM",
        "outputId": "17179d23-937b-4310-a83e-db37185a9830"
      },
      "execution_count": 8,
      "outputs": [
        {
          "output_type": "stream",
          "name": "stdout",
          "text": [
            "\u001b[1m148/148\u001b[0m \u001b[32m━━━━━━━━━━━━━━━━━━━━\u001b[0m\u001b[37m\u001b[0m \u001b[1m0s\u001b[0m 2ms/step\n",
            "\u001b[1m151/151\u001b[0m \u001b[32m━━━━━━━━━━━━━━━━━━━━\u001b[0m\u001b[37m\u001b[0m \u001b[1m1s\u001b[0m 3ms/step\n",
            "\u001b[1m149/149\u001b[0m \u001b[32m━━━━━━━━━━━━━━━━━━━━\u001b[0m\u001b[37m\u001b[0m \u001b[1m1s\u001b[0m 3ms/step\n",
            "\u001b[1m149/149\u001b[0m \u001b[32m━━━━━━━━━━━━━━━━━━━━\u001b[0m\u001b[37m\u001b[0m \u001b[1m1s\u001b[0m 3ms/step\n",
            "\u001b[1m148/148\u001b[0m \u001b[32m━━━━━━━━━━━━━━━━━━━━\u001b[0m\u001b[37m\u001b[0m \u001b[1m0s\u001b[0m 3ms/step\n",
            "\u001b[1m148/148\u001b[0m \u001b[32m━━━━━━━━━━━━━━━━━━━━\u001b[0m\u001b[37m\u001b[0m \u001b[1m0s\u001b[0m 2ms/step\n",
            "\u001b[1m146/146\u001b[0m \u001b[32m━━━━━━━━━━━━━━━━━━━━\u001b[0m\u001b[37m\u001b[0m \u001b[1m0s\u001b[0m 2ms/step\n",
            "                                        train_months  window_size  \\\n",
            "0  [2024-01, 2024-02, 2024-03, 2024-04, 2024-05, ...            6   \n",
            "1  [2024-02, 2024-03, 2024-04, 2024-05, 2024-06, ...            6   \n",
            "2  [2024-03, 2024-04, 2024-05, 2024-06, 2024-07, ...            6   \n",
            "3  [2024-04, 2024-05, 2024-06, 2024-07, 2024-08, ...            6   \n",
            "4  [2024-05, 2024-06, 2024-07, 2024-08, 2024-09, ...            6   \n",
            "5  [2024-06, 2024-07, 2024-08, 2024-09, 2024-10, ...            6   \n",
            "6  [2024-07, 2024-08, 2024-09, 2024-10, 2024-11, ...            6   \n",
            "\n",
            "   anomaly rate  \n",
            "0      0.017770  \n",
            "1      0.021400  \n",
            "2      0.016863  \n",
            "3      0.016034  \n",
            "4      0.017417  \n",
            "5      0.018401  \n",
            "6      0.016074  \n"
          ]
        }
      ]
    },
    {
      "cell_type": "markdown",
      "source": [
        "2 mesi di dati falsi"
      ],
      "metadata": {
        "id": "bgyI2smrzKRx"
      }
    },
    {
      "cell_type": "code",
      "source": [
        "#parametri\n",
        "features = [\"Mode 1\", \"Mode 2\", \"Mode 3\", \"Mode 4\", \"Mode 5\", \"Mode 6\"]\n",
        "cond = [\"temperatura\"]\n",
        "results_2m_fake = []\n",
        "train_df, valid_df = create_fake_month(df_temp, frac_per_month=0.1, random_state=42)\n",
        "\n",
        "print(\"Giorni training:\", train_df[\"timestamp\"].dt.date.nunique())\n",
        "print(\"Giorni validation:\", valid_df[\"timestamp\"].dt.date.nunique())\n",
        "\n",
        "scaler_X = StandardScaler()\n",
        "scaler_T = StandardScaler()\n",
        "\n",
        "X_train = scaler_X.fit_transform(train_df[features])\n",
        "T_train = scaler_T.fit_transform(train_df[cond])\n",
        "\n",
        "X_val = scaler_X.transform(valid_df[features])\n",
        "T_val = scaler_T.transform(valid_df[cond])\n",
        "\n",
        "cvae = CVAE(input_dim=X_train.shape[1], cond_dim=T_train.shape[1], latent_dim=2)\n",
        "\n",
        "cvae.compile(optimizer=keras.optimizers.Adam())\n",
        "\n",
        "cvae.fit(\n",
        "    [X_train, T_train],\n",
        "    X_train,\n",
        "    epochs = 50,\n",
        "    batch_size = 64,\n",
        "    verbose = 0\n",
        "  )\n",
        "\n",
        "X_pred = cvae.predict([X_val, T_val])\n",
        "mse = np.mean(np.square(X_val - X_pred), axis=1)\n",
        "\n",
        "mean_mse = np.mean(mse)\n",
        "std_mse = np.std(mse)\n",
        "threshold = mean_mse + 3 * std_mse\n",
        "anomalies = mse > threshold\n",
        "anomaly_rate = np.mean(anomalies)\n",
        "\n",
        "\n",
        "results_2m_fake.append({\"window_size\": 2, \"anomaly\": anomaly_rate})\n",
        "\n",
        "results_df_2m_fake = pd.DataFrame(results_2m_fake)\n",
        "print(results_df_2m_fake)"
      ],
      "metadata": {
        "colab": {
          "base_uri": "https://localhost:8080/"
        },
        "id": "M0lh6MQ7zLr9",
        "outputId": "c511f861-4d4d-4ba9-b4ef-959e14e755c1"
      },
      "execution_count": 9,
      "outputs": [
        {
          "output_type": "stream",
          "name": "stdout",
          "text": [
            "Giorni training: 57\n",
            "Giorni validation: 547\n",
            "\u001b[1m442/442\u001b[0m \u001b[32m━━━━━━━━━━━━━━━━━━━━\u001b[0m\u001b[37m\u001b[0m \u001b[1m1s\u001b[0m 2ms/step\n",
            "   window_size   anomaly\n",
            "0            2  0.013517\n"
          ]
        }
      ]
    },
    {
      "cell_type": "markdown",
      "source": [
        "4 mesi di dati falsi"
      ],
      "metadata": {
        "id": "9lgsv6SD1irh"
      }
    },
    {
      "cell_type": "code",
      "source": [
        "#parametri\n",
        "features = [\"Mode 1\", \"Mode 2\", \"Mode 3\", \"Mode 4\", \"Mode 5\", \"Mode 6\"]\n",
        "cond = [\"temperatura\"]\n",
        "results_4m_fake = []\n",
        "train_df, valid_df = create_fake_month(df_temp, frac_per_month=0.2, random_state=42)\n",
        "\n",
        "print(\"Giorni training:\", train_df[\"timestamp\"].dt.date.nunique())\n",
        "print(\"Giorni validation:\", valid_df[\"timestamp\"].dt.date.nunique())\n",
        "\n",
        "scaler_X = StandardScaler()\n",
        "scaler_T = StandardScaler()\n",
        "\n",
        "X_train = scaler_X.fit_transform(train_df[features])\n",
        "T_train = scaler_T.fit_transform(train_df[cond])\n",
        "\n",
        "X_val = scaler_X.transform(valid_df[features])\n",
        "T_val = scaler_T.transform(valid_df[cond])\n",
        "\n",
        "cvae = CVAE(input_dim=X_train.shape[1], cond_dim=T_train.shape[1], latent_dim=2)\n",
        "\n",
        "cvae.compile(optimizer=keras.optimizers.Adam())\n",
        "\n",
        "cvae.fit(\n",
        "    [X_train, T_train],\n",
        "    X_train,\n",
        "    epochs = 50,\n",
        "    batch_size = 64,\n",
        "    verbose = 0\n",
        "  )\n",
        "\n",
        "X_pred = cvae.predict([X_val, T_val])\n",
        "mse = np.mean(np.square(X_val - X_pred), axis=1)\n",
        "\n",
        "mean_mse = np.mean(mse)\n",
        "std_mse = np.std(mse)\n",
        "threshold = mean_mse + 3 * std_mse\n",
        "anomalies = mse > threshold\n",
        "anomaly_rate = np.mean(anomalies)\n",
        "\n",
        "\n",
        "results_4m_fake.append({\"window_size\": 4, \"anomaly\": anomaly_rate})\n",
        "\n",
        "results_df_4m_fake = pd.DataFrame(results_4m_fake)\n",
        "print(results_df_4m_fake)"
      ],
      "metadata": {
        "colab": {
          "base_uri": "https://localhost:8080/"
        },
        "id": "g51R6Nk61mCf",
        "outputId": "de866657-a4fd-4a81-c980-b9b479c94e96"
      },
      "execution_count": 10,
      "outputs": [
        {
          "output_type": "stream",
          "name": "stdout",
          "text": [
            "Giorni training: 117\n",
            "Giorni validation: 487\n",
            "\u001b[1m395/395\u001b[0m \u001b[32m━━━━━━━━━━━━━━━━━━━━\u001b[0m\u001b[37m\u001b[0m \u001b[1m1s\u001b[0m 2ms/step\n",
            "   window_size   anomaly\n",
            "0            4  0.015595\n"
          ]
        }
      ]
    },
    {
      "cell_type": "markdown",
      "source": [
        "6 mesi di dati falsi"
      ],
      "metadata": {
        "id": "BIgWBVOM1-YO"
      }
    },
    {
      "cell_type": "code",
      "source": [
        "#parametri\n",
        "features = [\"Mode 1\", \"Mode 2\", \"Mode 3\", \"Mode 4\", \"Mode 5\", \"Mode 6\"]\n",
        "cond = [\"temperatura\"]\n",
        "results_6m_fake = []\n",
        "train_df, valid_df = create_fake_month(df_temp, frac_per_month=0.3, random_state=42)\n",
        "\n",
        "print(\"Giorni training:\", train_df[\"timestamp\"].dt.date.nunique())\n",
        "print(\"Giorni validation:\", valid_df[\"timestamp\"].dt.date.nunique())\n",
        "\n",
        "scaler_X = StandardScaler()\n",
        "scaler_T = StandardScaler()\n",
        "\n",
        "X_train = scaler_X.fit_transform(train_df[features])\n",
        "T_train = scaler_T.fit_transform(train_df[cond])\n",
        "\n",
        "X_val = scaler_X.transform(valid_df[features])\n",
        "T_val = scaler_T.transform(valid_df[cond])\n",
        "\n",
        "cvae = CVAE(input_dim=X_train.shape[1], cond_dim=T_train.shape[1], latent_dim=2)\n",
        "\n",
        "cvae.compile(optimizer=keras.optimizers.Adam())\n",
        "\n",
        "cvae.fit(\n",
        "    [X_train, T_train],\n",
        "    X_train,\n",
        "    epochs = 50,\n",
        "    batch_size = 64,\n",
        "    verbose = 0\n",
        "  )\n",
        "\n",
        "X_pred = cvae.predict([X_val, T_val])\n",
        "mse = np.mean(np.square(X_val - X_pred), axis=1)\n",
        "\n",
        "mean_mse = np.mean(mse)\n",
        "std_mse = np.std(mse)\n",
        "threshold = mean_mse + 3 * std_mse\n",
        "anomalies = mse > threshold\n",
        "anomaly_rate = np.mean(anomalies)\n",
        "\n",
        "\n",
        "results_6m_fake.append({\"window_size\": 6, \"anomaly\": anomaly_rate})\n",
        "\n",
        "results_df_6m_fake = pd.DataFrame(results_6m_fake)\n",
        "print(results_df_6m_fake)"
      ],
      "metadata": {
        "colab": {
          "base_uri": "https://localhost:8080/"
        },
        "id": "2RAYLLzG2AHC",
        "outputId": "ad967059-3c03-4c9e-a883-2e9495a53b75"
      },
      "execution_count": 11,
      "outputs": [
        {
          "output_type": "stream",
          "name": "stdout",
          "text": [
            "Giorni training: 177\n",
            "Giorni validation: 427\n",
            "\u001b[1m346/346\u001b[0m \u001b[32m━━━━━━━━━━━━━━━━━━━━\u001b[0m\u001b[37m\u001b[0m \u001b[1m1s\u001b[0m 1ms/step\n",
            "   window_size   anomaly\n",
            "0            6  0.017973\n"
          ]
        }
      ]
    },
    {
      "cell_type": "code",
      "source": [
        "real_results_df = pd.concat([results_df_2m, results_df_4m, results_df_6m])\n",
        "real_mean = real_results_df.groupby(\"window_size\")[\"anomaly rate\"].mean().reset_index()\n",
        "\n",
        "fake_results_df = pd.concat([results_df_2m_fake, results_df_4m_fake, results_df_6m_fake])\n",
        "plt.figure(figsize=(8,5))\n",
        "plt.plot(real_mean[\"window_size\"], real_mean[\"anomaly rate\"]*100, \"o-\", label=\"Media mesi reali\")\n",
        "plt.plot(fake_results_df[\"window_size\"], fake_results_df[\"anomaly\"]*100, \"o-\", label=\"Mesi fake\")\n",
        "plt.axhline(2, color=\"r\", linestyle=\"--\", label=\"soglia 2%\")\n",
        "plt.xlabel(\"Numero di mesi nel training set\")\n",
        "plt.ylabel(\"Anomaly rate (%)\")\n",
        "plt.title(\"Confronto mesi reali vs mesi fake\")\n",
        "plt.legend()\n",
        "plt.grid(True)\n",
        "\n",
        "plt.show()"
      ],
      "metadata": {
        "colab": {
          "base_uri": "https://localhost:8080/",
          "height": 487
        },
        "id": "-pTRH0c92mRG",
        "outputId": "5253772d-f033-4e81-9e75-0709897fee06"
      },
      "execution_count": 12,
      "outputs": [
        {
          "output_type": "display_data",
          "data": {
            "text/plain": [
              "<Figure size 800x500 with 1 Axes>"
            ],
            "image/png": "[encoded data removed]"
          },
          "metadata": {}
        }
      ]
    },
    {
      "cell_type": "code",
      "source": [
        "labels = [\"2 mesi\", \"4 mesi\", \"6 mesi\"]\n",
        "real_results_df = pd.concat([results_df_2m, results_df_4m, results_df_6m])\n",
        "real_mean = real_results_df.groupby(\"window_size\")[\"anomaly rate\"].mean().reset_index()\n",
        "real_std = real_results_df.groupby(\"window_size\")[\"anomaly rate\"].std().reset_index()\n",
        "\n",
        "fake_results_df = pd.concat([results_df_2m_fake, results_df_4m_fake, results_df_6m_fake])\n",
        "\n",
        "x = np.arange(len(labels))\n",
        "w = 0.35\n",
        "\n",
        "fig, ax = plt.subplots(figsize=(8, 5))\n",
        "bars1 = ax.bar(x - w/2, real_mean[\"anomaly rate\"]*100, w, yerr= real_std[\"anomaly rate\"]*100, label=\"Mesi reali consecutivi (media)\")\n",
        "bars2 = ax.bar(x + w/2, fake_results_df[\"anomaly\"]*100, w, label=\"Mesi falsi\")\n",
        "ax.axhline(2, color=\"r\", linestyle=\"--\", label=\"soglia 2%\")\n",
        "ax.set_xlabel(\"Numero di mesi nel training set\")\n",
        "ax.set_ylabel(\"Anomaly rate (%)\")\n",
        "ax.set_title(\"Confronto mesi reali vs mesi fake\")\n",
        "\n",
        "ax.set_xticks(x)\n",
        "ax.set_xticklabels(labels)\n",
        "ax.legend(loc=\"lower right\")\n",
        "ax.grid(axis=\"y\", linestyle=\":\", alpha=0.6)\n",
        "\n",
        "def add_labels(bars):\n",
        "  for bar in bars:\n",
        "    height = bar.get_height()\n",
        "    ax.text(\n",
        "        bar.get_x() + bar.get_width()/2,\n",
        "        height + 0.05,\n",
        "        f\"{height:.2f}\",\n",
        "        ha=\"center\",\n",
        "        va=\"bottom\",\n",
        "        fontsize=9,\n",
        "        color=\"white\",\n",
        "        bbox = dict(facecolor=\"black\", alpha=0.5, edgecolor=\"none\")\n",
        "    )\n",
        "\n",
        "add_labels(bars1)\n",
        "add_labels(bars2)\n",
        "plt.tight_layout()\n",
        "plt.show()"
      ],
      "metadata": {
        "colab": {
          "base_uri": "https://localhost:8080/",
          "height": 507
        },
        "id": "74m3qLkt3EAv",
        "outputId": "585edffe-8c7e-45cb-98ca-973895ddb3b1"
      },
      "execution_count": 13,
      "outputs": [
        {
          "output_type": "display_data",
          "data": {
            "text/plain": [
              "<Figure size 800x500 with 1 Axes>"
            ],
            "image/png": "[encoded data removed]"
          },
          "metadata": {}
        }
      ]
    },
    {
      "cell_type": "markdown",
      "source": [
        "# Variational AutoEncoder (VAE) senza temperatura"
      ],
      "metadata": {
        "id": "GLDhmD7_6DHg"
      }
    },
    {
      "cell_type": "code",
      "source": [
        "df_original = pd.read_csv(\"/content/drive/MyDrive/data_no_temperature.csv\", encoding = \"utf-8\")\n",
        "df_original[\"timestamp\"] = pd.to_datetime(df_original[\"timestamp\"])\n",
        "df_original[\"timestamp\"] = df_original[\"timestamp\"].dt.tz_localize(None)\n",
        "df_original = df_original.sort_values(\"timestamp\")\n",
        "\n",
        "end = \"2025-01-01\"\n",
        "df = df_original[(df_original[\"timestamp\"] < end)]"
      ],
      "metadata": {
        "id": "Z2HmClBS6HPm"
      },
      "execution_count": 38,
      "outputs": []
    },
    {
      "cell_type": "code",
      "source": [
        "class Sampling(Layer):\n",
        "  def call(self, inputs):\n",
        "    z_mean, z_log_var = inputs\n",
        "    epsilon = tf.random.normal(shape=tf.shape(z_mean))\n",
        "    return z_mean + tf.exp(0.5 * z_log_var) * epsilon"
      ],
      "metadata": {
        "id": "5nBo2CGN6UMf"
      },
      "execution_count": 39,
      "outputs": []
    },
    {
      "cell_type": "code",
      "source": [
        "class VAE(keras.Model):\n",
        "  def __init__(self, input_dim, latent_dim = 2, beta = 0.001, **kwargs):\n",
        "    super(VAE, self).__init__(**kwargs)\n",
        "    self.beta = beta\n",
        "\n",
        "    #encoder\n",
        "    x_input = keras.Input(shape=(input_dim,))\n",
        "    x = layers.Dense(32, activation=\"relu\")(x_input)\n",
        "    x = layers.Dense(16, activation=\"relu\")(x)\n",
        "    z_mean = layers.Dense(latent_dim)(x)\n",
        "    z_log_var = layers.Dense(latent_dim)(x)\n",
        "\n",
        "    z = Sampling()([z_mean, z_log_var])\n",
        "    self.encoder = keras.Model(x_input, [z_mean, z_log_var, z])\n",
        "\n",
        "    #decoder\n",
        "    latent_inputs = keras.Input(shape=(latent_dim,))\n",
        "    x = layers.Dense(16, activation=\"relu\")(latent_inputs)\n",
        "    x = layers.Dense(32, activation=\"relu\")(x)\n",
        "    outputs = layers.Dense(input_dim, activation=\"linear\")(x)\n",
        "\n",
        "    self.decoder = keras.Model(latent_inputs, outputs)\n",
        "\n",
        "  def train_step(self, data):\n",
        "    x, y = data\n",
        "\n",
        "    with tf.GradientTape() as tape:\n",
        "      z_mean, z_log_var, z = self.encoder(x, training = True)\n",
        "      reconstruction = self.decoder(z, training = True)\n",
        "\n",
        "      reconstruction_loss = tf.reduce_mean(tf.square(x - reconstruction))\n",
        "      kl_loss = -0.5 * tf.reduce_mean(1 + z_log_var - tf.square(z_mean) - tf.exp(z_log_var))\n",
        "      total_loss = reconstruction_loss + self.beta * kl_loss\n",
        "\n",
        "    grads = tape.gradient(total_loss, self.trainable_weights)\n",
        "    self.optimizer.apply_gradients(zip(grads, self.trainable_weights))\n",
        "\n",
        "    return {\"loss\": total_loss, \"recon_loss\": reconstruction_loss, \"kl_loss\": kl_loss}\n",
        "\n",
        "  def call(self, inputs):\n",
        "    z_mean, _,  z = self.encoder(inputs)\n",
        "    return self.decoder(z)\n"
      ],
      "metadata": {
        "id": "4s933TnJ6U10"
      },
      "execution_count": 40,
      "outputs": []
    },
    {
      "cell_type": "code",
      "source": [
        "def create_fake_month(df, frac_per_month, random_state):\n",
        "  rng = np.random.default_rng(seed=random_state) # generatore casuale con seed\n",
        "  df[\"day\"] = df[\"timestamp\"].dt.floor(\"D\")\n",
        "  df[\"year_month\"] = df[\"timestamp\"].dt.to_period(\"M\")\n",
        "  train_indices = []\n",
        "\n",
        "  for ym, group in df.groupby(\"year_month\"):\n",
        "    days = group[\"day\"].unique()\n",
        "    n_take = max(1, int(len(days) * frac_per_month))\n",
        "    sampled_days = rng.choice(days, size=n_take, replace=False)\n",
        "    sel = group[group[\"day\"].isin(sampled_days)].index.tolist()\n",
        "    train_indices += sel\n",
        "\n",
        "  train_df = df.loc[train_indices].copy()\n",
        "  valid_df = df.drop(index=train_indices).copy()\n",
        "  train_df = train_df.drop(columns=[\"day\", \"year_month\"])\n",
        "  valid_df = valid_df.drop(columns=[\"day\", \"year_month\"])\n",
        "  train_df = train_df.sort_values(\"timestamp\")\n",
        "  valid_df = valid_df.sort_values(\"timestamp\")\n",
        "\n",
        "  return train_df, valid_df"
      ],
      "metadata": {
        "id": "YaONQmm26b2k"
      },
      "execution_count": 41,
      "outputs": []
    },
    {
      "cell_type": "markdown",
      "source": [
        "2 mesi di dati reali"
      ],
      "metadata": {
        "id": "P7r7ugccH_RJ"
      }
    },
    {
      "cell_type": "code",
      "source": [
        "#parametri\n",
        "features = [\"Mode 1\", \"Mode 2\", \"Mode 3\", \"Mode 4\", \"Mode 5\", \"Mode 6\"]\n",
        "results = []\n",
        "window_size = 2\n",
        "n_months = 12\n",
        "start_date = df[\"timestamp\"].min()\n",
        "\n",
        "for m in range(1, n_months - window_size + 2):\n",
        "  train_start = start_date + pd.DateOffset(months=m-1)\n",
        "  train_end = start_date + pd.DateOffset(months=m-1+window_size)\n",
        "  train_data = df[(df[\"timestamp\"] >= train_start) & (df[\"timestamp\"] < train_end)]\n",
        "\n",
        "  val_data = df[~df[\"timestamp\"].isin(train_data[\"timestamp\"])]\n",
        "\n",
        "  scaler_X = StandardScaler()\n",
        "  scaler_T = StandardScaler()\n",
        "\n",
        "  X_train = scaler_X.fit_transform(train_data[features])\n",
        "\n",
        "  X_val = scaler_X.transform(val_data[features])\n",
        "\n",
        "  vae = VAE(input_dim=X_train.shape[1], latent_dim=2)\n",
        "\n",
        "  vae.compile(optimizer=keras.optimizers.Adam())\n",
        "\n",
        "  vae.fit(\n",
        "      X_train,\n",
        "      X_train,\n",
        "      epochs = 50,\n",
        "      batch_size = 64,\n",
        "      verbose = 0\n",
        "  )\n",
        "\n",
        "  X_pred = vae.predict(X_val)\n",
        "  mse = np.mean(np.square(X_val - X_pred), axis=1)\n",
        "\n",
        "  mean_mse = np.mean(mse)\n",
        "  std_mse = np.std(mse)\n",
        "  threshold = mean_mse + 3 * std_mse\n",
        "  anomalies = mse > threshold\n",
        "  anomaly_rate = np.mean(anomalies)\n",
        "#  anomaly_rate = np.mean(anomalies)*100\n",
        "\n",
        "  train_months = sorted(train_data[\"timestamp\"].dt.to_period(\"M\").unique())\n",
        "  results.append({\"train_months\": [str(x) for x in train_months], \"window_size\": len(train_months), \"anomaly rate\": anomaly_rate})\n",
        "\n",
        "results_df_2m = pd.DataFrame(results)\n",
        "print(results_df_2m)"
      ],
      "metadata": {
        "colab": {
          "base_uri": "https://localhost:8080/"
        },
        "id": "QRbz-s5t6cYs",
        "outputId": "c44f16df-9f90-4a1c-8a59-4729bd65fd02"
      },
      "execution_count": 42,
      "outputs": [
        {
          "output_type": "stream",
          "name": "stdout",
          "text": [
            "\u001b[1m246/246\u001b[0m \u001b[32m━━━━━━━━━━━━━━━━━━━━\u001b[0m\u001b[37m\u001b[0m \u001b[1m1s\u001b[0m 2ms/step\n",
            "\u001b[1m247/247\u001b[0m \u001b[32m━━━━━━━━━━━━━━━━━━━━\u001b[0m\u001b[37m\u001b[0m \u001b[1m0s\u001b[0m 1ms/step\n",
            "\u001b[1m246/246\u001b[0m \u001b[32m━━━━━━━━━━━━━━━━━━━━\u001b[0m\u001b[37m\u001b[0m \u001b[1m0s\u001b[0m 2ms/step\n",
            "\u001b[1m245/245\u001b[0m \u001b[32m━━━━━━━━━━━━━━━━━━━━\u001b[0m\u001b[37m\u001b[0m \u001b[1m0s\u001b[0m 1ms/step\n",
            "\u001b[1m245/245\u001b[0m \u001b[32m━━━━━━━━━━━━━━━━━━━━\u001b[0m\u001b[37m\u001b[0m \u001b[1m0s\u001b[0m 1ms/step\n",
            "\u001b[1m247/247\u001b[0m \u001b[32m━━━━━━━━━━━━━━━━━━━━\u001b[0m\u001b[37m\u001b[0m \u001b[1m1s\u001b[0m 2ms/step\n",
            "\u001b[1m246/246\u001b[0m \u001b[32m━━━━━━━━━━━━━━━━━━━━\u001b[0m\u001b[37m\u001b[0m \u001b[1m0s\u001b[0m 2ms/step\n",
            "\u001b[1m245/245\u001b[0m \u001b[32m━━━━━━━━━━━━━━━━━━━━\u001b[0m\u001b[37m\u001b[0m \u001b[1m0s\u001b[0m 2ms/step\n",
            "\u001b[1m245/245\u001b[0m \u001b[32m━━━━━━━━━━━━━━━━━━━━\u001b[0m\u001b[37m\u001b[0m \u001b[1m0s\u001b[0m 2ms/step\n",
            "\u001b[1m245/245\u001b[0m \u001b[32m━━━━━━━━━━━━━━━━━━━━\u001b[0m\u001b[37m\u001b[0m \u001b[1m0s\u001b[0m 1ms/step\n",
            "\u001b[1m243/243\u001b[0m \u001b[32m━━━━━━━━━━━━━━━━━━━━\u001b[0m\u001b[37m\u001b[0m \u001b[1m0s\u001b[0m 2ms/step\n",
            "          train_months  window_size  anomaly rate\n",
            "0   [2024-01, 2024-02]            2      0.012739\n",
            "1   [2024-02, 2024-03]            2      0.012034\n",
            "2   [2024-03, 2024-04]            2      0.014013\n",
            "3   [2024-04, 2024-05]            2      0.022748\n",
            "4   [2024-05, 2024-06]            2      0.019711\n",
            "5   [2024-06, 2024-07]            2      0.014721\n",
            "6   [2024-07, 2024-08]            2      0.015635\n",
            "7   [2024-08, 2024-09]            2      0.014320\n",
            "8   [2024-09, 2024-10]            2      0.013053\n",
            "9   [2024-10, 2024-11]            2      0.015743\n",
            "10  [2024-11, 2024-12]            2      0.016343\n"
          ]
        }
      ]
    },
    {
      "cell_type": "markdown",
      "source": [
        "4 mesi di dati reali"
      ],
      "metadata": {
        "id": "XEztqonCH8z1"
      }
    },
    {
      "cell_type": "code",
      "source": [
        "#parametri\n",
        "features = [\"Mode 1\", \"Mode 2\", \"Mode 3\", \"Mode 4\", \"Mode 5\", \"Mode 6\"]\n",
        "results = []\n",
        "window_size = 4\n",
        "n_months = 12\n",
        "start_date = df[\"timestamp\"].min()\n",
        "\n",
        "for m in range(1, n_months - window_size + 2):\n",
        "  train_start = start_date + pd.DateOffset(months=m-1)\n",
        "  train_end = start_date + pd.DateOffset(months=m-1+window_size)\n",
        "  train_data = df[(df[\"timestamp\"] >= train_start) & (df[\"timestamp\"] < train_end)]\n",
        "\n",
        "  val_data = df[~df[\"timestamp\"].isin(train_data[\"timestamp\"])]\n",
        "\n",
        "  scaler_X = StandardScaler()\n",
        "  scaler_T = StandardScaler()\n",
        "\n",
        "  X_train = scaler_X.fit_transform(train_data[features])\n",
        "\n",
        "  X_val = scaler_X.transform(val_data[features])\n",
        "\n",
        "  vae = VAE(input_dim=X_train.shape[1], latent_dim=2)\n",
        "\n",
        "  vae.compile(optimizer=keras.optimizers.Adam())\n",
        "\n",
        "  vae.fit(\n",
        "      X_train,\n",
        "      X_train,\n",
        "      epochs = 50,\n",
        "      batch_size = 64,\n",
        "      verbose = 0\n",
        "  )\n",
        "\n",
        "  X_pred = vae.predict(X_val)\n",
        "  mse = np.mean(np.square(X_val - X_pred), axis=1)\n",
        "\n",
        "  mean_mse = np.mean(mse)\n",
        "  std_mse = np.std(mse)\n",
        "  threshold = mean_mse + 3 * std_mse\n",
        "  anomalies = mse > threshold\n",
        "  anomaly_rate = np.mean(anomalies)\n",
        "#  anomaly_rate = np.mean(anomalies)*100\n",
        "\n",
        "  train_months = sorted(train_data[\"timestamp\"].dt.to_period(\"M\").unique())\n",
        "  results.append({\"train_months\": [str(x) for x in train_months], \"window_size\": len(train_months), \"anomaly rate\": anomaly_rate})\n",
        "\n",
        "results_df_4m = pd.DataFrame(results)\n",
        "print(results_df_4m)"
      ],
      "metadata": {
        "colab": {
          "base_uri": "https://localhost:8080/"
        },
        "id": "5xBUQAf0H1Gm",
        "outputId": "ef435aa8-7832-4b1c-a0b4-2e7cb6dad86a"
      },
      "execution_count": 43,
      "outputs": [
        {
          "output_type": "stream",
          "name": "stdout",
          "text": [
            "\u001b[1m198/198\u001b[0m \u001b[32m━━━━━━━━━━━━━━━━━━━━\u001b[0m\u001b[37m\u001b[0m \u001b[1m0s\u001b[0m 2ms/step\n",
            "\u001b[1m198/198\u001b[0m \u001b[32m━━━━━━━━━━━━━━━━━━━━\u001b[0m\u001b[37m\u001b[0m \u001b[1m1s\u001b[0m 3ms/step\n",
            "\u001b[1m196/196\u001b[0m \u001b[32m━━━━━━━━━━━━━━━━━━━━\u001b[0m\u001b[37m\u001b[0m \u001b[1m0s\u001b[0m 2ms/step\n",
            "\u001b[1m198/198\u001b[0m \u001b[32m━━━━━━━━━━━━━━━━━━━━\u001b[0m\u001b[37m\u001b[0m \u001b[1m0s\u001b[0m 2ms/step\n",
            "\u001b[1m197/197\u001b[0m \u001b[32m━━━━━━━━━━━━━━━━━━━━\u001b[0m\u001b[37m\u001b[0m \u001b[1m0s\u001b[0m 2ms/step\n",
            "\u001b[1m198/198\u001b[0m \u001b[32m━━━━━━━━━━━━━━━━━━━━\u001b[0m\u001b[37m\u001b[0m \u001b[1m0s\u001b[0m 2ms/step\n",
            "\u001b[1m197/197\u001b[0m \u001b[32m━━━━━━━━━━━━━━━━━━━━\u001b[0m\u001b[37m\u001b[0m \u001b[1m1s\u001b[0m 2ms/step\n",
            "\u001b[1m196/196\u001b[0m \u001b[32m━━━━━━━━━━━━━━━━━━━━\u001b[0m\u001b[37m\u001b[0m \u001b[1m0s\u001b[0m 2ms/step\n",
            "\u001b[1m194/194\u001b[0m \u001b[32m━━━━━━━━━━━━━━━━━━━━\u001b[0m\u001b[37m\u001b[0m \u001b[1m0s\u001b[0m 2ms/step\n",
            "                           train_months  window_size  anomaly rate\n",
            "0  [2024-01, 2024-02, 2024-03, 2024-04]            4      0.017917\n",
            "1  [2024-02, 2024-03, 2024-04, 2024-05]            4      0.021182\n",
            "2  [2024-03, 2024-04, 2024-05, 2024-06]            4      0.018022\n",
            "3  [2024-04, 2024-05, 2024-06, 2024-07]            4      0.018219\n",
            "4  [2024-05, 2024-06, 2024-07, 2024-08]            4      0.015270\n",
            "5  [2024-06, 2024-07, 2024-08, 2024-09]            4      0.013792\n",
            "6  [2024-07, 2024-08, 2024-09, 2024-10]            4      0.015585\n",
            "7  [2024-08, 2024-09, 2024-10, 2024-11]            4      0.014901\n",
            "8  [2024-09, 2024-10, 2024-11, 2024-12]            4      0.016957\n"
          ]
        }
      ]
    },
    {
      "cell_type": "markdown",
      "source": [
        "6 mesi di dati reali"
      ],
      "metadata": {
        "id": "Q4sLit4jH6fA"
      }
    },
    {
      "cell_type": "code",
      "source": [
        "#parametri\n",
        "features = [\"Mode 1\", \"Mode 2\", \"Mode 3\", \"Mode 4\", \"Mode 5\", \"Mode 6\"]\n",
        "results = []\n",
        "window_size = 6\n",
        "n_months = 12\n",
        "start_date = df[\"timestamp\"].min()\n",
        "\n",
        "for m in range(1, n_months - window_size + 2):\n",
        "  train_start = start_date + pd.DateOffset(months=m-1)\n",
        "  train_end = start_date + pd.DateOffset(months=m-1+window_size)\n",
        "  train_data = df[(df[\"timestamp\"] >= train_start) & (df[\"timestamp\"] < train_end)]\n",
        "\n",
        "  val_data = df[~df[\"timestamp\"].isin(train_data[\"timestamp\"])]\n",
        "\n",
        "  scaler_X = StandardScaler()\n",
        "  scaler_T = StandardScaler()\n",
        "\n",
        "  X_train = scaler_X.fit_transform(train_data[features])\n",
        "\n",
        "  X_val = scaler_X.transform(val_data[features])\n",
        "\n",
        "  vae = VAE(input_dim=X_train.shape[1], latent_dim=2)\n",
        "\n",
        "  vae.compile(optimizer=keras.optimizers.Adam())\n",
        "\n",
        "  vae.fit(\n",
        "      X_train,\n",
        "      X_train,\n",
        "      epochs = 50,\n",
        "      batch_size = 64,\n",
        "      verbose = 0\n",
        "  )\n",
        "\n",
        "  X_pred = vae.predict(X_val)\n",
        "  mse = np.mean(np.square(X_val - X_pred), axis=1)\n",
        "\n",
        "  mean_mse = np.mean(mse)\n",
        "  std_mse = np.std(mse)\n",
        "  threshold = mean_mse + 3 * std_mse\n",
        "  anomalies = mse > threshold\n",
        "  anomaly_rate = np.mean(anomalies)\n",
        "#  anomaly_rate = np.mean(anomalies)*100\n",
        "\n",
        "  train_months = sorted(train_data[\"timestamp\"].dt.to_period(\"M\").unique())\n",
        "  results.append({\"train_months\": [str(x) for x in train_months], \"window_size\": len(train_months), \"anomaly rate\": anomaly_rate})\n",
        "\n",
        "results_df_6m = pd.DataFrame(results)\n",
        "print(results_df_6m)"
      ],
      "metadata": {
        "colab": {
          "base_uri": "https://localhost:8080/"
        },
        "id": "yyRg4EBjICGN",
        "outputId": "54ce5eb0-467f-48c9-cd99-628a34231b9a"
      },
      "execution_count": 44,
      "outputs": [
        {
          "output_type": "stream",
          "name": "stdout",
          "text": [
            "\u001b[1m148/148\u001b[0m \u001b[32m━━━━━━━━━━━━━━━━━━━━\u001b[0m\u001b[37m\u001b[0m \u001b[1m0s\u001b[0m 2ms/step\n",
            "\u001b[1m151/151\u001b[0m \u001b[32m━━━━━━━━━━━━━━━━━━━━\u001b[0m\u001b[37m\u001b[0m \u001b[1m0s\u001b[0m 2ms/step\n",
            "\u001b[1m149/149\u001b[0m \u001b[32m━━━━━━━━━━━━━━━━━━━━\u001b[0m\u001b[37m\u001b[0m \u001b[1m0s\u001b[0m 2ms/step\n",
            "\u001b[1m149/149\u001b[0m \u001b[32m━━━━━━━━━━━━━━━━━━━━\u001b[0m\u001b[37m\u001b[0m \u001b[1m0s\u001b[0m 2ms/step\n",
            "\u001b[1m148/148\u001b[0m \u001b[32m━━━━━━━━━━━━━━━━━━━━\u001b[0m\u001b[37m\u001b[0m \u001b[1m0s\u001b[0m 2ms/step\n",
            "\u001b[1m148/148\u001b[0m \u001b[32m━━━━━━━━━━━━━━━━━━━━\u001b[0m\u001b[37m\u001b[0m \u001b[1m0s\u001b[0m 2ms/step\n",
            "\u001b[1m146/146\u001b[0m \u001b[32m━━━━━━━━━━━━━━━━━━━━\u001b[0m\u001b[37m\u001b[0m \u001b[1m1s\u001b[0m 3ms/step\n",
            "                                        train_months  window_size  \\\n",
            "0  [2024-01, 2024-02, 2024-03, 2024-04, 2024-05, ...            6   \n",
            "1  [2024-02, 2024-03, 2024-04, 2024-05, 2024-06, ...            6   \n",
            "2  [2024-03, 2024-04, 2024-05, 2024-06, 2024-07, ...            6   \n",
            "3  [2024-04, 2024-05, 2024-06, 2024-07, 2024-08, ...            6   \n",
            "4  [2024-05, 2024-06, 2024-07, 2024-08, 2024-09, ...            6   \n",
            "5  [2024-06, 2024-07, 2024-08, 2024-09, 2024-10, ...            6   \n",
            "6  [2024-07, 2024-08, 2024-09, 2024-10, 2024-11, ...            6   \n",
            "\n",
            "   anomaly rate  \n",
            "0      0.019251  \n",
            "1      0.019738  \n",
            "2      0.016442  \n",
            "3      0.015612  \n",
            "4      0.020178  \n",
            "5      0.014382  \n",
            "6      0.017788  \n"
          ]
        }
      ]
    },
    {
      "cell_type": "markdown",
      "source": [
        "2 mesi di dati falsi"
      ],
      "metadata": {
        "id": "L4CFs3RwIND5"
      }
    },
    {
      "cell_type": "code",
      "source": [
        "#parametri\n",
        "features = [\"Mode 1\", \"Mode 2\", \"Mode 3\", \"Mode 4\", \"Mode 5\", \"Mode 6\"]\n",
        "results_2m_fake = []\n",
        "train_df, valid_df = create_fake_month(df_original, frac_per_month=0.1, random_state=42)\n",
        "\n",
        "print(\"Giorni training:\", train_df[\"timestamp\"].dt.date.nunique())\n",
        "print(\"Giorni validation:\", valid_df[\"timestamp\"].dt.date.nunique())\n",
        "\n",
        "scaler_X = StandardScaler()\n",
        "\n",
        "X_train = scaler_X.fit_transform(train_df[features])\n",
        "\n",
        "X_val = scaler_X.transform(valid_df[features])\n",
        "\n",
        "vae = VAE(input_dim=X_train.shape[1], latent_dim=2)\n",
        "\n",
        "vae.compile(optimizer=keras.optimizers.Adam())\n",
        "\n",
        "vae.fit(\n",
        "    X_train,\n",
        "    X_train,\n",
        "    epochs = 50,\n",
        "    batch_size = 64,\n",
        "    verbose = 0\n",
        "  )\n",
        "\n",
        "X_pred = vae.predict(X_val)\n",
        "mse = np.mean(np.square(X_val - X_pred), axis=1)\n",
        "\n",
        "mean_mse = np.mean(mse)\n",
        "std_mse = np.std(mse)\n",
        "threshold = mean_mse + 3 * std_mse\n",
        "anomalies = mse > threshold\n",
        "anomaly_rate = np.mean(anomalies)\n",
        "\n",
        "\n",
        "results_2m_fake.append({\"window_size\": 2, \"anomaly\": anomaly_rate})\n",
        "\n",
        "results_df_2m_fake = pd.DataFrame(results_2m_fake)\n",
        "print(results_df_2m_fake)"
      ],
      "metadata": {
        "colab": {
          "base_uri": "https://localhost:8080/"
        },
        "id": "sXyg9TXuIPuF",
        "outputId": "7ec308be-5223-4385-8800-276c7fa26dfa"
      },
      "execution_count": 45,
      "outputs": [
        {
          "output_type": "stream",
          "name": "stdout",
          "text": [
            "Giorni training: 57\n",
            "Giorni validation: 547\n",
            "\u001b[1m442/442\u001b[0m \u001b[32m━━━━━━━━━━━━━━━━━━━━\u001b[0m\u001b[37m\u001b[0m \u001b[1m1s\u001b[0m 1ms/step\n",
            "   window_size   anomaly\n",
            "0            2  0.019321\n"
          ]
        }
      ]
    },
    {
      "cell_type": "markdown",
      "source": [
        "4 mesi di dati falsi"
      ],
      "metadata": {
        "id": "rNfR9jGdI_QZ"
      }
    },
    {
      "cell_type": "code",
      "source": [
        "#parametri\n",
        "features = [\"Mode 1\", \"Mode 2\", \"Mode 3\", \"Mode 4\", \"Mode 5\", \"Mode 6\"]\n",
        "results_4m_fake = []\n",
        "train_df, valid_df = create_fake_month(df_original, frac_per_month=0.2, random_state=42)\n",
        "\n",
        "print(\"Giorni training:\", train_df[\"timestamp\"].dt.date.nunique())\n",
        "print(\"Giorni validation:\", valid_df[\"timestamp\"].dt.date.nunique())\n",
        "\n",
        "scaler_X = StandardScaler()\n",
        "\n",
        "X_train = scaler_X.fit_transform(train_df[features])\n",
        "\n",
        "X_val = scaler_X.transform(valid_df[features])\n",
        "\n",
        "vae = VAE(input_dim=X_train.shape[1], latent_dim=2)\n",
        "\n",
        "vae.compile(optimizer=keras.optimizers.Adam())\n",
        "\n",
        "vae.fit(\n",
        "    X_train,\n",
        "    X_train,\n",
        "    epochs = 50,\n",
        "    batch_size = 64,\n",
        "    verbose = 0\n",
        "  )\n",
        "\n",
        "X_pred = vae.predict(X_val)\n",
        "mse = np.mean(np.square(X_val - X_pred), axis=1)\n",
        "\n",
        "mean_mse = np.mean(mse)\n",
        "std_mse = np.std(mse)\n",
        "threshold = mean_mse + 3 * std_mse\n",
        "anomalies = mse > threshold\n",
        "anomaly_rate = np.mean(anomalies)\n",
        "\n",
        "\n",
        "results_4m_fake.append({\"window_size\": 4, \"anomaly\": anomaly_rate})\n",
        "\n",
        "results_df_4m_fake = pd.DataFrame(results_4m_fake)\n",
        "print(results_df_4m_fake)"
      ],
      "metadata": {
        "colab": {
          "base_uri": "https://localhost:8080/"
        },
        "id": "ErCjgeVWIsm8",
        "outputId": "8dc5d5cc-069f-430e-e0ea-a21ee15af0b8"
      },
      "execution_count": 46,
      "outputs": [
        {
          "output_type": "stream",
          "name": "stdout",
          "text": [
            "Giorni training: 117\n",
            "Giorni validation: 487\n",
            "\u001b[1m395/395\u001b[0m \u001b[32m━━━━━━━━━━━━━━━━━━━━\u001b[0m\u001b[37m\u001b[0m \u001b[1m1s\u001b[0m 1ms/step\n",
            "   window_size   anomaly\n",
            "0            4  0.017812\n"
          ]
        }
      ]
    },
    {
      "cell_type": "markdown",
      "source": [
        "6 mesi di dati falsi"
      ],
      "metadata": {
        "id": "sH2w27kaJBy4"
      }
    },
    {
      "cell_type": "code",
      "source": [
        "#parametri\n",
        "features = [\"Mode 1\", \"Mode 2\", \"Mode 3\", \"Mode 4\", \"Mode 5\", \"Mode 6\"]\n",
        "results_6m_fake = []\n",
        "train_df, valid_df = create_fake_month(df_original, frac_per_month=0.3, random_state=42)\n",
        "\n",
        "print(\"Giorni training:\", train_df[\"timestamp\"].dt.date.nunique())\n",
        "print(\"Giorni validation:\", valid_df[\"timestamp\"].dt.date.nunique())\n",
        "\n",
        "scaler_X = StandardScaler()\n",
        "\n",
        "X_train = scaler_X.fit_transform(train_df[features])\n",
        "\n",
        "X_val = scaler_X.transform(valid_df[features])\n",
        "\n",
        "vae = VAE(input_dim=X_train.shape[1], latent_dim=2)\n",
        "\n",
        "vae.compile(optimizer=keras.optimizers.Adam())\n",
        "\n",
        "vae.fit(\n",
        "    X_train,\n",
        "    X_train,\n",
        "    epochs = 50,\n",
        "    batch_size = 64,\n",
        "    verbose = 0\n",
        "  )\n",
        "\n",
        "X_pred = vae.predict(X_val)\n",
        "mse = np.mean(np.square(X_val - X_pred), axis=1)\n",
        "\n",
        "mean_mse = np.mean(mse)\n",
        "std_mse = np.std(mse)\n",
        "threshold = mean_mse + 3 * std_mse\n",
        "anomalies = mse > threshold\n",
        "anomaly_rate = np.mean(anomalies)\n",
        "\n",
        "\n",
        "results_6m_fake.append({\"window_size\": 6, \"anomaly\": anomaly_rate})\n",
        "\n",
        "results_df_6m_fake = pd.DataFrame(results_6m_fake)\n",
        "print(results_df_6m_fake)"
      ],
      "metadata": {
        "colab": {
          "base_uri": "https://localhost:8080/"
        },
        "id": "Se3i_RxWI2Yr",
        "outputId": "60444e74-4cc5-4eeb-8045-959d2fb32e58"
      },
      "execution_count": 47,
      "outputs": [
        {
          "output_type": "stream",
          "name": "stdout",
          "text": [
            "Giorni training: 177\n",
            "Giorni validation: 427\n",
            "\u001b[1m346/346\u001b[0m \u001b[32m━━━━━━━━━━━━━━━━━━━━\u001b[0m\u001b[37m\u001b[0m \u001b[1m1s\u001b[0m 1ms/step\n",
            "   window_size   anomaly\n",
            "0            6  0.020683\n"
          ]
        }
      ]
    },
    {
      "cell_type": "code",
      "source": [
        "real_results_df = pd.concat([results_df_2m, results_df_4m, results_df_6m])\n",
        "real_mean = real_results_df.groupby(\"window_size\")[\"anomaly rate\"].mean().reset_index()\n",
        "\n",
        "fake_results_df = pd.concat([results_df_2m_fake, results_df_4m_fake, results_df_6m_fake])\n",
        "plt.figure(figsize=(8,5))\n",
        "plt.plot(real_mean[\"window_size\"], real_mean[\"anomaly rate\"]*100, \"o-\", label=\"Media mesi reali\")\n",
        "plt.plot(fake_results_df[\"window_size\"], fake_results_df[\"anomaly\"]*100, \"o-\", label=\"Mesi fake\")\n",
        "plt.axhline(2, color=\"r\", linestyle=\"--\", label=\"soglia 2%\")\n",
        "plt.xlabel(\"Numero di mesi nel training set\")\n",
        "plt.ylabel(\"Anomaly rate (%)\")\n",
        "plt.title(\"Confronto mesi reali vs mesi fake\")\n",
        "plt.legend()\n",
        "plt.grid(True)\n",
        "\n",
        "plt.show()"
      ],
      "metadata": {
        "colab": {
          "base_uri": "https://localhost:8080/",
          "height": 487
        },
        "id": "red-edJbJMZE",
        "outputId": "d012c474-e17b-44d2-aadf-ac0e8670316e"
      },
      "execution_count": 48,
      "outputs": [
        {
          "output_type": "display_data",
          "data": {
            "text/plain": [
              "<Figure size 800x500 with 1 Axes>"
            ],
            "image/png": "[encoded data removed]"
          },
          "metadata": {}
        }
      ]
    },
    {
      "cell_type": "code",
      "source": [
        "labels = [\"2 mesi\", \"4 mesi\", \"6 mesi\"]\n",
        "real_results_df = pd.concat([results_df_2m, results_df_4m, results_df_6m])\n",
        "real_mean = real_results_df.groupby(\"window_size\")[\"anomaly rate\"].mean().reset_index()\n",
        "real_std = real_results_df.groupby(\"window_size\")[\"anomaly rate\"].std().reset_index()\n",
        "\n",
        "fake_results_df = pd.concat([results_df_2m_fake, results_df_4m_fake, results_df_6m_fake])\n",
        "\n",
        "x = np.arange(len(labels))\n",
        "w = 0.35\n",
        "\n",
        "fig, ax = plt.subplots(figsize=(8, 5))\n",
        "bars1 = ax.bar(x - w/2, real_mean[\"anomaly rate\"]*100, w, yerr= real_std[\"anomaly rate\"]*100, label=\"Mesi reali consecutivi (media)\")\n",
        "bars2 = ax.bar(x + w/2, fake_results_df[\"anomaly\"]*100, w, label=\"Mesi falsi\")\n",
        "ax.axhline(2, color=\"r\", linestyle=\"--\", label=\"soglia 2%\")\n",
        "ax.set_xlabel(\"Numero di mesi nel training set\")\n",
        "ax.set_ylabel(\"Anomaly rate (%)\")\n",
        "ax.set_title(\"Confronto mesi reali vs mesi fake\")\n",
        "\n",
        "ax.set_xticks(x)\n",
        "ax.set_xticklabels(labels)\n",
        "ax.legend(loc=\"lower right\")\n",
        "ax.grid(axis=\"y\", linestyle=\":\", alpha=0.6)\n",
        "\n",
        "def add_labels(bars):\n",
        "  for bar in bars:\n",
        "    height = bar.get_height()\n",
        "    ax.text(\n",
        "        bar.get_x() + bar.get_width()/2,\n",
        "        height + 0.05,\n",
        "        f\"{height:.2f}\",\n",
        "        ha=\"center\",\n",
        "        va=\"bottom\",\n",
        "        fontsize=9,\n",
        "        color=\"white\",\n",
        "        bbox = dict(facecolor=\"black\", alpha=0.5, edgecolor=\"none\")\n",
        "    )\n",
        "\n",
        "add_labels(bars1)\n",
        "add_labels(bars2)\n",
        "plt.tight_layout()\n",
        "plt.show()"
      ],
      "metadata": {
        "colab": {
          "base_uri": "https://localhost:8080/",
          "height": 507
        },
        "id": "NjpZGHpfJQ-y",
        "outputId": "260cec16-5213-4683-9135-899a7c5d045a"
      },
      "execution_count": 49,
      "outputs": [
        {
          "output_type": "display_data",
          "data": {
            "text/plain": [
              "<Figure size 800x500 with 1 Axes>"
            ],
            "image/png": "[encoded data removed]"
          },
          "metadata": {}
        }
      ]
    },
    {
      "cell_type": "markdown",
      "source": [
        "# Variational AutoEncoder (VAE) con temperatura"
      ],
      "metadata": {
        "id": "UIJYiSd28F0a"
      }
    },
    {
      "cell_type": "code",
      "source": [
        "df_temp = pd.read_csv(\"/content/drive/MyDrive/data_temperature.csv\", encoding = \"utf-8\")\n",
        "df_temp[\"timestamp\"] = pd.to_datetime(df_temp[\"timestamp\"])\n",
        "df_temp[\"timestamp\"] = df_temp[\"timestamp\"].dt.tz_localize(None)\n",
        "df_temp = df_temp.sort_values(\"timestamp\")\n",
        "\n",
        "end = \"2025-01-01\"\n",
        "df = df_temp[(df_temp[\"timestamp\"] < end)]"
      ],
      "metadata": {
        "id": "YdCDI1EO8FAM"
      },
      "execution_count": 50,
      "outputs": []
    },
    {
      "cell_type": "code",
      "source": [
        "class Sampling(Layer):\n",
        "  def call(self, inputs):\n",
        "    z_mean, z_log_var = inputs\n",
        "    epsilon = tf.random.normal(shape=tf.shape(z_mean))\n",
        "    return z_mean + tf.exp(0.5 * z_log_var) * epsilon"
      ],
      "metadata": {
        "id": "CErTr60i8MBn"
      },
      "execution_count": 51,
      "outputs": []
    },
    {
      "cell_type": "code",
      "source": [
        "class VAE(keras.Model):\n",
        "  def __init__(self, input_dim, output_dim, latent_dim = 4, beta = 0.001, **kwargs):\n",
        "    super(VAE, self).__init__(**kwargs)\n",
        "    self.beta = beta\n",
        "\n",
        "    #encoder\n",
        "    x_input = keras.Input(shape=(input_dim,))\n",
        "    x = layers.Dense(32, activation=\"relu\")(x_input)\n",
        "    x = layers.Dense(16, activation=\"relu\")(x)\n",
        "    z_mean = layers.Dense(latent_dim)(x)\n",
        "    z_log_var = layers.Dense(latent_dim)(x)\n",
        "\n",
        "    z = Sampling()([z_mean, z_log_var])\n",
        "    self.encoder = keras.Model(x_input, [z_mean, z_log_var, z])\n",
        "\n",
        "    #decoder\n",
        "    latent_inputs = keras.Input(shape=(latent_dim,))\n",
        "    x = layers.Dense(16, activation=\"relu\")(latent_inputs)\n",
        "    x = layers.Dense(32, activation=\"relu\")(x)\n",
        "    outputs = layers.Dense(output_dim, activation=\"linear\")(x)\n",
        "\n",
        "    self.decoder = keras.Model(latent_inputs, outputs)\n",
        "\n",
        "  def train_step(self, data):\n",
        "    x, y = data\n",
        "\n",
        "    with tf.GradientTape() as tape:\n",
        "      z_mean, z_log_var, z = self.encoder(x, training = True)\n",
        "      reconstruction = self.decoder(z, training = True)\n",
        "\n",
        "      reconstruction_loss = tf.reduce_mean(tf.square(x[:, :6] - reconstruction))\n",
        "      kl_loss = -0.5 * tf.reduce_mean(1 + z_log_var - tf.square(z_mean) - tf.exp(z_log_var))\n",
        "      total_loss = reconstruction_loss + self.beta * kl_loss\n",
        "\n",
        "    grads = tape.gradient(total_loss, self.trainable_weights)\n",
        "    self.optimizer.apply_gradients(zip(grads, self.trainable_weights))\n",
        "\n",
        "    return {\"loss\": total_loss, \"recon_loss\": reconstruction_loss, \"kl_loss\": kl_loss}\n",
        "\n",
        "  def call(self, inputs):\n",
        "    z_mean, _,  z = self.encoder(inputs)\n",
        "    return self.decoder(z)\n"
      ],
      "metadata": {
        "id": "166hC12Q8TcB"
      },
      "execution_count": 52,
      "outputs": []
    },
    {
      "cell_type": "code",
      "source": [
        "def create_fake_month(df, frac_per_month, random_state):\n",
        "  rng = np.random.default_rng(seed=random_state) # generatore casuale con seed\n",
        "  df[\"day\"] = df[\"timestamp\"].dt.floor(\"D\")\n",
        "  df[\"year_month\"] = df[\"timestamp\"].dt.to_period(\"M\")\n",
        "  train_indices = []\n",
        "\n",
        "  for ym, group in df.groupby(\"year_month\"):\n",
        "    days = group[\"day\"].unique()\n",
        "    n_take = max(1, int(len(days) * frac_per_month))\n",
        "    sampled_days = rng.choice(days, size=n_take, replace=False)\n",
        "    sel = group[group[\"day\"].isin(sampled_days)].index.tolist()\n",
        "    train_indices += sel\n",
        "\n",
        "  train_df = df.loc[train_indices].copy()\n",
        "  valid_df = df.drop(index=train_indices).copy()\n",
        "  train_df = train_df.drop(columns=[\"day\", \"year_month\"])\n",
        "  valid_df = valid_df.drop(columns=[\"day\", \"year_month\"])\n",
        "  train_df = train_df.sort_values(\"timestamp\")\n",
        "  valid_df = valid_df.sort_values(\"timestamp\")\n",
        "\n",
        "  return train_df, valid_df"
      ],
      "metadata": {
        "id": "AQEXB9t3801a"
      },
      "execution_count": 53,
      "outputs": []
    },
    {
      "cell_type": "markdown",
      "source": [
        "2 mesi di dati reali"
      ],
      "metadata": {
        "id": "NAIHXFkI81av"
      }
    },
    {
      "cell_type": "code",
      "source": [
        "#parametri\n",
        "features = [\"Mode 1\", \"Mode 2\", \"Mode 3\", \"Mode 4\", \"Mode 5\", \"Mode 6\", \"temperatura\"]\n",
        "results = []\n",
        "window_size = 2\n",
        "n_months = 12\n",
        "start_date = df[\"timestamp\"].min()\n",
        "\n",
        "for m in range(1, n_months - window_size + 2):\n",
        "  train_start = start_date + pd.DateOffset(months=m-1)\n",
        "  train_end = start_date + pd.DateOffset(months=m-1+window_size)\n",
        "  train_data = df[(df[\"timestamp\"] >= train_start) & (df[\"timestamp\"] < train_end)]\n",
        "\n",
        "  val_data = df[~df[\"timestamp\"].isin(train_data[\"timestamp\"])]\n",
        "\n",
        "  scaler_X = StandardScaler()\n",
        "\n",
        "  X_train = scaler_X.fit_transform(train_data[features])\n",
        "  X_val = scaler_X.transform(val_data[features])\n",
        "\n",
        "  Y_train = X_train[:, :6]\n",
        "  Y_val = X_val[:, :6]\n",
        "\n",
        "  vae = VAE(input_dim=X_train.shape[1], output_dim=Y_train.shape[1], latent_dim=2)\n",
        "\n",
        "  vae.compile(optimizer=keras.optimizers.Adam())\n",
        "\n",
        "  vae.fit(\n",
        "      X_train,\n",
        "      Y_train,\n",
        "      epochs = 50,\n",
        "      batch_size = 64,\n",
        "      verbose = 0\n",
        "  )\n",
        "\n",
        "  Y_pred = vae.predict(X_val)\n",
        "  mse = np.mean(np.square(Y_val - Y_pred), axis=1)\n",
        "\n",
        "  mean_mse = np.mean(mse)\n",
        "  std_mse = np.std(mse)\n",
        "  threshold = mean_mse + 3 * std_mse\n",
        "  anomalies = mse > threshold\n",
        "  anomaly_rate = np.mean(anomalies)\n",
        "#  anomaly_rate = np.mean(anomalies)*100\n",
        "\n",
        "  train_months = sorted(train_data[\"timestamp\"].dt.to_period(\"M\").unique())\n",
        "  results.append({\"train_months\": [str(x) for x in train_months], \"window_size\": len(train_months), \"anomaly rate\": anomaly_rate})\n",
        "\n",
        "results_df_2m = pd.DataFrame(results)\n",
        "print(results_df_2m)"
      ],
      "metadata": {
        "colab": {
          "base_uri": "https://localhost:8080/",
          "height": 460
        },
        "id": "W7UcRmNy83F4",
        "outputId": "280cd642-0926-46b6-8348-1e6be7721dd8"
      },
      "execution_count": 54,
      "outputs": [
        {
          "output_type": "stream",
          "name": "stdout",
          "text": [
            "\u001b[1m246/246\u001b[0m \u001b[32m━━━━━━━━━━━━━━━━━━━━\u001b[0m\u001b[37m\u001b[0m \u001b[1m1s\u001b[0m 2ms/step\n",
            "\u001b[1m247/247\u001b[0m \u001b[32m━━━━━━━━━━━━━━━━━━━━\u001b[0m\u001b[37m\u001b[0m \u001b[1m0s\u001b[0m 2ms/step\n",
            "\u001b[1m246/246\u001b[0m \u001b[32m━━━━━━━━━━━━━━━━━━━━\u001b[0m\u001b[37m\u001b[0m \u001b[1m0s\u001b[0m 2ms/step\n",
            "\u001b[1m245/245\u001b[0m \u001b[32m━━━━━━━━━━━━━━━━━━━━\u001b[0m\u001b[37m\u001b[0m \u001b[1m0s\u001b[0m 2ms/step\n",
            "\u001b[1m245/245\u001b[0m \u001b[32m━━━━━━━━━━━━━━━━━━━━\u001b[0m\u001b[37m\u001b[0m \u001b[1m0s\u001b[0m 2ms/step\n",
            "\u001b[1m247/247\u001b[0m \u001b[32m━━━━━━━━━━━━━━━━━━━━\u001b[0m\u001b[37m\u001b[0m \u001b[1m0s\u001b[0m 2ms/step\n"
          ]
        },
        {
          "output_type": "error",
          "ename": "KeyboardInterrupt",
          "evalue": "",
          "traceback": [
            "\u001b[0;31m---------------------------------------------------------------------------\u001b[0m",
            "\u001b[0;31mKeyboardInterrupt\u001b[0m                         Traceback (most recent call last)",
            "\u001b[0;32m/tmp/ipython-input-93605233.py\u001b[0m in \u001b[0;36m<cell line: 0>\u001b[0;34m()\u001b[0m\n\u001b[1;32m     25\u001b[0m   \u001b[0mvae\u001b[0m\u001b[0;34m.\u001b[0m\u001b[0mcompile\u001b[0m\u001b[0;34m(\u001b[0m\u001b[0moptimizer\u001b[0m\u001b[0;34m=\u001b[0m\u001b[0mkeras\u001b[0m\u001b[0;34m.\u001b[0m\u001b[0moptimizers\u001b[0m\u001b[0;34m.\u001b[0m\u001b[0mAdam\u001b[0m\u001b[0;34m(\u001b[0m\u001b[0;34m)\u001b[0m\u001b[0;34m)\u001b[0m\u001b[0;34m\u001b[0m\u001b[0;34m\u001b[0m\u001b[0m\n\u001b[1;32m     26\u001b[0m \u001b[0;34m\u001b[0m\u001b[0m\n\u001b[0;32m---> 27\u001b[0;31m   vae.fit(\n\u001b[0m\u001b[1;32m     28\u001b[0m       \u001b[0mX_train\u001b[0m\u001b[0;34m,\u001b[0m\u001b[0;34m\u001b[0m\u001b[0;34m\u001b[0m\u001b[0m\n\u001b[1;32m     29\u001b[0m       \u001b[0mY_train\u001b[0m\u001b[0;34m,\u001b[0m\u001b[0;34m\u001b[0m\u001b[0;34m\u001b[0m\u001b[0m\n",
            "\u001b[0;32m/usr/local/lib/python3.12/dist-packages/keras/src/utils/traceback_utils.py\u001b[0m in \u001b[0;36merror_handler\u001b[0;34m(*args, **kwargs)\u001b[0m\n\u001b[1;32m    115\u001b[0m         \u001b[0mfiltered_tb\u001b[0m \u001b[0;34m=\u001b[0m \u001b[0;32mNone\u001b[0m\u001b[0;34m\u001b[0m\u001b[0;34m\u001b[0m\u001b[0m\n\u001b[1;32m    116\u001b[0m         \u001b[0;32mtry\u001b[0m\u001b[0;34m:\u001b[0m\u001b[0;34m\u001b[0m\u001b[0;34m\u001b[0m\u001b[0m\n\u001b[0;32m--> 117\u001b[0;31m             \u001b[0;32mreturn\u001b[0m \u001b[0mfn\u001b[0m\u001b[0;34m(\u001b[0m\u001b[0;34m*\u001b[0m\u001b[0margs\u001b[0m\u001b[0;34m,\u001b[0m \u001b[0;34m**\u001b[0m\u001b[0mkwargs\u001b[0m\u001b[0;34m)\u001b[0m\u001b[0;34m\u001b[0m\u001b[0;34m\u001b[0m\u001b[0m\n\u001b[0m\u001b[1;32m    118\u001b[0m         \u001b[0;32mexcept\u001b[0m \u001b[0mException\u001b[0m \u001b[0;32mas\u001b[0m \u001b[0me\u001b[0m\u001b[0;34m:\u001b[0m\u001b[0;34m\u001b[0m\u001b[0;34m\u001b[0m\u001b[0m\n\u001b[1;32m    119\u001b[0m             \u001b[0mfiltered_tb\u001b[0m \u001b[0;34m=\u001b[0m \u001b[0m_process_traceback_frames\u001b[0m\u001b[0;34m(\u001b[0m\u001b[0me\u001b[0m\u001b[0;34m.\u001b[0m\u001b[0m__traceback__\u001b[0m\u001b[0;34m)\u001b[0m\u001b[0;34m\u001b[0m\u001b[0;34m\u001b[0m\u001b[0m\n",
            "\u001b[0;32m/usr/local/lib/python3.12/dist-packages/keras/src/backend/tensorflow/trainer.py\u001b[0m in \u001b[0;36mfit\u001b[0;34m(self, x, y, batch_size, epochs, verbose, callbacks, validation_split, validation_data, shuffle, class_weight, sample_weight, initial_epoch, steps_per_epoch, validation_steps, validation_batch_size, validation_freq)\u001b[0m\n\u001b[1;32m    373\u001b[0m             \u001b[0mcallbacks\u001b[0m\u001b[0;34m.\u001b[0m\u001b[0mon_epoch_begin\u001b[0m\u001b[0;34m(\u001b[0m\u001b[0mepoch\u001b[0m\u001b[0;34m)\u001b[0m\u001b[0;34m\u001b[0m\u001b[0;34m\u001b[0m\u001b[0m\n\u001b[1;32m    374\u001b[0m             \u001b[0;32mwith\u001b[0m \u001b[0mepoch_iterator\u001b[0m\u001b[0;34m.\u001b[0m\u001b[0mcatch_stop_iteration\u001b[0m\u001b[0;34m(\u001b[0m\u001b[0;34m)\u001b[0m\u001b[0;34m:\u001b[0m\u001b[0;34m\u001b[0m\u001b[0;34m\u001b[0m\u001b[0m\n\u001b[0;32m--> 375\u001b[0;31m                 \u001b[0;32mfor\u001b[0m \u001b[0mstep\u001b[0m\u001b[0;34m,\u001b[0m \u001b[0miterator\u001b[0m \u001b[0;32min\u001b[0m \u001b[0mepoch_iterator\u001b[0m\u001b[0;34m:\u001b[0m\u001b[0;34m\u001b[0m\u001b[0;34m\u001b[0m\u001b[0m\n\u001b[0m\u001b[1;32m    376\u001b[0m                     \u001b[0mcallbacks\u001b[0m\u001b[0;34m.\u001b[0m\u001b[0mon_train_batch_begin\u001b[0m\u001b[0;34m(\u001b[0m\u001b[0mstep\u001b[0m\u001b[0;34m)\u001b[0m\u001b[0;34m\u001b[0m\u001b[0;34m\u001b[0m\u001b[0m\n\u001b[1;32m    377\u001b[0m                     \u001b[0mlogs\u001b[0m \u001b[0;34m=\u001b[0m \u001b[0mself\u001b[0m\u001b[0;34m.\u001b[0m\u001b[0mtrain_function\u001b[0m\u001b[0;34m(\u001b[0m\u001b[0miterator\u001b[0m\u001b[0;34m)\u001b[0m\u001b[0;34m\u001b[0m\u001b[0;34m\u001b[0m\u001b[0m\n",
            "\u001b[0;32m/usr/local/lib/python3.12/dist-packages/keras/src/backend/tensorflow/trainer.py\u001b[0m in \u001b[0;36m__next__\u001b[0;34m(self)\u001b[0m\n\u001b[1;32m    738\u001b[0m \u001b[0;34m\u001b[0m\u001b[0m\n\u001b[1;32m    739\u001b[0m     \u001b[0;32mdef\u001b[0m \u001b[0m__next__\u001b[0m\u001b[0;34m(\u001b[0m\u001b[0mself\u001b[0m\u001b[0;34m)\u001b[0m\u001b[0;34m:\u001b[0m\u001b[0;34m\u001b[0m\u001b[0;34m\u001b[0m\u001b[0m\n\u001b[0;32m--> 740\u001b[0;31m         \u001b[0;32mreturn\u001b[0m \u001b[0mnext\u001b[0m\u001b[0;34m(\u001b[0m\u001b[0mself\u001b[0m\u001b[0;34m.\u001b[0m\u001b[0m_epoch_iterator\u001b[0m\u001b[0;34m)\u001b[0m\u001b[0;34m\u001b[0m\u001b[0;34m\u001b[0m\u001b[0m\n\u001b[0m\u001b[1;32m    741\u001b[0m \u001b[0;34m\u001b[0m\u001b[0m\n\u001b[1;32m    742\u001b[0m     \u001b[0;34m@\u001b[0m\u001b[0mcontextlib\u001b[0m\u001b[0;34m.\u001b[0m\u001b[0mcontextmanager\u001b[0m\u001b[0;34m\u001b[0m\u001b[0;34m\u001b[0m\u001b[0m\n",
            "\u001b[0;32m/usr/local/lib/python3.12/dist-packages/keras/src/trainers/epoch_iterator.py\u001b[0m in \u001b[0;36m_enumerate_iterator\u001b[0;34m(self)\u001b[0m\n\u001b[1;32m    109\u001b[0m         \u001b[0;32mif\u001b[0m \u001b[0msteps_per_epoch\u001b[0m \u001b[0;34m>\u001b[0m \u001b[0;36m0\u001b[0m\u001b[0;34m:\u001b[0m\u001b[0;34m\u001b[0m\u001b[0;34m\u001b[0m\u001b[0m\n\u001b[1;32m    110\u001b[0m             \u001b[0;32mif\u001b[0m \u001b[0mself\u001b[0m\u001b[0;34m.\u001b[0m\u001b[0m_current_iterator\u001b[0m \u001b[0;32mis\u001b[0m \u001b[0;32mNone\u001b[0m \u001b[0;32mor\u001b[0m \u001b[0mself\u001b[0m\u001b[0;34m.\u001b[0m\u001b[0msteps_per_epoch\u001b[0m \u001b[0;32mis\u001b[0m \u001b[0;32mNone\u001b[0m\u001b[0;34m:\u001b[0m\u001b[0;34m\u001b[0m\u001b[0;34m\u001b[0m\u001b[0m\n\u001b[0;32m--> 111\u001b[0;31m                 \u001b[0mself\u001b[0m\u001b[0;34m.\u001b[0m\u001b[0m_current_iterator\u001b[0m \u001b[0;34m=\u001b[0m \u001b[0miter\u001b[0m\u001b[0;34m(\u001b[0m\u001b[0mself\u001b[0m\u001b[0;34m.\u001b[0m\u001b[0m_get_iterator\u001b[0m\u001b[0;34m(\u001b[0m\u001b[0;34m)\u001b[0m\u001b[0;34m)\u001b[0m\u001b[0;34m\u001b[0m\u001b[0;34m\u001b[0m\u001b[0m\n\u001b[0m\u001b[1;32m    112\u001b[0m                 \u001b[0mself\u001b[0m\u001b[0;34m.\u001b[0m\u001b[0m_steps_seen\u001b[0m \u001b[0;34m=\u001b[0m \u001b[0;36m0\u001b[0m\u001b[0;34m\u001b[0m\u001b[0;34m\u001b[0m\u001b[0m\n\u001b[1;32m    113\u001b[0m             \u001b[0;32mfor\u001b[0m \u001b[0mstep\u001b[0m \u001b[0;32min\u001b[0m \u001b[0mrange\u001b[0m\u001b[0;34m(\u001b[0m\u001b[0;36m0\u001b[0m\u001b[0;34m,\u001b[0m \u001b[0msteps_per_epoch\u001b[0m\u001b[0;34m,\u001b[0m \u001b[0mself\u001b[0m\u001b[0;34m.\u001b[0m\u001b[0msteps_per_execution\u001b[0m\u001b[0;34m)\u001b[0m\u001b[0;34m:\u001b[0m\u001b[0;34m\u001b[0m\u001b[0;34m\u001b[0m\u001b[0m\n",
            "\u001b[0;32m/usr/local/lib/python3.12/dist-packages/tensorflow/python/data/ops/dataset_ops.py\u001b[0m in \u001b[0;36m__iter__\u001b[0;34m(self)\u001b[0m\n\u001b[1;32m    499\u001b[0m     \u001b[0;32mif\u001b[0m \u001b[0mcontext\u001b[0m\u001b[0;34m.\u001b[0m\u001b[0mexecuting_eagerly\u001b[0m\u001b[0;34m(\u001b[0m\u001b[0;34m)\u001b[0m \u001b[0;32mor\u001b[0m \u001b[0mops\u001b[0m\u001b[0;34m.\u001b[0m\u001b[0minside_function\u001b[0m\u001b[0;34m(\u001b[0m\u001b[0;34m)\u001b[0m\u001b[0;34m:\u001b[0m\u001b[0;34m\u001b[0m\u001b[0;34m\u001b[0m\u001b[0m\n\u001b[1;32m    500\u001b[0m       \u001b[0;32mwith\u001b[0m \u001b[0mops\u001b[0m\u001b[0;34m.\u001b[0m\u001b[0mcolocate_with\u001b[0m\u001b[0;34m(\u001b[0m\u001b[0mself\u001b[0m\u001b[0;34m.\u001b[0m\u001b[0m_variant_tensor\u001b[0m\u001b[0;34m)\u001b[0m\u001b[0;34m:\u001b[0m\u001b[0;34m\u001b[0m\u001b[0;34m\u001b[0m\u001b[0m\n\u001b[0;32m--> 501\u001b[0;31m         \u001b[0;32mreturn\u001b[0m \u001b[0miterator_ops\u001b[0m\u001b[0;34m.\u001b[0m\u001b[0mOwnedIterator\u001b[0m\u001b[0;34m(\u001b[0m\u001b[0mself\u001b[0m\u001b[0;34m)\u001b[0m\u001b[0;34m\u001b[0m\u001b[0;34m\u001b[0m\u001b[0m\n\u001b[0m\u001b[1;32m    502\u001b[0m     \u001b[0;32melse\u001b[0m\u001b[0;34m:\u001b[0m\u001b[0;34m\u001b[0m\u001b[0;34m\u001b[0m\u001b[0m\n\u001b[1;32m    503\u001b[0m       raise RuntimeError(\"`tf.data.Dataset` only supports Python-style \"\n",
            "\u001b[0;32m/usr/local/lib/python3.12/dist-packages/tensorflow/python/data/ops/iterator_ops.py\u001b[0m in \u001b[0;36m__init__\u001b[0;34m(self, dataset, components, element_spec)\u001b[0m\n\u001b[1;32m    707\u001b[0m             \u001b[0;34m\"When `dataset` is provided, `element_spec` and `components` must \"\u001b[0m\u001b[0;34m\u001b[0m\u001b[0;34m\u001b[0m\u001b[0m\n\u001b[1;32m    708\u001b[0m             \"not be specified.\")\n\u001b[0;32m--> 709\u001b[0;31m       \u001b[0mself\u001b[0m\u001b[0;34m.\u001b[0m\u001b[0m_create_iterator\u001b[0m\u001b[0;34m(\u001b[0m\u001b[0mdataset\u001b[0m\u001b[0;34m)\u001b[0m\u001b[0;34m\u001b[0m\u001b[0;34m\u001b[0m\u001b[0m\n\u001b[0m\u001b[1;32m    710\u001b[0m \u001b[0;34m\u001b[0m\u001b[0m\n\u001b[1;32m    711\u001b[0m     \u001b[0mself\u001b[0m\u001b[0;34m.\u001b[0m\u001b[0m_get_next_call_count\u001b[0m \u001b[0;34m=\u001b[0m \u001b[0;36m0\u001b[0m\u001b[0;34m\u001b[0m\u001b[0;34m\u001b[0m\u001b[0m\n",
            "\u001b[0;32m/usr/local/lib/python3.12/dist-packages/tensorflow/python/data/ops/iterator_ops.py\u001b[0m in \u001b[0;36m_create_iterator\u001b[0;34m(self, dataset)\u001b[0m\n\u001b[1;32m    746\u001b[0m             self._flat_output_types)\n\u001b[1;32m    747\u001b[0m         \u001b[0mself\u001b[0m\u001b[0;34m.\u001b[0m\u001b[0m_iterator_resource\u001b[0m\u001b[0;34m.\u001b[0m\u001b[0mop\u001b[0m\u001b[0;34m.\u001b[0m\u001b[0mexperimental_set_type\u001b[0m\u001b[0;34m(\u001b[0m\u001b[0mfulltype\u001b[0m\u001b[0;34m)\u001b[0m\u001b[0;34m\u001b[0m\u001b[0;34m\u001b[0m\u001b[0m\n\u001b[0;32m--> 748\u001b[0;31m       \u001b[0mgen_dataset_ops\u001b[0m\u001b[0;34m.\u001b[0m\u001b[0mmake_iterator\u001b[0m\u001b[0;34m(\u001b[0m\u001b[0mds_variant\u001b[0m\u001b[0;34m,\u001b[0m \u001b[0mself\u001b[0m\u001b[0;34m.\u001b[0m\u001b[0m_iterator_resource\u001b[0m\u001b[0;34m)\u001b[0m\u001b[0;34m\u001b[0m\u001b[0;34m\u001b[0m\u001b[0m\n\u001b[0m\u001b[1;32m    749\u001b[0m \u001b[0;34m\u001b[0m\u001b[0m\n\u001b[1;32m    750\u001b[0m   \u001b[0;32mdef\u001b[0m \u001b[0m__iter__\u001b[0m\u001b[0;34m(\u001b[0m\u001b[0mself\u001b[0m\u001b[0;34m)\u001b[0m\u001b[0;34m:\u001b[0m\u001b[0;34m\u001b[0m\u001b[0;34m\u001b[0m\u001b[0m\n",
            "\u001b[0;32m/usr/local/lib/python3.12/dist-packages/tensorflow/python/ops/gen_dataset_ops.py\u001b[0m in \u001b[0;36mmake_iterator\u001b[0;34m(dataset, iterator, name)\u001b[0m\n\u001b[1;32m   3476\u001b[0m   \u001b[0;32mif\u001b[0m \u001b[0mtld\u001b[0m\u001b[0;34m.\u001b[0m\u001b[0mis_eager\u001b[0m\u001b[0;34m:\u001b[0m\u001b[0;34m\u001b[0m\u001b[0;34m\u001b[0m\u001b[0m\n\u001b[1;32m   3477\u001b[0m     \u001b[0;32mtry\u001b[0m\u001b[0;34m:\u001b[0m\u001b[0;34m\u001b[0m\u001b[0;34m\u001b[0m\u001b[0m\n\u001b[0;32m-> 3478\u001b[0;31m       _result = pywrap_tfe.TFE_Py_FastPathExecute(\n\u001b[0m\u001b[1;32m   3479\u001b[0m         _ctx, \"MakeIterator\", name, dataset, iterator)\n\u001b[1;32m   3480\u001b[0m       \u001b[0;32mreturn\u001b[0m \u001b[0m_result\u001b[0m\u001b[0;34m\u001b[0m\u001b[0;34m\u001b[0m\u001b[0m\n",
            "\u001b[0;31mKeyboardInterrupt\u001b[0m: "
          ]
        }
      ]
    },
    {
      "cell_type": "markdown",
      "source": [
        "4 mesi di dati reali"
      ],
      "metadata": {
        "id": "Ge-r1KHb-5Mt"
      }
    },
    {
      "cell_type": "code",
      "source": [
        "#parametri\n",
        "features = [\"Mode 1\", \"Mode 2\", \"Mode 3\", \"Mode 4\", \"Mode 5\", \"Mode 6\", \"temperatura\"]\n",
        "results = []\n",
        "window_size = 4\n",
        "n_months = 12\n",
        "start_date = df[\"timestamp\"].min()\n",
        "\n",
        "for m in range(1, n_months - window_size + 2):\n",
        "  train_start = start_date + pd.DateOffset(months=m-1)\n",
        "  train_end = start_date + pd.DateOffset(months=m-1+window_size)\n",
        "  train_data = df[(df[\"timestamp\"] >= train_start) & (df[\"timestamp\"] < train_end)]\n",
        "\n",
        "  val_data = df[~df[\"timestamp\"].isin(train_data[\"timestamp\"])]\n",
        "\n",
        "  scaler_X = StandardScaler()\n",
        "\n",
        "  X_train = scaler_X.fit_transform(train_data[features])\n",
        "  X_val = scaler_X.transform(val_data[features])\n",
        "\n",
        "  Y_train = X_train[:, :6]\n",
        "  Y_val = X_val[:, :6]\n",
        "\n",
        "  vae = VAE(input_dim=X_train.shape[1], output_dim=Y_train.shape[1], latent_dim=2)\n",
        "\n",
        "  vae.compile(optimizer=keras.optimizers.Adam())\n",
        "\n",
        "  vae.fit(\n",
        "      X_train,\n",
        "      Y_train,\n",
        "      epochs = 50,\n",
        "      batch_size = 64,\n",
        "      verbose = 0\n",
        "  )\n",
        "\n",
        "  Y_pred = vae.predict(X_val)\n",
        "  mse = np.mean(np.square(Y_val - Y_pred), axis=1)\n",
        "\n",
        "  mean_mse = np.mean(mse)\n",
        "  std_mse = np.std(mse)\n",
        "  threshold = mean_mse + 3 * std_mse\n",
        "  anomalies = mse > threshold\n",
        "  anomaly_rate = np.mean(anomalies)\n",
        "#  anomaly_rate = np.mean(anomalies)*100\n",
        "\n",
        "  train_months = sorted(train_data[\"timestamp\"].dt.to_period(\"M\").unique())\n",
        "  results.append({\"train_months\": [str(x) for x in train_months], \"window_size\": len(train_months), \"anomaly rate\": anomaly_rate})\n",
        "\n",
        "results_df_4m = pd.DataFrame(results)\n",
        "print(results_df_4m)"
      ],
      "metadata": {
        "id": "yqtMvdrI-1Xl"
      },
      "execution_count": null,
      "outputs": []
    },
    {
      "cell_type": "markdown",
      "source": [
        "6 mesi di dati reali"
      ],
      "metadata": {
        "id": "qz0LDKGs-2Gd"
      }
    },
    {
      "cell_type": "code",
      "source": [
        "#parametri\n",
        "features = [\"Mode 1\", \"Mode 2\", \"Mode 3\", \"Mode 4\", \"Mode 5\", \"Mode 6\", \"temperatura\"]\n",
        "results = []\n",
        "window_size = 6\n",
        "n_months = 12\n",
        "start_date = df[\"timestamp\"].min()\n",
        "\n",
        "for m in range(1, n_months - window_size + 2):\n",
        "  train_start = start_date + pd.DateOffset(months=m-1)\n",
        "  train_end = start_date + pd.DateOffset(months=m-1+window_size)\n",
        "  train_data = df[(df[\"timestamp\"] >= train_start) & (df[\"timestamp\"] < train_end)]\n",
        "\n",
        "  val_data = df[~df[\"timestamp\"].isin(train_data[\"timestamp\"])]\n",
        "\n",
        "  scaler_X = StandardScaler()\n",
        "\n",
        "  X_train = scaler_X.fit_transform(train_data[features])\n",
        "  X_val = scaler_X.transform(val_data[features])\n",
        "\n",
        "  Y_train = X_train[:, :6]\n",
        "  Y_val = X_val[:, :6]\n",
        "\n",
        "  vae = VAE(input_dim=X_train.shape[1], output_dim=Y_train.shape[1], latent_dim=2)\n",
        "\n",
        "  vae.compile(optimizer=keras.optimizers.Adam())\n",
        "\n",
        "  vae.fit(\n",
        "      X_train,\n",
        "      Y_train,\n",
        "      epochs = 50,\n",
        "      batch_size = 64,\n",
        "      verbose = 0\n",
        "  )\n",
        "\n",
        "  Y_pred = vae.predict(X_val)\n",
        "  mse = np.mean(np.square(Y_val - Y_pred), axis=1)\n",
        "\n",
        "  mean_mse = np.mean(mse)\n",
        "  std_mse = np.std(mse)\n",
        "  threshold = mean_mse + 3 * std_mse\n",
        "  anomalies = mse > threshold\n",
        "  anomaly_rate = np.mean(anomalies)\n",
        "#  anomaly_rate = np.mean(anomalies)*100\n",
        "\n",
        "  train_months = sorted(train_data[\"timestamp\"].dt.to_period(\"M\").unique())\n",
        "  results.append({\"train_months\": [str(x) for x in train_months], \"window_size\": len(train_months), \"anomaly rate\": anomaly_rate})\n",
        "\n",
        "results_df_6m = pd.DataFrame(results)\n",
        "print(results_df_6m)"
      ],
      "metadata": {
        "id": "OhvvIoiT_FLJ"
      },
      "execution_count": null,
      "outputs": []
    },
    {
      "cell_type": "markdown",
      "source": [
        "2 mesi di dati falsi"
      ],
      "metadata": {
        "id": "KC0N9mms_Jmh"
      }
    },
    {
      "cell_type": "code",
      "source": [
        "#parametri\n",
        "features = [\"Mode 1\", \"Mode 2\", \"Mode 3\", \"Mode 4\", \"Mode 5\", \"Mode 6\", \"temperatura\"]\n",
        "results_2m_fake = []\n",
        "train_df, valid_df = create_fake_month(df_temp, frac_per_month=0.1, random_state=42)\n",
        "\n",
        "print(\"Giorni training:\", train_df[\"timestamp\"].dt.date.nunique())\n",
        "print(\"Giorni validation:\", valid_df[\"timestamp\"].dt.date.nunique())\n",
        "\n",
        "scaler_X = StandardScaler()\n",
        "\n",
        "X_train = scaler_X.fit_transform(train_df[features])\n",
        "X_val = scaler_X.transform(valid_df[features])\n",
        "\n",
        "Y_train = X_train[:, :6]\n",
        "\n",
        "vae = VAE(input_dim=X_train.shape[1], output_dim=Y_train.shape[1] , latent_dim=2)\n",
        "\n",
        "vae.compile(optimizer=keras.optimizers.Adam())\n",
        "\n",
        "vae.fit(\n",
        "    X_train,\n",
        "    Y_train,\n",
        "    epochs = 50,\n",
        "    batch_size = 64,\n",
        "    verbose = 0\n",
        "  )\n",
        "\n",
        "Y_pred = vae.predict(X_val)\n",
        "mse = np.mean(np.square(X_val[:, :6] - Y_pred), axis=1)\n",
        "\n",
        "mean_mse = np.mean(mse)\n",
        "std_mse = np.std(mse)\n",
        "threshold = mean_mse + 3 * std_mse\n",
        "anomalies = mse > threshold\n",
        "anomaly_rate = np.mean(anomalies)\n",
        "\n",
        "\n",
        "results_2m_fake.append({\"window_size\": 2, \"anomaly\": anomaly_rate})\n",
        "\n",
        "results_df_2m_fake = pd.DataFrame(results_2m_fake)\n",
        "print(results_df_2m_fake)"
      ],
      "metadata": {
        "id": "o-CZrpgr_Lal"
      },
      "execution_count": null,
      "outputs": []
    },
    {
      "cell_type": "markdown",
      "source": [
        "4 mesi di dati falsi"
      ],
      "metadata": {
        "id": "8gSI0GDs_3jJ"
      }
    },
    {
      "cell_type": "code",
      "source": [
        "# parametri\n",
        "features = [\"Mode 1\", \"Mode 2\", \"Mode 3\", \"Mode 4\", \"Mode 5\", \"Mode 6\", \"temperatura\"]\n",
        "results_4m_fake = []\n",
        "train_df, valid_df = create_fake_month(df_temp, frac_per_month=0.2, random_state=42)\n",
        "\n",
        "print(\"Giorni training:\", train_df[\"timestamp\"].dt.date.nunique())\n",
        "print(\"Giorni validation:\", valid_df[\"timestamp\"].dt.date.nunique())\n",
        "\n",
        "scaler_X = StandardScaler()\n",
        "\n",
        "X_train = scaler_X.fit_transform(train_df[features])\n",
        "X_val = scaler_X.transform(valid_df[features])\n",
        "\n",
        "Y_train = X_train[:, :6]\n",
        "\n",
        "vae = VAE(input_dim=X_train.shape[1], output_dim=Y_train.shape[1] , latent_dim=2)\n",
        "\n",
        "vae.compile(optimizer=keras.optimizers.Adam())\n",
        "\n",
        "vae.fit(\n",
        "    X_train,\n",
        "    Y_train,\n",
        "    epochs = 50,\n",
        "    batch_size = 64,\n",
        "    verbose = 0\n",
        "  )\n",
        "\n",
        "Y_pred = vae.predict(X_val)\n",
        "mse = np.mean(np.square(X_val[:, :6] - Y_pred), axis=1)\n",
        "\n",
        "mean_mse = np.mean(mse)\n",
        "std_mse = np.std(mse)\n",
        "threshold = mean_mse + 3 * std_mse\n",
        "anomalies = mse > threshold\n",
        "anomaly_rate = np.mean(anomalies)\n",
        "\n",
        "\n",
        "results_4m_fake.append({\"window_size\": 4, \"anomaly\": anomaly_rate})\n",
        "\n",
        "results_df_4m_fake = pd.DataFrame(results_4m_fake)\n",
        "print(results_df_4m_fake)"
      ],
      "metadata": {
        "id": "YyV0ioQO_5cn"
      },
      "execution_count": null,
      "outputs": []
    },
    {
      "cell_type": "markdown",
      "source": [
        "6 mesi di dati falsi"
      ],
      "metadata": {
        "id": "e8P9JeoDAGHl"
      }
    },
    {
      "cell_type": "code",
      "source": [
        "# parametri\n",
        "features = [\"Mode 1\", \"Mode 2\", \"Mode 3\", \"Mode 4\", \"Mode 5\", \"Mode 6\", \"temperatura\"]\n",
        "results_6m_fake = []\n",
        "train_df, valid_df = create_fake_month(df_temp, frac_per_month=0.3, random_state=42)\n",
        "\n",
        "print(\"Giorni training:\", train_df[\"timestamp\"].dt.date.nunique())\n",
        "print(\"Giorni validation:\", valid_df[\"timestamp\"].dt.date.nunique())\n",
        "\n",
        "scaler_X = StandardScaler()\n",
        "\n",
        "X_train = scaler_X.fit_transform(train_df[features])\n",
        "X_val = scaler_X.transform(valid_df[features])\n",
        "\n",
        "Y_train = X_train[:, :6]\n",
        "\n",
        "vae = VAE(input_dim=X_train.shape[1], output_dim=Y_train.shape[1] , latent_dim=2)\n",
        "\n",
        "vae.compile(optimizer=keras.optimizers.Adam())\n",
        "\n",
        "vae.fit(\n",
        "    X_train,\n",
        "    Y_train,\n",
        "    epochs = 50,\n",
        "    batch_size = 64,\n",
        "    verbose = 0\n",
        "  )\n",
        "\n",
        "Y_pred = vae.predict(X_val)\n",
        "mse = np.mean(np.square(X_val[:, :6] - Y_pred), axis=1)\n",
        "\n",
        "mean_mse = np.mean(mse)\n",
        "std_mse = np.std(mse)\n",
        "threshold = mean_mse + 3 * std_mse\n",
        "anomalies = mse > threshold\n",
        "anomaly_rate = np.mean(anomalies)\n",
        "\n",
        "\n",
        "results_6m_fake.append({\"window_size\": 6, \"anomaly\": anomaly_rate})\n",
        "\n",
        "results_df_6m_fake = pd.DataFrame(results_6m_fake)\n",
        "print(results_df_6m_fake)"
      ],
      "metadata": {
        "id": "_XlhRgtnAICR"
      },
      "execution_count": null,
      "outputs": []
    },
    {
      "cell_type": "code",
      "source": [
        "real_results_df = pd.concat([results_df_2m, results_df_4m, results_df_6m])\n",
        "real_mean = real_results_df.groupby(\"window_size\")[\"anomaly rate\"].mean().reset_index()\n",
        "\n",
        "fake_results_df = pd.concat([results_df_2m_fake, results_df_4m_fake, results_df_6m_fake])\n",
        "plt.figure(figsize=(8,5))\n",
        "plt.plot(real_mean[\"window_size\"], real_mean[\"anomaly rate\"]*100, \"o-\", label=\"Media mesi reali\")\n",
        "plt.plot(fake_results_df[\"window_size\"], fake_results_df[\"anomaly\"]*100, \"o-\", label=\"Mesi fake\")\n",
        "plt.axhline(2, color=\"r\", linestyle=\"--\", label=\"soglia 2%\")\n",
        "plt.xlabel(\"Numero di mesi nel training set\")\n",
        "plt.ylabel(\"Anomaly rate (%)\")\n",
        "plt.title(\"Confronto mesi reali vs mesi fake\")\n",
        "plt.legend()\n",
        "plt.grid(True)\n",
        "\n",
        "plt.show()"
      ],
      "metadata": {
        "id": "kRnZY8BwAntu"
      },
      "execution_count": null,
      "outputs": []
    },
    {
      "cell_type": "code",
      "source": [
        "labels = [\"2 mesi\", \"4 mesi\", \"6 mesi\"]\n",
        "real_results_df = pd.concat([results_df_2m, results_df_4m, results_df_6m])\n",
        "real_mean = real_results_df.groupby(\"window_size\")[\"anomaly rate\"].mean().reset_index()\n",
        "real_std = real_results_df.groupby(\"window_size\")[\"anomaly rate\"].std().reset_index()\n",
        "\n",
        "fake_results_df = pd.concat([results_df_2m_fake, results_df_4m_fake, results_df_6m_fake])\n",
        "\n",
        "x = np.arange(len(labels))\n",
        "w = 0.35\n",
        "\n",
        "fig, ax = plt.subplots(figsize=(8, 5))\n",
        "bars1 = ax.bar(x - w/2, real_mean[\"anomaly rate\"]*100, w, yerr= real_std[\"anomaly rate\"]*100, label=\"Mesi reali consecutivi (media)\")\n",
        "bars2 = ax.bar(x + w/2, fake_results_df[\"anomaly\"]*100, w, label=\"Mesi falsi\")\n",
        "ax.axhline(2, color=\"r\", linestyle=\"--\", label=\"soglia 2%\")\n",
        "ax.set_xlabel(\"Numero di mesi nel training set\")\n",
        "ax.set_ylabel(\"Anomaly rate (%)\")\n",
        "ax.set_title(\"Confronto mesi reali vs mesi fake\")\n",
        "\n",
        "ax.set_xticks(x)\n",
        "ax.set_xticklabels(labels)\n",
        "ax.legend(loc=\"lower right\")\n",
        "ax.grid(axis=\"y\", linestyle=\":\", alpha=0.6)\n",
        "\n",
        "def add_labels(bars):\n",
        "  for bar in bars:\n",
        "    height = bar.get_height()\n",
        "    ax.text(\n",
        "        bar.get_x() + bar.get_width()/2,\n",
        "        height + 0.05,\n",
        "        f\"{height:.2f}\",\n",
        "        ha=\"center\",\n",
        "        va=\"bottom\",\n",
        "        fontsize=9,\n",
        "        color=\"white\",\n",
        "        bbox = dict(facecolor=\"black\", alpha=0.5, edgecolor=\"none\")\n",
        "    )\n",
        "\n",
        "add_labels(bars1)\n",
        "add_labels(bars2)\n",
        "plt.tight_layout()\n",
        "plt.show()"
      ],
      "metadata": {
        "id": "rTEyuTBKAt1z"
      },
      "execution_count": null,
      "outputs": []
    },
    {
      "cell_type": "markdown",
      "source": [
        "# AutoEncoder (AE) senza temperatura"
      ],
      "metadata": {
        "id": "5SsfJi12YJhk"
      }
    },
    {
      "cell_type": "code",
      "source": [
        "import pandas as pd\n",
        "from sklearn.preprocessing import StandardScaler\n",
        "import numpy as np\n",
        "import matplotlib.pyplot as plt\n",
        "\n",
        "import tensorflow as tf\n",
        "from tensorflow import keras\n",
        "from tensorflow.keras import layers\n",
        "from tensorflow.keras.layers import Layer"
      ],
      "metadata": {
        "id": "UZN2HYqYYMfY"
      },
      "execution_count": null,
      "outputs": []
    },
    {
      "cell_type": "code",
      "source": [
        "df_original = pd.read_csv(\"/content/drive/MyDrive/data_no_temperature.csv\", encoding = \"utf-8\")\n",
        "df_original[\"timestamp\"] = pd.to_datetime(df_original[\"timestamp\"])\n",
        "df_original[\"timestamp\"] = df_original[\"timestamp\"].dt.tz_localize(None)\n",
        "df_original = df_original.sort_values(\"timestamp\")\n",
        "\n",
        "end = \"2025-01-01\"\n",
        "df = df_original[(df_original[\"timestamp\"] < end)]"
      ],
      "metadata": {
        "id": "H24RB_AmYSg-"
      },
      "execution_count": null,
      "outputs": []
    },
    {
      "cell_type": "code",
      "source": [
        "def build_ae(input_dim, latent_dim=4):\n",
        "  #encoder\n",
        "  input_enc = layers.Input(shape=(input_dim,))\n",
        "  x = layers.Dense(32, activation=\"relu\")(input_enc)\n",
        "  x = layers.Dense(16, activation=\"relu\")(x)\n",
        "  z = layers.Dense(latent_dim, activation=\"relu\", name=\"latent\")(x)\n",
        "\n",
        "  #decoder\n",
        "  x = layers.Dense(16, activation=\"relu\")(z)\n",
        "  x = layers.Dense(32, activation=\"relu\")(x)\n",
        "  output_dec = layers.Dense(input_dim, activation=\"linear\")(x)\n",
        "\n",
        "  #autoencoder\n",
        "  ae = keras.Model(input_enc, output_dec, name=\"autoencoder\")\n",
        "  ae.compile(optimizer=\"adam\", loss=\"mse\")\n",
        "  return ae"
      ],
      "metadata": {
        "id": "9w5IzY8-_MPV"
      },
      "execution_count": null,
      "outputs": []
    },
    {
      "cell_type": "code",
      "source": [
        "def create_fake_month(df, frac_per_month, random_state):\n",
        "  rng = np.random.default_rng(seed=random_state) # generatore casuale con seed\n",
        "  df[\"day\"] = df[\"timestamp\"].dt.floor(\"D\")\n",
        "  df[\"year_month\"] = df[\"timestamp\"].dt.to_period(\"M\")\n",
        "  train_indices = []\n",
        "\n",
        "  for ym, group in df.groupby(\"year_month\"):\n",
        "    days = group[\"day\"].unique()\n",
        "    n_take = max(1, int(len(days) * frac_per_month))\n",
        "    sampled_days = rng.choice(days, size=n_take, replace=False)\n",
        "    sel = group[group[\"day\"].isin(sampled_days)].index.tolist()\n",
        "    train_indices += sel\n",
        "\n",
        "  train_df = df.loc[train_indices].copy()\n",
        "  valid_df = df.drop(index=train_indices).copy()\n",
        "  train_df = train_df.drop(columns=[\"day\", \"year_month\"])\n",
        "  valid_df = valid_df.drop(columns=[\"day\", \"year_month\"])\n",
        "  train_df = train_df.sort_values(\"timestamp\")\n",
        "  valid_df = valid_df.sort_values(\"timestamp\")\n",
        "\n",
        "  return train_df, valid_df"
      ],
      "metadata": {
        "id": "sTNuaLqI_FRW"
      },
      "execution_count": null,
      "outputs": []
    },
    {
      "cell_type": "markdown",
      "source": [
        "2 mesi di dati reali"
      ],
      "metadata": {
        "id": "_vicfXDUIkCQ"
      }
    },
    {
      "cell_type": "code",
      "source": [
        "#parametri\n",
        "features = [\"Mode 1\", \"Mode 2\", \"Mode 3\", \"Mode 4\", \"Mode 5\", \"Mode 6\"]\n",
        "results = []\n",
        "window_size = 2\n",
        "n_months = 12\n",
        "start_date = df[\"timestamp\"].min()\n",
        "\n",
        "for m in range(1, n_months - window_size + 2):\n",
        "  train_start = start_date + pd.DateOffset(months=m-1)\n",
        "  train_end = start_date + pd.DateOffset(months=m-1+window_size)\n",
        "  train_data = df[(df[\"timestamp\"] >= train_start) & (df[\"timestamp\"] < train_end)]\n",
        "\n",
        "  val_data = df[~df[\"timestamp\"].isin(train_data[\"timestamp\"])]\n",
        "\n",
        "  scaler_X = StandardScaler()\n",
        "\n",
        "  X_train = scaler_X.fit_transform(train_data[features])\n",
        "  X_val = scaler_X.transform(val_data[features])\n",
        "\n",
        "  ae = build_ae(input_dim=X_train.shape[1], latent_dim=4)\n",
        "\n",
        "  ae.fit(\n",
        "      X_train,\n",
        "      X_train,\n",
        "      epochs = 50,\n",
        "      batch_size = 64,\n",
        "      verbose = 0\n",
        "  )\n",
        "\n",
        "  X_pred = ae.predict(X_val)\n",
        "  mse = np.mean(np.square(X_val - X_pred), axis=1)\n",
        "\n",
        "  mean_mse = np.mean(mse)\n",
        "  std_mse = np.std(mse)\n",
        "  threshold = mean_mse + 3 * std_mse\n",
        "  anomalies = mse > threshold\n",
        "  anomaly_rate = np.mean(anomalies)\n",
        "#  anomaly_rate = np.mean(anomalies)*100\n",
        "\n",
        "  train_months = sorted(train_data[\"timestamp\"].dt.to_period(\"M\").unique())\n",
        "  results.append({\"train_months\": [str(x) for x in train_months], \"window_size\": len(train_months), \"anomaly rate\": anomaly_rate})\n",
        "\n",
        "results_df_2m = pd.DataFrame(results)\n",
        "print(results_df_2m)"
      ],
      "metadata": {
        "id": "kaUnrjwi_F7R"
      },
      "execution_count": null,
      "outputs": []
    },
    {
      "cell_type": "markdown",
      "source": [
        "4 mesi di dati reali"
      ],
      "metadata": {
        "id": "AHjQwlnzInSV"
      }
    },
    {
      "cell_type": "code",
      "source": [
        "#parametri\n",
        "features = [\"Mode 1\", \"Mode 2\", \"Mode 3\", \"Mode 4\", \"Mode 5\", \"Mode 6\"]\n",
        "results = []\n",
        "window_size = 4\n",
        "n_months = 12\n",
        "start_date = df[\"timestamp\"].min()\n",
        "\n",
        "for m in range(1, n_months - window_size + 2):\n",
        "  train_start = start_date + pd.DateOffset(months=m-1)\n",
        "  train_end = start_date + pd.DateOffset(months=m-1+window_size)\n",
        "  train_data = df[(df[\"timestamp\"] >= train_start) & (df[\"timestamp\"] < train_end)]\n",
        "\n",
        "  val_data = df[~df[\"timestamp\"].isin(train_data[\"timestamp\"])]\n",
        "\n",
        "  scaler_X = StandardScaler()\n",
        "\n",
        "  X_train = scaler_X.fit_transform(train_data[features])\n",
        "  X_val = scaler_X.transform(val_data[features])\n",
        "\n",
        "  ae = build_ae(input_dim=X_train.shape[1], latent_dim=4)\n",
        "\n",
        "  ae.fit(\n",
        "      X_train,\n",
        "      X_train,\n",
        "      epochs = 50,\n",
        "      batch_size = 64,\n",
        "      verbose = 0\n",
        "  )\n",
        "\n",
        "  X_pred = ae.predict(X_val)\n",
        "  mse = np.mean(np.square(X_val - X_pred), axis=1)\n",
        "\n",
        "  mean_mse = np.mean(mse)\n",
        "  std_mse = np.std(mse)\n",
        "  threshold = mean_mse + 3 * std_mse\n",
        "  anomalies = mse > threshold\n",
        "  anomaly_rate = np.mean(anomalies)\n",
        "#  anomaly_rate = np.mean(anomalies)*100\n",
        "\n",
        "  train_months = sorted(train_data[\"timestamp\"].dt.to_period(\"M\").unique())\n",
        "  results.append({\"train_months\": [str(x) for x in train_months], \"window_size\": len(train_months), \"anomaly rate\": anomaly_rate})\n",
        "\n",
        "results_df_4m = pd.DataFrame(results)\n",
        "print(results_df_4m)"
      ],
      "metadata": {
        "id": "qae-Zz0THmtc"
      },
      "execution_count": null,
      "outputs": []
    },
    {
      "cell_type": "markdown",
      "source": [
        "6 mesi di dati reali"
      ],
      "metadata": {
        "id": "NyAE4P4YIpGC"
      }
    },
    {
      "cell_type": "code",
      "source": [
        "#parametri\n",
        "features = [\"Mode 1\", \"Mode 2\", \"Mode 3\", \"Mode 4\", \"Mode 5\", \"Mode 6\"]\n",
        "results = []\n",
        "window_size = 6\n",
        "n_months = 12\n",
        "start_date = df[\"timestamp\"].min()\n",
        "\n",
        "for m in range(1, n_months - window_size + 2):\n",
        "  train_start = start_date + pd.DateOffset(months=m-1)\n",
        "  train_end = start_date + pd.DateOffset(months=m-1+window_size)\n",
        "  train_data = df[(df[\"timestamp\"] >= train_start) & (df[\"timestamp\"] < train_end)]\n",
        "\n",
        "  val_data = df[~df[\"timestamp\"].isin(train_data[\"timestamp\"])]\n",
        "\n",
        "  scaler_X = StandardScaler()\n",
        "\n",
        "  X_train = scaler_X.fit_transform(train_data[features])\n",
        "  X_val = scaler_X.transform(val_data[features])\n",
        "\n",
        "  ae = build_ae(input_dim=X_train.shape[1], latent_dim=4)\n",
        "\n",
        "  ae.fit(\n",
        "      X_train,\n",
        "      X_train,\n",
        "      epochs = 50,\n",
        "      batch_size = 64,\n",
        "      verbose = 0\n",
        "  )\n",
        "\n",
        "  X_pred = ae.predict(X_val)\n",
        "  mse = np.mean(np.square(X_val - X_pred), axis=1)\n",
        "\n",
        "  mean_mse = np.mean(mse)\n",
        "  std_mse = np.std(mse)\n",
        "  threshold = mean_mse + 3 * std_mse\n",
        "  anomalies = mse > threshold\n",
        "  anomaly_rate = np.mean(anomalies)\n",
        "#  anomaly_rate = np.mean(anomalies)*100\n",
        "\n",
        "  train_months = sorted(train_data[\"timestamp\"].dt.to_period(\"M\").unique())\n",
        "  results.append({\"train_months\": [str(x) for x in train_months], \"window_size\": len(train_months), \"anomaly rate\": anomaly_rate})\n",
        "\n",
        "results_df_6m = pd.DataFrame(results)\n",
        "print(results_df_6m)"
      ],
      "metadata": {
        "id": "-60DSkMxHslr"
      },
      "execution_count": null,
      "outputs": []
    },
    {
      "cell_type": "markdown",
      "source": [
        "2 mesi di dati falsi"
      ],
      "metadata": {
        "id": "u9FHtpXRIrYc"
      }
    },
    {
      "cell_type": "code",
      "source": [
        "#parametri\n",
        "features = [\"Mode 1\", \"Mode 2\", \"Mode 3\", \"Mode 4\", \"Mode 5\", \"Mode 6\"]\n",
        "results_2m_fake = []\n",
        "train_df, valid_df = create_fake_month(df_original, frac_per_month=0.1, random_state=42)\n",
        "\n",
        "print(\"Giorni training:\", train_df[\"timestamp\"].dt.date.nunique())\n",
        "print(\"Giorni validation:\", valid_df[\"timestamp\"].dt.date.nunique())\n",
        "\n",
        "scaler_X = StandardScaler()\n",
        "\n",
        "X_train = scaler_X.fit_transform(train_df[features])\n",
        "\n",
        "X_val = scaler_X.transform(valid_df[features])\n",
        "\n",
        "ae = build_ae(input_dim=X_train.shape[1], latent_dim=2)\n",
        "\n",
        "ae.fit(\n",
        "    X_train,\n",
        "    X_train,\n",
        "    epochs = 50,\n",
        "    batch_size = 64,\n",
        "    verbose = 0\n",
        "  )\n",
        "\n",
        "X_pred = ae.predict(X_val)\n",
        "mse = np.mean(np.square(X_val - X_pred), axis=1)\n",
        "\n",
        "mean_mse = np.mean(mse)\n",
        "std_mse = np.std(mse)\n",
        "threshold = mean_mse + 3 * std_mse\n",
        "anomalies = mse > threshold\n",
        "anomaly_rate = np.mean(anomalies)\n",
        "\n",
        "\n",
        "results_2m_fake.append({\"window_size\": 2, \"anomaly\": anomaly_rate})\n",
        "\n",
        "results_df_2m_fake = pd.DataFrame(results_2m_fake)\n",
        "print(results_df_2m_fake)"
      ],
      "metadata": {
        "id": "cYbf0O4NIxzv"
      },
      "execution_count": null,
      "outputs": []
    },
    {
      "cell_type": "markdown",
      "source": [
        "4 mesi di dati falsi"
      ],
      "metadata": {
        "id": "QtzMguKiIs2r"
      }
    },
    {
      "cell_type": "code",
      "source": [
        "#parametri\n",
        "features = [\"Mode 1\", \"Mode 2\", \"Mode 3\", \"Mode 4\", \"Mode 5\", \"Mode 6\"]\n",
        "results_4m_fake = []\n",
        "train_df, valid_df = create_fake_month(df_original, frac_per_month=0.2, random_state=42)\n",
        "\n",
        "print(\"Giorni training:\", train_df[\"timestamp\"].dt.date.nunique())\n",
        "print(\"Giorni validation:\", valid_df[\"timestamp\"].dt.date.nunique())\n",
        "\n",
        "scaler_X = StandardScaler()\n",
        "\n",
        "X_train = scaler_X.fit_transform(train_df[features])\n",
        "\n",
        "X_val = scaler_X.transform(valid_df[features])\n",
        "\n",
        "ae = build_ae(input_dim=X_train.shape[1], latent_dim=2)\n",
        "\n",
        "ae.fit(\n",
        "    X_train,\n",
        "    X_train,\n",
        "    epochs = 50,\n",
        "    batch_size = 64,\n",
        "    verbose = 0\n",
        "  )\n",
        "\n",
        "X_pred = ae.predict(X_val)\n",
        "mse = np.mean(np.square(X_val - X_pred), axis=1)\n",
        "\n",
        "mean_mse = np.mean(mse)\n",
        "std_mse = np.std(mse)\n",
        "threshold = mean_mse + 3 * std_mse\n",
        "anomalies = mse > threshold\n",
        "anomaly_rate = np.mean(anomalies)\n",
        "\n",
        "\n",
        "results_4m_fake.append({\"window_size\": 4, \"anomaly\": anomaly_rate})\n",
        "\n",
        "results_df_4m_fake = pd.DataFrame(results_4m_fake)\n",
        "print(results_df_4m_fake)"
      ],
      "metadata": {
        "id": "BcHW1CwzJBrX"
      },
      "execution_count": null,
      "outputs": []
    },
    {
      "cell_type": "markdown",
      "source": [
        "6 mesi di dati falsi"
      ],
      "metadata": {
        "id": "Z8jc02_IIvJv"
      }
    },
    {
      "cell_type": "code",
      "source": [
        "#parametri\n",
        "features = [\"Mode 1\", \"Mode 2\", \"Mode 3\", \"Mode 4\", \"Mode 5\", \"Mode 6\"]\n",
        "results_6m_fake = []\n",
        "train_df, valid_df = create_fake_month(df_original, frac_per_month=0.3, random_state=42)\n",
        "\n",
        "print(\"Giorni training:\", train_df[\"timestamp\"].dt.date.nunique())\n",
        "print(\"Giorni validation:\", valid_df[\"timestamp\"].dt.date.nunique())\n",
        "\n",
        "scaler_X = StandardScaler()\n",
        "\n",
        "X_train = scaler_X.fit_transform(train_df[features])\n",
        "\n",
        "X_val = scaler_X.transform(valid_df[features])\n",
        "\n",
        "ae = build_ae(input_dim=X_train.shape[1], latent_dim=2)\n",
        "\n",
        "ae.fit(\n",
        "    X_train,\n",
        "    X_train,\n",
        "    epochs = 50,\n",
        "    batch_size = 64,\n",
        "    verbose = 0\n",
        "  )\n",
        "\n",
        "X_pred = ae.predict(X_val)\n",
        "mse = np.mean(np.square(X_val - X_pred), axis=1)\n",
        "\n",
        "mean_mse = np.mean(mse)\n",
        "std_mse = np.std(mse)\n",
        "threshold = mean_mse + 3 * std_mse\n",
        "anomalies = mse > threshold\n",
        "anomaly_rate = np.mean(anomalies)\n",
        "\n",
        "\n",
        "results_6m_fake.append({\"window_size\": 6, \"anomaly\": anomaly_rate})\n",
        "\n",
        "results_df_6m_fake = pd.DataFrame(results_6m_fake)\n",
        "print(results_df_6m_fake)"
      ],
      "metadata": {
        "id": "maEgxac_JNNY"
      },
      "execution_count": null,
      "outputs": []
    },
    {
      "cell_type": "code",
      "source": [
        "real_results_df = pd.concat([results_df_2m, results_df_4m, results_df_6m])\n",
        "real_mean = real_results_df.groupby(\"window_size\")[\"anomaly rate\"].mean().reset_index()\n",
        "\n",
        "fake_results_df = pd.concat([results_df_2m_fake, results_df_4m_fake, results_df_6m_fake])\n",
        "plt.figure(figsize=(8,5))\n",
        "plt.plot(real_mean[\"window_size\"], real_mean[\"anomaly rate\"]*100, \"o-\", label=\"Media mesi reali\")\n",
        "plt.plot(fake_results_df[\"window_size\"], fake_results_df[\"anomaly\"]*100, \"o-\", label=\"Mesi fake\")\n",
        "plt.axhline(2, color=\"r\", linestyle=\"--\", label=\"soglia 2%\")\n",
        "plt.xlabel(\"Numero di mesi nel training set\")\n",
        "plt.ylabel(\"Anomaly rate (%)\")\n",
        "plt.title(\"Confronto mesi reali vs mesi fake\")\n",
        "plt.legend()\n",
        "plt.grid(True)\n",
        "\n",
        "plt.show()"
      ],
      "metadata": {
        "id": "InNyJdMsJYc5"
      },
      "execution_count": null,
      "outputs": []
    },
    {
      "cell_type": "code",
      "source": [
        "labels = [\"2 mesi\", \"4 mesi\", \"6 mesi\"]\n",
        "real_results_df = pd.concat([results_df_2m, results_df_4m, results_df_6m])\n",
        "real_mean = real_results_df.groupby(\"window_size\")[\"anomaly rate\"].mean().reset_index()\n",
        "real_std = real_results_df.groupby(\"window_size\")[\"anomaly rate\"].std().reset_index()\n",
        "\n",
        "fake_results_df = pd.concat([results_df_2m_fake, results_df_4m_fake, results_df_6m_fake])\n",
        "\n",
        "x = np.arange(len(labels))\n",
        "w = 0.35\n",
        "\n",
        "fig, ax = plt.subplots(figsize=(8, 5))\n",
        "bars1 = ax.bar(x - w/2, real_mean[\"anomaly rate\"]*100, w, yerr= real_std[\"anomaly rate\"]*100, label=\"Mesi reali consecutivi (media)\")\n",
        "bars2 = ax.bar(x + w/2, fake_results_df[\"anomaly\"]*100, w, label=\"Mesi falsi\")\n",
        "ax.axhline(2, color=\"r\", linestyle=\"--\", label=\"soglia 2%\")\n",
        "ax.set_xlabel(\"Numero di mesi nel training set\")\n",
        "ax.set_ylabel(\"Anomaly rate (%)\")\n",
        "ax.set_title(\"Confronto mesi reali vs mesi fake\")\n",
        "\n",
        "ax.set_xticks(x)\n",
        "ax.set_xticklabels(labels)\n",
        "ax.legend(loc=\"lower right\")\n",
        "ax.grid(axis=\"y\", linestyle=\":\", alpha=0.6)\n",
        "\n",
        "def add_labels(bars):\n",
        "  for bar in bars:\n",
        "    height = bar.get_height()\n",
        "    ax.text(\n",
        "        bar.get_x() + bar.get_width()/2,\n",
        "        height + 0.05,\n",
        "        f\"{height:.2f}\",\n",
        "        ha=\"center\",\n",
        "        va=\"bottom\",\n",
        "        fontsize=9,\n",
        "        color=\"white\",\n",
        "        bbox = dict(facecolor=\"black\", alpha=0.5, edgecolor=\"none\")\n",
        "    )\n",
        "\n",
        "add_labels(bars1)\n",
        "add_labels(bars2)\n",
        "plt.tight_layout()\n",
        "plt.show()"
      ],
      "metadata": {
        "id": "IudUdjtwJdEp"
      },
      "execution_count": null,
      "outputs": []
    },
    {
      "cell_type": "markdown",
      "source": [
        "# AutoEncoder (AE) con temperatura"
      ],
      "metadata": {
        "id": "Oglapil1LtOy"
      }
    },
    {
      "cell_type": "code",
      "source": [
        "import pandas as pd\n",
        "from sklearn.preprocessing import StandardScaler\n",
        "import numpy as np\n",
        "import matplotlib.pyplot as plt\n",
        "\n",
        "import tensorflow as tf\n",
        "from tensorflow import keras\n",
        "from tensorflow.keras import layers\n",
        "from tensorflow.keras.layers import Layer"
      ],
      "metadata": {
        "id": "dtQ97G_AL0pn"
      },
      "execution_count": null,
      "outputs": []
    },
    {
      "cell_type": "code",
      "source": [
        "df_temp = pd.read_csv(\"/content/drive/MyDrive/data_temperature.csv\", encoding = \"utf-8\")\n",
        "df_temp[\"timestamp\"] = pd.to_datetime(df_temp[\"timestamp\"])\n",
        "df_temp[\"timestamp\"] = df_temp[\"timestamp\"].dt.tz_localize(None)\n",
        "df_temp = df_temp.sort_values(\"timestamp\")\n",
        "\n",
        "end = \"2025-01-01\"\n",
        "df = df_temp[(df_temp[\"timestamp\"] < end)]"
      ],
      "metadata": {
        "id": "O6_ijWbfL9r2"
      },
      "execution_count": null,
      "outputs": []
    },
    {
      "cell_type": "code",
      "source": [
        "def build_ae_temp(input_dim = 7, output_dim = 6, latent_dim=4):\n",
        "  #encoder\n",
        "  input_enc = layers.Input(shape=(input_dim,))\n",
        "  x = layers.Dense(32, activation=\"relu\")(input_enc)\n",
        "  x = layers.Dense(16, activation=\"relu\")(x)\n",
        "  z = layers.Dense(latent_dim, activation=\"relu\", name=\"latent\")(x)\n",
        "\n",
        "  #decoder\n",
        "  x = layers.Dense(16, activation=\"relu\")(z)\n",
        "  x = layers.Dense(32, activation=\"relu\")(x)\n",
        "  output_dec = layers.Dense(output_dim, activation=\"linear\")(x)\n",
        "\n",
        "  #autoencoder\n",
        "  ae = keras.Model(input_enc, output_dec, name=\"autoencoder\")\n",
        "  ae.compile(optimizer=\"adam\", loss=\"mse\")\n",
        "  return ae"
      ],
      "metadata": {
        "id": "Jao_kOGyL5qx"
      },
      "execution_count": null,
      "outputs": []
    },
    {
      "cell_type": "code",
      "source": [
        "def create_fake_month(df, frac_per_month, random_state):\n",
        "  rng = np.random.default_rng(seed=random_state) # generatore casuale con seed\n",
        "  df[\"day\"] = df[\"timestamp\"].dt.floor(\"D\")\n",
        "  df[\"year_month\"] = df[\"timestamp\"].dt.to_period(\"M\")\n",
        "  train_indices = []\n",
        "\n",
        "  for ym, group in df.groupby(\"year_month\"):\n",
        "    days = group[\"day\"].unique()\n",
        "    n_take = max(1, int(len(days) * frac_per_month))\n",
        "    sampled_days = rng.choice(days, size=n_take, replace=False)\n",
        "    sel = group[group[\"day\"].isin(sampled_days)].index.tolist()\n",
        "    train_indices += sel\n",
        "\n",
        "  train_df = df.loc[train_indices].copy()\n",
        "  valid_df = df.drop(index=train_indices).copy()\n",
        "  train_df = train_df.drop(columns=[\"day\", \"year_month\"])\n",
        "  valid_df = valid_df.drop(columns=[\"day\", \"year_month\"])\n",
        "  train_df = train_df.sort_values(\"timestamp\")\n",
        "  valid_df = valid_df.sort_values(\"timestamp\")\n",
        "\n",
        "  return train_df, valid_df"
      ],
      "metadata": {
        "id": "pedx1cNeMYPr"
      },
      "execution_count": null,
      "outputs": []
    },
    {
      "cell_type": "markdown",
      "source": [
        "2 mesi di dati reali"
      ],
      "metadata": {
        "id": "s3h5TBsUMYhU"
      }
    },
    {
      "cell_type": "code",
      "source": [
        "#parametri\n",
        "features = [\"Mode 1\", \"Mode 2\", \"Mode 3\", \"Mode 4\", \"Mode 5\", \"Mode 6\", \"temperatura\"]\n",
        "results = []\n",
        "window_size = 2\n",
        "n_months = 12\n",
        "start_date = df[\"timestamp\"].min()\n",
        "\n",
        "for m in range(1, n_months - window_size + 2):\n",
        "  train_start = start_date + pd.DateOffset(months=m-1)\n",
        "  train_end = start_date + pd.DateOffset(months=m-1+window_size)\n",
        "  train_data = df[(df[\"timestamp\"] >= train_start) & (df[\"timestamp\"] < train_end)]\n",
        "\n",
        "  val_data = df[~df[\"timestamp\"].isin(train_data[\"timestamp\"])]\n",
        "\n",
        "  scaler_X = StandardScaler()\n",
        "\n",
        "  X_train = scaler_X.fit_transform(train_data[features])\n",
        "  X_val = scaler_X.transform(val_data[features])\n",
        "\n",
        "  Y_train = X_train[:, :6]\n",
        "\n",
        "  ae = build_ae_temp(input_dim=X_train.shape[1], output_dim=Y_train.shape[1] , latent_dim=4)\n",
        "\n",
        "  ae.fit(\n",
        "      X_train,\n",
        "      Y_train,\n",
        "      epochs = 50,\n",
        "      batch_size = 64,\n",
        "      verbose = 0\n",
        "  )\n",
        "\n",
        "  Y_pred = ae.predict(X_val)\n",
        "  mse = np.mean(np.square(X_val[:, :6] - Y_pred), axis=1)\n",
        "\n",
        "  mean_mse = np.mean(mse)\n",
        "  std_mse = np.std(mse)\n",
        "  threshold = mean_mse + 3 * std_mse\n",
        "  anomalies = mse > threshold\n",
        "  anomaly_rate = np.mean(anomalies)\n",
        "#  anomaly_rate = np.mean(anomalies)*100\n",
        "\n",
        "  train_months = sorted(train_data[\"timestamp\"].dt.to_period(\"M\").unique())\n",
        "  results.append({\"train_months\": [str(x) for x in train_months], \"window_size\": len(train_months), \"anomaly rate\": anomaly_rate})\n",
        "\n",
        "results_df_2m = pd.DataFrame(results)\n",
        "print(results_df_2m)"
      ],
      "metadata": {
        "id": "I5VLmlaAMXH4"
      },
      "execution_count": null,
      "outputs": []
    },
    {
      "cell_type": "markdown",
      "source": [
        "4 mesi di dati reali"
      ],
      "metadata": {
        "id": "1E9RnGAnNLm3"
      }
    },
    {
      "cell_type": "code",
      "source": [
        "#parametri\n",
        "features = [\"Mode 1\", \"Mode 2\", \"Mode 3\", \"Mode 4\", \"Mode 5\", \"Mode 6\", \"temperatura\"]\n",
        "results = []\n",
        "window_size = 4\n",
        "n_months = 12\n",
        "start_date = df[\"timestamp\"].min()\n",
        "\n",
        "for m in range(1, n_months - window_size + 2):\n",
        "  train_start = start_date + pd.DateOffset(months=m-1)\n",
        "  train_end = start_date + pd.DateOffset(months=m-1+window_size)\n",
        "  train_data = df[(df[\"timestamp\"] >= train_start) & (df[\"timestamp\"] < train_end)]\n",
        "\n",
        "  val_data = df[~df[\"timestamp\"].isin(train_data[\"timestamp\"])]\n",
        "\n",
        "  scaler_X = StandardScaler()\n",
        "\n",
        "  X_train = scaler_X.fit_transform(train_data[features])\n",
        "  X_val = scaler_X.transform(val_data[features])\n",
        "\n",
        "  Y_train = X_train[:, :6]\n",
        "\n",
        "  ae = build_ae_temp(input_dim=X_train.shape[1], output_dim=Y_train.shape[1] , latent_dim=4)\n",
        "\n",
        "  ae.fit(\n",
        "      X_train,\n",
        "      Y_train,\n",
        "      epochs = 50,\n",
        "      batch_size = 64,\n",
        "      verbose = 0\n",
        "  )\n",
        "\n",
        "  Y_pred = ae.predict(X_val)\n",
        "  mse = np.mean(np.square(X_val[:, :6] - Y_pred), axis=1)\n",
        "\n",
        "  mean_mse = np.mean(mse)\n",
        "  std_mse = np.std(mse)\n",
        "  threshold = mean_mse + 3 * std_mse\n",
        "  anomalies = mse > threshold\n",
        "  anomaly_rate = np.mean(anomalies)\n",
        "#  anomaly_rate = np.mean(anomalies)*100\n",
        "\n",
        "  train_months = sorted(train_data[\"timestamp\"].dt.to_period(\"M\").unique())\n",
        "  results.append({\"train_months\": [str(x) for x in train_months], \"window_size\": len(train_months), \"anomaly rate\": anomaly_rate})\n",
        "\n",
        "results_df_4m = pd.DataFrame(results)\n",
        "print(results_df_4m)"
      ],
      "metadata": {
        "id": "5dHP8Hq_N03p"
      },
      "execution_count": null,
      "outputs": []
    },
    {
      "cell_type": "markdown",
      "source": [
        "6 mesi di dati reali"
      ],
      "metadata": {
        "id": "xDU4EVTmN4PL"
      }
    },
    {
      "cell_type": "code",
      "source": [
        "#parametri\n",
        "features = [\"Mode 1\", \"Mode 2\", \"Mode 3\", \"Mode 4\", \"Mode 5\", \"Mode 6\", \"temperatura\"]\n",
        "results = []\n",
        "window_size = 6\n",
        "n_months = 12\n",
        "start_date = df[\"timestamp\"].min()\n",
        "\n",
        "for m in range(1, n_months - window_size + 2):\n",
        "  train_start = start_date + pd.DateOffset(months=m-1)\n",
        "  train_end = start_date + pd.DateOffset(months=m-1+window_size)\n",
        "  train_data = df[(df[\"timestamp\"] >= train_start) & (df[\"timestamp\"] < train_end)]\n",
        "\n",
        "  val_data = df[~df[\"timestamp\"].isin(train_data[\"timestamp\"])]\n",
        "\n",
        "  scaler_X = StandardScaler()\n",
        "\n",
        "  X_train = scaler_X.fit_transform(train_data[features])\n",
        "  X_val = scaler_X.transform(val_data[features])\n",
        "\n",
        "  Y_train = X_train[:, :6]\n",
        "\n",
        "  ae = build_ae_temp(input_dim=X_train.shape[1], output_dim=Y_train.shape[1] , latent_dim=4)\n",
        "\n",
        "  ae.fit(\n",
        "      X_train,\n",
        "      Y_train,\n",
        "      epochs = 50,\n",
        "      batch_size = 64,\n",
        "      verbose = 0\n",
        "  )\n",
        "\n",
        "  Y_pred = ae.predict(X_val)\n",
        "  mse = np.mean(np.square(X_val[:, :6] - Y_pred), axis=1)\n",
        "\n",
        "  mean_mse = np.mean(mse)\n",
        "  std_mse = np.std(mse)\n",
        "  threshold = mean_mse + 3 * std_mse\n",
        "  anomalies = mse > threshold\n",
        "  anomaly_rate = np.mean(anomalies)\n",
        "#  anomaly_rate = np.mean(anomalies)*100\n",
        "\n",
        "  train_months = sorted(train_data[\"timestamp\"].dt.to_period(\"M\").unique())\n",
        "  results.append({\"train_months\": [str(x) for x in train_months], \"window_size\": len(train_months), \"anomaly rate\": anomaly_rate})\n",
        "\n",
        "results_df_6m = pd.DataFrame(results)\n",
        "print(results_df_6m)"
      ],
      "metadata": {
        "id": "eBPNQj6YN6kK"
      },
      "execution_count": null,
      "outputs": []
    },
    {
      "cell_type": "markdown",
      "source": [
        "2 mesi di dati falsi"
      ],
      "metadata": {
        "id": "Nzre3CL-OGl0"
      }
    },
    {
      "cell_type": "code",
      "source": [
        "#parametri\n",
        "features = [\"Mode 1\", \"Mode 2\", \"Mode 3\", \"Mode 4\", \"Mode 5\", \"Mode 6\", \"temperatura\"]\n",
        "results_2m_fake = []\n",
        "train_df, valid_df = create_fake_month(df_temp, frac_per_month=0.1, random_state=42)\n",
        "\n",
        "print(\"Giorni training:\", train_df[\"timestamp\"].dt.date.nunique())\n",
        "print(\"Giorni validation:\", valid_df[\"timestamp\"].dt.date.nunique())\n",
        "\n",
        "scaler_X = StandardScaler()\n",
        "\n",
        "X_train = scaler_X.fit_transform(train_df[features])\n",
        "X_val = scaler_X.transform(valid_df[features])\n",
        "\n",
        "Y_train = X_train[:, :6]\n",
        "\n",
        "ae = build_ae_temp(input_dim=X_train.shape[1], output_dim=Y_train.shape[1] , latent_dim=4)\n",
        "\n",
        "ae.fit(\n",
        "    X_train,\n",
        "    Y_train,\n",
        "    epochs = 50,\n",
        "    batch_size = 64,\n",
        "    verbose = 0\n",
        ")\n",
        "\n",
        "Y_pred = ae.predict(X_val)\n",
        "mse = np.mean(np.square(X_val[:, :6] - Y_pred), axis=1)\n",
        "\n",
        "mean_mse = np.mean(mse)\n",
        "std_mse = np.std(mse)\n",
        "threshold = mean_mse + 3 * std_mse\n",
        "anomalies = mse > threshold\n",
        "anomaly_rate = np.mean(anomalies)\n",
        "\n",
        "\n",
        "results_2m_fake.append({\"window_size\": 2, \"anomaly\": anomaly_rate})\n",
        "\n",
        "results_df_2m_fake = pd.DataFrame(results_2m_fake)\n",
        "print(results_df_2m_fake)"
      ],
      "metadata": {
        "id": "Z26aAFnjOIw9"
      },
      "execution_count": null,
      "outputs": []
    },
    {
      "cell_type": "markdown",
      "source": [
        "4 mesi di dati falsi"
      ],
      "metadata": {
        "id": "gTZRVM82O_LJ"
      }
    },
    {
      "cell_type": "code",
      "source": [
        "#parametri\n",
        "features = [\"Mode 1\", \"Mode 2\", \"Mode 3\", \"Mode 4\", \"Mode 5\", \"Mode 6\", \"temperatura\"]\n",
        "results_4m_fake = []\n",
        "train_df, valid_df = create_fake_month(df_temp, frac_per_month=0.2, random_state=42)\n",
        "\n",
        "print(\"Giorni training:\", train_df[\"timestamp\"].dt.date.nunique())\n",
        "print(\"Giorni validation:\", valid_df[\"timestamp\"].dt.date.nunique())\n",
        "\n",
        "scaler_X = StandardScaler()\n",
        "\n",
        "X_train = scaler_X.fit_transform(train_df[features])\n",
        "X_val = scaler_X.transform(valid_df[features])\n",
        "\n",
        "Y_train = X_train[:, :6]\n",
        "\n",
        "ae = build_ae_temp(input_dim=X_train.shape[1], output_dim=Y_train.shape[1] , latent_dim=4)\n",
        "\n",
        "ae.fit(\n",
        "    X_train,\n",
        "    Y_train,\n",
        "    epochs = 50,\n",
        "    batch_size = 64,\n",
        "    verbose = 0\n",
        ")\n",
        "\n",
        "Y_pred = ae.predict(X_val)\n",
        "mse = np.mean(np.square(X_val[:, :6] - Y_pred), axis=1)\n",
        "\n",
        "mean_mse = np.mean(mse)\n",
        "std_mse = np.std(mse)\n",
        "threshold = mean_mse + 3 * std_mse\n",
        "anomalies = mse > threshold\n",
        "anomaly_rate = np.mean(anomalies)\n",
        "\n",
        "\n",
        "results_4m_fake.append({\"window_size\": 4, \"anomaly\": anomaly_rate})\n",
        "\n",
        "results_df_4m_fake = pd.DataFrame(results_4m_fake)\n",
        "print(results_df_4m_fake)"
      ],
      "metadata": {
        "id": "hUSJiLyOOpiz"
      },
      "execution_count": null,
      "outputs": []
    },
    {
      "cell_type": "markdown",
      "source": [
        "6 mesi di dati falsi"
      ],
      "metadata": {
        "id": "4hhABTKdPBI8"
      }
    },
    {
      "cell_type": "code",
      "source": [
        "#parametri\n",
        "features = [\"Mode 1\", \"Mode 2\", \"Mode 3\", \"Mode 4\", \"Mode 5\", \"Mode 6\", \"temperatura\"]\n",
        "results_6m_fake = []\n",
        "train_df, valid_df = create_fake_month(df_temp, frac_per_month=0.3, random_state=42)\n",
        "\n",
        "print(\"Giorni training:\", train_df[\"timestamp\"].dt.date.nunique())\n",
        "print(\"Giorni validation:\", valid_df[\"timestamp\"].dt.date.nunique())\n",
        "\n",
        "scaler_X = StandardScaler()\n",
        "\n",
        "X_train = scaler_X.fit_transform(train_df[features])\n",
        "X_val = scaler_X.transform(valid_df[features])\n",
        "\n",
        "Y_train = X_train[:, :6]\n",
        "\n",
        "ae = build_ae_temp(input_dim=X_train.shape[1], output_dim=Y_train.shape[1] , latent_dim=4)\n",
        "\n",
        "ae.fit(\n",
        "    X_train,\n",
        "    Y_train,\n",
        "    epochs = 50,\n",
        "    batch_size = 64,\n",
        "    verbose = 0\n",
        ")\n",
        "\n",
        "Y_pred = ae.predict(X_val)\n",
        "mse = np.mean(np.square(X_val[:, :6] - Y_pred), axis=1)\n",
        "\n",
        "mean_mse = np.mean(mse)\n",
        "std_mse = np.std(mse)\n",
        "threshold = mean_mse + 3 * std_mse\n",
        "anomalies = mse > threshold\n",
        "anomaly_rate = np.mean(anomalies)\n",
        "\n",
        "\n",
        "results_6m_fake.append({\"window_size\": 6, \"anomaly\": anomaly_rate})\n",
        "\n",
        "results_df_6m_fake = pd.DataFrame(results_6m_fake)\n",
        "print(results_df_6m_fake)"
      ],
      "metadata": {
        "id": "aFYf1APmO1W2"
      },
      "execution_count": null,
      "outputs": []
    },
    {
      "cell_type": "code",
      "source": [
        "real_results_df = pd.concat([results_df_2m, results_df_4m, results_df_6m])\n",
        "real_mean = real_results_df.groupby(\"window_size\")[\"anomaly rate\"].mean().reset_index()\n",
        "\n",
        "fake_results_df = pd.concat([results_df_2m_fake, results_df_4m_fake, results_df_6m_fake])\n",
        "plt.figure(figsize=(8,5))\n",
        "plt.plot(real_mean[\"window_size\"], real_mean[\"anomaly rate\"]*100, \"o-\", label=\"Media mesi reali\")\n",
        "plt.plot(fake_results_df[\"window_size\"], fake_results_df[\"anomaly\"]*100, \"o-\", label=\"Mesi fake\")\n",
        "plt.axhline(2, color=\"r\", linestyle=\"--\", label=\"soglia 2%\")\n",
        "plt.xlabel(\"Numero di mesi nel training set\")\n",
        "plt.ylabel(\"Anomaly rate (%)\")\n",
        "plt.title(\"Confronto mesi reali vs mesi fake\")\n",
        "plt.legend()\n",
        "plt.grid(True)\n",
        "\n",
        "plt.show()"
      ],
      "metadata": {
        "id": "2ZA0sgwcPDPV"
      },
      "execution_count": null,
      "outputs": []
    },
    {
      "cell_type": "code",
      "source": [
        "labels = [\"2 mesi\", \"4 mesi\", \"6 mesi\"]\n",
        "real_results_df = pd.concat([results_df_2m, results_df_4m, results_df_6m])\n",
        "real_mean = real_results_df.groupby(\"window_size\")[\"anomaly rate\"].mean().reset_index()\n",
        "real_std = real_results_df.groupby(\"window_size\")[\"anomaly rate\"].std().reset_index()\n",
        "\n",
        "fake_results_df = pd.concat([results_df_2m_fake, results_df_4m_fake, results_df_6m_fake])\n",
        "\n",
        "x = np.arange(len(labels))\n",
        "w = 0.35\n",
        "\n",
        "fig, ax = plt.subplots(figsize=(8, 5))\n",
        "bars1 = ax.bar(x - w/2, real_mean[\"anomaly rate\"]*100, w, yerr= real_std[\"anomaly rate\"]*100, label=\"Mesi reali consecutivi (media)\")\n",
        "bars2 = ax.bar(x + w/2, fake_results_df[\"anomaly\"]*100, w, label=\"Mesi falsi\")\n",
        "ax.axhline(2, color=\"r\", linestyle=\"--\", label=\"soglia 2%\")\n",
        "ax.set_xlabel(\"Numero di mesi nel training set\")\n",
        "ax.set_ylabel(\"Anomaly rate (%)\")\n",
        "ax.set_title(\"Confronto mesi reali vs mesi fake\")\n",
        "\n",
        "ax.set_xticks(x)\n",
        "ax.set_xticklabels(labels)\n",
        "ax.legend(loc=\"lower right\")\n",
        "ax.grid(axis=\"y\", linestyle=\":\", alpha=0.6)\n",
        "\n",
        "def add_labels(bars):\n",
        "  for bar in bars:\n",
        "    height = bar.get_height()\n",
        "    ax.text(\n",
        "        bar.get_x() + bar.get_width()/2,\n",
        "        height + 0.05,\n",
        "        f\"{height:.2f}\",\n",
        "        ha=\"center\",\n",
        "        va=\"bottom\",\n",
        "        fontsize=9,\n",
        "        color=\"white\",\n",
        "        bbox = dict(facecolor=\"black\", alpha=0.5, edgecolor=\"none\")\n",
        "    )\n",
        "\n",
        "add_labels(bars1)\n",
        "add_labels(bars2)\n",
        "plt.tight_layout()\n",
        "plt.show()"
      ],
      "metadata": {
        "id": "anwpLu-0PjuA"
      },
      "execution_count": null,
      "outputs": []
    },
    {
      "cell_type": "markdown",
      "source": [
        "# Deep Support Vector Data Description (SVDD)"
      ],
      "metadata": {
        "id": "EEOm051tLIkX"
      }
    },
    {
      "cell_type": "code",
      "source": [
        "import pandas as pd\n",
        "from sklearn.preprocessing import StandardScaler\n",
        "import numpy as np\n",
        "import matplotlib.pyplot as plt\n",
        "\n",
        "import tensorflow as tf\n",
        "from tensorflow import keras\n",
        "from tensorflow.keras import layers\n",
        "from tensorflow.keras.layers import Layer"
      ],
      "metadata": {
        "id": "xPL5oUQhdLzH"
      },
      "execution_count": null,
      "outputs": []
    },
    {
      "cell_type": "code",
      "source": [
        "df_original = pd.read_csv(\"/content/drive/MyDrive/data_no_temperature.csv\", encoding = \"utf-8\")\n",
        "df_original[\"timestamp\"] = pd.to_datetime(df_original[\"timestamp\"])\n",
        "df_original[\"timestamp\"] = df_original[\"timestamp\"].dt.tz_localize(None)\n",
        "df_original = df_original.sort_values(\"timestamp\")\n",
        "\n",
        "end = \"2025-01-01\"\n",
        "df = df_original[(df_original[\"timestamp\"] < end)]"
      ],
      "metadata": {
        "id": "_5HA2O_sdQ0-"
      },
      "execution_count": null,
      "outputs": []
    },
    {
      "cell_type": "code",
      "source": [
        "def build_svdd_model(input_dim, latent_dim=8):\n",
        "  inputs = layers.Input(shape=(input_dim,))\n",
        "  x = layers.Dense(32, activation=\"relu\")(inputs)\n",
        "  x = layers.Dense(16, activation=\"relu\")(x)\n",
        "  latent = layers.Dense(latent_dim, activation=None)(x)\n",
        "  model = models.Model(inputs, latent, name=\"DeepSVDD\")\n",
        "  return model\n",
        "\n",
        "def compute_center(model, X):\n",
        "  Z = model.predict(X, verbose=0)\n",
        "  c = np.mean(Z, axis=0)\n",
        "  return tf.constant(c, dtype=tf.float32)\n",
        "\n",
        "@tf.function\n",
        "def svdd_loss(model, x, c, nu=0.1):\n",
        "  z = model(x, training=True)\n",
        "  dist = tf.reduce_sum(tf.square(z - c), axis=1)\n",
        "  loss = tf.reduce_mean(dist)\n",
        "  return loss, dist\n",
        "\n",
        "def train_svdd(model, X_train, epochs=50, batch_size=64, lr=1e-4):\n",
        "  c = compute_center(model, X_train)\n",
        "  optimizer = tf.keras.optimizers.Adam(learning_rate=lr)\n",
        "  for epoch in range(epochs):\n",
        "    with tf.GradientTape() as tape:\n",
        "      loss, _ = svdd_loss(model, tf.constant(X_train, dtype=tf.float32), c)\n",
        "      grads = tape.gradient(loss, model.trainable_variables)\n",
        "      optimizer.apply_gradients(zip(grads, model.trainable_variables))\n",
        "      if epoch % 10 == 0:\n",
        "        print(f\"Epoch {epoch:03d} - Loss: {loss.numpy():.4f}\")\n",
        "        return c"
      ],
      "metadata": {
        "id": "erxXdNcYg2yc"
      },
      "execution_count": null,
      "outputs": []
    },
    {
      "cell_type": "code",
      "source": [
        "def create_fake_month(df, frac_per_month, random_state):\n",
        "  rng = np.random.default_rng(seed=random_state) # generatore casuale con seed\n",
        "  df[\"day\"] = df[\"timestamp\"].dt.floor(\"D\")\n",
        "  df[\"year_month\"] = df[\"timestamp\"].dt.to_period(\"M\")\n",
        "  train_indices = []\n",
        "\n",
        "  for ym, group in df.groupby(\"year_month\"):\n",
        "    days = group[\"day\"].unique()\n",
        "    n_take = max(1, int(len(days) * frac_per_month))\n",
        "    sampled_days = rng.choice(days, size=n_take, replace=False)\n",
        "    sel = group[group[\"day\"].isin(sampled_days)].index.tolist()\n",
        "    train_indices += sel\n",
        "\n",
        "  train_df = df.loc[train_indices].copy()\n",
        "  valid_df = df.drop(index=train_indices).copy()\n",
        "  train_df = train_df.drop(columns=[\"day\", \"year_month\"])\n",
        "  valid_df = valid_df.drop(columns=[\"day\", \"year_month\"])\n",
        "  train_df = train_df.sort_values(\"timestamp\")\n",
        "  valid_df = valid_df.sort_values(\"timestamp\")\n",
        "\n",
        "  return train_df, valid_df"
      ],
      "metadata": {
        "id": "FMB7k1bUdasW"
      },
      "execution_count": null,
      "outputs": []
    },
    {
      "cell_type": "markdown",
      "source": [
        "2 mesi di dati reali"
      ],
      "metadata": {
        "id": "J8OQSWloh9DC"
      }
    },
    {
      "cell_type": "code",
      "source": [
        "#parametri\n",
        "features = [\"Mode 1\", \"Mode 2\", \"Mode 3\", \"Mode 4\", \"Mode 5\", \"Mode 6\"]\n",
        "results = []\n",
        "window_size = 2\n",
        "n_months = 12\n",
        "start_date = df[\"timestamp\"].min()\n",
        "\n",
        "for m in range(1, n_months - window_size + 2):\n",
        "  train_start = start_date + pd.DateOffset(months=m-1)\n",
        "  train_end = start_date + pd.DateOffset(months=m-1+window_size)\n",
        "  train_data = df[(df[\"timestamp\"] >= train_start) & (df[\"timestamp\"] < train_end)]\n",
        "\n",
        "  val_data = df[~df[\"timestamp\"].isin(train_data[\"timestamp\"])]\n",
        "\n",
        "  # Preprocessing\n",
        "  scaler_X = StandardScaler()\n",
        "  X_train = scaler_X.fit_transform(train_data[features])\n",
        "  X_val = scaler_X.transform(val_data[features])\n",
        "\n",
        "  # Modello Deep SVDD\n",
        "  input_dim = X_train.shape[1]\n",
        "\n",
        "  model = build_svdd_model(input_dim=input_dim, latent_dim=8)\n",
        "  c = train_svdd(model, X_train, epochs=50, lr=1e-4)\n",
        "  Z_val = model.predict(X_val, verbose=0)\n",
        "  dist_val = np.sum((Z_val - c.numpy()) ** 2, axis=1)\n",
        "\n",
        "  threshold = dist_val.mean() + 3 * dist_val.std()\n",
        "  anomalies = dist_val > threshold\n",
        "  anomaly_rate = np.mean(anomalies)\n",
        "\n",
        "  train_months = sorted(train_data[\"timestamp\"].dt.to_period(\"M\").unique())\n",
        "  results.append({\"train_months\": [str(x) for x in train_months], \"window_size\": len(train_months), \"anomaly rate\": anomaly_rate})\n",
        "\n",
        "results_df_2m = pd.DataFrame(results)\n",
        "print(results_df_2m)"
      ],
      "metadata": {
        "id": "8P4CJF33L_0e"
      },
      "execution_count": null,
      "outputs": []
    },
    {
      "cell_type": "markdown",
      "source": [
        "4 mesi di dati reali"
      ],
      "metadata": {
        "id": "8O23-Yb5h5ua"
      }
    },
    {
      "cell_type": "code",
      "source": [
        "#parametri\n",
        "features = [\"Mode 1\", \"Mode 2\", \"Mode 3\", \"Mode 4\", \"Mode 5\", \"Mode 6\"]\n",
        "results = []\n",
        "window_size = 4\n",
        "n_months = 12\n",
        "start_date = df[\"timestamp\"].min()\n",
        "\n",
        "for m in range(1, n_months - window_size + 2):\n",
        "  train_start = start_date + pd.DateOffset(months=m-1)\n",
        "  train_end = start_date + pd.DateOffset(months=m-1+window_size)\n",
        "  train_data = df[(df[\"timestamp\"] >= train_start) & (df[\"timestamp\"] < train_end)]\n",
        "\n",
        "  val_data = df[~df[\"timestamp\"].isin(train_data[\"timestamp\"])]\n",
        "\n",
        "  # Preprocessing\n",
        "  scaler_X = StandardScaler()\n",
        "  X_train = scaler_X.fit_transform(train_data[features])\n",
        "  X_val = scaler_X.transform(val_data[features])\n",
        "\n",
        "  # Modello Deep SVDD\n",
        "  input_dim = X_train.shape[1]\n",
        "\n",
        "  model = build_svdd_model(input_dim=input_dim, latent_dim=8)\n",
        "  c = train_svdd(model, X_train, epochs=50, lr=1e-4)\n",
        "  Z_val = model.predict(X_val, verbose=0)\n",
        "  dist_val = np.sum((Z_val - c.numpy()) ** 2, axis=1)\n",
        "\n",
        "  threshold = dist_val.mean() + 3 * dist_val.std()\n",
        "  anomalies = dist_val > threshold\n",
        "  anomaly_rate = np.mean(anomalies)\n",
        "\n",
        "  train_months = sorted(train_data[\"timestamp\"].dt.to_period(\"M\").unique())\n",
        "  results.append({\"train_months\": [str(x) for x in train_months], \"window_size\": len(train_months), \"anomaly rate\": anomaly_rate})\n",
        "\n",
        "results_df_4m = pd.DataFrame(results)\n",
        "print(results_df_4m)"
      ],
      "metadata": {
        "id": "j7Ejzf3nhtO6"
      },
      "execution_count": null,
      "outputs": []
    },
    {
      "cell_type": "markdown",
      "source": [
        "6 mesi di dati reali"
      ],
      "metadata": {
        "id": "yycxUYMZh0ub"
      }
    },
    {
      "cell_type": "code",
      "source": [
        "#parametri\n",
        "features = [\"Mode 1\", \"Mode 2\", \"Mode 3\", \"Mode 4\", \"Mode 5\", \"Mode 6\"]\n",
        "results = []\n",
        "window_size = 6\n",
        "n_months = 12\n",
        "start_date = df[\"timestamp\"].min()\n",
        "\n",
        "for m in range(1, n_months - window_size + 2):\n",
        "  train_start = start_date + pd.DateOffset(months=m-1)\n",
        "  train_end = start_date + pd.DateOffset(months=m-1+window_size)\n",
        "  train_data = df[(df[\"timestamp\"] >= train_start) & (df[\"timestamp\"] < train_end)]\n",
        "\n",
        "  val_data = df[~df[\"timestamp\"].isin(train_data[\"timestamp\"])]\n",
        "\n",
        "  # Preprocessing\n",
        "  scaler_X = StandardScaler()\n",
        "  X_train = scaler_X.fit_transform(train_data[features])\n",
        "  X_val = scaler_X.transform(val_data[features])\n",
        "\n",
        "  # Modello Deep SVDD\n",
        "  input_dim = X_train.shape[1]\n",
        "\n",
        "  model = build_svdd_model(input_dim=input_dim, latent_dim=8)\n",
        "  c = train_svdd(model, X_train, epochs=50, lr=1e-4)\n",
        "  Z_val = model.predict(X_val, verbose=0)\n",
        "  dist_val = np.sum((Z_val - c.numpy()) ** 2, axis=1)\n",
        "\n",
        "  threshold = dist_val.mean() + 3 * dist_val.std()\n",
        "  anomalies = dist_val > threshold\n",
        "  anomaly_rate = np.mean(anomalies)\n",
        "\n",
        "  train_months = sorted(train_data[\"timestamp\"].dt.to_period(\"M\").unique())\n",
        "  results.append({\"train_months\": [str(x) for x in train_months], \"window_size\": len(train_months), \"anomaly rate\": anomaly_rate})\n",
        "\n",
        "results_df_6m = pd.DataFrame(results)\n",
        "print(results_df_6m)"
      ],
      "metadata": {
        "id": "j3IOnRuchxnC"
      },
      "execution_count": null,
      "outputs": []
    },
    {
      "cell_type": "markdown",
      "source": [
        "2 mesi di dati falsi"
      ],
      "metadata": {
        "id": "5LRll5iSivc5"
      }
    },
    {
      "cell_type": "code",
      "source": [
        "#parametri\n",
        "features = [\"Mode 1\", \"Mode 2\", \"Mode 3\", \"Mode 4\", \"Mode 5\", \"Mode 6\"]\n",
        "results_2m_fake = []\n",
        "train_df, valid_df = create_fake_month(df_original, frac_per_month=0.1, random_state=42)\n",
        "\n",
        "print(\"Giorni training:\", train_df[\"timestamp\"].dt.date.nunique())\n",
        "print(\"Giorni validation:\", valid_df[\"timestamp\"].dt.date.nunique())\n",
        "\n",
        "scaler_X = StandardScaler()\n",
        "X_train = scaler_X.fit_transform(train_df[features])\n",
        "X_val = scaler_X.transform(valid_df[features])\n",
        "\n",
        "# Modello Deep SVDD\n",
        "input_dim = X_train.shape[1]\n",
        "\n",
        "model = build_svdd_model(input_dim=input_dim, latent_dim=8)\n",
        "c = train_svdd(model, X_train, epochs=50, lr=1e-4)\n",
        "Z_val = model.predict(X_val, verbose=0)\n",
        "dist_val = np.sum((Z_val - c.numpy()) ** 2, axis=1)\n",
        "\n",
        "threshold = dist_val.mean() + 3 * dist_val.std()\n",
        "anomalies = dist_val > threshold\n",
        "anomaly_rate = np.mean(anomalies)\n",
        "\n",
        "\n",
        "results_2m_fake.append({\"window_size\": 2, \"anomaly\": anomaly_rate})\n",
        "\n",
        "results_df_2m_fake = pd.DataFrame(results_2m_fake)\n",
        "print(results_df_2m_fake)"
      ],
      "metadata": {
        "id": "oTOnEUDaixHv"
      },
      "execution_count": null,
      "outputs": []
    },
    {
      "cell_type": "markdown",
      "source": [
        "4 mesi di dati falsi"
      ],
      "metadata": {
        "id": "dlTzcvTKjnpz"
      }
    },
    {
      "cell_type": "code",
      "source": [
        "#parametri\n",
        "features = [\"Mode 1\", \"Mode 2\", \"Mode 3\", \"Mode 4\", \"Mode 5\", \"Mode 6\"]\n",
        "results_4m_fake = []\n",
        "train_df, valid_df = create_fake_month(df_original, frac_per_month=0.2, random_state=42)\n",
        "\n",
        "print(\"Giorni training:\", train_df[\"timestamp\"].dt.date.nunique())\n",
        "print(\"Giorni validation:\", valid_df[\"timestamp\"].dt.date.nunique())\n",
        "\n",
        "scaler_X = StandardScaler()\n",
        "X_train = scaler_X.fit_transform(train_df[features])\n",
        "X_val = scaler_X.transform(valid_df[features])\n",
        "\n",
        "# Modello Deep SVDD\n",
        "input_dim = X_train.shape[1]\n",
        "\n",
        "model = build_svdd_model(input_dim=input_dim, latent_dim=8)\n",
        "c = train_svdd(model, X_train, epochs=50, lr=1e-4)\n",
        "Z_val = model.predict(X_val, verbose=0)\n",
        "dist_val = np.sum((Z_val - c.numpy()) ** 2, axis=1)\n",
        "\n",
        "threshold = dist_val.mean() + 3 * dist_val.std()\n",
        "anomalies = dist_val > threshold\n",
        "anomaly_rate = np.mean(anomalies)\n",
        "\n",
        "\n",
        "results_4m_fake.append({\"window_size\": 4, \"anomaly\": anomaly_rate})\n",
        "\n",
        "results_df_4m_fake = pd.DataFrame(results_4m_fake)\n",
        "print(results_df_4m_fake)"
      ],
      "metadata": {
        "id": "qSneLV1AjTfU"
      },
      "execution_count": null,
      "outputs": []
    },
    {
      "cell_type": "markdown",
      "source": [
        "6 mesi di dati falsi"
      ],
      "metadata": {
        "id": "h7NWOaIrjkin"
      }
    },
    {
      "cell_type": "code",
      "source": [
        "#parametri\n",
        "features = [\"Mode 1\", \"Mode 2\", \"Mode 3\", \"Mode 4\", \"Mode 5\", \"Mode 6\"]\n",
        "results_6m_fake = []\n",
        "train_df, valid_df = create_fake_month(df_original, frac_per_month=0.3, random_state=42)\n",
        "\n",
        "print(\"Giorni training:\", train_df[\"timestamp\"].dt.date.nunique())\n",
        "print(\"Giorni validation:\", valid_df[\"timestamp\"].dt.date.nunique())\n",
        "\n",
        "scaler_X = StandardScaler()\n",
        "X_train = scaler_X.fit_transform(train_df[features])\n",
        "X_val = scaler_X.transform(valid_df[features])\n",
        "\n",
        "# Modello Deep SVDD\n",
        "input_dim = X_train.shape[1]\n",
        "\n",
        "model = build_svdd_model(input_dim=input_dim, latent_dim=8)\n",
        "c = train_svdd(model, X_train, epochs=50, lr=1e-4)\n",
        "Z_val = model.predict(X_val, verbose=0)\n",
        "dist_val = np.sum((Z_val - c.numpy()) ** 2, axis=1)\n",
        "\n",
        "threshold = dist_val.mean() + 3 * dist_val.std()\n",
        "anomalies = dist_val > threshold\n",
        "anomaly_rate = np.mean(anomalies)\n",
        "\n",
        "\n",
        "results_6m_fake.append({\"window_size\": 6, \"anomaly\": anomaly_rate})\n",
        "\n",
        "results_df_6m_fake = pd.DataFrame(results_6m_fake)\n",
        "print(results_df_6m_fake)"
      ],
      "metadata": {
        "id": "IXFoo7s1jb2g"
      },
      "execution_count": null,
      "outputs": []
    },
    {
      "cell_type": "code",
      "source": [
        "real_results_df = pd.concat([results_df_2m, results_df_4m, results_df_6m])\n",
        "real_mean = real_results_df.groupby(\"window_size\")[\"anomaly rate\"].mean().reset_index()\n",
        "\n",
        "fake_results_df = pd.concat([results_df_2m_fake, results_df_4m_fake, results_df_6m_fake])\n",
        "plt.figure(figsize=(8,5))\n",
        "plt.plot(real_mean[\"window_size\"], real_mean[\"anomaly rate\"]*100, \"o-\", label=\"Media mesi reali\")\n",
        "plt.plot(fake_results_df[\"window_size\"], fake_results_df[\"anomaly\"]*100, \"o-\", label=\"Mesi fake\")\n",
        "plt.axhline(2, color=\"r\", linestyle=\"--\", label=\"soglia 2%\")\n",
        "plt.xlabel(\"Numero di mesi nel training set\")\n",
        "plt.ylabel(\"Anomaly rate (%)\")\n",
        "plt.title(\"Confronto mesi reali vs mesi fake\")\n",
        "plt.legend()\n",
        "plt.grid(True)\n",
        "\n",
        "plt.show()"
      ],
      "metadata": {
        "id": "Z9eZU4CLjttz"
      },
      "execution_count": null,
      "outputs": []
    },
    {
      "cell_type": "code",
      "source": [
        "labels = [\"2 mesi\", \"4 mesi\", \"6 mesi\"]\n",
        "real_results_df = pd.concat([results_df_2m, results_df_4m, results_df_6m])\n",
        "real_mean = real_results_df.groupby(\"window_size\")[\"anomaly rate\"].mean().reset_index()\n",
        "real_std = real_results_df.groupby(\"window_size\")[\"anomaly rate\"].std().reset_index()\n",
        "\n",
        "fake_results_df = pd.concat([results_df_2m_fake, results_df_4m_fake, results_df_6m_fake])\n",
        "\n",
        "x = np.arange(len(labels))\n",
        "w = 0.35\n",
        "\n",
        "fig, ax = plt.subplots(figsize=(8, 5))\n",
        "bars1 = ax.bar(x - w/2, real_mean[\"anomaly rate\"]*100, w, yerr= real_std[\"anomaly rate\"]*100, label=\"Mesi reali consecutivi (media)\")\n",
        "bars2 = ax.bar(x + w/2, fake_results_df[\"anomaly\"]*100, w, label=\"Mesi falsi\")\n",
        "ax.axhline(2, color=\"r\", linestyle=\"--\", label=\"soglia 2%\")\n",
        "ax.set_xlabel(\"Numero di mesi nel training set\")\n",
        "ax.set_ylabel(\"Anomaly rate (%)\")\n",
        "ax.set_title(\"Confronto mesi reali vs mesi fake\")\n",
        "\n",
        "ax.set_xticks(x)\n",
        "ax.set_xticklabels(labels)\n",
        "ax.legend(loc=\"lower right\")\n",
        "ax.grid(axis=\"y\", linestyle=\":\", alpha=0.6)\n",
        "\n",
        "def add_labels(bars):\n",
        "  for bar in bars:\n",
        "    height = bar.get_height()\n",
        "    ax.text(\n",
        "        bar.get_x() + bar.get_width()/2,\n",
        "        height + 0.05,\n",
        "        f\"{height:.2f}\",\n",
        "        ha=\"center\",\n",
        "        va=\"bottom\",\n",
        "        fontsize=9,\n",
        "        color=\"white\",\n",
        "        bbox = dict(facecolor=\"black\", alpha=0.5, edgecolor=\"none\")\n",
        "    )\n",
        "\n",
        "add_labels(bars1)\n",
        "add_labels(bars2)\n",
        "plt.tight_layout()\n",
        "plt.show()"
      ],
      "metadata": {
        "id": "Tp9H0gQaj3kb"
      },
      "execution_count": null,
      "outputs": []
    }
  ]
}