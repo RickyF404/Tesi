{
  "nbformat": 4,
  "nbformat_minor": 0,
  "metadata": {
    "colab": {
      "provenance": [],
      "collapsed_sections": [
        "4qerfuZI-LzJ",
        "C9dNyHbV-Qdt",
        "rYuX6jqFomQi"
      ],
      "mount_file_id": "1un72486Jk0eN2GWB2oQD_n3EcI7-6Lw-",
      "authorship_tag": "ABX9TyP7TogddPNLdA8Wo6UnDPZK",
      "include_colab_link": true
    },
    "kernelspec": {
      "name": "python3",
      "display_name": "Python 3"
    },
    "language_info": {
      "name": "python"
    }
  },
  "cells": [
    {
      "cell_type": "markdown",
      "metadata": {
        "id": "view-in-github",
        "colab_type": "text"
      },
      "source": [
        "<a href=\"https://colab.research.google.com/github/RickyF404/Tesi/blob/main/Isolation_Forest.ipynb\" target=\"_parent\"><img src=\"https://colab.research.google.com/assets/colab-badge.svg\" alt=\"Open In Colab\"/></a>"
      ]
    },
    {
      "cell_type": "code",
      "execution_count": 1,
      "metadata": {
        "id": "KkjlszDs5Jda"
      },
      "outputs": [],
      "source": [
        "import pandas as pd\n",
        "from sklearn.preprocessing import StandardScaler\n",
        "from sklearn.ensemble import IsolationForest\n",
        "import numpy as np\n",
        "import matplotlib.pyplot as plt\n",
        "import gdown"
      ]
    },
    {
      "cell_type": "code",
      "source": [
        "url_no_temp = \"https://drive.google.com/uc?id=1jerpsOqjogEnnriBkHOrDDEeh1wJry_o\"\n",
        "output_no_temp = \"data_no_temperature.csv\"\n",
        "gdown.download(url_no_temp, output_no_temp)\n",
        "\n",
        "url_temp = \" https://drive.google.com/uc?id=1RofjUHZS_UAnbF6Xe74jTp9z4Mmk7swH\"\n",
        "output_temp = \"data_temperature.csv\"\n",
        "gdown.download(url_temp, output_temp)"
      ],
      "metadata": {
        "id": "xWXxk1NDFdgm",
        "colab": {
          "base_uri": "https://localhost:8080/",
          "height": 176
        },
        "outputId": "53d5e9af-5fa8-4c77-89ac-dd077c0802f4"
      },
      "execution_count": 2,
      "outputs": [
        {
          "output_type": "stream",
          "name": "stderr",
          "text": [
            "Downloading...\n",
            "From: https://drive.google.com/uc?id=1jerpsOqjogEnnriBkHOrDDEeh1wJry_o\n",
            "To: /content/data_no_temperature.csv\n",
            "100%|██████████| 1.44M/1.44M [00:00<00:00, 54.3MB/s]\n",
            "Downloading...\n",
            "From:  https://drive.google.com/uc?id=1RofjUHZS_UAnbF6Xe74jTp9z4Mmk7swH\n",
            "To: /content/data_temperature.csv\n",
            "100%|██████████| 1.66M/1.66M [00:00<00:00, 33.8MB/s]\n"
          ]
        },
        {
          "output_type": "execute_result",
          "data": {
            "text/plain": [
              "'data_temperature.csv'"
            ],
            "application/vnd.google.colaboratory.intrinsic+json": {
              "type": "string"
            }
          },
          "metadata": {},
          "execution_count": 2
        }
      ]
    },
    {
      "cell_type": "markdown",
      "source": [
        "# Dataset senza temperatura"
      ],
      "metadata": {
        "id": "4qerfuZI-LzJ"
      }
    },
    {
      "cell_type": "code",
      "source": [
        "df = pd.read_csv(\"/content/data_no_temperature.csv\", parse_dates=[\"timestamp\"])\n",
        "df = df.sort_values(\"timestamp\")\n",
        "df[\"month\"] = df[\"timestamp\"].dt.to_period(\"M\")\n",
        "months = sorted(df[\"month\"].unique())\n",
        "\n",
        "for i in range(1, len(months)):\n",
        "  train_months = months[:i]\n",
        "  val_months = months[i:]\n",
        "\n",
        "  train_data = df[df[\"month\"].isin(train_months)]\n",
        "  val_data = df[df[\"month\"].isin(val_months)]\n",
        "\n",
        "  #preprocessing\n",
        "  scaler = StandardScaler()\n",
        "  X_train = scaler.fit_transform(train_data.drop(columns = [\"timestamp\", \"month\"]))\n",
        "  X_val = scaler.transform(val_data.drop(columns = [\"timestamp\", \"month\"]))\n",
        "\n",
        "  iso = IsolationForest(\n",
        "      contamination=0.01,\n",
        "      random_state=42,\n",
        "      n_estimators = 200\n",
        "  )\n",
        "  iso.fit(X_train)\n",
        "\n",
        "  preds = iso.predict(X_val)\n",
        "  anomaly_rate = np.mean(preds == -1)*100\n",
        "  print(f\"Train su {i} mesi -> {anomaly_rate:.2f}% anomalie\")"
      ],
      "metadata": {
        "colab": {
          "base_uri": "https://localhost:8080/"
        },
        "id": "wLp8omGZ5O_f",
        "outputId": "5fe360a4-ed76-405a-bf39-6a60f9b59954"
      },
      "execution_count": null,
      "outputs": [
        {
          "output_type": "stream",
          "name": "stderr",
          "text": [
            "/tmp/ipython-input-1486964070.py:3: UserWarning: Converting to PeriodArray/Index representation will drop timezone information.\n",
            "  df[\"month\"] = df[\"timestamp\"].dt.to_period(\"M\")\n"
          ]
        },
        {
          "output_type": "stream",
          "name": "stdout",
          "text": [
            "Train su 1 mesi -> 23.39% anomalie\n",
            "Train su 2 mesi -> 25.32% anomalie\n",
            "Train su 3 mesi -> 26.31% anomalie\n",
            "Train su 4 mesi -> 19.52% anomalie\n",
            "Train su 5 mesi -> 12.25% anomalie\n",
            "Train su 6 mesi -> 7.44% anomalie\n",
            "Train su 7 mesi -> 5.60% anomalie\n",
            "Train su 8 mesi -> 1.73% anomalie\n",
            "Train su 9 mesi -> 0.85% anomalie\n",
            "Train su 10 mesi -> 0.89% anomalie\n",
            "Train su 11 mesi -> 0.89% anomalie\n",
            "Train su 12 mesi -> 0.87% anomalie\n",
            "Train su 13 mesi -> 1.21% anomalie\n",
            "Train su 14 mesi -> 1.35% anomalie\n",
            "Train su 15 mesi -> 1.49% anomalie\n",
            "Train su 16 mesi -> 2.23% anomalie\n",
            "Train su 17 mesi -> 3.11% anomalie\n",
            "Train su 18 mesi -> 4.01% anomalie\n",
            "Train su 19 mesi -> 4.85% anomalie\n"
          ]
        }
      ]
    },
    {
      "cell_type": "markdown",
      "source": [
        "# Dataset con temperatura"
      ],
      "metadata": {
        "id": "C9dNyHbV-Qdt"
      }
    },
    {
      "cell_type": "code",
      "source": [
        "df = pd.read_csv(\"/content/data_temperature.csv\", parse_dates=[\"timestamp\"])\n",
        "df = df.sort_values(\"timestamp\")\n",
        "df[\"month\"] = df[\"timestamp\"].dt.to_period(\"M\")\n",
        "months = sorted(df[\"month\"].unique())\n",
        "\n",
        "for i in range(1, len(months)):\n",
        "  train_months = months[:i]\n",
        "  val_months = months[i:]\n",
        "\n",
        "  train_data = df[df[\"month\"].isin(train_months)]\n",
        "  val_data = df[df[\"month\"].isin(val_months)]\n",
        "\n",
        "  #preprocessing\n",
        "  scaler = StandardScaler()\n",
        "  X_train = scaler.fit_transform(train_data.drop(columns = [\"timestamp\", \"month\"]))\n",
        "  X_val = scaler.transform(val_data.drop(columns = [\"timestamp\", \"month\"]))\n",
        "\n",
        "  iso = IsolationForest(\n",
        "      contamination=0.01,\n",
        "      random_state=42,\n",
        "      n_estimators = 200\n",
        "  )\n",
        "  iso.fit(X_train)\n",
        "\n",
        "  preds = iso.predict(X_val)\n",
        "  anomaly_rate = np.mean(preds == -1)*100\n",
        "  print(f\"Train su {i} mesi -> {anomaly_rate:.2f}% anomalie\")"
      ],
      "metadata": {
        "colab": {
          "base_uri": "https://localhost:8080/"
        },
        "id": "n2PSBfAu-I_q",
        "outputId": "c4f5e8ac-c605-4ff4-b6e5-de938e64c95a"
      },
      "execution_count": null,
      "outputs": [
        {
          "output_type": "stream",
          "name": "stderr",
          "text": [
            "/tmp/ipython-input-2581415040.py:3: UserWarning: Converting to PeriodArray/Index representation will drop timezone information.\n",
            "  df[\"month\"] = df[\"timestamp\"].dt.to_period(\"M\")\n"
          ]
        },
        {
          "output_type": "stream",
          "name": "stdout",
          "text": [
            "Train su 1 mesi -> 41.07% anomalie\n",
            "Train su 2 mesi -> 45.09% anomalie\n",
            "Train su 3 mesi -> 49.17% anomalie\n",
            "Train su 4 mesi -> 32.08% anomalie\n",
            "Train su 5 mesi -> 20.87% anomalie\n",
            "Train su 6 mesi -> 11.49% anomalie\n",
            "Train su 7 mesi -> 6.00% anomalie\n",
            "Train su 8 mesi -> 1.56% anomalie\n",
            "Train su 9 mesi -> 0.93% anomalie\n",
            "Train su 10 mesi -> 1.13% anomalie\n",
            "Train su 11 mesi -> 0.99% anomalie\n",
            "Train su 12 mesi -> 1.08% anomalie\n",
            "Train su 13 mesi -> 1.39% anomalie\n",
            "Train su 14 mesi -> 1.52% anomalie\n",
            "Train su 15 mesi -> 1.74% anomalie\n",
            "Train su 16 mesi -> 2.45% anomalie\n",
            "Train su 17 mesi -> 3.95% anomalie\n",
            "Train su 18 mesi -> 5.45% anomalie\n",
            "Train su 19 mesi -> 2.93% anomalie\n"
          ]
        }
      ]
    },
    {
      "cell_type": "markdown",
      "source": [
        "# Finestre temporali senza temperatura"
      ],
      "metadata": {
        "id": "mZ4zCEUSnlVz"
      }
    },
    {
      "cell_type": "code",
      "source": [
        "df_original = pd.read_csv(\"/content/data_no_temperature.csv\", encoding = \"utf-8\")\n",
        "df_original[\"timestamp\"] = pd.to_datetime(df_original[\"timestamp\"])\n",
        "df_original[\"timestamp\"] = df_original[\"timestamp\"].dt.tz_localize(None)\n",
        "df_original = df_original.sort_values(\"timestamp\")\n",
        "\n",
        "end = \"2025-01-01\"\n",
        "df = df_original[(df_original[\"timestamp\"] < end)]"
      ],
      "metadata": {
        "id": "97VbZyS1nru_"
      },
      "execution_count": 3,
      "outputs": []
    },
    {
      "cell_type": "code",
      "source": [
        "def anomaly_rate_IF(train_df, valid_df, features):\n",
        "  scaler = StandardScaler()\n",
        "  # scaler = RobustScaler()\n",
        "  X_train = scaler.fit_transform(train_df[features])\n",
        "  X_val = scaler.transform(valid_df[features])\n",
        "\n",
        "  iso = IsolationForest(\n",
        "      contamination=0.01,\n",
        "      random_state=42,\n",
        "      n_estimators = 200\n",
        "  )\n",
        "  iso.fit(X_train)\n",
        "\n",
        "  preds = iso.predict(X_val)\n",
        "  anomaly_rate = np.mean(preds == -1)\n",
        "  return anomaly_rate"
      ],
      "metadata": {
        "id": "i6wOpTsqnww8"
      },
      "execution_count": 4,
      "outputs": []
    },
    {
      "cell_type": "code",
      "source": [
        "def create_fake_month(df, frac_per_month, random_state):\n",
        "  rng = np.random.default_rng(seed=random_state) # generatore casuale con seed\n",
        "  df[\"day\"] = df[\"timestamp\"].dt.floor(\"D\")\n",
        "  df[\"year_month\"] = df[\"timestamp\"].dt.to_period(\"M\")\n",
        "  train_indices = []\n",
        "\n",
        "  for ym, group in df.groupby(\"year_month\"):\n",
        "    days = group[\"day\"].unique()\n",
        "    n_take = max(1, int(len(days) * frac_per_month))\n",
        "    sampled_days = rng.choice(days, size=n_take, replace=False)\n",
        "    sel = group[group[\"day\"].isin(sampled_days)].index.tolist()\n",
        "    train_indices += sel\n",
        "\n",
        "  train_df = df.loc[train_indices].copy()\n",
        "  valid_df = df.drop(index=train_indices).copy()\n",
        "  train_df = train_df.drop(columns=[\"day\", \"year_month\"])\n",
        "  valid_df = valid_df.drop(columns=[\"day\", \"year_month\"])\n",
        "  train_df = train_df.sort_values(\"timestamp\")\n",
        "  valid_df = valid_df.sort_values(\"timestamp\")\n",
        "\n",
        "  return train_df, valid_df"
      ],
      "metadata": {
        "id": "nUjdqBTMnzyh"
      },
      "execution_count": 5,
      "outputs": []
    },
    {
      "cell_type": "markdown",
      "source": [
        "2 mesi di dati reali"
      ],
      "metadata": {
        "id": "_aM_vaF8n3oc"
      }
    },
    {
      "cell_type": "code",
      "source": [
        "#parametri\n",
        "features = [\"Mode 1\", \"Mode 2\", \"Mode 3\", \"Mode 4\", \"Mode 5\", \"Mode 6\"]\n",
        "results = []\n",
        "window_size = 2\n",
        "n_months = 12\n",
        "start_date = df[\"timestamp\"].min()\n",
        "\n",
        "for m in range(1, n_months - window_size + 2):\n",
        "  train_start = start_date + pd.DateOffset(months=m-1)\n",
        "  train_end = start_date + pd.DateOffset(months=m-1+window_size)\n",
        "  train_df = df[(df[\"timestamp\"] >= train_start) & (df[\"timestamp\"] < train_end)]\n",
        "\n",
        "  valid_df = df[~df[\"timestamp\"].isin(train_df[\"timestamp\"])]\n",
        "\n",
        "  anomaly = anomaly_rate_IF(train_df, valid_df, features)\n",
        "\n",
        "  train_months = sorted(train_df[\"timestamp\"].dt.to_period(\"M\").unique())\n",
        "\n",
        "  results.append({\"train_months\": [str(x) for x in train_months], \"window_size\": len(train_months), \"anomaly rate\": anomaly})\n",
        "\n",
        "results_df_2m = pd.DataFrame(results)\n",
        "print(results_df_2m)"
      ],
      "metadata": {
        "colab": {
          "base_uri": "https://localhost:8080/"
        },
        "id": "h-LIYhVXn5fG",
        "outputId": "ea7a39fd-5c49-4de1-d41c-dd2395ecc77b"
      },
      "execution_count": 6,
      "outputs": [
        {
          "output_type": "stream",
          "name": "stdout",
          "text": [
            "          train_months  window_size  anomaly rate\n",
            "0   [2024-01, 2024-02]            2      0.259745\n",
            "1   [2024-02, 2024-03]            2      0.233468\n",
            "2   [2024-03, 2024-04]            2      0.113503\n",
            "3   [2024-04, 2024-05]            2      0.063259\n",
            "4   [2024-05, 2024-06]            2      0.046717\n",
            "5   [2024-06, 2024-07]            2      0.043528\n",
            "6   [2024-07, 2024-08]            2      0.055421\n",
            "7   [2024-08, 2024-09]            2      0.069045\n",
            "8   [2024-09, 2024-10]            2      0.179678\n",
            "9   [2024-10, 2024-11]            2      0.079483\n",
            "10  [2024-11, 2024-12]            2      0.067302\n"
          ]
        }
      ]
    },
    {
      "cell_type": "markdown",
      "source": [
        "4 mesi di dati reali"
      ],
      "metadata": {
        "id": "qsMH73i-oE7B"
      }
    },
    {
      "cell_type": "code",
      "source": [
        "#parametri\n",
        "features = [\"Mode 1\", \"Mode 2\", \"Mode 3\", \"Mode 4\", \"Mode 5\", \"Mode 6\"]\n",
        "results = []\n",
        "window_size = 4\n",
        "n_months = 12\n",
        "start_date = df[\"timestamp\"].min()\n",
        "\n",
        "for m in range(1, n_months - window_size + 2):\n",
        "  train_start = start_date + pd.DateOffset(months=m-1)\n",
        "  train_end = start_date + pd.DateOffset(months=m-1+window_size)\n",
        "  train_df = df[(df[\"timestamp\"] >= train_start) & (df[\"timestamp\"] < train_end)]\n",
        "\n",
        "  valid_df = df[~df[\"timestamp\"].isin(train_df[\"timestamp\"])]\n",
        "\n",
        "  anomaly = anomaly_rate_IF(train_df, valid_df, features)\n",
        "\n",
        "  train_months = sorted(train_df[\"timestamp\"].dt.to_period(\"M\").unique())\n",
        "\n",
        "  results.append({\"train_months\": [str(x) for x in train_months] , \"window_size\": len(train_months), \"anomaly rate\": anomaly})\n",
        "\n",
        "results_df_4m = pd.DataFrame(results)\n",
        "print(results_df_4m)"
      ],
      "metadata": {
        "colab": {
          "base_uri": "https://localhost:8080/"
        },
        "id": "9yuNt5d2oHNh",
        "outputId": "7076b95c-d9b1-4e0e-e116-b2cc7abce643"
      },
      "execution_count": 7,
      "outputs": [
        {
          "output_type": "stream",
          "name": "stdout",
          "text": [
            "                           train_months  window_size  anomaly rate\n",
            "0  [2024-01, 2024-02, 2024-03, 2024-04]            4      0.213414\n",
            "1  [2024-02, 2024-03, 2024-04, 2024-05]            4      0.117452\n",
            "2  [2024-03, 2024-04, 2024-05, 2024-06]            4      0.056140\n",
            "3  [2024-04, 2024-05, 2024-06, 2024-07]            4      0.043093\n",
            "4  [2024-05, 2024-06, 2024-07, 2024-08]            4      0.034834\n",
            "5  [2024-06, 2024-07, 2024-08, 2024-09]            4      0.037888\n",
            "6  [2024-07, 2024-08, 2024-09, 2024-10]            4      0.077449\n",
            "7  [2024-08, 2024-09, 2024-10, 2024-11]            4      0.052235\n",
            "8  [2024-09, 2024-10, 2024-11, 2024-12]            4      0.026324\n"
          ]
        }
      ]
    },
    {
      "cell_type": "markdown",
      "source": [
        "6 mesi di dati reali"
      ],
      "metadata": {
        "id": "H_P4c9cGoIUZ"
      }
    },
    {
      "cell_type": "code",
      "source": [
        "#parametri\n",
        "features = [\"Mode 1\", \"Mode 2\", \"Mode 3\", \"Mode 4\", \"Mode 5\", \"Mode 6\"]\n",
        "results = []\n",
        "window_size = 6\n",
        "n_months = 12\n",
        "start_date = df[\"timestamp\"].min()\n",
        "\n",
        "for m in range(1, n_months - window_size + 2):\n",
        "  train_start = start_date + pd.DateOffset(months=m-1)\n",
        "  train_end = start_date + pd.DateOffset(months=m-1+window_size)\n",
        "  train_df = df[(df[\"timestamp\"] >= train_start) & (df[\"timestamp\"] < train_end)]\n",
        "\n",
        "  valid_df = df[~df[\"timestamp\"].isin(train_df[\"timestamp\"])]\n",
        "\n",
        "  anomaly = anomaly_rate_IF(train_df, valid_df, features)\n",
        "\n",
        "  train_months = sorted(train_df[\"timestamp\"].dt.to_period(\"M\").unique())\n",
        "\n",
        "  results.append({\"train_months\": [str(x) for x in train_months], \"window_size\": len(train_months) , \"anomaly rate\": anomaly})\n",
        "\n",
        "results_df_6m = pd.DataFrame(results)\n",
        "print(results_df_6m)"
      ],
      "metadata": {
        "colab": {
          "base_uri": "https://localhost:8080/"
        },
        "id": "tyMjehYGoJ9f",
        "outputId": "5b350120-f263-419b-fb36-016c6ca701e8"
      },
      "execution_count": 8,
      "outputs": [
        {
          "output_type": "stream",
          "name": "stdout",
          "text": [
            "                                        train_months  window_size  \\\n",
            "0  [2024-01, 2024-02, 2024-03, 2024-04, 2024-05, ...            6   \n",
            "1  [2024-02, 2024-03, 2024-04, 2024-05, 2024-06, ...            6   \n",
            "2  [2024-03, 2024-04, 2024-05, 2024-06, 2024-07, ...            6   \n",
            "3  [2024-04, 2024-05, 2024-06, 2024-07, 2024-08, ...            6   \n",
            "4  [2024-05, 2024-06, 2024-07, 2024-08, 2024-09, ...            6   \n",
            "5  [2024-06, 2024-07, 2024-08, 2024-09, 2024-10, ...            6   \n",
            "6  [2024-07, 2024-08, 2024-09, 2024-10, 2024-11, ...            6   \n",
            "\n",
            "   anomaly rate  \n",
            "0      0.092659  \n",
            "1      0.065240  \n",
            "2      0.016442  \n",
            "3      0.018987  \n",
            "4      0.059048  \n",
            "5      0.057741  \n",
            "6      0.017788  \n"
          ]
        }
      ]
    },
    {
      "cell_type": "markdown",
      "source": [
        "2 mesi di dati falsi"
      ],
      "metadata": {
        "id": "caqRjhhKovO6"
      }
    },
    {
      "cell_type": "code",
      "source": [
        "#parametri\n",
        "features = [\"Mode 1\", \"Mode 2\", \"Mode 3\", \"Mode 4\", \"Mode 5\", \"Mode 6\"]\n",
        "results_2m_fake = []\n",
        "train_df, valid_df = create_fake_month(df_original, frac_per_month=0.1, random_state=42)\n",
        "\n",
        "print(\"Giorni training:\", train_df[\"timestamp\"].dt.date.nunique())\n",
        "print(\"Giorni validation:\", valid_df[\"timestamp\"].dt.date.nunique())\n",
        "\n",
        "anomaly = anomaly_rate_IF(train_df, valid_df, features)\n",
        "results_2m_fake.append({\"window_size\": 2, \"anomaly\": anomaly})\n",
        "\n",
        "results_df_2m_fake = pd.DataFrame(results_2m_fake)\n",
        "print(results_df_2m_fake)"
      ],
      "metadata": {
        "colab": {
          "base_uri": "https://localhost:8080/"
        },
        "id": "GMv-FzwLowvm",
        "outputId": "36e5cb5c-53b0-4a9c-bfd4-ed7aac2329f9"
      },
      "execution_count": 9,
      "outputs": [
        {
          "output_type": "stream",
          "name": "stdout",
          "text": [
            "Giorni training: 57\n",
            "Giorni validation: 547\n",
            "   window_size   anomaly\n",
            "0            2  0.008846\n"
          ]
        }
      ]
    },
    {
      "cell_type": "markdown",
      "source": [
        "4 mesi di dati falsi"
      ],
      "metadata": {
        "id": "6u8Mk24Ro0tD"
      }
    },
    {
      "cell_type": "code",
      "source": [
        "#parametri\n",
        "features = [\"Mode 1\", \"Mode 2\", \"Mode 3\", \"Mode 4\", \"Mode 5\", \"Mode 6\"]\n",
        "results_4m_fake = []\n",
        "train_df, valid_df = create_fake_month(df_original, frac_per_month=0.2, random_state=42)\n",
        "\n",
        "print(\"Giorni training:\", train_df[\"timestamp\"].dt.date.nunique())\n",
        "print(\"Giorni validation:\", valid_df[\"timestamp\"].dt.date.nunique())\n",
        "\n",
        "anomaly = anomaly_rate_IF(train_df, valid_df, features)\n",
        "results_4m_fake.append({\"window_size\": 4, \"anomaly\": anomaly})\n",
        "\n",
        "results_df_4m_fake = pd.DataFrame(results_4m_fake)\n",
        "print(results_df_4m_fake)"
      ],
      "metadata": {
        "colab": {
          "base_uri": "https://localhost:8080/"
        },
        "id": "BohQouEMo2Qv",
        "outputId": "d559ed02-796f-4445-ded8-2a931d204ce8"
      },
      "execution_count": 10,
      "outputs": [
        {
          "output_type": "stream",
          "name": "stdout",
          "text": [
            "Giorni training: 117\n",
            "Giorni validation: 487\n",
            "   window_size   anomaly\n",
            "0            4  0.005937\n"
          ]
        }
      ]
    },
    {
      "cell_type": "markdown",
      "source": [
        "6 mesi di dati falsi"
      ],
      "metadata": {
        "id": "H-3fmMnvpLRN"
      }
    },
    {
      "cell_type": "code",
      "source": [
        "#parametri\n",
        "features = [\"Mode 1\", \"Mode 2\", \"Mode 3\", \"Mode 4\", \"Mode 5\", \"Mode 6\"]\n",
        "results_6m_fake =[]\n",
        "train_df, valid_df = create_fake_month(df_original, frac_per_month=0.3, random_state=42)\n",
        "\n",
        "print(\"Giorni training:\", train_df[\"timestamp\"].dt.date.nunique())\n",
        "print(\"Giorni validation:\", valid_df[\"timestamp\"].dt.date.nunique())\n",
        "\n",
        "anomaly = anomaly_rate_IF(train_df, valid_df, features)\n",
        "results_6m_fake.append({\"window_size\": 6, \"anomaly\": anomaly})\n",
        "\n",
        "results_df_6m_fake = pd.DataFrame(results_6m_fake)\n",
        "print(results_df_6m_fake)"
      ],
      "metadata": {
        "colab": {
          "base_uri": "https://localhost:8080/"
        },
        "id": "qOCJOHnOpMqq",
        "outputId": "5ee88d08-8ad2-450d-d1fd-27d751d7c307"
      },
      "execution_count": 11,
      "outputs": [
        {
          "output_type": "stream",
          "name": "stdout",
          "text": [
            "Giorni training: 177\n",
            "Giorni validation: 427\n",
            "   window_size   anomaly\n",
            "0            6  0.010296\n"
          ]
        }
      ]
    },
    {
      "cell_type": "code",
      "source": [
        "real_results_df = pd.concat([results_df_2m, results_df_4m, results_df_6m])\n",
        "real_mean = real_results_df.groupby(\"window_size\")[\"anomaly rate\"].mean().reset_index()\n",
        "\n",
        "fake_results_df = pd.concat([results_df_2m_fake, results_df_4m_fake, results_df_6m_fake])\n",
        "plt.figure(figsize=(8,5))\n",
        "plt.plot(real_mean[\"window_size\"], real_mean[\"anomaly rate\"]*100, \"o-\", label=\"Media mesi reali\")\n",
        "plt.plot(fake_results_df[\"window_size\"], fake_results_df[\"anomaly\"]*100, \"o-\", label=\"Mesi fake\")\n",
        "plt.axhline(2, color=\"r\", linestyle=\"--\", label=\"soglia 2%\")\n",
        "plt.xlabel(\"Numero di mesi nel training set\")\n",
        "plt.ylabel(\"Anomaly rate (%)\")\n",
        "plt.title(\"Confronto mesi reali vs mesi fake\")\n",
        "plt.legend()\n",
        "plt.grid(True)\n",
        "\n",
        "plt.show()"
      ],
      "metadata": {
        "colab": {
          "base_uri": "https://localhost:8080/",
          "height": 487
        },
        "id": "Wjq5iYiO01e6",
        "outputId": "d5afe500-b35b-4f85-e1ec-6b11a0253f8b"
      },
      "execution_count": 12,
      "outputs": [
        {
          "output_type": "display_data",
          "data": {
            "text/plain": [
              "<Figure size 800x500 with 1 Axes>"
            ],
            "image/png": "[encoded data removed]"
          },
          "metadata": {}
        }
      ]
    },
    {
      "cell_type": "code",
      "source": [
        "labels = [\"2 mesi\", \"4 mesi\", \"6 mesi\"]\n",
        "real_results_df = pd.concat([results_df_2m, results_df_4m, results_df_6m])\n",
        "# salvataggio dei risultati\n",
        "# real_results_df.to_csv(\"/content/drive/MyDrive/IF_real.csv\", index=False)\n",
        "real_mean = real_results_df.groupby(\"window_size\")[\"anomaly rate\"].mean().reset_index()\n",
        "real_std = real_results_df.groupby(\"window_size\")[\"anomaly rate\"].std().reset_index()\n",
        "\n",
        "fake_results_df = pd.concat([results_df_2m_fake, results_df_4m_fake, results_df_6m_fake])\n",
        "#salvataggio risultati\n",
        "# fake_results_df.to_csv(\"/content/drive/MyDrive/IF_fake.csv\", index=False)\n",
        "\n",
        "x = np.arange(len(labels))\n",
        "w = 0.35\n",
        "\n",
        "fig, ax = plt.subplots(figsize=(8, 5))\n",
        "bars1 = ax.bar(x - w/2, real_mean[\"anomaly rate\"]*100, w, yerr= real_std[\"anomaly rate\"]*100, label=\"Mesi reali consecutivi (media)\")\n",
        "bars2 = ax.bar(x + w/2, fake_results_df[\"anomaly\"]*100, w, label=\"Mesi falsi\")\n",
        "ax.axhline(2, color=\"r\", linestyle=\"--\", label=\"soglia 2%\")\n",
        "ax.set_xlabel(\"Numero di mesi nel training set\")\n",
        "ax.set_ylabel(\"Anomaly rate (%)\")\n",
        "ax.set_title(\"Confronto mesi reali vs mesi fake\")\n",
        "\n",
        "ax.set_xticks(x)\n",
        "ax.set_xticklabels(labels)\n",
        "ax.legend()\n",
        "ax.grid(axis=\"y\", linestyle=\":\", alpha=0.6)\n",
        "\n",
        "def add_labels(bars):\n",
        "  for bar in bars:\n",
        "    height = bar.get_height()\n",
        "    ax.text(\n",
        "        bar.get_x() + bar.get_width()/2,\n",
        "        height + 0.4,\n",
        "        f\"{height:.2f}\",\n",
        "        ha=\"center\",\n",
        "        va=\"bottom\",\n",
        "        fontsize=9,\n",
        "        color=\"white\",\n",
        "        bbox = dict(facecolor=\"black\", alpha=0.5, edgecolor=\"none\")\n",
        "    )\n",
        "\n",
        "add_labels(bars1)\n",
        "add_labels(bars2)\n",
        "plt.tight_layout()\n",
        "plt.show()"
      ],
      "metadata": {
        "colab": {
          "base_uri": "https://localhost:8080/",
          "height": 507
        },
        "id": "kXYmgx-B09Rc",
        "outputId": "f4eaaea8-349d-43b2-e379-56bfb4cce623"
      },
      "execution_count": 13,
      "outputs": [
        {
          "output_type": "display_data",
          "data": {
            "text/plain": [
              "<Figure size 800x500 with 1 Axes>"
            ],
            "image/png": "[encoded data removed]"
          },
          "metadata": {}
        }
      ]
    },
    {
      "cell_type": "markdown",
      "source": [
        "# Finestre temporali con temperatura"
      ],
      "metadata": {
        "id": "rYuX6jqFomQi"
      }
    },
    {
      "cell_type": "code",
      "source": [
        "df_temp = pd.read_csv(\"/content/data_temperature.csv\", encoding = \"utf-8\")\n",
        "df_temp[\"timestamp\"] = pd.to_datetime(df_temp[\"timestamp\"])\n",
        "df_temp[\"timestamp\"] = df_temp[\"timestamp\"].dt.tz_localize(None)\n",
        "df_temp = df_temp.sort_values(\"timestamp\")\n",
        "\n",
        "end = \"2025-01-01\"\n",
        "new_df = df_temp[(df_temp[\"timestamp\"] < end)]"
      ],
      "metadata": {
        "id": "APnG58N1oq6k"
      },
      "execution_count": null,
      "outputs": []
    },
    {
      "cell_type": "code",
      "source": [
        "#parametri\n",
        "features = [\"Mode 1\", \"Mode 2\", \"Mode 3\", \"Mode 4\", \"Mode 5\", \"Mode 6\", \"temperatura\"]\n",
        "results = []\n",
        "window_size = 2\n",
        "n_months = 12\n",
        "start_date = new_df[\"timestamp\"].min()\n",
        "\n",
        "for m in range(1, n_months - window_size + 2):\n",
        "  train_start = start_date + pd.DateOffset(months=m-1)\n",
        "  train_end = start_date + pd.DateOffset(months=m-1+window_size)\n",
        "  train_df = new_df[(new_df[\"timestamp\"] >= train_start) & (new_df[\"timestamp\"] < train_end)]\n",
        "\n",
        "  valid_df = new_df[~new_df[\"timestamp\"].isin(train_df[\"timestamp\"])]\n",
        "\n",
        "  anomaly = anomaly_rate_IF(train_df, valid_df, features)\n",
        "\n",
        "  train_months = sorted(train_df[\"timestamp\"].dt.to_period(\"M\").unique())\n",
        "\n",
        "  results.append({\"train_months\": [str(x) for x in train_months] , \"anomaly rate\": anomaly})\n",
        "\n",
        "results_df = pd.DataFrame(results)\n",
        "print(results_df)"
      ],
      "metadata": {
        "colab": {
          "base_uri": "https://localhost:8080/"
        },
        "id": "Y4bXY08Jpc70",
        "outputId": "66671ac1-b343-43b8-a636-2faf0c7f6ce5"
      },
      "execution_count": null,
      "outputs": [
        {
          "output_type": "stream",
          "name": "stdout",
          "text": [
            "          train_months  anomaly rate\n",
            "0   [2024-01, 2024-02]      0.476306\n",
            "1   [2024-02, 2024-03]      0.512034\n",
            "2   [2024-03, 2024-04]      0.221146\n",
            "3   [2024-04, 2024-05]      0.108626\n",
            "4   [2024-05, 2024-06]      0.117496\n",
            "5   [2024-06, 2024-07]      0.178173\n",
            "6   [2024-07, 2024-08]      0.317020\n",
            "7   [2024-08, 2024-09]      0.272472\n",
            "8   [2024-09, 2024-10]      0.244945\n",
            "9   [2024-10, 2024-11]      0.136695\n",
            "10  [2024-11, 2024-12]      0.167289\n"
          ]
        }
      ]
    },
    {
      "cell_type": "code",
      "source": [
        "#parametri\n",
        "features = [\"Mode 1\", \"Mode 2\", \"Mode 3\", \"Mode 4\", \"Mode 5\", \"Mode 6\", \"temperatura\"]\n",
        "results = []\n",
        "window_size = 4\n",
        "n_months = 12\n",
        "start_date = new_df[\"timestamp\"].min()\n",
        "\n",
        "for m in range(1, n_months - window_size + 2):\n",
        "  train_start = start_date + pd.DateOffset(months=m-1)\n",
        "  train_end = start_date + pd.DateOffset(months=m-1+window_size)\n",
        "  train_df = new_df[(new_df[\"timestamp\"] >= train_start) & (new_df[\"timestamp\"] < train_end)]\n",
        "\n",
        "  valid_df = new_df[~new_df[\"timestamp\"].isin(train_df[\"timestamp\"])]\n",
        "\n",
        "  anomaly = anomaly_rate_IF(train_df, valid_df, features)\n",
        "\n",
        "  train_months = sorted(train_df[\"timestamp\"].dt.to_period(\"M\").unique())\n",
        "\n",
        "  results.append({\"train_months\": [str(x) for x in train_months] , \"anomaly rate\": anomaly})\n",
        "\n",
        "results_df = pd.DataFrame(results)\n",
        "print(results_df)"
      ],
      "metadata": {
        "colab": {
          "base_uri": "https://localhost:8080/"
        },
        "id": "4WYFCtQIqX6g",
        "outputId": "61ce366a-9623-4652-ecb6-830cc2084627"
      },
      "execution_count": null,
      "outputs": [
        {
          "output_type": "stream",
          "name": "stdout",
          "text": [
            "                           train_months  anomaly rate\n",
            "0  [2024-01, 2024-02, 2024-03, 2024-04]      0.350404\n",
            "1  [2024-02, 2024-03, 2024-04, 2024-05]      0.168511\n",
            "2  [2024-03, 2024-04, 2024-05, 2024-06]      0.090750\n",
            "3  [2024-04, 2024-05, 2024-06, 2024-07]      0.063371\n",
            "4  [2024-05, 2024-06, 2024-07, 2024-08]      0.147765\n",
            "5  [2024-06, 2024-07, 2024-08, 2024-09]      0.246988\n",
            "6  [2024-07, 2024-08, 2024-09, 2024-10]      0.222805\n",
            "7  [2024-08, 2024-09, 2024-10, 2024-11]      0.106714\n",
            "8  [2024-09, 2024-10, 2024-11, 2024-12]      0.048773\n"
          ]
        }
      ]
    },
    {
      "cell_type": "code",
      "source": [
        "#parametri\n",
        "features = [\"Mode 1\", \"Mode 2\", \"Mode 3\", \"Mode 4\", \"Mode 5\", \"Mode 6\", \"temperatura\"]\n",
        "results = []\n",
        "window_size = 6\n",
        "n_months = 12\n",
        "start_date = new_df[\"timestamp\"].min()\n",
        "\n",
        "for m in range(1, n_months - window_size + 2):\n",
        "  train_start = start_date + pd.DateOffset(months=m-1)\n",
        "  train_end = start_date + pd.DateOffset(months=m-1+window_size)\n",
        "  train_df = new_df[(new_df[\"timestamp\"] >= train_start) & (new_df[\"timestamp\"] < train_end)]\n",
        "\n",
        "  valid_df = new_df[~new_df[\"timestamp\"].isin(train_df[\"timestamp\"])]\n",
        "\n",
        "  anomaly = anomaly_rate_IF(train_df, valid_df, features)\n",
        "\n",
        "  train_months = sorted(train_df[\"timestamp\"].dt.to_period(\"M\").unique())\n",
        "\n",
        "  results.append({\"train_months\": [str(x) for x in train_months] , \"anomaly rate\": anomaly})\n",
        "\n",
        "results_df = pd.DataFrame(results)\n",
        "print(results_df)"
      ],
      "metadata": {
        "colab": {
          "base_uri": "https://localhost:8080/"
        },
        "id": "znxw_fRkqZTZ",
        "outputId": "357192b8-a13e-4758-88fd-c23fa0301641"
      },
      "execution_count": null,
      "outputs": [
        {
          "output_type": "stream",
          "name": "stdout",
          "text": [
            "                                        train_months  anomaly rate\n",
            "0  [2024-01, 2024-02, 2024-03, 2024-04, 2024-05, ...      0.138354\n",
            "1  [2024-02, 2024-03, 2024-04, 2024-05, 2024-06, ...      0.057968\n",
            "2  [2024-03, 2024-04, 2024-05, 2024-06, 2024-07, ...      0.021712\n",
            "3  [2024-04, 2024-05, 2024-06, 2024-07, 2024-08, ...      0.093882\n",
            "4  [2024-05, 2024-06, 2024-07, 2024-08, 2024-09, ...      0.303738\n",
            "5  [2024-06, 2024-07, 2024-08, 2024-09, 2024-10, ...      0.137056\n",
            "6  [2024-07, 2024-08, 2024-09, 2024-10, 2024-11, ...      0.021860\n"
          ]
        }
      ]
    }
  ]
}