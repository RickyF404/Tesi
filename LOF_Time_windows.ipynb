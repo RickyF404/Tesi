{
  "nbformat": 4,
  "nbformat_minor": 0,
  "metadata": {
    "colab": {
      "provenance": [],
      "mount_file_id": "1tJpyAfOVFOJGzNIlCaGILQf1VHQ_8uiC",
      "authorship_tag": "ABX9TyNKAQ4Sc99ZLuPhzsGYw2xa",
      "include_colab_link": true
    },
    "kernelspec": {
      "name": "python3",
      "display_name": "Python 3"
    },
    "language_info": {
      "name": "python"
    }
  },
  "cells": [
    {
      "cell_type": "markdown",
      "metadata": {
        "id": "view-in-github",
        "colab_type": "text"
      },
      "source": [
        "<a href=\"https://colab.research.google.com/github/RickyF404/Tesi/blob/main/LOF_Time_windows.ipynb\" target=\"_parent\"><img src=\"https://colab.research.google.com/assets/colab-badge.svg\" alt=\"Open In Colab\"/></a>"
      ]
    },
    {
      "cell_type": "code",
      "execution_count": 1,
      "metadata": {
        "id": "ZpmZyXRlKUyH"
      },
      "outputs": [],
      "source": [
        "import pandas as pd\n",
        "from sklearn.preprocessing import StandardScaler\n",
        "from sklearn.preprocessing import RobustScaler\n",
        "from sklearn.neighbors import LocalOutlierFactor\n",
        "import numpy as np\n",
        "import matplotlib.pyplot as plt\n",
        "import gdown"
      ]
    },
    {
      "cell_type": "code",
      "source": [
        "url_no_temp = \"https://drive.google.com/uc?id=1jerpsOqjogEnnriBkHOrDDEeh1wJry_o\"\n",
        "output_no_temp = \"data_no_temperature.csv\"\n",
        "gdown.download(url_no_temp, output_no_temp)\n",
        "\n",
        "url_temp = \" https://drive.google.com/uc?id=1RofjUHZS_UAnbF6Xe74jTp9z4Mmk7swH\"\n",
        "output_temp = \"data_temperature.csv\"\n",
        "gdown.download(url_temp, output_temp)"
      ],
      "metadata": {
        "colab": {
          "base_uri": "https://localhost:8080/",
          "height": 176
        },
        "id": "g_y-7RYV-1Dv",
        "outputId": "dea62108-2ba1-4521-e44d-13dbfdd193e0"
      },
      "execution_count": 4,
      "outputs": [
        {
          "output_type": "stream",
          "name": "stderr",
          "text": [
            "Downloading...\n",
            "From: https://drive.google.com/uc?id=1jerpsOqjogEnnriBkHOrDDEeh1wJry_o\n",
            "To: /content/data_no_temperature.csv\n",
            "100%|██████████| 1.44M/1.44M [00:00<00:00, 134MB/s]\n",
            "Downloading...\n",
            "From:  https://drive.google.com/uc?id=1RofjUHZS_UAnbF6Xe74jTp9z4Mmk7swH\n",
            "To: /content/data_temperature.csv\n",
            "100%|██████████| 1.66M/1.66M [00:00<00:00, 98.7MB/s]\n"
          ]
        },
        {
          "output_type": "execute_result",
          "data": {
            "text/plain": [
              "'data_temperature.csv'"
            ],
            "application/vnd.google.colaboratory.intrinsic+json": {
              "type": "string"
            }
          },
          "metadata": {},
          "execution_count": 4
        }
      ]
    },
    {
      "cell_type": "code",
      "source": [
        "# df_original = pd.read_csv(\"/content/drive/MyDrive/data_no_temperature.csv\", encoding = \"utf-8\")\n",
        "\n",
        "df_original = pd.read_csv(\"/content/data_no_temperature.csv\", encoding = \"utf-8\")\n",
        "df_original[\"timestamp\"] = pd.to_datetime(df_original[\"timestamp\"])\n",
        "df_original[\"timestamp\"] = df_original[\"timestamp\"].dt.tz_localize(None)\n",
        "df_original = df_original.sort_values(\"timestamp\")\n",
        "\n",
        "end = \"2025-01-01\"\n",
        "df = df_original[(df_original[\"timestamp\"] < end)]"
      ],
      "metadata": {
        "id": "syPQE6EGKkFY"
      },
      "execution_count": 7,
      "outputs": []
    },
    {
      "cell_type": "code",
      "source": [
        "def anomaly_rate_LOF(train_df, valid_df, features, n_neighbors=20, contamination=0.01):\n",
        "  scaler = StandardScaler()\n",
        "  # scaler = RobustScaler()\n",
        "  X_train = scaler.fit_transform(train_df[features])\n",
        "  X_valid = scaler.transform(valid_df[features])\n",
        "\n",
        "  lof = LocalOutlierFactor(n_neighbors=n_neighbors, contamination=contamination, novelty=True)\n",
        "  lof.fit(X_train)\n",
        "\n",
        "  y_pred = lof.predict(X_valid)\n",
        "  anomaly_rate = np.mean(y_pred == -1)\n",
        "  return anomaly_rate"
      ],
      "metadata": {
        "id": "-Qj6Tr-IKm0O"
      },
      "execution_count": 8,
      "outputs": []
    },
    {
      "cell_type": "markdown",
      "source": [
        "# Finestra di 2 mesi"
      ],
      "metadata": {
        "id": "dG29Id7BWHB-"
      }
    },
    {
      "cell_type": "code",
      "source": [
        "#parametri\n",
        "features = [\"Mode 1\", \"Mode 2\", \"Mode 3\", \"Mode 4\", \"Mode 5\", \"Mode 6\"]\n",
        "results_2m = []\n",
        "window_size = 2\n",
        "n_months = 12\n",
        "start_date = df[\"timestamp\"].min()\n",
        "\n",
        "for m in range(1, n_months - window_size + 2):\n",
        "  train_start = start_date + pd.DateOffset(months=m-1)\n",
        "  train_end = start_date + pd.DateOffset(months=m-1+window_size)\n",
        "  train_df = df[(df[\"timestamp\"] >= train_start) & (df[\"timestamp\"] < train_end)]\n",
        "\n",
        "  valid_df = df[~df[\"timestamp\"].isin(train_df[\"timestamp\"])]\n",
        "\n",
        "  anomaly_2m_real = anomaly_rate_LOF(train_df, valid_df, features, n_neighbors=20, contamination=0.01)\n",
        "\n",
        "  train_months = sorted(train_df[\"timestamp\"].dt.to_period(\"M\").unique())\n",
        "\n",
        "  results_2m.append({\"train_months\": [str(x) for x in train_months], \"window_size\": len(train_months), \"anomaly rate 0.01\": anomaly_2m_real})\n",
        "\n",
        "results_df_2m = pd.DataFrame(results_2m)\n",
        "print(results_df_2m)"
      ],
      "metadata": {
        "colab": {
          "base_uri": "https://localhost:8080/"
        },
        "id": "7ZH-WyoWKquO",
        "outputId": "2e688449-7ca5-449c-e094-d2512be17ca6"
      },
      "execution_count": 9,
      "outputs": [
        {
          "output_type": "stream",
          "name": "stdout",
          "text": [
            "          train_months  window_size  anomaly rate 0.01\n",
            "0   [2024-01, 2024-02]            2           0.131210\n",
            "1   [2024-02, 2024-03]            2           0.184444\n",
            "2   [2024-03, 2024-04]            2           0.088025\n",
            "3   [2024-04, 2024-05]            2           0.027859\n",
            "4   [2024-05, 2024-06]            2           0.026366\n",
            "5   [2024-06, 2024-07]            2           0.044543\n",
            "6   [2024-07, 2024-08]            2           0.043219\n",
            "7   [2024-08, 2024-09]            2           0.040788\n",
            "8   [2024-09, 2024-10]            2           0.148835\n",
            "9   [2024-10, 2024-11]            2           0.072827\n",
            "10  [2024-11, 2024-12]            2           0.055334\n"
          ]
        }
      ]
    },
    {
      "cell_type": "markdown",
      "source": [
        "# Finestra di 4 mesi"
      ],
      "metadata": {
        "id": "Yy-2BlWqWQs9"
      }
    },
    {
      "cell_type": "code",
      "source": [
        "#parametri\n",
        "features = [\"Mode 1\", \"Mode 2\", \"Mode 3\", \"Mode 4\", \"Mode 5\", \"Mode 6\"]\n",
        "results_4m = []\n",
        "window_size = 4\n",
        "n_months = 12\n",
        "start_date = df[\"timestamp\"].min()\n",
        "\n",
        "for m in range(1, n_months - window_size + 2):\n",
        "  train_start = start_date + pd.DateOffset(months=m-1)\n",
        "  train_end = start_date + pd.DateOffset(months=m-1+window_size)\n",
        "  train_df = df[(df[\"timestamp\"] >= train_start) & (df[\"timestamp\"] < train_end)]\n",
        "\n",
        "  valid_df = df[~df[\"timestamp\"].isin(train_df[\"timestamp\"])]\n",
        "\n",
        "  anomaly_4m_real = anomaly_rate_LOF(train_df, valid_df, features, n_neighbors=20, contamination=0.01)\n",
        "\n",
        "  train_months = sorted(train_df[\"timestamp\"].dt.to_period(\"M\").unique())\n",
        "\n",
        "  results_4m.append({\"train_months\": [str(x) for x in train_months] , \"window_size\": len(train_months),  \"anomaly rate 0.01\": anomaly_4m_real})\n",
        "\n",
        "results_df_4m = pd.DataFrame(results_4m)\n",
        "print(results_df_4m)"
      ],
      "metadata": {
        "colab": {
          "base_uri": "https://localhost:8080/"
        },
        "id": "0j2_AeuaWPTc",
        "outputId": "5f074067-064b-45d4-fb4e-b7e82f490e45"
      },
      "execution_count": 10,
      "outputs": [
        {
          "output_type": "stream",
          "name": "stdout",
          "text": [
            "                           train_months  window_size  anomaly rate 0.01\n",
            "0  [2024-01, 2024-02, 2024-03, 2024-04]            4           0.100840\n",
            "1  [2024-02, 2024-03, 2024-04, 2024-05]            4           0.038571\n",
            "2  [2024-03, 2024-04, 2024-05, 2024-06]            4           0.021691\n",
            "3  [2024-04, 2024-05, 2024-06, 2024-07]            4           0.023131\n",
            "4  [2024-05, 2024-06, 2024-07, 2024-08]            4           0.034357\n",
            "5  [2024-06, 2024-07, 2024-08, 2024-09]            4           0.054692\n",
            "6  [2024-07, 2024-08, 2024-09, 2024-10]            4           0.049936\n",
            "7  [2024-08, 2024-09, 2024-10, 2024-11]            4           0.049832\n",
            "8  [2024-09, 2024-10, 2024-11, 2024-12]            4           0.031331\n"
          ]
        }
      ]
    },
    {
      "cell_type": "markdown",
      "source": [
        "# Finestra di 6 mesi"
      ],
      "metadata": {
        "id": "zdZLWjTlberj"
      }
    },
    {
      "cell_type": "code",
      "source": [
        "#parametri\n",
        "features = [\"Mode 1\", \"Mode 2\", \"Mode 3\", \"Mode 4\", \"Mode 5\", \"Mode 6\"]\n",
        "results_6m = []\n",
        "window_size = 6\n",
        "n_months = 12\n",
        "start_date = df[\"timestamp\"].min()\n",
        "\n",
        "for m in range(1, n_months - window_size + 2):\n",
        "  train_start = start_date + pd.DateOffset(months=m-1)\n",
        "  train_end = start_date + pd.DateOffset(months=m-1+window_size)\n",
        "  train_df = df[(df[\"timestamp\"] >= train_start) & (df[\"timestamp\"] < train_end)]\n",
        "\n",
        "  valid_df = df[~df[\"timestamp\"].isin(train_df[\"timestamp\"])]\n",
        "\n",
        "  anomaly_6m_real = anomaly_rate_LOF(train_df, valid_df, features, n_neighbors=20, contamination=0.01)\n",
        "\n",
        "  train_months = sorted(train_df[\"timestamp\"].dt.to_period(\"M\").unique())\n",
        "\n",
        "  results_6m.append({\"train_months\": [str(x) for x in train_months] , \"window_size\": len(train_months), \"anomaly rate 0.01\": anomaly_6m_real})\n",
        "\n",
        "results_df_6m = pd.DataFrame(results_6m)\n",
        "print(results_df_6m)"
      ],
      "metadata": {
        "colab": {
          "base_uri": "https://localhost:8080/"
        },
        "id": "X22496Qpbjus",
        "outputId": "81a2127c-8f2a-4824-da34-45547490f9ca"
      },
      "execution_count": 11,
      "outputs": [
        {
          "output_type": "stream",
          "name": "stdout",
          "text": [
            "                                        train_months  window_size  \\\n",
            "0  [2024-01, 2024-02, 2024-03, 2024-04, 2024-05, ...            6   \n",
            "1  [2024-02, 2024-03, 2024-04, 2024-05, 2024-06, ...            6   \n",
            "2  [2024-03, 2024-04, 2024-05, 2024-06, 2024-07, ...            6   \n",
            "3  [2024-04, 2024-05, 2024-06, 2024-07, 2024-08, ...            6   \n",
            "4  [2024-05, 2024-06, 2024-07, 2024-08, 2024-09, ...            6   \n",
            "5  [2024-06, 2024-07, 2024-08, 2024-09, 2024-10, ...            6   \n",
            "6  [2024-07, 2024-08, 2024-09, 2024-10, 2024-11, ...            6   \n",
            "\n",
            "   anomaly rate 0.01  \n",
            "0           0.023482  \n",
            "1           0.019946  \n",
            "2           0.017707  \n",
            "3           0.020464  \n",
            "4           0.034410  \n",
            "5           0.046743  \n",
            "6           0.015002  \n"
          ]
        }
      ]
    },
    {
      "cell_type": "markdown",
      "source": [
        "# Finestra di mesi \"falsi\""
      ],
      "metadata": {
        "id": "g-gdET9ogERM"
      }
    },
    {
      "cell_type": "code",
      "source": [
        "def create_fake_month(df, frac_per_month, random_state):\n",
        "  rng = np.random.default_rng(seed=random_state) # generatore casuale con seed\n",
        "  df[\"day\"] = df[\"timestamp\"].dt.floor(\"D\")\n",
        "  df[\"year_month\"] = df[\"timestamp\"].dt.to_period(\"M\")\n",
        "  train_indices = []\n",
        "\n",
        "  for ym, group in df.groupby(\"year_month\"):\n",
        "    days = group[\"day\"].unique()\n",
        "    n_take = max(1, int(len(days) * frac_per_month))\n",
        "    sampled_days = rng.choice(days, size=n_take, replace=False)\n",
        "    sel = group[group[\"day\"].isin(sampled_days)].index.tolist()\n",
        "    train_indices += sel\n",
        "\n",
        "  train_df = df.loc[train_indices].copy()\n",
        "  valid_df = df.drop(index=train_indices).copy()\n",
        "  train_df = train_df.drop(columns=[\"day\", \"year_month\"])\n",
        "  valid_df = valid_df.drop(columns=[\"day\", \"year_month\"])\n",
        "  train_df = train_df.sort_values(\"timestamp\")\n",
        "  valid_df = valid_df.sort_values(\"timestamp\")\n",
        "\n",
        "  return train_df, valid_df"
      ],
      "metadata": {
        "id": "i8C9N6MUgNgV"
      },
      "execution_count": 12,
      "outputs": []
    },
    {
      "cell_type": "markdown",
      "source": [
        "2 mesi \"falsi\", random state = 42"
      ],
      "metadata": {
        "id": "D3Fb5rfOjpzd"
      }
    },
    {
      "cell_type": "code",
      "source": [
        "#parametri\n",
        "features = [\"Mode 1\", \"Mode 2\", \"Mode 3\", \"Mode 4\", \"Mode 5\", \"Mode 6\"]\n",
        "results_2m_fake = []\n",
        "\n",
        "train_df, valid_df = create_fake_month(df_original, frac_per_month=0.1, random_state=42)\n",
        "\n",
        "print(\"Giorni training:\", train_df[\"timestamp\"].dt.date.nunique())\n",
        "print(\"Giorni validation:\", valid_df[\"timestamp\"].dt.date.nunique())\n",
        "\n",
        "anomaly_2m_fake1 = anomaly_rate_LOF(train_df, valid_df, features, n_neighbors=20, contamination=0.01)\n",
        "results_2m_fake.append({\"window_size\": 2, \"anomaly\": anomaly_2m_fake1})\n",
        "\n",
        "results_df_2m_fake = pd.DataFrame(results_2m_fake)\n",
        "print(results_df_2m_fake)"
      ],
      "metadata": {
        "colab": {
          "base_uri": "https://localhost:8080/"
        },
        "id": "EgFqgB8yhW7i",
        "outputId": "e297ddec-f210-4d8b-c3d9-78fd8e88cc50"
      },
      "execution_count": 13,
      "outputs": [
        {
          "output_type": "stream",
          "name": "stdout",
          "text": [
            "Giorni training: 57\n",
            "Giorni validation: 547\n",
            "   window_size   anomaly\n",
            "0            2  0.009979\n"
          ]
        }
      ]
    },
    {
      "cell_type": "markdown",
      "source": [
        "4 mesi \"falsi\", random state di 42"
      ],
      "metadata": {
        "id": "AvYZvtZrkmPS"
      }
    },
    {
      "cell_type": "code",
      "source": [
        "#parametri\n",
        "features = [\"Mode 1\", \"Mode 2\", \"Mode 3\", \"Mode 4\", \"Mode 5\", \"Mode 6\"]\n",
        "results_4m_fake = []\n",
        "\n",
        "train_df, valid_df = create_fake_month(df_original, frac_per_month=0.2, random_state=42)\n",
        "\n",
        "print(\"Giorni training:\", train_df[\"timestamp\"].dt.date.nunique())\n",
        "print(\"Giorni validation:\", valid_df[\"timestamp\"].dt.date.nunique())\n",
        "\n",
        "anomaly_4m_fake1 = anomaly_rate_LOF(train_df, valid_df, features, n_neighbors=20, contamination=0.01)\n",
        "\n",
        "results_4m_fake.append({\"window_size\": 4, \"anomaly\": anomaly_4m_fake1})\n",
        "\n",
        "results_df_4m_fake = pd.DataFrame(results_4m_fake)\n",
        "print(results_df_4m_fake)"
      ],
      "metadata": {
        "colab": {
          "base_uri": "https://localhost:8080/"
        },
        "id": "6LfDaQINkE0v",
        "outputId": "8c1745ab-0d7d-4cd8-e0c7-16c5134f6f19"
      },
      "execution_count": 14,
      "outputs": [
        {
          "output_type": "stream",
          "name": "stdout",
          "text": [
            "Giorni training: 117\n",
            "Giorni validation: 487\n",
            "   window_size   anomaly\n",
            "0            4  0.008471\n"
          ]
        }
      ]
    },
    {
      "cell_type": "markdown",
      "source": [
        "6 mesi \"falsi\", random state di 42"
      ],
      "metadata": {
        "id": "SgutR3jamHNv"
      }
    },
    {
      "cell_type": "code",
      "source": [
        "#parametri\n",
        "features = [\"Mode 1\", \"Mode 2\", \"Mode 3\", \"Mode 4\", \"Mode 5\", \"Mode 6\"]\n",
        "results_6m_fake = []\n",
        "\n",
        "train_df, valid_df = create_fake_month(df_original, frac_per_month=0.3, random_state=42)\n",
        "\n",
        "print(\"Giorni training:\", train_df[\"timestamp\"].dt.date.nunique())\n",
        "print(\"Giorni validation:\", valid_df[\"timestamp\"].dt.date.nunique())\n",
        "\n",
        "anomaly_6m_fake1 = anomaly_rate_LOF(train_df, valid_df, features, n_neighbors=20, contamination=0.01)\n",
        "\n",
        "results_6m_fake.append({\"window_size\": 6, \"anomaly\": anomaly_6m_fake1})\n",
        "\n",
        "results_df_6m_fake = pd.DataFrame(results_6m_fake)\n",
        "print(results_df_6m_fake)"
      ],
      "metadata": {
        "colab": {
          "base_uri": "https://localhost:8080/"
        },
        "id": "7PlG193FmI_y",
        "outputId": "99e20dd5-8d87-4602-9371-a988005eb7b6"
      },
      "execution_count": 15,
      "outputs": [
        {
          "output_type": "stream",
          "name": "stdout",
          "text": [
            "Giorni training: 177\n",
            "Giorni validation: 427\n",
            "   window_size   anomaly\n",
            "0            6  0.010206\n"
          ]
        }
      ]
    },
    {
      "cell_type": "code",
      "source": [
        "real_results_df = pd.concat([results_df_2m, results_df_4m, results_df_6m])\n",
        "real_mean = real_results_df.groupby(\"window_size\")[\"anomaly rate 0.01\"].mean().reset_index()\n",
        "\n",
        "fake_results_df = pd.concat([results_df_2m_fake, results_df_4m_fake, results_df_6m_fake])\n",
        "\n",
        "plt.figure(figsize=(8,5))\n",
        "plt.plot(real_mean[\"window_size\"], real_mean[\"anomaly rate 0.01\"]*100, \"o-\", label=\"Media mesi reali\")\n",
        "plt.plot(fake_results_df[\"window_size\"], fake_results_df[\"anomaly\"]*100, \"o-\", label=\"Mesi fake\")\n",
        "plt.axhline(2, color=\"r\", linestyle=\"--\", label=\"soglia 2%\")\n",
        "plt.xlabel(\"Numero di mesi nel training set\")\n",
        "plt.ylabel(\"Anomaly rate (%)\")\n",
        "plt.title(\"Confronto mesi reali vs mesi fake\")\n",
        "plt.legend()\n",
        "plt.grid(True)\n",
        "\n",
        "plt.show()"
      ],
      "metadata": {
        "colab": {
          "base_uri": "https://localhost:8080/",
          "height": 487
        },
        "id": "Nr8fAXZPGT3e",
        "outputId": "a09065c5-d7e7-4528-e34a-d1974081973f"
      },
      "execution_count": 16,
      "outputs": [
        {
          "output_type": "display_data",
          "data": {
            "text/plain": [
              "<Figure size 800x500 with 1 Axes>"
            ],
            "image/png": "[encoded data removed]"
          },
          "metadata": {}
        }
      ]
    },
    {
      "cell_type": "code",
      "source": [
        "labels = [\"2 mesi\", \"4 mesi\", \"6 mesi\"]\n",
        "real_results_df = pd.concat([results_df_2m, results_df_4m, results_df_6m])\n",
        "real_mean = real_results_df.groupby(\"window_size\")[\"anomaly rate 0.01\"].mean().reset_index()\n",
        "real_std = real_results_df.groupby(\"window_size\")[\"anomaly rate 0.01\"].std().reset_index()\n",
        "\n",
        "fake_results_df = pd.concat([results_df_2m_fake, results_df_4m_fake, results_df_6m_fake])\n",
        "\n",
        "x = np.arange(len(labels))\n",
        "w = 0.35\n",
        "\n",
        "fig, ax = plt.subplots(figsize=(8, 5))\n",
        "bars1 = ax.bar(x - w/2, real_mean[\"anomaly rate 0.01\"]*100, w, yerr= real_std[\"anomaly rate 0.01\"]*100, label=\"Mesi reali consecutivi (media)\")\n",
        "bars2 = ax.bar(x + w/2, fake_results_df[\"anomaly\"]*100, w, label=\"Mesi falsi\")\n",
        "ax.axhline(2, color=\"r\", linestyle=\"--\", label=\"soglia 2%\")\n",
        "ax.set_xlabel(\"Numero di mesi nel training set\")\n",
        "ax.set_ylabel(\"Anomaly rate (%)\")\n",
        "ax.set_title(\"Confronto mesi reali vs mesi fake\")\n",
        "\n",
        "ax.set_xticks(x)\n",
        "ax.set_xticklabels(labels)\n",
        "ax.legend()\n",
        "ax.grid(axis=\"y\", linestyle=\":\", alpha=0.6)\n",
        "\n",
        "def add_labels(bars):\n",
        "  for bar in bars:\n",
        "    height = bar.get_height()\n",
        "    ax.text(\n",
        "        bar.get_x() + bar.get_width()/2,\n",
        "        height + 0.4,\n",
        "        f\"{height:.2f}\",\n",
        "        ha=\"center\",\n",
        "        va=\"bottom\",\n",
        "        fontsize=9,\n",
        "        color=\"white\",\n",
        "        bbox = dict(facecolor=\"black\", alpha=0.5, edgecolor=\"none\")\n",
        "    )\n",
        "\n",
        "add_labels(bars1)\n",
        "add_labels(bars2)\n",
        "plt.tight_layout()\n",
        "plt.show()"
      ],
      "metadata": {
        "colab": {
          "base_uri": "https://localhost:8080/",
          "height": 507
        },
        "id": "mnzwgCjzinq6",
        "outputId": "d8c6cf93-5fcc-409b-87f1-b3458fbcd54d"
      },
      "execution_count": 17,
      "outputs": [
        {
          "output_type": "display_data",
          "data": {
            "text/plain": [
              "<Figure size 800x500 with 1 Axes>"
            ],
            "image/png": "[encoded data removed]"
          },
          "metadata": {}
        }
      ]
    },
    {
      "cell_type": "markdown",
      "source": [
        "# Dataset con temperatura"
      ],
      "metadata": {
        "id": "tpdmtnqmnIPm"
      }
    },
    {
      "cell_type": "code",
      "source": [
        "df_temp = pd.read_csv(\"/content/data_temperature.csv\", encoding = \"utf-8\")\n",
        "df_temp[\"timestamp\"] = pd.to_datetime(df_temp[\"timestamp\"])\n",
        "df_temp[\"timestamp\"] = df_temp[\"timestamp\"].dt.tz_localize(None)\n",
        "df_temp = df_temp.sort_values(\"timestamp\")\n",
        "\n",
        "print(df_temp[\"temperatura\"].describe())\n",
        "print(\"Valori mancanti: \", df_temp[\"temperatura\"].isna().sum())\n",
        "\n",
        "end = \"2025-01-01\"\n",
        "new_df = df_temp[(df_temp[\"timestamp\"] < end)]"
      ],
      "metadata": {
        "id": "OB4VRB38nM6_",
        "colab": {
          "base_uri": "https://localhost:8080/"
        },
        "outputId": "f16cca22-7f54-44fa-c458-177711c8988a"
      },
      "execution_count": 18,
      "outputs": [
        {
          "output_type": "stream",
          "name": "stdout",
          "text": [
            "count    15614.000000\n",
            "mean        20.786419\n",
            "std          7.696552\n",
            "min          6.767842\n",
            "25%         13.946796\n",
            "50%         20.040353\n",
            "75%         27.404328\n",
            "max         39.536632\n",
            "Name: temperatura, dtype: float64\n",
            "Valori mancanti:  0\n"
          ]
        }
      ]
    },
    {
      "cell_type": "markdown",
      "source": [
        "Finestra di 2 mesi, dati con temperatura"
      ],
      "metadata": {
        "id": "gWynxqYInxQ9"
      }
    },
    {
      "cell_type": "code",
      "source": [
        "#parametri\n",
        "features = [\"Mode 1\", \"Mode 2\", \"Mode 3\", \"Mode 4\", \"Mode 5\", \"Mode 6\", \"temperatura\"]\n",
        "results = []\n",
        "window_size = 2\n",
        "n_months = 12\n",
        "start_date = new_df[\"timestamp\"].min()\n",
        "\n",
        "for m in range(1, n_months - window_size + 2):\n",
        "  train_start = start_date + pd.DateOffset(months=m-1)\n",
        "  train_end = start_date + pd.DateOffset(months=m-1+window_size)\n",
        "  train_df = new_df[(new_df[\"timestamp\"] >= train_start) & (new_df[\"timestamp\"] < train_end)]\n",
        "\n",
        "  valid_df = new_df[~new_df[\"timestamp\"].isin(train_df[\"timestamp\"])]\n",
        "\n",
        "  anomaly = anomaly_rate_LOF(train_df, valid_df, features, n_neighbors=20, contamination=0.01)\n",
        "\n",
        "  train_months = sorted(train_df[\"timestamp\"].dt.to_period(\"M\").unique())\n",
        "\n",
        "  results.append({\"train_months\": [str(x) for x in train_months] , \"anomaly rate 0.01\": anomaly})\n",
        "\n",
        "results_df = pd.DataFrame(results)\n",
        "print(results_df)"
      ],
      "metadata": {
        "id": "bNmC5KrQnpzT",
        "colab": {
          "base_uri": "https://localhost:8080/"
        },
        "outputId": "f0deb89e-f8eb-4e01-9769-aff55c412f80"
      },
      "execution_count": 19,
      "outputs": [
        {
          "output_type": "stream",
          "name": "stdout",
          "text": [
            "          train_months  anomaly rate 0.01\n",
            "0   [2024-01, 2024-02]           0.637325\n",
            "1   [2024-02, 2024-03]           0.567393\n",
            "2   [2024-03, 2024-04]           0.342038\n",
            "3   [2024-04, 2024-05]           0.200639\n",
            "4   [2024-05, 2024-06]           0.192500\n",
            "5   [2024-06, 2024-07]           0.503299\n",
            "6   [2024-07, 2024-08]           0.728613\n",
            "7   [2024-08, 2024-09]           0.505178\n",
            "8   [2024-09, 2024-10]           0.458536\n",
            "9   [2024-10, 2024-11]           0.296301\n",
            "10  [2024-11, 2024-12]           0.391841\n"
          ]
        }
      ]
    },
    {
      "cell_type": "markdown",
      "source": [
        "Finestra di 4 mesi, dati con temperatura"
      ],
      "metadata": {
        "id": "jFS_S-lIod_V"
      }
    },
    {
      "cell_type": "code",
      "source": [
        "#parametri\n",
        "features = [\"Mode 1\", \"Mode 2\", \"Mode 3\", \"Mode 4\", \"Mode 5\", \"Mode 6\", \"temperatura\"]\n",
        "results = []\n",
        "window_size = 4\n",
        "n_months = 12\n",
        "start_date = new_df[\"timestamp\"].min()\n",
        "\n",
        "for m in range(1, n_months - window_size + 2):\n",
        "  train_start = start_date + pd.DateOffset(months=m-1)\n",
        "  train_end = start_date + pd.DateOffset(months=m-1+window_size)\n",
        "  train_df = new_df[(new_df[\"timestamp\"] >= train_start) & (new_df[\"timestamp\"] < train_end)]\n",
        "\n",
        "  valid_df = new_df[~new_df[\"timestamp\"].isin(train_df[\"timestamp\"])]\n",
        "\n",
        "  anomaly = anomaly_rate_LOF(train_df, valid_df, features, n_neighbors=20, contamination=0.01)\n",
        "\n",
        "  train_months = sorted(train_df[\"timestamp\"].dt.to_period(\"M\").unique())\n",
        "\n",
        "  results.append({\"train_months\": [str(x) for x in train_months] , \"anomaly rate 0.01\": anomaly})\n",
        "\n",
        "results_df = pd.DataFrame(results)\n",
        "print(results_df)"
      ],
      "metadata": {
        "id": "XoYjeLVKoekv"
      },
      "execution_count": null,
      "outputs": []
    },
    {
      "cell_type": "code",
      "source": [
        "#parametri\n",
        "features = [\"Mode 1\", \"Mode 2\", \"Mode 3\", \"Mode 4\", \"Mode 5\", \"Mode 6\", \"temperatura\"]\n",
        "results = []\n",
        "window_size = 6\n",
        "n_months = 12\n",
        "start_date = new_df[\"timestamp\"].min()\n",
        "\n",
        "for m in range(1, n_months - window_size + 2):\n",
        "  train_start = start_date + pd.DateOffset(months=m-1)\n",
        "  train_end = start_date + pd.DateOffset(months=m-1+window_size)\n",
        "  train_df = new_df[(new_df[\"timestamp\"] >= train_start) & (new_df[\"timestamp\"] < train_end)]\n",
        "\n",
        "  valid_df = new_df[~new_df[\"timestamp\"].isin(train_df[\"timestamp\"])]\n",
        "\n",
        "  anomaly = anomaly_rate_LOF(train_df, valid_df, features, n_neighbors=20, contamination=0.01)\n",
        "\n",
        "  train_months = sorted(train_df[\"timestamp\"].dt.to_period(\"M\").unique())\n",
        "\n",
        "  results.append({\"train_months\": [str(x) for x in train_months] , \"anomaly rate 0.01\": anomaly})\n",
        "\n",
        "results_df = pd.DataFrame(results)\n",
        "print(results_df)"
      ],
      "metadata": {
        "id": "JSroneOEouAm"
      },
      "execution_count": null,
      "outputs": []
    }
  ]
}