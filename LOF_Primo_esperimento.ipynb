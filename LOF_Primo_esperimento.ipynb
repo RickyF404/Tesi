{
  "nbformat": 4,
  "nbformat_minor": 0,
  "metadata": {
    "colab": {
      "provenance": [],
      "mount_file_id": "1MSg2eFpuTabZncnW1bXQhsJ1fPwW1kjT",
      "authorship_tag": "ABX9TyPyPo/sSWp5/r9zaJnYoR3Y",
      "include_colab_link": true
    },
    "kernelspec": {
      "name": "python3",
      "display_name": "Python 3"
    },
    "language_info": {
      "name": "python"
    }
  },
  "cells": [
    {
      "cell_type": "markdown",
      "metadata": {
        "id": "view-in-github",
        "colab_type": "text"
      },
      "source": [
        "<a href=\"https://colab.research.google.com/github/RickyF404/Tesi/blob/main/LOF_Primo_esperimento.ipynb\" target=\"_parent\"><img src=\"https://colab.research.google.com/assets/colab-badge.svg\" alt=\"Open In Colab\"/></a>"
      ]
    },
    {
      "cell_type": "code",
      "execution_count": null,
      "metadata": {
        "id": "VZhupclElpRJ"
      },
      "outputs": [],
      "source": [
        "import pandas as pd\n",
        "from sklearn.preprocessing import StandardScaler\n",
        "from sklearn.preprocessing import RobustScaler\n",
        "from sklearn.neighbors import LocalOutlierFactor\n",
        "import numpy as np\n",
        "import gdown"
      ]
    },
    {
      "cell_type": "code",
      "source": [
        "url_no_temp = \"https://drive.google.com/uc?id=1jerpsOqjogEnnriBkHOrDDEeh1wJry_o\"\n",
        "output_no_temp = \"data_no_temperature.csv\"\n",
        "gdown.download(url_no_temp, output_no_temp)\n",
        "\n",
        "url_temp = \" https://drive.google.com/uc?id=1RofjUHZS_UAnbF6Xe74jTp9z4Mmk7swH\"\n",
        "output_temp = \"data_temperature.csv\"\n",
        "gdown.download(url_temp, output_temp)"
      ],
      "metadata": {
        "id": "Q8fZTrjLGmyT"
      },
      "execution_count": null,
      "outputs": []
    },
    {
      "cell_type": "code",
      "source": [
        "df = pd.read_csv(\"/content/data_no_temperature.csv\", encoding = \"utf-8\")\n",
        "df[\"timestamp\"] = pd.to_datetime(df[\"timestamp\"])\n",
        "df = df.sort_values(\"timestamp\")"
      ],
      "metadata": {
        "id": "4zwxr_9KmXvY"
      },
      "execution_count": null,
      "outputs": []
    },
    {
      "cell_type": "code",
      "source": [
        "def anomaly_rate_LOF(train_df, valid_df, features, n_neighbors=20, contamination=0.01):\n",
        "  scaler = StandardScaler()\n",
        "  # scaler = RobustScaler()\n",
        "  X_train = scaler.fit_transform(train_df[features])\n",
        "  X_valid = scaler.transform(valid_df[features])\n",
        "\n",
        "  lof = LocalOutlierFactor(n_neighbors=n_neighbors, contamination=contamination, novelty=True)\n",
        "  lof.fit(X_train)\n",
        "\n",
        "  y_pred = lof.predict(X_valid)\n",
        "  anomaly_rate = np.mean(y_pred == -1)\n",
        "  return anomaly_rate"
      ],
      "metadata": {
        "id": "zrS2DSljPcqZ"
      },
      "execution_count": null,
      "outputs": []
    },
    {
      "cell_type": "code",
      "source": [
        "def anomaly_rate_LOF_no_Novelty(train_df, features, n_neighbors=20, contamination=0.01):\n",
        "  scaler = StandardScaler()\n",
        "  X_train = scaler.fit_transform(train_df[features])\n",
        "\n",
        "  lof = LocalOutlierFactor(n_neighbors=n_neighbors, contamination=contamination, novelty=False)\n",
        "  labels = lof.fit_predict(X_train)\n",
        "\n",
        "  anomaly_rate_train = np.mean(labels == -1)\n",
        "  return anomaly_rate_train"
      ],
      "metadata": {
        "id": "UVKBsBQom6Wy"
      },
      "execution_count": null,
      "outputs": []
    },
    {
      "cell_type": "markdown",
      "source": [
        "# Training set variabile dal 1 gennaio 2024 al 31 gennaio 2025, validation set da 1 aprile 2025 al 31 luglio 2025"
      ],
      "metadata": {
        "id": "b7__GbAVm7Ds"
      }
    },
    {
      "cell_type": "code",
      "source": [
        "#parametri\n",
        "features = [\"Mode 1\", \"Mode 2\", \"Mode 3\", \"Mode 4\", \"Mode 5\", \"Mode 6\"]\n",
        "results1 = []\n",
        "results2 = []\n",
        "\n",
        "valid_start = \"2025-04-01\"\n",
        "valid_end = \"2025-07-31\"\n",
        "valid_df = df[(df[\"timestamp\"] >= valid_start) & (df[\"timestamp\"] < valid_end)].copy()\n",
        "\n",
        "#loop fino a gennaio 2025\n",
        "for m in range(1, 14):\n",
        "  train_end = df[\"timestamp\"].min() + pd.DateOffset(months=m)\n",
        "  train_df = df[(df[\"timestamp\"] < train_end)]\n",
        "\n",
        "  anomaly1 = anomaly_rate_LOF(train_df, valid_df, features, n_neighbors=20, contamination=0.01)\n",
        "  results1.append({\"numero di mesi\": m, \"anomaly rate 0.01\": anomaly1})\n",
        "\n",
        "\n",
        "for m in range(1, 14):\n",
        "  train_end = df[\"timestamp\"].min() + pd.DateOffset(months=m)\n",
        "  train_df = df[(df[\"timestamp\"] < train_end)]\n",
        "\n",
        "  anomaly2 = anomaly_rate_LOF(train_df, valid_df, features, n_neighbors=20, contamination=0.015)\n",
        "  results2.append({\"numero di mesi\": m, \"anomaly rate 0.015\": anomaly2})\n",
        "\n",
        "\n",
        "results_df1 = pd.DataFrame(results1)\n",
        "print(results_df1)\n",
        "\n",
        "results_df2 = pd.DataFrame(results2)\n",
        "print(\"\\n\", results_df2)"
      ],
      "metadata": {
        "colab": {
          "base_uri": "https://localhost:8080/"
        },
        "id": "r3aNE7YqojcF",
        "outputId": "3dcdee64-c453-4896-e0c0-b6e2de9aa82f"
      },
      "execution_count": null,
      "outputs": [
        {
          "output_type": "stream",
          "name": "stdout",
          "text": [
            "    numero di mesi  anomaly rate 0.01\n",
            "0                1           0.126306\n",
            "1                2           0.172523\n",
            "2                3           0.196581\n",
            "3                4           0.108579\n",
            "4                5           0.037670\n",
            "5                6           0.019943\n",
            "6                7           0.016144\n",
            "7                8           0.010763\n",
            "8                9           0.012029\n",
            "9               10           0.009180\n",
            "10              11           0.009180\n",
            "11              12           0.009497\n",
            "12              13           0.009497\n",
            "\n",
            "     numero di mesi  anomaly rate 0.015\n",
            "0                1            0.240266\n",
            "1                2            0.262425\n",
            "2                3            0.244381\n",
            "3                4            0.158278\n",
            "4                5            0.063944\n",
            "5                6            0.029756\n",
            "6                7            0.022159\n",
            "7                8            0.016144\n",
            "8                9            0.014878\n",
            "9               10            0.014878\n",
            "10              11            0.014562\n",
            "11              12            0.013928\n",
            "12              13            0.013928\n"
          ]
        }
      ]
    },
    {
      "cell_type": "markdown",
      "source": [
        "# Training set variabile dal 1 gennaio 2024 al 31 gennaio 2025, validation set da 1 maggio 2025 al 30 giugno 2025"
      ],
      "metadata": {
        "id": "xYh2zU1GnSV2"
      }
    },
    {
      "cell_type": "code",
      "source": [
        "#parametri\n",
        "features = [\"Mode 1\", \"Mode 2\", \"Mode 3\", \"Mode 4\", \"Mode 5\", \"Mode 6\"]\n",
        "results1 = []\n",
        "results2 = []\n",
        "\n",
        "valid_start = \"2025-05-01\"\n",
        "valid_end = \"2025-06-30\"\n",
        "valid_df = df[(df[\"timestamp\"] >= valid_start) & (df[\"timestamp\"] < valid_end)].copy()\n",
        "\n",
        "#loop fino a gennaio 2025\n",
        "for m in range(1, 14):\n",
        "  train_end = df[\"timestamp\"].min() + pd.DateOffset(months=m)\n",
        "  train_df = df[(df[\"timestamp\"] < train_end)]\n",
        "\n",
        "  anomaly1 = anomaly_rate_LOF(train_df, valid_df, features, n_neighbors=20, contamination=0.01)\n",
        "  results1.append({\"numero di mesi\": m, \"anomaly rate 0.01\": anomaly1})\n",
        "\n",
        "\n",
        "for m in range(1, 14):\n",
        "  train_end = df[\"timestamp\"].min() + pd.DateOffset(months=m)\n",
        "  train_df = df[(df[\"timestamp\"] < train_end)]\n",
        "\n",
        "  anomaly2 = anomaly_rate_LOF(train_df, valid_df, features, n_neighbors=20, contamination=0.015)\n",
        "  results2.append({\"numero di mesi\": m, \"anomaly rate 0.015\": anomaly2})\n",
        "\n",
        "\n",
        "results_df1 = pd.DataFrame(results1)\n",
        "print(results_df1)\n",
        "\n",
        "results_df2 = pd.DataFrame(results2)\n",
        "print(\"\\n\", results_df2)"
      ],
      "metadata": {
        "colab": {
          "base_uri": "https://localhost:8080/"
        },
        "id": "Gt2aOLPEncw4",
        "outputId": "31bb6365-c4a3-4f9f-d0b1-b929cc8c5e1c"
      },
      "execution_count": null,
      "outputs": [
        {
          "output_type": "stream",
          "name": "stdout",
          "text": [
            "    numero di mesi  anomaly rate 0.01\n",
            "0                1           0.070423\n",
            "1                2           0.113316\n",
            "2                3           0.129321\n",
            "3                4           0.064661\n",
            "4                5           0.021767\n",
            "5                6           0.009603\n",
            "6                7           0.008963\n",
            "7                8           0.007682\n",
            "8                9           0.007682\n",
            "9               10           0.007682\n",
            "10              11           0.008323\n",
            "11              12           0.008323\n",
            "12              13           0.007682\n",
            "\n",
            "     numero di mesi  anomaly rate 0.015\n",
            "0                1            0.167093\n",
            "1                2            0.195262\n",
            "2                3            0.176056\n",
            "3                4            0.103713\n",
            "4                5            0.039052\n",
            "5                6            0.016005\n",
            "6                7            0.011524\n",
            "7                8            0.011524\n",
            "8                9            0.010243\n",
            "9               10            0.010243\n",
            "10              11            0.010243\n",
            "11              12            0.010243\n",
            "12              13            0.010243\n"
          ]
        }
      ]
    },
    {
      "cell_type": "markdown",
      "source": [
        "# Training set variabile dal 1 aprile 2024 al 28 febbraio 2025, validation set da 1 aprile 2025 al 31 luglio 2025"
      ],
      "metadata": {
        "id": "I3l5r2_cObSh"
      }
    },
    {
      "cell_type": "code",
      "source": [
        "#parametri\n",
        "features = [\"Mode 1\", \"Mode 2\", \"Mode 3\", \"Mode 4\", \"Mode 5\", \"Mode 6\"]\n",
        "results1 = []\n",
        "results2 = []\n",
        "\n",
        "valid_start = \"2025-04-01\"\n",
        "valid_end = \"2025-07-31\"\n",
        "valid_df = df[(df[\"timestamp\"] >= valid_start) & (df[\"timestamp\"] < valid_end)].copy()\n",
        "\n",
        "#loop fino a febbraio 2025\n",
        "for m in range(1, 12):\n",
        "  train_end = df[\"timestamp\"].min() + pd.DateOffset(months=3+m)\n",
        "  train_df = df[(df[\"timestamp\"] >= df[\"timestamp\"].min() + pd.DateOffset(months=3)) & (df[\"timestamp\"] < train_end)]\n",
        "\n",
        "  anomaly1 = anomaly_rate_LOF(train_df, valid_df, features, n_neighbors=20, contamination=0.01)\n",
        "  results1.append({\"numero di mesi\": m, \"anomaly rate 0.01\": anomaly1})\n",
        "\n",
        "\n",
        "for m in range(1, 12):\n",
        "  train_end = df[\"timestamp\"].min() + pd.DateOffset(months=3+m)\n",
        "  train_df = df[(df[\"timestamp\"] >= df[\"timestamp\"].min() + pd.DateOffset(months=3)) & (df[\"timestamp\"] < train_end)]\n",
        "\n",
        "  anomaly2 = anomaly_rate_LOF(train_df, valid_df, features, n_neighbors=20, contamination=0.015)\n",
        "  results2.append({\"numero di mesi\": m, \"anomaly rate 0.015\": anomaly2})\n",
        "\n",
        "\n",
        "results_df1 = pd.DataFrame(results1)\n",
        "print(results_df1)\n",
        "\n",
        "results_df2 = pd.DataFrame(results2)\n",
        "print(\"\\n\", results_df2)"
      ],
      "metadata": {
        "colab": {
          "base_uri": "https://localhost:8080/"
        },
        "id": "lS4qpQfNOyN4",
        "outputId": "ce2f7432-f2c5-492e-b621-cecaae2d6879"
      },
      "execution_count": null,
      "outputs": [
        {
          "output_type": "stream",
          "name": "stdout",
          "text": [
            "    numero di mesi  anomaly rate 0.01\n",
            "0                1           0.066160\n",
            "1                2           0.031656\n",
            "2                3           0.018677\n",
            "3                4           0.015195\n",
            "4                5           0.012979\n",
            "5                6           0.012029\n",
            "6                7           0.011396\n",
            "7                8           0.013295\n",
            "8                9           0.012346\n",
            "9               10           0.011396\n",
            "10              11           0.011713\n",
            "\n",
            "     numero di mesi  anomaly rate 0.015\n",
            "0                1            0.096233\n",
            "1                2            0.047483\n",
            "2                3            0.025324\n",
            "3                4            0.025008\n",
            "4                5            0.018044\n",
            "5                6            0.018044\n",
            "6                7            0.017727\n",
            "7                8            0.019943\n",
            "8                9            0.016777\n",
            "9               10            0.018993\n",
            "10              11            0.016777\n"
          ]
        }
      ]
    },
    {
      "cell_type": "markdown",
      "source": [
        "# Training set variabile dal 1 aprile 2024 al 28 febbraio 2025, validation set da 1 aprile 2025 al 30 giugno 2025"
      ],
      "metadata": {
        "id": "WSB-ZLvDPoBT"
      }
    },
    {
      "cell_type": "code",
      "source": [
        "#parametri\n",
        "features = [\"Mode 1\", \"Mode 2\", \"Mode 3\", \"Mode 4\", \"Mode 5\", \"Mode 6\"]\n",
        "results1 = []\n",
        "results2 = []\n",
        "\n",
        "valid_start = \"2025-04-01\"\n",
        "valid_end = \"2025-06-30\"\n",
        "valid_df = df[(df[\"timestamp\"] >= valid_start) & (df[\"timestamp\"] < valid_end)].copy()\n",
        "\n",
        "#loop fino a febbraio 2025\n",
        "for m in range(1, 12):\n",
        "  train_end = df[\"timestamp\"].min() + pd.DateOffset(months=3+m)\n",
        "  train_df = df[(df[\"timestamp\"] >= df[\"timestamp\"].min() + pd.DateOffset(months=3)) & (df[\"timestamp\"] < train_end)]\n",
        "\n",
        "  anomaly1 = anomaly_rate_LOF(train_df, valid_df, features, n_neighbors=20, contamination=0.01)\n",
        "  results1.append({\"numero di mesi\": m, \"anomaly rate 0.01\": anomaly1})\n",
        "\n",
        "\n",
        "for m in range(1, 12):\n",
        "  train_end = df[\"timestamp\"].min() + pd.DateOffset(months=3+m)\n",
        "  train_df = df[(df[\"timestamp\"] >= df[\"timestamp\"].min() + pd.DateOffset(months=3)) & (df[\"timestamp\"] < train_end)]\n",
        "\n",
        "  anomaly2 = anomaly_rate_LOF(train_df, valid_df, features, n_neighbors=20, contamination=0.015)\n",
        "  results2.append({\"numero di mesi\": m, \"anomaly rate 0.015\": anomaly2})\n",
        "\n",
        "\n",
        "results_df1 = pd.DataFrame(results1)\n",
        "print(results_df1)\n",
        "\n",
        "results_df2 = pd.DataFrame(results2)\n",
        "print(\"\\n\", results_df2)"
      ],
      "metadata": {
        "colab": {
          "base_uri": "https://localhost:8080/"
        },
        "id": "ihxn203kPqEI",
        "outputId": "eb1424ba-5c7b-4ab4-fafe-1b139c1d8ee5"
      },
      "execution_count": null,
      "outputs": [
        {
          "output_type": "stream",
          "name": "stdout",
          "text": [
            "    numero di mesi  anomaly rate 0.01\n",
            "0                1           0.025980\n",
            "1                2           0.019591\n",
            "2                3           0.011073\n",
            "3                4           0.011073\n",
            "4                5           0.011925\n",
            "5                6           0.010647\n",
            "6                7           0.010647\n",
            "7                8           0.012351\n",
            "8                9           0.010647\n",
            "9               10           0.009370\n",
            "10              11           0.009370\n",
            "\n",
            "     numero di mesi  anomaly rate 0.015\n",
            "0                1            0.042164\n",
            "1                2            0.030239\n",
            "2                3            0.015758\n",
            "3                4            0.016184\n",
            "4                5            0.015758\n",
            "5                6            0.015332\n",
            "6                7            0.015758\n",
            "7                8            0.016610\n",
            "8                9            0.013629\n",
            "9               10            0.015758\n",
            "10              11            0.012777\n"
          ]
        }
      ]
    },
    {
      "cell_type": "markdown",
      "source": [
        "# Training set variabile dal 1 luglio 2024 al 31 gennaio 2025, validation set da 1 marzo 2025 al 30 giugno 2025"
      ],
      "metadata": {
        "id": "dptv15gyXfvw"
      }
    },
    {
      "cell_type": "code",
      "source": [
        "# parametri\n",
        "features = [\"Mode 1\", \"Mode 2\", \"Mode 3\", \"Mode 4\", \"Mode 5\", \"Mode 6\"]\n",
        "results1 = []\n",
        "results2 = []\n",
        "\n",
        "valid_start = \"2025-03-01\"\n",
        "valid_end = \"2025-06-30\"\n",
        "valid_df = df[(df[\"timestamp\"] >= valid_start) & (df[\"timestamp\"] < valid_end)].copy()\n",
        "\n",
        "#loop fino a febbraio 2025\n",
        "for m in range(1, 8):\n",
        "  train_end = df[\"timestamp\"].min() + pd.DateOffset(months=6+m)\n",
        "  train_df = df[(df[\"timestamp\"] >= df[\"timestamp\"].min() + pd.DateOffset(months=6)) & (df[\"timestamp\"] < train_end)]\n",
        "\n",
        "  anomaly1 = anomaly_rate_LOF(train_df, valid_df, features, n_neighbors=20, contamination=0.01)\n",
        "  results1.append({\"numero di mesi\": m, \"anomaly rate 0.01\": anomaly1})\n",
        "\n",
        "\n",
        "for m in range(1, 8):\n",
        "  train_end = df[\"timestamp\"].min() + pd.DateOffset(months=6+m)\n",
        "  train_df = df[(df[\"timestamp\"] >= df[\"timestamp\"].min() + pd.DateOffset(months=6)) & (df[\"timestamp\"] < train_end)]\n",
        "\n",
        "  anomaly2 = anomaly_rate_LOF(train_df, valid_df, features, n_neighbors=20, contamination=0.015)\n",
        "  results2.append({\"numero di mesi\": m, \"anomaly rate 0.015\": anomaly2})\n",
        "\n",
        "\n",
        "results_df1 = pd.DataFrame(results1)\n",
        "print(results_df1)\n",
        "\n",
        "results_df2 = pd.DataFrame(results2)\n",
        "print(\"\\n\", results_df2)"
      ],
      "metadata": {
        "colab": {
          "base_uri": "https://localhost:8080/"
        },
        "id": "Ihvq4oXsXnR_",
        "outputId": "1a20fdd4-ec27-419c-8b3b-f1a4b20b8215"
      },
      "execution_count": null,
      "outputs": [
        {
          "output_type": "stream",
          "name": "stdout",
          "text": [
            "   numero di mesi  anomaly rate 0.01\n",
            "0               1           0.022956\n",
            "1               2           0.027673\n",
            "2               3           0.026730\n",
            "3               4           0.027358\n",
            "4               5           0.023270\n",
            "5               6           0.011635\n",
            "6               7           0.012579\n",
            "\n",
            "    numero di mesi  anomaly rate 0.015\n",
            "0               1            0.052830\n",
            "1               2            0.054717\n",
            "2               3            0.046855\n",
            "3               4            0.053145\n",
            "4               5            0.039623\n",
            "5               6            0.018553\n",
            "6               7            0.014465\n"
          ]
        }
      ]
    },
    {
      "cell_type": "markdown",
      "source": [
        "# Novelty = False, mesi da gennaio 2024 a novembre 2024"
      ],
      "metadata": {
        "id": "4xEZEtzzaEdu"
      }
    },
    {
      "cell_type": "code",
      "source": [
        "# parametri\n",
        "features = [\"Mode 1\", \"Mode 2\", \"Mode 3\", \"Mode 4\", \"Mode 5\", \"Mode 6\"]\n",
        "results1 = []\n",
        "results2 = []\n",
        "\n",
        "#loop fino a 30 novembre 2024\n",
        "for m in range(1, 12):\n",
        "  train_end = df[\"timestamp\"].min() + pd.DateOffset(months=m)\n",
        "  train_df = df[(df[\"timestamp\"] < train_end)]\n",
        "\n",
        "  anomaly1 = anomaly_rate_LOF_no_Novelty(train_df, features, n_neighbors=20, contamination=\"auto\")\n",
        "  results1.append({\"numero di mesi\": m, \"anomaly rate\": anomaly1})\n",
        "\n",
        "results_df1 = pd.DataFrame(results1)\n",
        "print(results_df1)"
      ],
      "metadata": {
        "colab": {
          "base_uri": "https://localhost:8080/"
        },
        "id": "GWK9E8RBaJeV",
        "outputId": "91340963-9c68-48f9-fd5e-7b955ac65d08"
      },
      "execution_count": null,
      "outputs": [
        {
          "output_type": "stream",
          "name": "stdout",
          "text": [
            "    numero di mesi  anomaly rate\n",
            "0                1      0.026570\n",
            "1                2      0.025924\n",
            "2                3      0.020627\n",
            "3                4      0.019119\n",
            "4                5      0.014891\n",
            "5                6      0.013716\n",
            "6                7      0.012204\n",
            "7                8      0.010820\n",
            "8                9      0.009742\n",
            "9               10      0.009780\n",
            "10              11      0.008762\n"
          ]
        }
      ]
    },
    {
      "cell_type": "markdown",
      "source": [
        "# Novelty = False, mesi da aprile 2024 a febbraio 2025"
      ],
      "metadata": {
        "id": "G1uQ5YgzcNqd"
      }
    },
    {
      "cell_type": "code",
      "source": [
        "# parametri\n",
        "features = [\"Mode 1\", \"Mode 2\", \"Mode 3\", \"Mode 4\", \"Mode 5\", \"Mode 6\"]\n",
        "results1 = []\n",
        "results2 = []\n",
        "\n",
        "#loop fino a 28 febbraio 2025\n",
        "for m in range(1, 12):\n",
        "  train_end = df[\"timestamp\"].min() + pd.DateOffset(months=3+m)\n",
        "  train_df = df[(df[\"timestamp\"] >= df[\"timestamp\"].min() + pd.DateOffset(months=3)) & (df[\"timestamp\"] < train_end)]\n",
        "\n",
        "  anomaly1 = anomaly_rate_LOF_no_Novelty(train_df, features, n_neighbors=20, contamination=\"auto\")\n",
        "  results1.append({\"numero di mesi\": m, \"anomaly rate\": anomaly1})\n",
        "\n",
        "results_df1 = pd.DataFrame(results1)\n",
        "print(results_df1)"
      ],
      "metadata": {
        "colab": {
          "base_uri": "https://localhost:8080/"
        },
        "id": "wAStWtdrcO8O",
        "outputId": "24277d26-5fed-4e52-a846-df7501676103"
      },
      "execution_count": null,
      "outputs": [
        {
          "output_type": "stream",
          "name": "stdout",
          "text": [
            "    numero di mesi  anomaly rate\n",
            "0                1      0.034256\n",
            "1                2      0.021684\n",
            "2                3      0.017101\n",
            "3                4      0.013307\n",
            "4                5      0.011643\n",
            "5                6      0.012895\n",
            "6                7      0.011205\n",
            "7                8      0.011231\n",
            "8                9      0.008916\n",
            "9               10      0.008707\n",
            "10              11      0.007779\n"
          ]
        }
      ]
    },
    {
      "cell_type": "markdown",
      "source": [
        "# Novelty = False, mesi da luglio 2024 a gennaio 2025"
      ],
      "metadata": {
        "id": "T56dRmlEc9oE"
      }
    },
    {
      "cell_type": "code",
      "source": [
        "# parametri\n",
        "features = [\"Mode 1\", \"Mode 2\", \"Mode 3\", \"Mode 4\", \"Mode 5\", \"Mode 6\"]\n",
        "results1 = []\n",
        "results2 = []\n",
        "\n",
        "#loop fino a 31 gennaio 2025\n",
        "for m in range(1, 8):\n",
        "  train_end = df[\"timestamp\"].min() + pd.DateOffset(months=6+m)\n",
        "  train_df = df[(df[\"timestamp\"] >= df[\"timestamp\"].min() + pd.DateOffset(months=6)) & (df[\"timestamp\"] < train_end)]\n",
        "\n",
        "  anomaly1 = anomaly_rate_LOF_no_Novelty(train_df, features, n_neighbors=20, contamination=\"auto\")\n",
        "  results1.append({\"numero di mesi\": m, \"anomaly rate\": anomaly1})\n",
        "\n",
        "results_df1 = pd.DataFrame(results1)\n",
        "print(results_df1)"
      ],
      "metadata": {
        "colab": {
          "base_uri": "https://localhost:8080/"
        },
        "id": "DKZrSKM0dEqj",
        "outputId": "0a6b3107-2622-45f3-cfc2-0c55d3437a86"
      },
      "execution_count": null,
      "outputs": [
        {
          "output_type": "stream",
          "name": "stdout",
          "text": [
            "   numero di mesi  anomaly rate\n",
            "0               1      0.026954\n",
            "1               2      0.015727\n",
            "2               3      0.016854\n",
            "3               4      0.014493\n",
            "4               5      0.012840\n",
            "5               6      0.010789\n",
            "6               7      0.008591\n"
          ]
        }
      ]
    },
    {
      "cell_type": "markdown",
      "source": [
        "# Dataset con temperatura"
      ],
      "metadata": {
        "id": "BkTDUVTyw725"
      }
    },
    {
      "cell_type": "code",
      "source": [
        "df_temp = pd.read_csv(\"/content/data_temperature.csv\", encoding = \"utf-8\")\n",
        "df_temp[\"timestamp\"] = pd.to_datetime(df_temp[\"timestamp\"])\n",
        "df_temp = df_temp.sort_values(\"timestamp\")\n",
        "\n",
        "print(df_temp[\"temperatura\"].describe())\n",
        "print(\"Valori mancanti: \", df_temp[\"temperatura\"].isna().sum())"
      ],
      "metadata": {
        "colab": {
          "base_uri": "https://localhost:8080/"
        },
        "id": "X6yl64u4xOQs",
        "outputId": "e8b507e0-a6c2-4c43-d7b5-503fc25ef564"
      },
      "execution_count": null,
      "outputs": [
        {
          "output_type": "stream",
          "name": "stdout",
          "text": [
            "count    15614.000000\n",
            "mean        20.786419\n",
            "std          7.696552\n",
            "min          6.767842\n",
            "25%         13.946796\n",
            "50%         20.040353\n",
            "75%         27.404328\n",
            "max         39.536632\n",
            "Name: temperatura, dtype: float64\n",
            "Valori mancanti:  0\n"
          ]
        }
      ]
    },
    {
      "cell_type": "code",
      "source": [
        "#parametri\n",
        "features = [\"Mode 1\", \"Mode 2\", \"Mode 3\", \"Mode 4\", \"Mode 5\", \"Mode 6\", \"temperatura\"]\n",
        "results1 = []\n",
        "results2 = []\n",
        "\n",
        "valid_start = \"2025-04-01\"\n",
        "valid_end = \"2025-07-31\"\n",
        "valid_df = df_temp[(df_temp[\"timestamp\"] >= valid_start) & (df_temp[\"timestamp\"] < valid_end)].copy()\n",
        "\n",
        "#loop fino a gennaio 2025\n",
        "for m in range(1, 14):\n",
        "  train_end = df_temp[\"timestamp\"].min() + pd.DateOffset(months=m)\n",
        "  train_df = df_temp[(df_temp[\"timestamp\"] < train_end)]\n",
        "\n",
        "  anomaly1 = anomaly_rate_LOF(train_df, valid_df, features, n_neighbors=20, contamination=0.01)\n",
        "  results1.append({\"numero di mesi\": m, \"anomaly rate 0.01\": anomaly1})\n",
        "\n",
        "\n",
        "for m in range(1, 14):\n",
        "  train_end = df_temp[\"timestamp\"].min() + pd.DateOffset(months=m)\n",
        "  train_df = df_temp[(df_temp[\"timestamp\"] < train_end)]\n",
        "\n",
        "  anomaly2 = anomaly_rate_LOF(train_df, valid_df, features, n_neighbors=20, contamination=0.015)\n",
        "  results2.append({\"numero di mesi\": m, \"anomaly rate 0.015\": anomaly2})\n",
        "\n",
        "\n",
        "results_df1 = pd.DataFrame(results1)\n",
        "print(results_df1)\n",
        "\n",
        "results_df2 = pd.DataFrame(results2)\n",
        "print(\"\\n\", results_df2)"
      ],
      "metadata": {
        "colab": {
          "base_uri": "https://localhost:8080/"
        },
        "id": "FWcFx7WtxWVU",
        "outputId": "5c72f853-9a8c-48ca-d666-eb0ddd5da5b1"
      },
      "execution_count": null,
      "outputs": [
        {
          "output_type": "stream",
          "name": "stdout",
          "text": [
            "    numero di mesi  anomaly rate 0.01\n",
            "0                1           0.723963\n",
            "1                2           0.801836\n",
            "2                3           0.664767\n",
            "3                4           0.477683\n",
            "4                5           0.200063\n",
            "5                6           0.028173\n",
            "6                7           0.014245\n",
            "7                8           0.008864\n",
            "8                9           0.010446\n",
            "9               10           0.007281\n",
            "10              11           0.008547\n",
            "11              12           0.007914\n",
            "12              13           0.007914\n",
            "\n",
            "     numero di mesi  anomaly rate 0.015\n",
            "0                1            0.785375\n",
            "1                2            0.827477\n",
            "2                3            0.718898\n",
            "3                4            0.511238\n",
            "4                5            0.245964\n",
            "5                6            0.044318\n",
            "6                7            0.020260\n",
            "7                8            0.013928\n",
            "8                9            0.012662\n",
            "9               10            0.014878\n",
            "10              11            0.016461\n",
            "11              12            0.013612\n",
            "12              13            0.013928\n"
          ]
        }
      ]
    },
    {
      "cell_type": "code",
      "source": [
        "#parametri\n",
        "features = [\"Mode 1\", \"Mode 2\", \"Mode 3\", \"Mode 4\", \"Mode 5\", \"Mode 6\", \"temperatura\"]\n",
        "results1 = []\n",
        "results2 = []\n",
        "\n",
        "valid_start = \"2025-05-01\"\n",
        "valid_end = \"2025-06-30\"\n",
        "valid_df = df_temp[(df_temp[\"timestamp\"] >= valid_start) & (df_temp[\"timestamp\"] < valid_end)].copy()\n",
        "\n",
        "#loop fino a gennaio 2025\n",
        "for m in range(1, 14):\n",
        "  train_end = df_temp[\"timestamp\"].min() + pd.DateOffset(months=m)\n",
        "  train_df = df_temp[(df_temp[\"timestamp\"] < train_end)]\n",
        "\n",
        "  anomaly1 = anomaly_rate_LOF(train_df, valid_df, features, n_neighbors=20, contamination=0.01)\n",
        "  results1.append({\"numero di mesi\": m, \"anomaly rate 0.01\": anomaly1})\n",
        "\n",
        "\n",
        "for m in range(1, 14):\n",
        "  train_end = df_temp[\"timestamp\"].min() + pd.DateOffset(months=m)\n",
        "  train_df = df_temp[(df_temp[\"timestamp\"] < train_end)]\n",
        "\n",
        "  anomaly2 = anomaly_rate_LOF(train_df, valid_df, features, n_neighbors=20, contamination=0.015)\n",
        "  results2.append({\"numero di mesi\": m, \"anomaly rate 0.015\": anomaly2})\n",
        "\n",
        "\n",
        "results_df1 = pd.DataFrame(results1)\n",
        "print(results_df1)\n",
        "\n",
        "results_df2 = pd.DataFrame(results2)\n",
        "print(\"\\n\", results_df2)"
      ],
      "metadata": {
        "colab": {
          "base_uri": "https://localhost:8080/"
        },
        "id": "cZBYr0qXyXaa",
        "outputId": "10c5172d-5819-4a00-ec8c-f577b279091b"
      },
      "execution_count": null,
      "outputs": [
        {
          "output_type": "stream",
          "name": "stdout",
          "text": [
            "    numero di mesi  anomaly rate 0.01\n",
            "0                1           0.918694\n",
            "1                2           0.958387\n",
            "2                3           0.809859\n",
            "3                4           0.427657\n",
            "4                5           0.104994\n",
            "5                6           0.012164\n",
            "6                7           0.007682\n",
            "7                8           0.007682\n",
            "8                9           0.008323\n",
            "9               10           0.007042\n",
            "10              11           0.007682\n",
            "11              12           0.006402\n",
            "12              13           0.006402\n",
            "\n",
            "     numero di mesi  anomaly rate 0.015\n",
            "0                1            0.966709\n",
            "1                2            0.983995\n",
            "2                3            0.870038\n",
            "3                4            0.492318\n",
            "4                5            0.151088\n",
            "5                6            0.020487\n",
            "6                7            0.010243\n",
            "7                8            0.009603\n",
            "8                9            0.010243\n",
            "9               10            0.008963\n",
            "10              11            0.010883\n",
            "11              12            0.010883\n",
            "12              13            0.009603\n"
          ]
        }
      ]
    }
  ]
}