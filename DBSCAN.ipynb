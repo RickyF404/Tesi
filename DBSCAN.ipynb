{
  "nbformat": 4,
  "nbformat_minor": 0,
  "metadata": {
    "colab": {
      "provenance": [],
      "collapsed_sections": [
        "t0LIvxwstQV_",
        "4E7OpViltxHI",
        "CJP_mLdrGEUH",
        "z3mH4lJpPDie",
        "y9peWugLbbdM"
      ],
      "mount_file_id": "1ZvSpKv1Un4iFOifdbg0i-lldC4kmrz0u",
      "authorship_tag": "ABX9TyPCwi7ZuxRKcQ9QPIRrda2X",
      "include_colab_link": true
    },
    "kernelspec": {
      "name": "python3",
      "display_name": "Python 3"
    },
    "language_info": {
      "name": "python"
    }
  },
  "cells": [
    {
      "cell_type": "markdown",
      "metadata": {
        "id": "view-in-github",
        "colab_type": "text"
      },
      "source": [
        "<a href=\"https://colab.research.google.com/github/RickyF404/Tesi/blob/main/DBSCAN.ipynb\" target=\"_parent\"><img src=\"https://colab.research.google.com/assets/colab-badge.svg\" alt=\"Open In Colab\"/></a>"
      ]
    },
    {
      "cell_type": "code",
      "execution_count": 3,
      "metadata": {
        "id": "wqoZLB6gj7gl"
      },
      "outputs": [],
      "source": [
        "import pandas as pd\n",
        "from sklearn.preprocessing import StandardScaler\n",
        "from sklearn.cluster import DBSCAN\n",
        "import numpy as np\n",
        "from sklearn.neighbors import NearestNeighbors\n",
        "import matplotlib.pyplot as plt\n",
        "import gdown"
      ]
    },
    {
      "cell_type": "code",
      "source": [
        "url_no_temp = \"https://drive.google.com/uc?id=1jerpsOqjogEnnriBkHOrDDEeh1wJry_o\"\n",
        "output_no_temp = \"data_no_temperature.csv\"\n",
        "gdown.download(url_no_temp, output_no_temp)\n",
        "\n",
        "url_temp = \" https://drive.google.com/uc?id=1RofjUHZS_UAnbF6Xe74jTp9z4Mmk7swH\"\n",
        "output_temp = \"data_temperature.csv\"\n",
        "gdown.download(url_temp, output_temp)"
      ],
      "metadata": {
        "colab": {
          "base_uri": "https://localhost:8080/",
          "height": 176
        },
        "id": "yl5Vr48iDAws",
        "outputId": "5ed6f5c1-d406-434f-8526-b4d98cceba08"
      },
      "execution_count": 4,
      "outputs": [
        {
          "output_type": "stream",
          "name": "stderr",
          "text": [
            "Downloading...\n",
            "From: https://drive.google.com/uc?id=1jerpsOqjogEnnriBkHOrDDEeh1wJry_o\n",
            "To: /content/data_no_temperature.csv\n",
            "100%|██████████| 1.44M/1.44M [00:00<00:00, 15.0MB/s]\n",
            "Downloading...\n",
            "From:  https://drive.google.com/uc?id=1RofjUHZS_UAnbF6Xe74jTp9z4Mmk7swH\n",
            "To: /content/data_temperature.csv\n",
            "100%|██████████| 1.66M/1.66M [00:00<00:00, 16.0MB/s]\n"
          ]
        },
        {
          "output_type": "execute_result",
          "data": {
            "text/plain": [
              "'data_temperature.csv'"
            ],
            "application/vnd.google.colaboratory.intrinsic+json": {
              "type": "string"
            }
          },
          "metadata": {},
          "execution_count": 4
        }
      ]
    },
    {
      "cell_type": "markdown",
      "source": [
        "# Primo esperimento"
      ],
      "metadata": {
        "id": "6ykU8yexIqvF"
      }
    },
    {
      "cell_type": "markdown",
      "source": [
        "Tutti i dati (1 gennaio 2024 - 31 agosto 2025)"
      ],
      "metadata": {
        "id": "t0LIvxwstQV_"
      }
    },
    {
      "cell_type": "code",
      "source": [
        "df = pd.read_csv(\"/content/data_no_temperature.csv\", encoding = \"utf-8\")\n",
        "features = [\"Mode 1\", \"Mode 2\", \"Mode 3\", \"Mode 4\", \"Mode 5\", \"Mode 6\"]\n",
        "X = df[features].copy()"
      ],
      "metadata": {
        "id": "c69zvVEnkWGI"
      },
      "execution_count": 5,
      "outputs": []
    },
    {
      "cell_type": "code",
      "source": [
        "scaler = StandardScaler()\n",
        "X_scaled = scaler.fit_transform(X)"
      ],
      "metadata": {
        "id": "G3VFdjsvlm4Y"
      },
      "execution_count": null,
      "outputs": []
    },
    {
      "cell_type": "code",
      "source": [
        "#Stima di eps\n",
        "import matplotlib.pyplot as plt\n",
        "from sklearn.neighbors import NearestNeighbors\n",
        "\n",
        "k = 6\n",
        "neigh = NearestNeighbors(n_neighbors=k)\n",
        "neigh.fit(X_scaled)\n",
        "distances, indices = neigh.kneighbors(X_scaled)\n",
        "\n",
        "dists = np.sort(distances[:, k-1])\n",
        "plt.figure(figsize=(6,4))\n",
        "plt.plot(dists)\n",
        "\n",
        "plt.xlabel(\"Punti ordinati\")\n",
        "plt.ylabel(f\"Distanza al {k}_esimo vicino\")\n",
        "plt.title(\"1 mese di dati\")\n",
        "plt.show()"
      ],
      "metadata": {
        "colab": {
          "base_uri": "https://localhost:8080/",
          "height": 410
        },
        "id": "xUCKlfDgB08S",
        "outputId": "ec931242-c786-40d3-8086-bea07a07cb7d"
      },
      "execution_count": null,
      "outputs": [
        {
          "output_type": "display_data",
          "data": {
            "text/plain": [
              "<Figure size 600x400 with 1 Axes>"
            ],
            "image/png": "[encoded data removed]"
          },
          "metadata": {}
        }
      ]
    },
    {
      "cell_type": "code",
      "source": [
        "db = DBSCAN(eps=1.25, min_samples=6)\n",
        "labels = db.fit_predict(X_scaled)"
      ],
      "metadata": {
        "id": "pJPLMJjHl1Y8"
      },
      "execution_count": null,
      "outputs": []
    },
    {
      "cell_type": "code",
      "source": [
        "unique, counts = np.unique(labels, return_counts = True)\n",
        "print(dict(zip(unique, counts)))\n",
        "print(\"percentuale: \", (282/(282+15332))*100)"
      ],
      "metadata": {
        "colab": {
          "base_uri": "https://localhost:8080/"
        },
        "id": "RK7AM9KRmKUm",
        "outputId": "e85afb73-053e-4bd0-de54-f346cfe97a7b"
      },
      "execution_count": null,
      "outputs": [
        {
          "output_type": "stream",
          "name": "stdout",
          "text": [
            "{np.int64(-1): np.int64(282), np.int64(0): np.int64(15332)}\n",
            "percentuale:  1.8060714743179198\n"
          ]
        }
      ]
    },
    {
      "cell_type": "markdown",
      "source": [
        "Un mese di dati (1 gennaio 2024 - 31 gennaio 2024)"
      ],
      "metadata": {
        "id": "4E7OpViltxHI"
      }
    },
    {
      "cell_type": "code",
      "source": [
        "df = pd.read_csv(\"/content/data_no_temperature.csv\", encoding = \"utf-8\")\n",
        "df[\"timestamp\"] = pd.to_datetime(df[\"timestamp\"])\n",
        "df_1month = df[\n",
        "    (df[\"timestamp\"].dt.month == 1) &\n",
        "    (df[\"timestamp\"].dt.year == 2024)\n",
        "].copy()\n",
        "\n",
        "features = [\"Mode 1\", \"Mode 2\", \"Mode 3\", \"Mode 4\", \"Mode 5\", \"Mode 6\"]\n",
        "X_1month = df_1month[features].copy()\n",
        "\n",
        "scaler = StandardScaler()\n",
        "X_scaled_1month = scaler.fit_transform(X_1month)"
      ],
      "metadata": {
        "id": "NZysVy1Rt7qp"
      },
      "execution_count": 6,
      "outputs": []
    },
    {
      "cell_type": "code",
      "source": [
        "#Stima di eps\n",
        "import matplotlib.pyplot as plt\n",
        "from sklearn.neighbors import NearestNeighbors\n",
        "\n",
        "k = 5\n",
        "neigh = NearestNeighbors(n_neighbors=k)\n",
        "neigh.fit(X_scaled_1month)\n",
        "distances, indices = neigh.kneighbors(X_scaled_1month)\n",
        "\n",
        "dists = np.sort(distances[:, k-1])\n",
        "plt.figure(figsize=(6,4))\n",
        "plt.plot(dists)\n",
        "\n",
        "plt.xlabel(\"Punti ordinati\")\n",
        "plt.ylabel(f\"Distanza al {k}_esimo vicino\")\n",
        "plt.title(\"1 mese di dati\")\n",
        "plt.show()"
      ],
      "metadata": {
        "colab": {
          "base_uri": "https://localhost:8080/",
          "height": 410
        },
        "id": "SP7tueqw5W3E",
        "outputId": "1006a38b-ad52-4409-8d9d-d54df8a04733"
      },
      "execution_count": null,
      "outputs": [
        {
          "output_type": "display_data",
          "data": {
            "text/plain": [
              "<Figure size 600x400 with 1 Axes>"
            ],
            "image/png": "[encoded data removed]"
          },
          "metadata": {}
        }
      ]
    },
    {
      "cell_type": "code",
      "source": [
        "db = DBSCAN(eps=1.75, min_samples=5)\n",
        "labels_1month = db.fit_predict(X_scaled_1month)\n",
        "\n",
        "unique_1month, counts_1month = np.unique(labels_1month, return_counts = True)\n",
        "print(dict(zip(unique_1month, counts_1month)))\n",
        "print(\"percentuale: \", (38/(49+790))*100)"
      ],
      "metadata": {
        "colab": {
          "base_uri": "https://localhost:8080/"
        },
        "id": "QWMrr8-ZvVqk",
        "outputId": "76c9c2c5-2a13-4d80-dfb6-a7e5f6aebfdb"
      },
      "execution_count": null,
      "outputs": [
        {
          "output_type": "stream",
          "name": "stdout",
          "text": [
            "{np.int64(-1): np.int64(38), np.int64(0): np.int64(790)}\n",
            "percentuale:  4.529201430274136\n"
          ]
        }
      ]
    },
    {
      "cell_type": "markdown",
      "source": [
        "Due mesi di dati (1 gennaio 2024 - 28 febbraio 2024)"
      ],
      "metadata": {
        "id": "CJP_mLdrGEUH"
      }
    },
    {
      "cell_type": "code",
      "source": [
        "df = pd.read_csv(\"/content/data_no_temperature.csv\", encoding = \"utf-8\")\n",
        "df[\"timestamp\"] = pd.to_datetime(df[\"timestamp\"])\n",
        "\n",
        "start_date = \"2024-01-01\"\n",
        "end_date = \"2024-03-01\"\n",
        "df_2months = df[(df[\"timestamp\"] >= start_date) & (df[\"timestamp\"] < end_date)].copy()\n",
        "\n",
        "features = [\"Mode 1\", \"Mode 2\", \"Mode 3\", \"Mode 4\", \"Mode 5\", \"Mode 6\"]\n",
        "X_2months = df_2months[features].copy()\n",
        "\n",
        "scaler = StandardScaler()\n",
        "X_scaled_2months = scaler.fit_transform(X_2months)"
      ],
      "metadata": {
        "id": "wwtosSILGH6g"
      },
      "execution_count": 7,
      "outputs": []
    },
    {
      "cell_type": "code",
      "source": [
        "#Stima di eps\n",
        "import matplotlib.pyplot as plt\n",
        "from sklearn.neighbors import NearestNeighbors\n",
        "\n",
        "k = 5\n",
        "neigh = NearestNeighbors(n_neighbors=k)\n",
        "neigh.fit(X_scaled_2months)\n",
        "distances, indices = neigh.kneighbors(X_scaled_2months)\n",
        "\n",
        "dists = np.sort(distances[:, k-1])\n",
        "plt.figure(figsize=(6,4))\n",
        "plt.plot(dists)\n",
        "\n",
        "plt.xlabel(\"Punti ordinati\")\n",
        "plt.ylabel(f\"Distanza al {k}_esimo vicino\")\n",
        "plt.title(\"2 mesi di dati\")\n",
        "plt.show()"
      ],
      "metadata": {
        "colab": {
          "base_uri": "https://localhost:8080/",
          "height": 410
        },
        "id": "GDs06-gHGMWq",
        "outputId": "cb273477-23da-4f56-bd80-0f69833f5330"
      },
      "execution_count": null,
      "outputs": [
        {
          "output_type": "display_data",
          "data": {
            "text/plain": [
              "<Figure size 600x400 with 1 Axes>"
            ],
            "image/png": "[encoded data removed]"
          },
          "metadata": {}
        }
      ]
    },
    {
      "cell_type": "code",
      "source": [
        "db = DBSCAN(eps=1.75, min_samples=5)\n",
        "labels_2months = db.fit_predict(X_scaled_2months)\n",
        "\n",
        "unique, counts = np.unique(labels_2months, return_counts = True)\n",
        "print(dict(zip(unique, counts)))\n",
        "print(\"percentuale: \", (51/(51+1492))*100)"
      ],
      "metadata": {
        "colab": {
          "base_uri": "https://localhost:8080/"
        },
        "id": "bXtkpp3yGO04",
        "outputId": "c83a710f-6b0f-454b-923d-998c33e84f1a"
      },
      "execution_count": null,
      "outputs": [
        {
          "output_type": "stream",
          "name": "stdout",
          "text": [
            "{np.int64(-1): np.int64(51), np.int64(0): np.int64(1492)}\n",
            "percentuale:  3.3052495139338953\n"
          ]
        }
      ]
    },
    {
      "cell_type": "markdown",
      "source": [
        "Tre mesi di dati (1 gennaio 2024 - 31 marzo 2024)"
      ],
      "metadata": {
        "id": "z3mH4lJpPDie"
      }
    },
    {
      "cell_type": "code",
      "source": [
        "df = pd.read_csv(\"/content/data_no_temperature.csv\", encoding = \"utf-8\")\n",
        "df[\"timestamp\"] = pd.to_datetime(df[\"timestamp\"])\n",
        "\n",
        "start_date = \"2024-01-01\"\n",
        "end_date = \"2024-04-01\"\n",
        "df_3months = df[(df[\"timestamp\"] >= start_date) & (df[\"timestamp\"] < end_date)].copy()\n",
        "\n",
        "features = [\"Mode 1\", \"Mode 2\", \"Mode 3\", \"Mode 4\", \"Mode 5\", \"Mode 6\"]\n",
        "X_3months = df_3months[features].copy()\n",
        "\n",
        "scaler = StandardScaler()\n",
        "X_scaled_3months = scaler.fit_transform(X_3months)"
      ],
      "metadata": {
        "id": "-HogL4GRPJJc"
      },
      "execution_count": null,
      "outputs": []
    },
    {
      "cell_type": "code",
      "source": [
        "#Stima di eps\n",
        "import matplotlib.pyplot as plt\n",
        "from sklearn.neighbors import NearestNeighbors\n",
        "\n",
        "k = 5\n",
        "neigh = NearestNeighbors(n_neighbors=k)\n",
        "neigh.fit(X_scaled_3months)\n",
        "distances, indices = neigh.kneighbors(X_scaled_3months)\n",
        "\n",
        "dists = np.sort(distances[:, k-1])\n",
        "plt.figure(figsize=(6,4))\n",
        "plt.plot(dists)\n",
        "\n",
        "plt.xlabel(\"Punti ordinati\")\n",
        "plt.ylabel(f\"Distanza al {k}_esimo vicino\")\n",
        "plt.title(\"3 mesi di dati\")\n",
        "plt.show()"
      ],
      "metadata": {
        "colab": {
          "base_uri": "https://localhost:8080/",
          "height": 410
        },
        "id": "QdiAje8kQOIR",
        "outputId": "96755df8-cabc-4bab-aabb-0b3817350c82"
      },
      "execution_count": null,
      "outputs": [
        {
          "output_type": "display_data",
          "data": {
            "text/plain": [
              "<Figure size 600x400 with 1 Axes>"
            ],
            "image/png": "[encoded data removed]"
          },
          "metadata": {}
        }
      ]
    },
    {
      "cell_type": "code",
      "source": [
        "db = DBSCAN(eps=1.75, min_samples=5)\n",
        "labels_3months = db.fit_predict(X_scaled_3months)\n",
        "\n",
        "unique, counts = np.unique(labels_3months, return_counts = True)\n",
        "print(dict(zip(unique, counts)))\n",
        "print(\"percentuale: \", (53/(53+2274))*100)"
      ],
      "metadata": {
        "colab": {
          "base_uri": "https://localhost:8080/"
        },
        "id": "qyV8UudDQRRr",
        "outputId": "566a6488-8d56-485e-d863-fb8c4e765ff7"
      },
      "execution_count": null,
      "outputs": [
        {
          "output_type": "stream",
          "name": "stdout",
          "text": [
            "{np.int64(-1): np.int64(53), np.int64(0): np.int64(2274)}\n",
            "percentuale:  2.2776106574989257\n"
          ]
        }
      ]
    },
    {
      "cell_type": "markdown",
      "source": [
        " 4 mesi di dati (1 gennaio 2024 - 30 aprile 2024)"
      ],
      "metadata": {
        "id": "8i723FWsWxqP"
      }
    },
    {
      "cell_type": "code",
      "source": [
        "df = pd.read_csv(\"/content/data_no_temperature.csv\", encoding = \"utf-8\")\n",
        "df[\"timestamp\"] = pd.to_datetime(df[\"timestamp\"])\n",
        "\n",
        "start_date = \"2024-01-01\"\n",
        "end_date = \"2024-05-01\"\n",
        "df_4months = df[(df[\"timestamp\"] >= start_date) & (df[\"timestamp\"] < end_date)].copy()\n",
        "\n",
        "features = [\"Mode 1\", \"Mode 2\", \"Mode 3\", \"Mode 4\", \"Mode 5\", \"Mode 6\"]\n",
        "X_4months = df_4months[features].copy()\n",
        "\n",
        "scaler = StandardScaler()\n",
        "X_scaled_4months = scaler.fit_transform(X_4months)"
      ],
      "metadata": {
        "id": "InRErwMXSs8x"
      },
      "execution_count": null,
      "outputs": []
    },
    {
      "cell_type": "code",
      "source": [
        "#Stima di eps\n",
        "import matplotlib.pyplot as plt\n",
        "from sklearn.neighbors import NearestNeighbors\n",
        "\n",
        "k = 5\n",
        "neigh = NearestNeighbors(n_neighbors=k)\n",
        "neigh.fit(X_scaled_4months)\n",
        "distances, indices = neigh.kneighbors(X_scaled_4months)\n",
        "\n",
        "dists = np.sort(distances[:, k-1])\n",
        "plt.figure(figsize=(6,4))\n",
        "plt.plot(dists)\n",
        "\n",
        "plt.xlabel(\"Punti ordinati\")\n",
        "plt.ylabel(f\"Distanza al {k}_esimo vicino\")\n",
        "plt.title(\"4 mesi di dati\")\n",
        "plt.show()"
      ],
      "metadata": {
        "colab": {
          "base_uri": "https://localhost:8080/",
          "height": 410
        },
        "id": "7zrPrDbxSv3P",
        "outputId": "ee7cbf4b-9652-43b2-9c80-7f0a5d50ee2e"
      },
      "execution_count": null,
      "outputs": [
        {
          "output_type": "display_data",
          "data": {
            "text/plain": [
              "<Figure size 600x400 with 1 Axes>"
            ],
            "image/png": "[encoded data removed]"
          },
          "metadata": {}
        }
      ]
    },
    {
      "cell_type": "code",
      "source": [
        "db = DBSCAN(eps=1.75, min_samples=5)\n",
        "labels_4months = db.fit_predict(X_scaled_4months)\n",
        "\n",
        "unique, counts = np.unique(labels_4months, return_counts = True)\n",
        "print(dict(zip(unique, counts)))\n",
        "print(\"percentuale: \", (57/(57+3029))*100)"
      ],
      "metadata": {
        "colab": {
          "base_uri": "https://localhost:8080/"
        },
        "id": "vynS_u6sSyH1",
        "outputId": "d73073c6-4b79-4ff0-8067-de9e52165053"
      },
      "execution_count": null,
      "outputs": [
        {
          "output_type": "stream",
          "name": "stdout",
          "text": [
            "{np.int64(-1): np.int64(57), np.int64(0): np.int64(3029)}\n",
            "percentuale:  1.8470511989630591\n"
          ]
        }
      ]
    },
    {
      "cell_type": "markdown",
      "source": [
        " 5 mesi di dati (1 gennaio 2024 - 31 maggio 2024)"
      ],
      "metadata": {
        "id": "y9peWugLbbdM"
      }
    },
    {
      "cell_type": "code",
      "source": [
        "df = pd.read_csv(\"/content/data_no_temperature.csv\", encoding = \"utf-8\")\n",
        "df[\"timestamp\"] = pd.to_datetime(df[\"timestamp\"])\n",
        "\n",
        "start_date = \"2024-01-01\"\n",
        "end_date = \"2024-06-01\"\n",
        "df_5months = df[(df[\"timestamp\"] >= start_date) & (df[\"timestamp\"] < end_date)].copy()\n",
        "\n",
        "features = [\"Mode 1\", \"Mode 2\", \"Mode 3\", \"Mode 4\", \"Mode 5\", \"Mode 6\"]\n",
        "X_5months = df_5months[features].copy()\n",
        "\n",
        "scaler = StandardScaler()\n",
        "X_scaled_5months = scaler.fit_transform(X_5months)"
      ],
      "metadata": {
        "id": "smZBQf82be9W"
      },
      "execution_count": null,
      "outputs": []
    },
    {
      "cell_type": "code",
      "source": [
        "#Stima di eps\n",
        "import matplotlib.pyplot as plt\n",
        "from sklearn.neighbors import NearestNeighbors\n",
        "\n",
        "k = 5\n",
        "neigh = NearestNeighbors(n_neighbors=k)\n",
        "neigh.fit(X_scaled_5months)\n",
        "distances, indices = neigh.kneighbors(X_scaled_5months)\n",
        "\n",
        "dists = np.sort(distances[:, k-1])\n",
        "plt.figure(figsize=(6,4))\n",
        "plt.plot(dists)\n",
        "\n",
        "plt.xlabel(\"Punti ordinati\")\n",
        "plt.ylabel(f\"Distanza al {k}_esimo vicino\")\n",
        "plt.title(\"5 mesi di dati\")\n",
        "plt.show()"
      ],
      "metadata": {
        "colab": {
          "base_uri": "https://localhost:8080/",
          "height": 410
        },
        "id": "3x0XZ2wjbixR",
        "outputId": "556f55d0-8dfc-4fd6-fcf9-87a1c1acc8ee"
      },
      "execution_count": null,
      "outputs": [
        {
          "output_type": "display_data",
          "data": {
            "text/plain": [
              "<Figure size 600x400 with 1 Axes>"
            ],
            "image/png": "[encoded data removed]"
          },
          "metadata": {}
        }
      ]
    },
    {
      "cell_type": "code",
      "source": [
        "db = DBSCAN(eps=1.62, min_samples=5)\n",
        "labels_5months = db.fit_predict(X_scaled_5months)\n",
        "\n",
        "unique, counts = np.unique(labels_5months, return_counts = True)\n",
        "print(dict(zip(unique, counts)))\n",
        "print(\"percentuale: \", (72/(72+3823))*100)"
      ],
      "metadata": {
        "colab": {
          "base_uri": "https://localhost:8080/"
        },
        "id": "kAPmETGKbkqh",
        "outputId": "523c898f-d2e2-4f5c-a628-4b522c1b8088"
      },
      "execution_count": null,
      "outputs": [
        {
          "output_type": "stream",
          "name": "stdout",
          "text": [
            "{np.int64(-1): np.int64(72), np.int64(0): np.int64(3823)}\n",
            "percentuale:  1.848523748395379\n"
          ]
        }
      ]
    },
    {
      "cell_type": "markdown",
      "source": [
        "4 mesi di dati (1 giugno 2024 - 30 settembre 2024)"
      ],
      "metadata": {
        "id": "ZfcuPkmsnZIc"
      }
    },
    {
      "cell_type": "code",
      "source": [
        "df = pd.read_csv(\"/content/data_no_temperature.csv\", encoding = \"utf-8\")\n",
        "df[\"timestamp\"] = pd.to_datetime(df[\"timestamp\"])\n",
        "\n",
        "start_date = \"2024-06-01\"\n",
        "end_date = \"2024-10-01\"\n",
        "df_4months = df[(df[\"timestamp\"] >= start_date) & (df[\"timestamp\"] < end_date)].copy()\n",
        "\n",
        "features = [\"Mode 1\", \"Mode 2\", \"Mode 3\", \"Mode 4\", \"Mode 5\", \"Mode 6\"]\n",
        "X_4months = df_4months[features].copy()\n",
        "\n",
        "scaler = StandardScaler()\n",
        "X_scaled_4months = scaler.fit_transform(X_4months)"
      ],
      "metadata": {
        "id": "zP31wBkpn34q"
      },
      "execution_count": null,
      "outputs": []
    },
    {
      "cell_type": "code",
      "source": [
        "#Stima di eps\n",
        "import matplotlib.pyplot as plt\n",
        "from sklearn.neighbors import NearestNeighbors\n",
        "\n",
        "k = 5\n",
        "neigh = NearestNeighbors(n_neighbors=k)\n",
        "neigh.fit(X_scaled_4months)\n",
        "distances, indices = neigh.kneighbors(X_scaled_4months)\n",
        "\n",
        "dists = np.sort(distances[:, k-1])\n",
        "plt.figure(figsize=(6,4))\n",
        "plt.plot(dists)\n",
        "\n",
        "plt.xlabel(\"Punti ordinati\")\n",
        "plt.ylabel(f\"Distanza al {k}_esimo vicino\")\n",
        "plt.title(\"4 mesi di dati\")\n",
        "plt.show()"
      ],
      "metadata": {
        "colab": {
          "base_uri": "https://localhost:8080/",
          "height": 410
        },
        "id": "snG69skpn9fz",
        "outputId": "660fcd5a-4332-4678-92e4-f12a9f741615"
      },
      "execution_count": null,
      "outputs": [
        {
          "output_type": "display_data",
          "data": {
            "text/plain": [
              "<Figure size 600x400 with 1 Axes>"
            ],
            "image/png": "[encoded data removed]"
          },
          "metadata": {}
        }
      ]
    },
    {
      "cell_type": "code",
      "source": [
        "db = DBSCAN(eps=1.62, min_samples=5)\n",
        "labels_4months = db.fit_predict(X_scaled_4months)\n",
        "\n",
        "unique, counts = np.unique(labels_4months, return_counts = True)\n",
        "print(dict(zip(unique, counts)))\n",
        "print(\"percentuale: \", (52/(52+3033))*100)"
      ],
      "metadata": {
        "colab": {
          "base_uri": "https://localhost:8080/"
        },
        "id": "aKP9h9_Gn_4j",
        "outputId": "34d2b9b8-6b11-465a-cb23-87ea647bd96d"
      },
      "execution_count": null,
      "outputs": [
        {
          "output_type": "stream",
          "name": "stdout",
          "text": [
            "{np.int64(-1): np.int64(52), np.int64(0): np.int64(3033)}\n",
            "percentuale:  1.6855753646677474\n"
          ]
        }
      ]
    },
    {
      "cell_type": "markdown",
      "source": [
        "# DBSCAN con training set e validation set"
      ],
      "metadata": {
        "id": "iqPTeayK6TxC"
      }
    },
    {
      "cell_type": "code",
      "source": [
        "def compute_eps(X_train, min_samples=5, percentile=95):\n",
        "  #calcola le distanze dai min_samples-esimi vicini\n",
        "  nn = NearestNeighbors(n_neighbors=min_samples)\n",
        "  nn.fit(X_train)\n",
        "  distances, _ = nn.kneighbors(X_train)\n",
        "\n",
        "  #prendiamo solo la distanza dal min_samples-esimo vicino\n",
        "  kth_distances = distances[:, -1]\n",
        "\n",
        "  #scegliamo eps come percentile delle distanze\n",
        "  eps = np.percentile(kth_distances, percentile)\n",
        "  return eps"
      ],
      "metadata": {
        "id": "-DLd8razAEXq"
      },
      "execution_count": null,
      "outputs": []
    },
    {
      "cell_type": "code",
      "source": [
        "df = pd.read_csv(\"/content/data_no_temperature.csv\", parse_dates=[\"timestamp\"])\n",
        "df = df.sort_values(\"timestamp\")\n",
        "\n",
        "df[\"month\"] = df[\"timestamp\"].dt.to_period(\"M\")\n",
        "\n",
        "cols_features = [c for c in df.columns if c not in (\"timestamp\", \"month\")]\n",
        "\n",
        "#Normalizzazione\n",
        "X = StandardScaler().fit_transform(df[cols_features])\n",
        "\n",
        "\n",
        "#training su mesi consecutivi\n",
        "months = sorted(df[\"month\"].unique())\n",
        "\n",
        "for i in range(1, len(months)):\n",
        "  train_months = months[:i]\n",
        "  val_months = months[i:]\n",
        "\n",
        "  X_train = X[df[\"month\"].isin(train_months)]\n",
        "  X_val = X[df[\"month\"].isin(val_months)]\n",
        "\n",
        "  if len(X_train) == 0 or len(X_val) == 0:\n",
        "    continue\n",
        "\n",
        "  eps = compute_eps(X_train, min_samples=5, percentile=99)\n",
        "  min_samples = 5\n",
        "  db = DBSCAN(eps = eps, min_samples=min_samples)\n",
        "  y_train = db.fit_predict(X_train)\n",
        "\n",
        "  if len(db.core_sample_indices_) == 0:\n",
        "    continue\n",
        "\n",
        "  n_clusters = len(set(y_train)) - (1 if -1 in y_train else 0)\n",
        "  print(f\"\\n Training mesi: {i}, eps: {eps:.3f}, n_clusters trovati: {n_clusters}, outliers: {np.mean(y_train==-1):.2%}\")\n",
        "\n",
        "  core_points = X_train[db.core_sample_indices_]\n",
        "\n",
        "#Nearest Neighbors\n",
        "  nn = NearestNeighbors(radius = eps)\n",
        "  nn.fit(core_points)\n",
        "\n",
        "  neighbors_count = np.array([len(nn.radius_neighbors([x], return_distance=False)[0]) for x in X_val])\n",
        "  y_val = np.where(neighbors_count >= min_samples, 1, -1)\n",
        "\n",
        "  anomaly_rate = np.mean(y_val == -1)\n",
        "  print(f\"Mesi di training: {i}, Anomaly Rate: {anomaly_rate:.2%}\")\n",
        "\n",
        "\n",
        "\n",
        "#training su mesi stagionali sparsi\n",
        "print(\"\\n\", \"\\n\", \"\\n\")\n",
        "seasonal_months = [\n",
        "    pd.Period(\"2024-01\", freq=\"M\"),\n",
        "    pd.Period(\"2024-04\", freq=\"M\"),\n",
        "    pd.Period(\"2024-07\", freq=\"M\"),\n",
        "    pd.Period(\"2024-10\", freq=\"M\")\n",
        "]\n",
        "\n",
        "print(seasonal_months)\n",
        "for k in range(1, len(seasonal_months)+1):\n",
        "  train_months = seasonal_months[:k]\n",
        "  val_months = [m for m in months if m not in train_months]\n",
        "\n",
        "  X_train = X[df[\"month\"].isin(train_months)]\n",
        "  X_val = X[df[\"month\"].isin(val_months)]\n",
        "\n",
        "  if len(X_train) == 0 or len(X_val) == 0:\n",
        "    continue\n",
        "\n",
        "  eps = compute_eps(X_train, min_samples=5, percentile=99)\n",
        "  min_samples = 5\n",
        "  db = DBSCAN(eps = eps, min_samples=min_samples)\n",
        "  y_train = db.fit_predict(X_train)\n",
        "\n",
        "  if len(db.core_sample_indices_) == 0:\n",
        "    continue\n",
        "\n",
        "  n_clusters = len(set(y_train)) - (1 if -1 in y_train else 0)\n",
        "  print(f\"\\n eps: {eps:.3f}, n_clusters trovati: {n_clusters}, outliers: {np.mean(y_train==-1):.2%}\")\n",
        "\n",
        "  core_points = X_train[db.core_sample_indices_]\n",
        "\n",
        "#Nearest Neighbors\n",
        "  nn = NearestNeighbors(radius = eps)\n",
        "  nn.fit(core_points)\n",
        "\n",
        "  neighbors_count = np.array([len(nn.radius_neighbors([x], return_distance=False)[0]) for x in X_val])\n",
        "  y_val = np.where(neighbors_count >= min_samples, 1, -1)\n",
        "\n",
        "  anomaly_rate = np.mean(y_val == -1)\n",
        "  print(f\"Anomaly Rate: {anomaly_rate:.2%}\")"
      ],
      "metadata": {
        "colab": {
          "base_uri": "https://localhost:8080/"
        },
        "id": "nwDZivee6ltW",
        "outputId": "a11260c6-633b-4f57-b982-b1577a555152"
      },
      "execution_count": null,
      "outputs": [
        {
          "output_type": "stream",
          "name": "stderr",
          "text": [
            "/tmp/ipython-input-3856812004.py:4: UserWarning: Converting to PeriodArray/Index representation will drop timezone information.\n",
            "  df[\"month\"] = df[\"timestamp\"].dt.to_period(\"M\")\n"
          ]
        },
        {
          "output_type": "stream",
          "name": "stdout",
          "text": [
            "\n",
            " Training mesi: 1, eps: 2.268, n_clusters trovati: 1, outliers: 0.48%\n",
            "Mesi di training: 1, Anomaly Rate: 15.61%\n",
            "\n",
            " Training mesi: 2, eps: 1.985, n_clusters trovati: 1, outliers: 0.52%\n",
            "Mesi di training: 2, Anomaly Rate: 21.34%\n",
            "\n",
            " Training mesi: 3, eps: 1.877, n_clusters trovati: 1, outliers: 0.30%\n",
            "Mesi di training: 3, Anomaly Rate: 22.66%\n",
            "\n",
            " Training mesi: 4, eps: 1.876, n_clusters trovati: 1, outliers: 0.32%\n",
            "Mesi di training: 4, Anomaly Rate: 14.79%\n",
            "\n",
            " Training mesi: 5, eps: 1.801, n_clusters trovati: 1, outliers: 0.33%\n",
            "Mesi di training: 5, Anomaly Rate: 8.76%\n",
            "\n",
            " Training mesi: 6, eps: 1.792, n_clusters trovati: 1, outliers: 0.36%\n",
            "Mesi di training: 6, Anomaly Rate: 5.35%\n",
            "\n",
            " Training mesi: 7, eps: 1.768, n_clusters trovati: 1, outliers: 0.33%\n",
            "Mesi di training: 7, Anomaly Rate: 3.70%\n",
            "\n",
            " Training mesi: 8, eps: 1.776, n_clusters trovati: 1, outliers: 0.39%\n",
            "Mesi di training: 8, Anomaly Rate: 1.87%\n",
            "\n",
            " Training mesi: 9, eps: 1.761, n_clusters trovati: 1, outliers: 0.43%\n",
            "Mesi di training: 9, Anomaly Rate: 1.58%\n",
            "\n",
            " Training mesi: 10, eps: 1.722, n_clusters trovati: 1, outliers: 0.44%\n",
            "Mesi di training: 10, Anomaly Rate: 1.75%\n",
            "\n",
            " Training mesi: 11, eps: 1.708, n_clusters trovati: 1, outliers: 0.44%\n",
            "Mesi di training: 11, Anomaly Rate: 1.74%\n",
            "\n",
            " Training mesi: 12, eps: 1.712, n_clusters trovati: 1, outliers: 0.49%\n",
            "Mesi di training: 12, Anomaly Rate: 1.61%\n",
            "\n",
            " Training mesi: 13, eps: 1.689, n_clusters trovati: 1, outliers: 0.47%\n",
            "Mesi di training: 13, Anomaly Rate: 1.73%\n",
            "\n",
            " Training mesi: 14, eps: 1.680, n_clusters trovati: 1, outliers: 0.40%\n",
            "Mesi di training: 14, Anomaly Rate: 1.58%\n",
            "\n",
            " Training mesi: 15, eps: 1.657, n_clusters trovati: 1, outliers: 0.40%\n",
            "Mesi di training: 15, Anomaly Rate: 1.96%\n",
            "\n",
            " Training mesi: 16, eps: 1.656, n_clusters trovati: 1, outliers: 0.39%\n",
            "Mesi di training: 16, Anomaly Rate: 1.95%\n",
            "\n",
            " Training mesi: 17, eps: 1.634, n_clusters trovati: 1, outliers: 0.39%\n",
            "Mesi di training: 17, Anomaly Rate: 2.27%\n",
            "\n",
            " Training mesi: 18, eps: 1.610, n_clusters trovati: 1, outliers: 0.38%\n",
            "Mesi di training: 18, Anomaly Rate: 3.07%\n",
            "\n",
            " Training mesi: 19, eps: 1.607, n_clusters trovati: 1, outliers: 0.36%\n",
            "Mesi di training: 19, Anomaly Rate: 2.17%\n",
            "\n",
            " \n",
            " \n",
            "\n",
            "[Period('2024-01', 'M'), Period('2024-04', 'M'), Period('2024-07', 'M'), Period('2024-10', 'M')]\n",
            "\n",
            " eps: 2.268, n_clusters trovati: 1, outliers: 0.48%\n",
            "Anomaly Rate: 15.61%\n",
            "\n",
            " eps: 2.140, n_clusters trovati: 1, outliers: 0.38%\n",
            "Anomaly Rate: 8.48%\n",
            "\n",
            " eps: 2.016, n_clusters trovati: 1, outliers: 0.39%\n",
            "Anomaly Rate: 2.54%\n",
            "\n",
            " eps: 1.935, n_clusters trovati: 1, outliers: 0.42%\n",
            "Anomaly Rate: 1.84%\n"
          ]
        }
      ]
    },
    {
      "cell_type": "code",
      "source": [
        "def compute_eps_mean_std(X_train, min_samples=5, alpha=1.5):\n",
        "  #calcola le distanze dai min_samples-esimi vicini\n",
        "  nn = NearestNeighbors(n_neighbors=min_samples)\n",
        "  nn.fit(X_train)\n",
        "  distances, _ = nn.kneighbors(X_train)\n",
        "\n",
        "  #prendiamo solo la distanza dal min_samples-esimo vicino\n",
        "  kth_distances = distances[:, -1]\n",
        "\n",
        "  mean = np.mean(kth_distances)\n",
        "  std = np.std(kth_distances)\n",
        "\n",
        "  eps = mean + alpha * std\n",
        "  return float(eps)"
      ],
      "metadata": {
        "id": "-zdp89KVKGFD"
      },
      "execution_count": null,
      "outputs": []
    },
    {
      "cell_type": "code",
      "source": [
        "df = pd.read_csv(\"/content/data_no_temperature.csv\", parse_dates=[\"timestamp\"])\n",
        "df = df.sort_values(\"timestamp\")\n",
        "\n",
        "df[\"month\"] = df[\"timestamp\"].dt.to_period(\"M\")\n",
        "\n",
        "cols_features = [c for c in df.columns if c not in (\"timestamp\", \"month\")]\n",
        "\n",
        "#Normalizzazione\n",
        "X = StandardScaler().fit_transform(df[cols_features])\n",
        "\n",
        "months = sorted(df[\"month\"].unique())\n",
        "\n",
        "results = []\n",
        "\n",
        "for i in range(1, len(months)):\n",
        "  train_months = months[:i]\n",
        "  val_months = months[i:]\n",
        "\n",
        "  X_train = X[df[\"month\"].isin(train_months)]\n",
        "  X_val = X[df[\"month\"].isin(val_months)]\n",
        "\n",
        "  if len(X_train) == 0 or len(X_val) == 0:\n",
        "    continue\n",
        "\n",
        "  eps = compute_eps_mean_std(X_train, min_samples=5, alpha = 3.0)\n",
        "  min_samples = 5\n",
        "  db = DBSCAN(eps = eps, min_samples=min_samples)\n",
        "  y_train = db.fit_predict(X_train)\n",
        "\n",
        "  if len(db.core_sample_indices_) == 0:\n",
        "    continue\n",
        "\n",
        "  core_points = X_train[db.core_sample_indices_]\n",
        "\n",
        "#Nearest Neighbors\n",
        "  nn = NearestNeighbors(radius = eps)\n",
        "  nn.fit(core_points)\n",
        "\n",
        "  neighbors_count = np.array([len(nn.radius_neighbors([x], return_distance=False)[0]) for x in X_val])\n",
        "  y_val = np.where(neighbors_count >= min_samples, 1, -1)\n",
        "\n",
        "  anomaly_rate = np.mean(y_val == -1)\n",
        "  results.append((i, anomaly_rate))\n",
        "  print(f\"Mesi di training: {i}, Anomaly Rate: {anomaly_rate:.2%}\")\n",
        "\n",
        "results_df = pd.DataFrame(results, columns=[\"n_mesi_train\", \"anomaly_rate\"])\n",
        "print(\"\\n--- Risultati finali ---\")\n",
        "print(results_df)"
      ],
      "metadata": {
        "colab": {
          "base_uri": "https://localhost:8080/"
        },
        "id": "oP3Qdq1iJlgm",
        "outputId": "68329a19-caae-4b3d-8b5e-70eb95e5a766"
      },
      "execution_count": null,
      "outputs": [
        {
          "output_type": "stream",
          "name": "stderr",
          "text": [
            "/tmp/ipython-input-2989726267.py:4: UserWarning: Converting to PeriodArray/Index representation will drop timezone information.\n",
            "  df[\"month\"] = df[\"timestamp\"].dt.to_period(\"M\")\n"
          ]
        },
        {
          "output_type": "stream",
          "name": "stdout",
          "text": [
            "Mesi di training: 1, Anomaly Rate: 23.22%\n",
            "Mesi di training: 2, Anomaly Rate: 26.03%\n",
            "Mesi di training: 3, Anomaly Rate: 29.31%\n",
            "Mesi di training: 4, Anomaly Rate: 21.78%\n",
            "Mesi di training: 5, Anomaly Rate: 12.27%\n",
            "Mesi di training: 6, Anomaly Rate: 7.99%\n",
            "Mesi di training: 7, Anomaly Rate: 5.53%\n",
            "Mesi di training: 8, Anomaly Rate: 2.88%\n",
            "Mesi di training: 9, Anomaly Rate: 2.48%\n",
            "Mesi di training: 10, Anomaly Rate: 2.69%\n",
            "Mesi di training: 11, Anomaly Rate: 2.75%\n",
            "Mesi di training: 12, Anomaly Rate: 2.80%\n",
            "Mesi di training: 13, Anomaly Rate: 2.88%\n",
            "Mesi di training: 14, Anomaly Rate: 2.75%\n",
            "Mesi di training: 15, Anomaly Rate: 3.20%\n",
            "Mesi di training: 16, Anomaly Rate: 3.52%\n",
            "Mesi di training: 17, Anomaly Rate: 4.21%\n",
            "Mesi di training: 18, Anomaly Rate: 5.02%\n",
            "Mesi di training: 19, Anomaly Rate: 3.83%\n",
            "\n",
            "--- Risultati finali ---\n",
            "    n_mesi_train  anomaly_rate\n",
            "0              1      0.232179\n",
            "1              2      0.260323\n",
            "2              3      0.293144\n",
            "3              4      0.217832\n",
            "4              5      0.122707\n",
            "5              6      0.079923\n",
            "6              7      0.055262\n",
            "7              8      0.028762\n",
            "8              9      0.024786\n",
            "9             10      0.026903\n",
            "10            11      0.027502\n",
            "11            12      0.027970\n",
            "12            13      0.028848\n",
            "13            14      0.027483\n",
            "14            15      0.031982\n",
            "15            16      0.035165\n",
            "16            17      0.042070\n",
            "17            18      0.050157\n",
            "18            19      0.038265\n"
          ]
        }
      ]
    },
    {
      "cell_type": "code",
      "source": [
        "df = pd.read_csv(\"/content/data_temperature.csv\", parse_dates=[\"timestamp\"])\n",
        "df = df.sort_values(\"timestamp\")\n",
        "\n",
        "df[\"month\"] = df[\"timestamp\"].dt.to_period(\"M\")\n",
        "\n",
        "cols_features = [c for c in df.columns if c not in (\"timestamp\", \"month\")]\n",
        "\n",
        "#Normalizzazione\n",
        "X = StandardScaler().fit_transform(df[cols_features])\n",
        "\n",
        "months = sorted(df[\"month\"].unique())\n",
        "\n",
        "results = []\n",
        "\n",
        "for i in range(1, len(months)):\n",
        "  train_months = months[:i]\n",
        "  val_months = months[i:]\n",
        "\n",
        "  X_train = X[df[\"month\"].isin(train_months)]\n",
        "  X_val = X[df[\"month\"].isin(val_months)]\n",
        "\n",
        "  if len(X_train) == 0 or len(X_val) == 0:\n",
        "    continue\n",
        "\n",
        "  eps = compute_eps(X_train, min_samples=5, percentile=99)\n",
        "  min_samples = 5\n",
        "  db = DBSCAN(eps = eps, min_samples=min_samples)\n",
        "  y_train = db.fit_predict(X_train)\n",
        "\n",
        "  if len(db.core_sample_indices_) == 0:\n",
        "    continue\n",
        "\n",
        "  n_clusters = len(set(y_train)) - (1 if -1 in y_train else 0)\n",
        "  print(f\"\\n Training mesi: {i}, eps: {eps:.3f}, n_clusters trovati: {n_clusters}, outliers: {np.mean(y_train==-1):.2%}\")\n",
        "\n",
        "  core_points = X_train[db.core_sample_indices_]\n",
        "\n",
        "#Nearest Neighbors\n",
        "  nn = NearestNeighbors(radius = eps)\n",
        "  nn.fit(core_points)\n",
        "\n",
        "  neighbors_count = np.array([len(nn.radius_neighbors([x], return_distance=False)[0]) for x in X_val])\n",
        "  y_val = np.where(neighbors_count >= min_samples, 1, -1)\n",
        "\n",
        "  anomaly_rate = np.mean(y_val == -1)\n",
        "  results.append((i, anomaly_rate))\n",
        "  print(f\"Mesi di training: {i}, Anomaly Rate: {anomaly_rate:.2%}\")\n",
        "\n",
        "\n",
        "\n",
        "\n",
        "#training su mesi stagionali sparsi\n",
        "print(\"\\n\", \"\\n\", \"\\n\")\n",
        "seasonal_months = [\n",
        "    pd.Period(\"2024-01\", freq=\"M\"),\n",
        "    pd.Period(\"2024-04\", freq=\"M\"),\n",
        "    pd.Period(\"2024-07\", freq=\"M\"),\n",
        "    pd.Period(\"2024-10\", freq=\"M\")\n",
        "]\n",
        "\n",
        "print(seasonal_months)\n",
        "for k in range(1, len(seasonal_months)+1):\n",
        "  train_months = seasonal_months[:k]\n",
        "  val_months = [m for m in months if m not in train_months]\n",
        "\n",
        "  X_train = X[df[\"month\"].isin(train_months)]\n",
        "  X_val = X[df[\"month\"].isin(val_months)]\n",
        "\n",
        "  if len(X_train) == 0 or len(X_val) == 0:\n",
        "    continue\n",
        "\n",
        "  eps = compute_eps(X_train, min_samples=5, percentile=99)\n",
        "  min_samples = 5\n",
        "  db = DBSCAN(eps = eps, min_samples=min_samples)\n",
        "  y_train = db.fit_predict(X_train)\n",
        "\n",
        "  if len(db.core_sample_indices_) == 0:\n",
        "    continue\n",
        "\n",
        "  n_clusters = len(set(y_train)) - (1 if -1 in y_train else 0)\n",
        "  print(f\"\\n eps: {eps:.3f}, n_clusters trovati: {n_clusters}, outliers: {np.mean(y_train==-1):.2%}\")\n",
        "\n",
        "  core_points = X_train[db.core_sample_indices_]\n",
        "\n",
        "#Nearest Neighbors\n",
        "  nn = NearestNeighbors(radius = eps)\n",
        "  nn.fit(core_points)\n",
        "\n",
        "  neighbors_count = np.array([len(nn.radius_neighbors([x], return_distance=False)[0]) for x in X_val])\n",
        "  y_val = np.where(neighbors_count >= min_samples, 1, -1)\n",
        "\n",
        "  anomaly_rate = np.mean(y_val == -1)\n",
        "  print(f\"Anomaly Rate: {anomaly_rate:.2%}\")"
      ],
      "metadata": {
        "colab": {
          "base_uri": "https://localhost:8080/"
        },
        "id": "iUB7wKbrEPA0",
        "outputId": "82b7d85c-61e1-4367-a97f-b22cc33a679b"
      },
      "execution_count": null,
      "outputs": [
        {
          "output_type": "stream",
          "name": "stderr",
          "text": [
            "/tmp/ipython-input-712512243.py:4: UserWarning: Converting to PeriodArray/Index representation will drop timezone information.\n",
            "  df[\"month\"] = df[\"timestamp\"].dt.to_period(\"M\")\n"
          ]
        },
        {
          "output_type": "stream",
          "name": "stdout",
          "text": [
            "\n",
            " Training mesi: 1, eps: 2.314, n_clusters trovati: 1, outliers: 0.48%\n",
            "Mesi di training: 1, Anomaly Rate: 39.21%\n",
            "\n",
            " Training mesi: 2, eps: 2.022, n_clusters trovati: 1, outliers: 0.52%\n",
            "Mesi di training: 2, Anomaly Rate: 46.09%\n",
            "\n",
            " Training mesi: 3, eps: 1.900, n_clusters trovati: 1, outliers: 0.34%\n",
            "Mesi di training: 3, Anomaly Rate: 47.81%\n",
            "\n",
            " Training mesi: 4, eps: 1.934, n_clusters trovati: 1, outliers: 0.36%\n",
            "Mesi di training: 4, Anomaly Rate: 35.19%\n",
            "\n",
            " Training mesi: 5, eps: 1.906, n_clusters trovati: 1, outliers: 0.36%\n",
            "Mesi di training: 5, Anomaly Rate: 17.42%\n",
            "\n",
            " Training mesi: 6, eps: 1.910, n_clusters trovati: 1, outliers: 0.39%\n",
            "Mesi di training: 6, Anomaly Rate: 7.09%\n",
            "\n",
            " Training mesi: 7, eps: 1.928, n_clusters trovati: 1, outliers: 0.39%\n",
            "Mesi di training: 7, Anomaly Rate: 3.80%\n",
            "\n",
            " Training mesi: 8, eps: 1.922, n_clusters trovati: 1, outliers: 0.39%\n",
            "Mesi di training: 8, Anomaly Rate: 2.33%\n",
            "\n",
            " Training mesi: 9, eps: 1.928, n_clusters trovati: 1, outliers: 0.39%\n",
            "Mesi di training: 9, Anomaly Rate: 1.80%\n",
            "\n",
            " Training mesi: 10, eps: 1.908, n_clusters trovati: 1, outliers: 0.37%\n",
            "Mesi di training: 10, Anomaly Rate: 1.90%\n",
            "\n",
            " Training mesi: 11, eps: 1.900, n_clusters trovati: 1, outliers: 0.39%\n",
            "Mesi di training: 11, Anomaly Rate: 1.77%\n",
            "\n",
            " Training mesi: 12, eps: 1.886, n_clusters trovati: 1, outliers: 0.39%\n",
            "Mesi di training: 12, Anomaly Rate: 1.75%\n",
            "\n",
            " Training mesi: 13, eps: 1.875, n_clusters trovati: 1, outliers: 0.41%\n",
            "Mesi di training: 13, Anomaly Rate: 1.94%\n",
            "\n",
            " Training mesi: 14, eps: 1.869, n_clusters trovati: 1, outliers: 0.41%\n",
            "Mesi di training: 14, Anomaly Rate: 1.89%\n",
            "\n",
            " Training mesi: 15, eps: 1.836, n_clusters trovati: 1, outliers: 0.38%\n",
            "Mesi di training: 15, Anomaly Rate: 2.32%\n",
            "\n",
            " Training mesi: 16, eps: 1.828, n_clusters trovati: 1, outliers: 0.36%\n",
            "Mesi di training: 16, Anomaly Rate: 2.51%\n",
            "\n",
            " Training mesi: 17, eps: 1.817, n_clusters trovati: 1, outliers: 0.36%\n",
            "Mesi di training: 17, Anomaly Rate: 2.99%\n",
            "\n",
            " Training mesi: 18, eps: 1.806, n_clusters trovati: 1, outliers: 0.38%\n",
            "Mesi di training: 18, Anomaly Rate: 3.76%\n",
            "\n",
            " Training mesi: 19, eps: 1.807, n_clusters trovati: 1, outliers: 0.39%\n",
            "Mesi di training: 19, Anomaly Rate: 2.81%\n",
            "\n",
            " \n",
            " \n",
            "\n",
            "[Period('2024-01', 'M'), Period('2024-04', 'M'), Period('2024-07', 'M'), Period('2024-10', 'M')]\n",
            "\n",
            " eps: 2.314, n_clusters trovati: 1, outliers: 0.48%\n",
            "Anomaly Rate: 39.21%\n",
            "\n",
            " eps: 2.209, n_clusters trovati: 1, outliers: 0.38%\n",
            "Anomaly Rate: 23.80%\n",
            "\n",
            " eps: 2.213, n_clusters trovati: 1, outliers: 0.43%\n",
            "Anomaly Rate: 2.36%\n",
            "\n",
            " eps: 2.126, n_clusters trovati: 1, outliers: 0.42%\n",
            "Anomaly Rate: 1.90%\n"
          ]
        }
      ]
    },
    {
      "cell_type": "markdown",
      "source": [
        "# Finestre Temporali senza temperatura"
      ],
      "metadata": {
        "id": "apUqGmpWI_UL"
      }
    },
    {
      "cell_type": "code",
      "source": [
        "df_original = pd.read_csv(\"/content/data_no_temperature.csv\", encoding = \"utf-8\")\n",
        "df_original[\"timestamp\"] = pd.to_datetime(df_original[\"timestamp\"])\n",
        "df_original[\"timestamp\"] = df_original[\"timestamp\"].dt.tz_localize(None)\n",
        "df_original = df_original.sort_values(\"timestamp\")\n",
        "\n",
        "end = \"2025-01-01\"\n",
        "df = df_original[(df_original[\"timestamp\"] < end)]"
      ],
      "metadata": {
        "id": "hmnz8DSUKLIK"
      },
      "execution_count": null,
      "outputs": []
    },
    {
      "cell_type": "code",
      "source": [
        " def anomaly_rate_DBSCAN(train_df, valid_df, features):\n",
        "  scaler = StandardScaler()\n",
        "  # scaler = RobustScaler()\n",
        "  X_train = scaler.fit_transform(train_df[features])\n",
        "  X_val = scaler.transform(valid_df[features])\n",
        "\n",
        "  eps = compute_eps(X_train, min_samples=5, percentile=99)\n",
        "  min_samples = 5\n",
        "  db = DBSCAN(eps = eps, min_samples=min_samples)\n",
        "  y_train = db.fit_predict(X_train)\n",
        "\n",
        "  # n_clusters = len(set(y_train)) - (1 if -1 in y_train else 0)\n",
        "  # print(f\"\\n Training mesi: {i}, eps: {eps:.3f}, n_clusters trovati: {n_clusters}, outliers: {np.mean(y_train==-1):.2%}\")\n",
        "\n",
        "  core_points = X_train[db.core_sample_indices_]\n",
        "\n",
        "#Nearest Neighbors\n",
        "  nn = NearestNeighbors(radius = eps)\n",
        "  nn.fit(core_points)\n",
        "\n",
        "  neighbors_count = np.array([len(nn.radius_neighbors([x], return_distance=False)[0]) for x in X_val])\n",
        "  y_val = np.where(neighbors_count >= min_samples, 1, -1)\n",
        "\n",
        "  anomaly_rate = np.mean(y_val == -1)\n",
        "\n",
        "  return anomaly_rate"
      ],
      "metadata": {
        "id": "uO-9XMZ2JZIW"
      },
      "execution_count": null,
      "outputs": []
    },
    {
      "cell_type": "code",
      "source": [
        "def create_fake_month(df, frac_per_month, random_state):\n",
        "  rng = np.random.default_rng(seed=random_state) # generatore casuale con seed\n",
        "  df[\"day\"] = df[\"timestamp\"].dt.floor(\"D\")\n",
        "  df[\"year_month\"] = df[\"timestamp\"].dt.to_period(\"M\")\n",
        "  train_indices = []\n",
        "\n",
        "  for ym, group in df.groupby(\"year_month\"):\n",
        "    days = group[\"day\"].unique()\n",
        "    n_take = max(1, int(len(days) * frac_per_month))\n",
        "    sampled_days = rng.choice(days, size=n_take, replace=False)\n",
        "    sel = group[group[\"day\"].isin(sampled_days)].index.tolist()\n",
        "    train_indices += sel\n",
        "\n",
        "  train_df = df.loc[train_indices].copy()\n",
        "  valid_df = df.drop(index=train_indices).copy()\n",
        "  train_df = train_df.drop(columns=[\"day\", \"year_month\"])\n",
        "  valid_df = valid_df.drop(columns=[\"day\", \"year_month\"])\n",
        "  train_df = train_df.sort_values(\"timestamp\")\n",
        "  valid_df = valid_df.sort_values(\"timestamp\")\n",
        "\n",
        "  return train_df, valid_df"
      ],
      "metadata": {
        "id": "WQ8DL25xJq8w"
      },
      "execution_count": null,
      "outputs": []
    },
    {
      "cell_type": "code",
      "source": [
        "def compute_eps(X_train, min_samples=5, percentile=95):\n",
        "  #calcola le distanze dai min_samples-esimi vicini\n",
        "  nn = NearestNeighbors(n_neighbors=min_samples)\n",
        "  nn.fit(X_train)\n",
        "  distances, _ = nn.kneighbors(X_train)\n",
        "\n",
        "  #prendiamo solo la distanza dal min_samples-esimo vicino\n",
        "  kth_distances = distances[:, -1]\n",
        "\n",
        "  #scegliamo eps come percentile delle distanze\n",
        "  eps = np.percentile(kth_distances, percentile)\n",
        "  return eps"
      ],
      "metadata": {
        "id": "uUUa7_E4JEvp"
      },
      "execution_count": null,
      "outputs": []
    },
    {
      "cell_type": "markdown",
      "source": [
        "2 mesi di dati reali"
      ],
      "metadata": {
        "id": "F8UQvsR7Jt7I"
      }
    },
    {
      "cell_type": "code",
      "source": [
        "#parametri\n",
        "features = [\"Mode 1\", \"Mode 2\", \"Mode 3\", \"Mode 4\", \"Mode 5\", \"Mode 6\"]\n",
        "results = []\n",
        "window_size = 2\n",
        "n_months = 12\n",
        "start_date = df[\"timestamp\"].min()\n",
        "\n",
        "for m in range(1, n_months - window_size + 2):\n",
        "  train_start = start_date + pd.DateOffset(months=m-1)\n",
        "  train_end = start_date + pd.DateOffset(months=m-1+window_size)\n",
        "  train_df = df[(df[\"timestamp\"] >= train_start) & (df[\"timestamp\"] < train_end)]\n",
        "\n",
        "  valid_df = df[~df[\"timestamp\"].isin(train_df[\"timestamp\"])]\n",
        "\n",
        "  anomaly = anomaly_rate_DBSCAN(train_df, valid_df, features)\n",
        "\n",
        "  train_months = sorted(train_df[\"timestamp\"].dt.to_period(\"M\").unique())\n",
        "\n",
        "  results.append({\"train_months\": [str(x) for x in train_months], \"window_size\": len(train_months), \"anomaly rate\": anomaly})\n",
        "\n",
        "results_df_2m = pd.DataFrame(results)\n",
        "print(results_df_2m)"
      ],
      "metadata": {
        "colab": {
          "base_uri": "https://localhost:8080/"
        },
        "id": "22uRP8JpJv7X",
        "outputId": "9b3f34e6-329d-4b9e-b9ac-9cf62c85a83e"
      },
      "execution_count": null,
      "outputs": [
        {
          "output_type": "stream",
          "name": "stdout",
          "text": [
            "          train_months  window_size  anomaly rate\n",
            "0   [2024-01, 2024-02]            2      0.245478\n",
            "1   [2024-02, 2024-03]            2      0.320243\n",
            "2   [2024-03, 2024-04]            2      0.114395\n",
            "3   [2024-04, 2024-05]            2      0.050096\n",
            "4   [2024-05, 2024-06]            2      0.036734\n",
            "5   [2024-06, 2024-07]            2      0.053299\n",
            "6   [2024-07, 2024-08]            2      0.070294\n",
            "7   [2024-08, 2024-09]            2      0.101905\n",
            "8   [2024-09, 2024-10]            2      0.136422\n",
            "9   [2024-10, 2024-11]            2      0.092026\n",
            "10  [2024-11, 2024-12]            2      0.050573\n"
          ]
        }
      ]
    },
    {
      "cell_type": "markdown",
      "source": [
        "4 mesi di dati reali"
      ],
      "metadata": {
        "id": "f_JIfY8qKf4b"
      }
    },
    {
      "cell_type": "code",
      "source": [
        "#parametri\n",
        "features = [\"Mode 1\", \"Mode 2\", \"Mode 3\", \"Mode 4\", \"Mode 5\", \"Mode 6\"]\n",
        "results = []\n",
        "window_size = 4\n",
        "n_months = 12\n",
        "start_date = df[\"timestamp\"].min()\n",
        "\n",
        "for m in range(1, n_months - window_size + 2):\n",
        "  train_start = start_date + pd.DateOffset(months=m-1)\n",
        "  train_end = start_date + pd.DateOffset(months=m-1+window_size)\n",
        "  train_df = df[(df[\"timestamp\"] >= train_start) & (df[\"timestamp\"] < train_end)]\n",
        "\n",
        "  valid_df = df[~df[\"timestamp\"].isin(train_df[\"timestamp\"])]\n",
        "\n",
        "  anomaly = anomaly_rate_DBSCAN(train_df, valid_df, features)\n",
        "\n",
        "  train_months = sorted(train_df[\"timestamp\"].dt.to_period(\"M\").unique())\n",
        "\n",
        "  results.append({\"train_months\": [str(x) for x in train_months], \"window_size\": len(train_months), \"anomaly rate\": anomaly})\n",
        "\n",
        "results_df_4m = pd.DataFrame(results)\n",
        "print(results_df_4m)"
      ],
      "metadata": {
        "colab": {
          "base_uri": "https://localhost:8080/"
        },
        "id": "0MDCWBU1KiBs",
        "outputId": "0a718953-8c07-4822-ad40-c58922c1ee31"
      },
      "execution_count": null,
      "outputs": [
        {
          "output_type": "stream",
          "name": "stdout",
          "text": [
            "                           train_months  window_size  anomaly rate\n",
            "0  [2024-01, 2024-02, 2024-03, 2024-04]            4      0.185984\n",
            "1  [2024-02, 2024-03, 2024-04, 2024-05]            4      0.085362\n",
            "2  [2024-03, 2024-04, 2024-05, 2024-06]            4      0.039394\n",
            "3  [2024-04, 2024-05, 2024-06, 2024-07]            4      0.032795\n",
            "4  [2024-05, 2024-06, 2024-07, 2024-08]            4      0.033402\n",
            "5  [2024-06, 2024-07, 2024-08, 2024-09]            4      0.062619\n",
            "6  [2024-07, 2024-08, 2024-09, 2024-10]            4      0.087150\n",
            "7  [2024-08, 2024-09, 2024-10, 2024-11]            4      0.052556\n",
            "8  [2024-09, 2024-10, 2024-11, 2024-12]            4      0.025517\n"
          ]
        }
      ]
    },
    {
      "cell_type": "markdown",
      "source": [
        "6 mesi di dati reali"
      ],
      "metadata": {
        "id": "Izy0HAGiKjPc"
      }
    },
    {
      "cell_type": "code",
      "source": [
        "#parametri\n",
        "features = [\"Mode 1\", \"Mode 2\", \"Mode 3\", \"Mode 4\", \"Mode 5\", \"Mode 6\"]\n",
        "results = []\n",
        "window_size = 6\n",
        "n_months = 12\n",
        "start_date = df[\"timestamp\"].min()\n",
        "\n",
        "for m in range(1, n_months - window_size + 2):\n",
        "  train_start = start_date + pd.DateOffset(months=m-1)\n",
        "  train_end = start_date + pd.DateOffset(months=m-1+window_size)\n",
        "  train_df = df[(df[\"timestamp\"] >= train_start) & (df[\"timestamp\"] < train_end)]\n",
        "\n",
        "  valid_df = df[~df[\"timestamp\"].isin(train_df[\"timestamp\"])]\n",
        "\n",
        "  anomaly = anomaly_rate_DBSCAN(train_df, valid_df, features)\n",
        "\n",
        "  train_months = sorted(train_df[\"timestamp\"].dt.to_period(\"M\").unique())\n",
        "\n",
        "  results.append({\"train_months\": [str(x) for x in train_months], \"window_size\": len(train_months), \"anomaly rate\": anomaly})\n",
        "\n",
        "results_df_6m = pd.DataFrame(results)\n",
        "print(results_df_6m)"
      ],
      "metadata": {
        "colab": {
          "base_uri": "https://localhost:8080/"
        },
        "id": "8SbFKHoCKk6O",
        "outputId": "fcad73b1-5dab-4779-974f-e94b7c1b929f"
      },
      "execution_count": null,
      "outputs": [
        {
          "output_type": "stream",
          "name": "stdout",
          "text": [
            "                                        train_months  window_size  \\\n",
            "0  [2024-01, 2024-02, 2024-03, 2024-04, 2024-05, ...            6   \n",
            "1  [2024-02, 2024-03, 2024-04, 2024-05, 2024-06, ...            6   \n",
            "2  [2024-03, 2024-04, 2024-05, 2024-06, 2024-07, ...            6   \n",
            "3  [2024-04, 2024-05, 2024-06, 2024-07, 2024-08, ...            6   \n",
            "4  [2024-05, 2024-06, 2024-07, 2024-08, 2024-09, ...            6   \n",
            "5  [2024-06, 2024-07, 2024-08, 2024-09, 2024-10, ...            6   \n",
            "6  [2024-07, 2024-08, 2024-09, 2024-10, 2024-11, ...            6   \n",
            "\n",
            "   anomaly rate  \n",
            "0      0.063254  \n",
            "1      0.037814  \n",
            "2      0.019815  \n",
            "3      0.020675  \n",
            "4      0.041631  \n",
            "5      0.051819  \n",
            "6      0.013502  \n"
          ]
        }
      ]
    },
    {
      "cell_type": "markdown",
      "source": [
        "2 mesi di dati falsi"
      ],
      "metadata": {
        "id": "nVeIO6tAKnWf"
      }
    },
    {
      "cell_type": "code",
      "source": [
        "#parametri\n",
        "features = [\"Mode 1\", \"Mode 2\", \"Mode 3\", \"Mode 4\", \"Mode 5\", \"Mode 6\"]\n",
        "results_2m_fake = []\n",
        "\n",
        "train_df, valid_df = create_fake_month(df_original, frac_per_month=0.1, random_state=42)\n",
        "\n",
        "print(\"Giorni training:\", train_df[\"timestamp\"].dt.date.nunique())\n",
        "print(\"Giorni validation:\", valid_df[\"timestamp\"].dt.date.nunique())\n",
        "\n",
        "anomaly = anomaly_rate_DBSCAN(train_df, valid_df, features)\n",
        "results_2m_fake.append({\"window_size\": 2, \"anomaly\": anomaly})\n",
        "\n",
        "results_df_2m_fake = pd.DataFrame(results_2m_fake)\n",
        "print(results_df_2m_fake)"
      ],
      "metadata": {
        "colab": {
          "base_uri": "https://localhost:8080/"
        },
        "id": "wz7Sv2yHKpIw",
        "outputId": "c5ceef37-50f5-43c5-8feb-7a8887e3514a"
      },
      "execution_count": null,
      "outputs": [
        {
          "output_type": "stream",
          "name": "stdout",
          "text": [
            "Giorni training: 57\n",
            "Giorni validation: 547\n",
            "   window_size   anomaly\n",
            "0            2  0.012314\n"
          ]
        }
      ]
    },
    {
      "cell_type": "markdown",
      "source": [
        "4 mesi di dati falsi"
      ],
      "metadata": {
        "id": "5S_C1H9sKwVw"
      }
    },
    {
      "cell_type": "code",
      "source": [
        "#parametri\n",
        "features = [\"Mode 1\", \"Mode 2\", \"Mode 3\", \"Mode 4\", \"Mode 5\", \"Mode 6\"]\n",
        "results_4m_fake =[]\n",
        "train_df, valid_df = create_fake_month(df_original, frac_per_month=0.2, random_state=42)\n",
        "\n",
        "print(\"Giorni training:\", train_df[\"timestamp\"].dt.date.nunique())\n",
        "print(\"Giorni validation:\", valid_df[\"timestamp\"].dt.date.nunique())\n",
        "\n",
        "anomaly = anomaly_rate_DBSCAN(train_df, valid_df, features)\n",
        "results_4m_fake.append({\"window_size\": 4, \"anomaly\": anomaly})\n",
        "\n",
        "results_df_4m_fake = pd.DataFrame(results_4m_fake)\n",
        "print(results_df_4m_fake)"
      ],
      "metadata": {
        "colab": {
          "base_uri": "https://localhost:8080/"
        },
        "id": "kmak2SW7Kx6g",
        "outputId": "ead0c591-6bac-414a-d919-11bb047ec130"
      },
      "execution_count": null,
      "outputs": [
        {
          "output_type": "stream",
          "name": "stdout",
          "text": [
            "Giorni training: 117\n",
            "Giorni validation: 487\n",
            "   window_size   anomaly\n",
            "0            4  0.007837\n"
          ]
        }
      ]
    },
    {
      "cell_type": "markdown",
      "source": [
        "6 mesi di dati falsi"
      ],
      "metadata": {
        "id": "AYS4YLEEK5xL"
      }
    },
    {
      "cell_type": "code",
      "source": [
        "#parametri\n",
        "features = [\"Mode 1\", \"Mode 2\", \"Mode 3\", \"Mode 4\", \"Mode 5\", \"Mode 6\"]\n",
        "results_6m_fake = []\n",
        "train_df, valid_df = create_fake_month(df_original, frac_per_month=0.3, random_state=42)\n",
        "\n",
        "print(\"Giorni training:\", train_df[\"timestamp\"].dt.date.nunique())\n",
        "print(\"Giorni validation:\", valid_df[\"timestamp\"].dt.date.nunique())\n",
        "\n",
        "anomaly = anomaly_rate_DBSCAN(train_df, valid_df, features)\n",
        "results_6m_fake.append({\"window_size\": 6, \"anomaly\": anomaly})\n",
        "\n",
        "results_df_6m_fake = pd.DataFrame(results_6m_fake)\n",
        "print(results_df_6m_fake)"
      ],
      "metadata": {
        "colab": {
          "base_uri": "https://localhost:8080/"
        },
        "id": "Rj0Bvel_K-t9",
        "outputId": "e22c8b27-cbd3-4fb5-9d10-88c0b8f93805"
      },
      "execution_count": null,
      "outputs": [
        {
          "output_type": "stream",
          "name": "stdout",
          "text": [
            "Giorni training: 177\n",
            "Giorni validation: 427\n",
            "   window_size   anomaly\n",
            "0            6  0.010567\n"
          ]
        }
      ]
    },
    {
      "cell_type": "code",
      "source": [
        "real_results_df = pd.concat([results_df_2m, results_df_4m, results_df_6m])\n",
        "real_mean = real_results_df.groupby(\"window_size\")[\"anomaly rate\"].mean().reset_index()\n",
        "\n",
        "fake_results_df = pd.concat([results_df_2m_fake, results_df_4m_fake, results_df_6m_fake])\n",
        "\n",
        "plt.figure(figsize=(8,5))\n",
        "plt.plot(real_mean[\"window_size\"], real_mean[\"anomaly rate\"]*100, \"o-\", label=\"Media mesi reali\")\n",
        "plt.plot(fake_results_df[\"window_size\"], fake_results_df[\"anomaly\"]*100, \"o-\", label=\"Mesi fake\")\n",
        "plt.axhline(2, color=\"r\", linestyle=\"--\", label=\"soglia 2%\")\n",
        "plt.xlabel(\"Numero di mesi nel training set\")\n",
        "plt.ylabel(\"Anomaly rate (%)\")\n",
        "plt.title(\"Confronto mesi reali vs mesi fake\")\n",
        "plt.legend()\n",
        "plt.grid(True)\n",
        "\n",
        "plt.show()"
      ],
      "metadata": {
        "colab": {
          "base_uri": "https://localhost:8080/",
          "height": 487
        },
        "id": "oZ9Hebervmkq",
        "outputId": "72fa18b5-4e63-434a-9dbc-cf760cd90e7b"
      },
      "execution_count": null,
      "outputs": [
        {
          "output_type": "display_data",
          "data": {
            "text/plain": [
              "<Figure size 800x500 with 1 Axes>"
            ],
            "image/png": "[encoded data removed]"
          },
          "metadata": {}
        }
      ]
    },
    {
      "cell_type": "code",
      "source": [
        "labels = [\"2 mesi\", \"4 mesi\", \"6 mesi\"]\n",
        "real_results_df = pd.concat([results_df_2m, results_df_4m, results_df_6m])\n",
        "real_mean = real_results_df.groupby(\"window_size\")[\"anomaly rate\"].mean().reset_index()\n",
        "real_std = real_results_df.groupby(\"window_size\")[\"anomaly rate\"].std().reset_index()\n",
        "\n",
        "fake_results_df = pd.concat([results_df_2m_fake, results_df_4m_fake, results_df_6m_fake])\n",
        "\n",
        "x = np.arange(len(labels))\n",
        "w = 0.35\n",
        "\n",
        "fig, ax = plt.subplots(figsize=(8, 5))\n",
        "bars1 = ax.bar(x - w/2, real_mean[\"anomaly rate\"]*100, w, yerr= real_std[\"anomaly rate\"]*100, label=\"Mesi reali consecutivi (media)\")\n",
        "bars2 = ax.bar(x + w/2, fake_results_df[\"anomaly\"]*100, w, label=\"Mesi falsi\")\n",
        "ax.axhline(2, color=\"r\", linestyle=\"--\", label=\"soglia 2%\")\n",
        "ax.set_xlabel(\"Numero di mesi nel training set\")\n",
        "ax.set_ylabel(\"Anomaly rate (%)\")\n",
        "ax.set_title(\"Confronto mesi reali vs mesi fake\")\n",
        "\n",
        "ax.set_xticks(x)\n",
        "ax.set_xticklabels(labels)\n",
        "ax.legend()\n",
        "ax.grid(axis=\"y\", linestyle=\":\", alpha=0.6)\n",
        "\n",
        "def add_labels(bars):\n",
        "  for bar in bars:\n",
        "    height = bar.get_height()\n",
        "    ax.text(\n",
        "        bar.get_x() + bar.get_width()/2,\n",
        "        height + 0.4,\n",
        "        f\"{height:.2f}\",\n",
        "        ha=\"center\",\n",
        "        va=\"bottom\",\n",
        "        fontsize=9,\n",
        "        color=\"white\",\n",
        "        bbox = dict(facecolor=\"black\", alpha=0.5, edgecolor=\"none\")\n",
        "    )\n",
        "\n",
        "add_labels(bars1)\n",
        "add_labels(bars2)\n",
        "plt.tight_layout()\n",
        "plt.show()"
      ],
      "metadata": {
        "colab": {
          "base_uri": "https://localhost:8080/",
          "height": 507
        },
        "id": "C5lM1J4dyHRb",
        "outputId": "70f9d4e4-bd6a-4578-d219-87746eadce37"
      },
      "execution_count": null,
      "outputs": [
        {
          "output_type": "display_data",
          "data": {
            "text/plain": [
              "<Figure size 800x500 with 1 Axes>"
            ],
            "image/png": "[encoded data removed]"
          },
          "metadata": {}
        }
      ]
    },
    {
      "cell_type": "markdown",
      "source": [
        "# Finestre temporali con temperatura"
      ],
      "metadata": {
        "id": "CbtyfsX0LDFf"
      }
    },
    {
      "cell_type": "code",
      "source": [
        "df_temp = pd.read_csv(\"/content/data_temperature.csv\", encoding = \"utf-8\")\n",
        "df_temp[\"timestamp\"] = pd.to_datetime(df_temp[\"timestamp\"])\n",
        "df_temp[\"timestamp\"] = df_temp[\"timestamp\"].dt.tz_localize(None)\n",
        "df_temp = df_temp.sort_values(\"timestamp\")\n",
        "\n",
        "end = \"2025-01-01\"\n",
        "new_df = df_temp[(df_temp[\"timestamp\"] < end)]"
      ],
      "metadata": {
        "id": "eqeHHcMCLGzJ"
      },
      "execution_count": null,
      "outputs": []
    },
    {
      "cell_type": "code",
      "source": [
        "#parametri\n",
        "features = [\"Mode 1\", \"Mode 2\", \"Mode 3\", \"Mode 4\", \"Mode 5\", \"Mode 6\", \"temperatura\"]\n",
        "results = []\n",
        "window_size = 2\n",
        "n_months = 12\n",
        "start_date = new_df[\"timestamp\"].min()\n",
        "\n",
        "for m in range(1, n_months - window_size + 2):\n",
        "  train_start = start_date + pd.DateOffset(months=m-1)\n",
        "  train_end = start_date + pd.DateOffset(months=m-1+window_size)\n",
        "  train_df = new_df[(new_df[\"timestamp\"] >= train_start) & (new_df[\"timestamp\"] < train_end)]\n",
        "\n",
        "  valid_df = new_df[~new_df[\"timestamp\"].isin(train_df[\"timestamp\"])]\n",
        "\n",
        "  anomaly = anomaly_rate_DBSCAN(train_df, valid_df, features)\n",
        "\n",
        "  train_months = sorted(train_df[\"timestamp\"].dt.to_period(\"M\").unique())\n",
        "\n",
        "  results.append({\"train_months\": [str(x) for x in train_months] , \"anomaly rate\": anomaly})\n",
        "\n",
        "results_df = pd.DataFrame(results)\n",
        "print(results_df)"
      ],
      "metadata": {
        "colab": {
          "base_uri": "https://localhost:8080/"
        },
        "id": "x5P92vs4LL_g",
        "outputId": "080b43e0-fe66-46c3-bcda-92c33c92ff88"
      },
      "execution_count": null,
      "outputs": [
        {
          "output_type": "stream",
          "name": "stdout",
          "text": [
            "          train_months  anomaly rate\n",
            "0   [2024-01, 2024-02]      0.631847\n",
            "1   [2024-02, 2024-03]      0.586015\n",
            "2   [2024-03, 2024-04]      0.345987\n",
            "3   [2024-04, 2024-05]      0.183514\n",
            "4   [2024-05, 2024-06]      0.162038\n",
            "5   [2024-06, 2024-07]      0.470431\n",
            "6   [2024-07, 2024-08]      0.698487\n",
            "7   [2024-08, 2024-09]      0.461834\n",
            "8   [2024-09, 2024-10]      0.368569\n",
            "9   [2024-10, 2024-11]      0.242033\n",
            "10  [2024-11, 2024-12]      0.334191\n"
          ]
        }
      ]
    },
    {
      "cell_type": "code",
      "source": [
        "#parametri\n",
        "features = [\"Mode 1\", \"Mode 2\", \"Mode 3\", \"Mode 4\", \"Mode 5\", \"Mode 6\", \"temperatura\"]\n",
        "results = []\n",
        "window_size = 4\n",
        "n_months = 12\n",
        "start_date = new_df[\"timestamp\"].min()\n",
        "\n",
        "for m in range(1, n_months - window_size + 2):\n",
        "  train_start = start_date + pd.DateOffset(months=m-1)\n",
        "  train_end = start_date + pd.DateOffset(months=m-1+window_size)\n",
        "  train_df = new_df[(new_df[\"timestamp\"] >= train_start) & (new_df[\"timestamp\"] < train_end)]\n",
        "\n",
        "  valid_df = new_df[~new_df[\"timestamp\"].isin(train_df[\"timestamp\"])]\n",
        "\n",
        "  anomaly = anomaly_rate_DBSCAN(train_df, valid_df, features)\n",
        "\n",
        "  train_months = sorted(train_df[\"timestamp\"].dt.to_period(\"M\").unique())\n",
        "\n",
        "  results.append({\"train_months\": [str(x) for x in train_months] , \"anomaly rate\": anomaly})\n",
        "\n",
        "results_df = pd.DataFrame(results)\n",
        "print(results_df)"
      ],
      "metadata": {
        "colab": {
          "base_uri": "https://localhost:8080/"
        },
        "id": "z8rzS8t_LP8J",
        "outputId": "efab13d3-1cdb-48bc-e704-e16867f9a63c"
      },
      "execution_count": null,
      "outputs": [
        {
          "output_type": "stream",
          "name": "stdout",
          "text": [
            "                           train_months  anomaly rate\n",
            "0  [2024-01, 2024-02, 2024-03, 2024-04]      0.463136\n",
            "1  [2024-02, 2024-03, 2024-04, 2024-05]      0.222415\n",
            "2  [2024-03, 2024-04, 2024-05, 2024-06]      0.070654\n",
            "3  [2024-04, 2024-05, 2024-06, 2024-07]      0.046103\n",
            "4  [2024-05, 2024-06, 2024-07, 2024-08]      0.159536\n",
            "5  [2024-06, 2024-07, 2024-08, 2024-09]      0.571179\n",
            "6  [2024-07, 2024-08, 2024-09, 2024-10]      0.412373\n",
            "7  [2024-08, 2024-09, 2024-10, 2024-11]      0.046787\n",
            "8  [2024-09, 2024-10, 2024-11, 2024-12]      0.063953\n"
          ]
        }
      ]
    },
    {
      "cell_type": "code",
      "source": [
        "#parametri\n",
        "features = [\"Mode 1\", \"Mode 2\", \"Mode 3\", \"Mode 4\", \"Mode 5\", \"Mode 6\", \"temperatura\"]\n",
        "results = []\n",
        "window_size = 6\n",
        "n_months = 12\n",
        "start_date = new_df[\"timestamp\"].min()\n",
        "\n",
        "for m in range(1, n_months - window_size + 2):\n",
        "  train_start = start_date + pd.DateOffset(months=m-1)\n",
        "  train_end = start_date + pd.DateOffset(months=m-1+window_size)\n",
        "  train_df = new_df[(new_df[\"timestamp\"] >= train_start) & (new_df[\"timestamp\"] < train_end)]\n",
        "\n",
        "  valid_df = new_df[~new_df[\"timestamp\"].isin(train_df[\"timestamp\"])]\n",
        "\n",
        "  anomaly = anomaly_rate_DBSCAN(train_df, valid_df, features)\n",
        "\n",
        "  train_months = sorted(train_df[\"timestamp\"].dt.to_period(\"M\").unique())\n",
        "\n",
        "  results.append({\"train_months\": [str(x) for x in train_months] , \"anomaly rate\": anomaly})\n",
        "\n",
        "results_df = pd.DataFrame(results)\n",
        "print(results_df)"
      ],
      "metadata": {
        "colab": {
          "base_uri": "https://localhost:8080/"
        },
        "id": "rPZdUeGaLQ8n",
        "outputId": "6cc50abb-f3e7-4030-bb1a-4120690f00b9"
      },
      "execution_count": null,
      "outputs": [
        {
          "output_type": "stream",
          "name": "stdout",
          "text": [
            "                                        train_months  anomaly rate\n",
            "0  [2024-01, 2024-02, 2024-03, 2024-04, 2024-05, ...      0.090121\n",
            "1  [2024-02, 2024-03, 2024-04, 2024-05, 2024-06, ...      0.042385\n",
            "2  [2024-03, 2024-04, 2024-05, 2024-06, 2024-07, ...      0.025506\n",
            "3  [2024-04, 2024-05, 2024-06, 2024-07, 2024-08, ...      0.046203\n",
            "4  [2024-05, 2024-06, 2024-07, 2024-08, 2024-09, ...      0.219201\n",
            "5  [2024-06, 2024-07, 2024-08, 2024-09, 2024-10, ...      0.084602\n",
            "6  [2024-07, 2024-08, 2024-09, 2024-10, 2024-11, ...      0.015431\n"
          ]
        }
      ]
    }
  ]
}