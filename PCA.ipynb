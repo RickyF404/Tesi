{
  "nbformat": 4,
  "nbformat_minor": 0,
  "metadata": {
    "colab": {
      "provenance": [],
      "mount_file_id": "1ogshWaQ8XGue37Cawm3Mff99ZWEtZz3v",
      "authorship_tag": "ABX9TyOpCiUW6r0NOTbTYJAa1cCO",
      "include_colab_link": true
    },
    "kernelspec": {
      "name": "python3",
      "display_name": "Python 3"
    },
    "language_info": {
      "name": "python"
    }
  },
  "cells": [
    {
      "cell_type": "markdown",
      "metadata": {
        "id": "view-in-github",
        "colab_type": "text"
      },
      "source": [
        "<a href=\"https://colab.research.google.com/github/RickyF404/Tesi/blob/main/PCA.ipynb\" target=\"_parent\"><img src=\"https://colab.research.google.com/assets/colab-badge.svg\" alt=\"Open In Colab\"/></a>"
      ]
    },
    {
      "cell_type": "code",
      "source": [
        "import pandas as pd\n",
        "from sklearn.preprocessing import StandardScaler\n",
        "from sklearn.decomposition import PCA\n",
        "import numpy as np\n",
        "import matplotlib.pyplot as plt"
      ],
      "metadata": {
        "id": "WQZLj8V_wFqx"
      },
      "execution_count": null,
      "outputs": []
    },
    {
      "cell_type": "code",
      "source": [
        "url_no_temp = \"https://drive.google.com/uc?id=1jerpsOqjogEnnriBkHOrDDEeh1wJry_o\"\n",
        "output_no_temp = \"data_no_temperature.csv\"\n",
        "gdown.download(url_no_temp, output_no_temp)\n",
        "\n",
        "url_temp = \" https://drive.google.com/uc?id=1RofjUHZS_UAnbF6Xe74jTp9z4Mmk7swH\"\n",
        "output_temp = \"data_temperature.csv\"\n",
        "gdown.download(url_temp, output_temp)"
      ],
      "metadata": {
        "id": "qjjAt7t7EsOC"
      },
      "execution_count": null,
      "outputs": []
    },
    {
      "cell_type": "markdown",
      "source": [
        "# Dataset senza temperatura"
      ],
      "metadata": {
        "id": "ucC3a2qD7V5-"
      }
    },
    {
      "cell_type": "markdown",
      "source": [
        "Percentile 98.5"
      ],
      "metadata": {
        "id": "52DCav_z7aQA"
      }
    },
    {
      "cell_type": "code",
      "source": [
        "df = pd.read_csv(\"/content/data_no_temperature.csv\", parse_dates=[\"timestamp\"])\n",
        "df = df.sort_values(\"timestamp\")\n",
        "results = []\n",
        "\n",
        "df[\"month\"] = df[\"timestamp\"].dt.to_period(\"M\")\n",
        "\n",
        "# cols_features = [c for c in df.columns if c not in (\"timestamp\", \"month\")]\n",
        "\n",
        "#Normalizzazione\n",
        "# X = StandardScaler().fit_transform(df[cols_features])\n",
        "\n",
        "\n",
        "#training su mesi consecutivi\n",
        "months = sorted(df[\"month\"].unique())\n",
        "\n",
        "for i in range(1, len(months)):\n",
        "  train_months = months[:i]\n",
        "  val_months = months[i:]\n",
        "\n",
        "  train_data = df[df[\"month\"].isin(train_months)]\n",
        "  val_data = df[df[\"month\"].isin(val_months)]\n",
        "\n",
        "  #preprocessing\n",
        "  scaler = StandardScaler()\n",
        "  X_train = scaler.fit_transform(train_data.drop(columns = [\"timestamp\", \"month\"]))\n",
        "  X_val = scaler.transform(val_data.drop(columns = [\"timestamp\", \"month\"]))\n",
        "\n",
        "\n",
        "  pca = PCA(n_components = 0.95)\n",
        "  X_train_pca = pca.fit_transform(X_train)\n",
        "  X_train_reconstructed = pca.inverse_transform(X_train_pca)\n",
        "  train_err = np.mean((X_train - X_train_reconstructed)**2, axis = 1)\n",
        "  threshold = np.percentile(train_err, 98.5)\n",
        "\n",
        "  X_val_pca = pca.transform(X_val)\n",
        "  X_val_reconstructed = pca.inverse_transform(X_val_pca)\n",
        "  val_err = np.mean((X_val - X_val_reconstructed)**2, axis = 1)\n",
        "\n",
        "  anomaly_rate = np.mean(val_err > threshold)\n",
        "  results.append((i, anomaly_rate))\n",
        "\n",
        "for i, rate in results:\n",
        "  print(f\"{i} mesi -> anomaly rate: {rate:.2%}\")"
      ],
      "metadata": {
        "colab": {
          "base_uri": "https://localhost:8080/"
        },
        "id": "vK6fUUVC5gCH",
        "outputId": "40bcf2b7-f375-442c-8266-8c5ec0498776"
      },
      "execution_count": null,
      "outputs": [
        {
          "output_type": "stream",
          "name": "stderr",
          "text": [
            "/tmp/ipython-input-1836639023.py:5: UserWarning: Converting to PeriodArray/Index representation will drop timezone information.\n",
            "  df[\"month\"] = df[\"timestamp\"].dt.to_period(\"M\")\n"
          ]
        },
        {
          "output_type": "stream",
          "name": "stdout",
          "text": [
            "1 mesi -> anomaly rate: 12.11%\n",
            "2 mesi -> anomaly rate: 7.09%\n",
            "3 mesi -> anomaly rate: 31.44%\n",
            "4 mesi -> anomaly rate: 8.72%\n",
            "5 mesi -> anomaly rate: 13.74%\n",
            "6 mesi -> anomaly rate: 3.85%\n",
            "7 mesi -> anomaly rate: 2.29%\n",
            "8 mesi -> anomaly rate: 2.48%\n",
            "9 mesi -> anomaly rate: 1.33%\n",
            "10 mesi -> anomaly rate: 2.01%\n",
            "11 mesi -> anomaly rate: 1.64%\n",
            "12 mesi -> anomaly rate: 1.80%\n",
            "13 mesi -> anomaly rate: 2.28%\n",
            "14 mesi -> anomaly rate: 1.83%\n",
            "15 mesi -> anomaly rate: 2.37%\n",
            "16 mesi -> anomaly rate: 2.54%\n",
            "17 mesi -> anomaly rate: 2.82%\n",
            "18 mesi -> anomaly rate: 4.51%\n",
            "19 mesi -> anomaly rate: 8.16%\n"
          ]
        }
      ]
    },
    {
      "cell_type": "markdown",
      "source": [
        "Percentile 99"
      ],
      "metadata": {
        "id": "I9NcDHZR7eRf"
      }
    },
    {
      "cell_type": "code",
      "execution_count": null,
      "metadata": {
        "colab": {
          "base_uri": "https://localhost:8080/"
        },
        "id": "FKIgZYWnvccK",
        "outputId": "0d6587e0-83bd-41b4-d506-22bda3edf5c3"
      },
      "outputs": [
        {
          "output_type": "stream",
          "name": "stderr",
          "text": [
            "/tmp/ipython-input-1459207288.py:5: UserWarning: Converting to PeriodArray/Index representation will drop timezone information.\n",
            "  df[\"month\"] = df[\"timestamp\"].dt.to_period(\"M\")\n"
          ]
        },
        {
          "output_type": "stream",
          "name": "stdout",
          "text": [
            "1 mesi -> anomaly rate: 9.68%\n",
            "2 mesi -> anomaly rate: 4.16%\n",
            "3 mesi -> anomaly rate: 27.57%\n",
            "4 mesi -> anomaly rate: 6.59%\n",
            "5 mesi -> anomaly rate: 11.13%\n",
            "6 mesi -> anomaly rate: 2.63%\n",
            "7 mesi -> anomaly rate: 1.33%\n",
            "8 mesi -> anomaly rate: 1.69%\n",
            "9 mesi -> anomaly rate: 0.93%\n",
            "10 mesi -> anomaly rate: 1.31%\n",
            "11 mesi -> anomaly rate: 1.08%\n",
            "12 mesi -> anomaly rate: 1.24%\n",
            "13 mesi -> anomaly rate: 1.46%\n",
            "14 mesi -> anomaly rate: 1.46%\n",
            "15 mesi -> anomaly rate: 1.91%\n",
            "16 mesi -> anomaly rate: 1.76%\n",
            "17 mesi -> anomaly rate: 1.81%\n",
            "18 mesi -> anomaly rate: 3.32%\n",
            "19 mesi -> anomaly rate: 6.12%\n"
          ]
        }
      ],
      "source": [
        "df = pd.read_csv(\"/content/data_no_temperature.csv\", parse_dates=[\"timestamp\"])\n",
        "df = df.sort_values(\"timestamp\")\n",
        "results = []\n",
        "\n",
        "df[\"month\"] = df[\"timestamp\"].dt.to_period(\"M\")\n",
        "\n",
        "# cols_features = [c for c in df.columns if c not in (\"timestamp\", \"month\")]\n",
        "\n",
        "#Normalizzazione\n",
        "# X = StandardScaler().fit_transform(df[cols_features])\n",
        "\n",
        "\n",
        "#training su mesi consecutivi\n",
        "months = sorted(df[\"month\"].unique())\n",
        "\n",
        "for i in range(1, len(months)):\n",
        "  train_months = months[:i]\n",
        "  val_months = months[i:]\n",
        "\n",
        "  train_data = df[df[\"month\"].isin(train_months)]\n",
        "  val_data = df[df[\"month\"].isin(val_months)]\n",
        "\n",
        "  #preprocessing\n",
        "  scaler = StandardScaler()\n",
        "  X_train = scaler.fit_transform(train_data.drop(columns = [\"timestamp\", \"month\"]))\n",
        "  X_val = scaler.transform(val_data.drop(columns = [\"timestamp\", \"month\"]))\n",
        "\n",
        "  pca = PCA(n_components = 0.95)\n",
        "  X_train_pca = pca.fit_transform(X_train)\n",
        "  X_train_reconstructed = pca.inverse_transform(X_train_pca)\n",
        "  train_err = np.mean((X_train - X_train_reconstructed)**2, axis = 1)\n",
        "  threshold = np.percentile(train_err, 99)\n",
        "\n",
        "  X_val_pca = pca.transform(X_val)\n",
        "  X_val_reconstructed = pca.inverse_transform(X_val_pca)\n",
        "  val_err = np.mean((X_val - X_val_reconstructed)**2, axis = 1)\n",
        "\n",
        "  anomaly_rate = np.mean(val_err > threshold)\n",
        "  results.append((i, anomaly_rate))\n",
        "\n",
        "for i, rate in results:\n",
        "  print(f\"{i} mesi -> anomaly rate: {rate:.2%}\")"
      ]
    },
    {
      "cell_type": "markdown",
      "source": [
        "# Dataset con temperatura"
      ],
      "metadata": {
        "id": "yvv8cMqq7hKt"
      }
    },
    {
      "cell_type": "code",
      "source": [
        "df = pd.read_csv(\"/content/data_temperature.csv\", parse_dates=[\"timestamp\"])\n",
        "df = df.sort_values(\"timestamp\")\n",
        "results = []\n",
        "\n",
        "df[\"month\"] = df[\"timestamp\"].dt.to_period(\"M\")\n",
        "\n",
        "# cols_features = [c for c in df.columns if c not in (\"timestamp\", \"month\")]\n",
        "\n",
        "#Normalizzazione\n",
        "# X = StandardScaler().fit_transform(df[cols_features])\n",
        "\n",
        "\n",
        "#training su mesi consecutivi\n",
        "months = sorted(df[\"month\"].unique())\n",
        "\n",
        "for i in range(1, len(months)):\n",
        "  train_months = months[:i]\n",
        "  val_months = months[i:]\n",
        "\n",
        "  train_data = df[df[\"month\"].isin(train_months)]\n",
        "  val_data = df[df[\"month\"].isin(val_months)]\n",
        "\n",
        "  #preprocessing\n",
        "  scaler = StandardScaler()\n",
        "  X_train = scaler.fit_transform(train_data.drop(columns = [\"timestamp\", \"month\"]))\n",
        "  X_val = scaler.transform(val_data.drop(columns = [\"timestamp\", \"month\"]))\n",
        "\n",
        "  pca = PCA(n_components = 0.95)\n",
        "  X_train_pca = pca.fit_transform(X_train)\n",
        "  X_train_reconstructed = pca.inverse_transform(X_train_pca)\n",
        "  train_err = np.mean((X_train - X_train_reconstructed)**2, axis = 1)\n",
        "  threshold = np.percentile(train_err, 98.5)\n",
        "\n",
        "  X_val_pca = pca.transform(X_val)\n",
        "  X_val_reconstructed = pca.inverse_transform(X_val_pca)\n",
        "  val_err = np.mean((X_val - X_val_reconstructed)**2, axis = 1)\n",
        "\n",
        "  anomaly_rate = np.mean(val_err > threshold)\n",
        "  results.append((i, anomaly_rate))\n",
        "\n",
        "for i, rate in results:\n",
        "  print(f\"{i} mesi -> anomaly rate: {rate:.2%}\")"
      ],
      "metadata": {
        "colab": {
          "base_uri": "https://localhost:8080/"
        },
        "id": "TUUs6qqD7lCP",
        "outputId": "55b54e3a-6295-44dc-e170-4069aee1b2b1"
      },
      "execution_count": null,
      "outputs": [
        {
          "output_type": "stream",
          "name": "stderr",
          "text": [
            "/tmp/ipython-input-984004225.py:5: UserWarning: Converting to PeriodArray/Index representation will drop timezone information.\n",
            "  df[\"month\"] = df[\"timestamp\"].dt.to_period(\"M\")\n"
          ]
        },
        {
          "output_type": "stream",
          "name": "stdout",
          "text": [
            "1 mesi -> anomaly rate: 45.29%\n",
            "2 mesi -> anomaly rate: 12.66%\n",
            "3 mesi -> anomaly rate: 53.03%\n",
            "4 mesi -> anomaly rate: 11.33%\n",
            "5 mesi -> anomaly rate: 24.93%\n",
            "6 mesi -> anomaly rate: 18.37%\n",
            "7 mesi -> anomaly rate: 1.87%\n",
            "8 mesi -> anomaly rate: 1.27%\n",
            "9 mesi -> anomaly rate: 1.34%\n",
            "10 mesi -> anomaly rate: 1.57%\n",
            "11 mesi -> anomaly rate: 1.64%\n",
            "12 mesi -> anomaly rate: 1.56%\n",
            "13 mesi -> anomaly rate: 1.70%\n",
            "14 mesi -> anomaly rate: 1.48%\n",
            "15 mesi -> anomaly rate: 1.86%\n",
            "16 mesi -> anomaly rate: 2.01%\n",
            "17 mesi -> anomaly rate: 2.86%\n",
            "18 mesi -> anomaly rate: 3.20%\n",
            "19 mesi -> anomaly rate: 3.95%\n"
          ]
        }
      ]
    },
    {
      "cell_type": "markdown",
      "source": [
        "# Finestre temporali senza temperatura"
      ],
      "metadata": {
        "id": "gatoAY3yjfOn"
      }
    },
    {
      "cell_type": "code",
      "source": [
        "df_original = pd.read_csv(\"/content/data_no_temperature.csv\", encoding = \"utf-8\")\n",
        "df_original[\"timestamp\"] = pd.to_datetime(df_original[\"timestamp\"])\n",
        "df_original[\"timestamp\"] = df_original[\"timestamp\"].dt.tz_localize(None)\n",
        "df_original = df_original.sort_values(\"timestamp\")\n",
        "\n",
        "end = \"2025-01-01\"\n",
        "df = df_original[(df_original[\"timestamp\"] < end)]"
      ],
      "metadata": {
        "id": "ch4szMoGjeNt"
      },
      "execution_count": null,
      "outputs": []
    },
    {
      "cell_type": "code",
      "source": [
        "def anomaly_rate_PCA(train_df, valid_df, features):\n",
        "  scaler = StandardScaler()\n",
        "  # scaler = RobustScaler()\n",
        "  X_train = scaler.fit_transform(train_df[features])\n",
        "  X_val = scaler.transform(valid_df[features])\n",
        "\n",
        "  pca = PCA(n_components = 0.95)\n",
        "  X_train_pca = pca.fit_transform(X_train)\n",
        "  X_train_reconstructed = pca.inverse_transform(X_train_pca)\n",
        "  train_err = np.mean((X_train - X_train_reconstructed)**2, axis = 1)\n",
        "  threshold = np.percentile(train_err, 98.5)\n",
        "\n",
        "  X_val_pca = pca.transform(X_val)\n",
        "  X_val_reconstructed = pca.inverse_transform(X_val_pca)\n",
        "  val_err = np.mean((X_val - X_val_reconstructed)**2, axis = 1)\n",
        "  anomaly_rate = np.mean(val_err > threshold)\n",
        "\n",
        "  return anomaly_rate"
      ],
      "metadata": {
        "id": "r4g14xpMjr2-"
      },
      "execution_count": null,
      "outputs": []
    },
    {
      "cell_type": "code",
      "source": [
        "def create_fake_month(df, frac_per_month, random_state):\n",
        "  rng = np.random.default_rng(seed=random_state) # generatore casuale con seed\n",
        "  df[\"day\"] = df[\"timestamp\"].dt.floor(\"D\")\n",
        "  df[\"year_month\"] = df[\"timestamp\"].dt.to_period(\"M\")\n",
        "  train_indices = []\n",
        "\n",
        "  for ym, group in df.groupby(\"year_month\"):\n",
        "    days = group[\"day\"].unique()\n",
        "    n_take = max(1, int(len(days) * frac_per_month))\n",
        "    sampled_days = rng.choice(days, size=n_take, replace=False)\n",
        "    sel = group[group[\"day\"].isin(sampled_days)].index.tolist()\n",
        "    train_indices += sel\n",
        "\n",
        "  train_df = df.loc[train_indices].copy()\n",
        "  valid_df = df.drop(index=train_indices).copy()\n",
        "  train_df = train_df.drop(columns=[\"day\", \"year_month\"])\n",
        "  valid_df = valid_df.drop(columns=[\"day\", \"year_month\"])\n",
        "  train_df = train_df.sort_values(\"timestamp\")\n",
        "  valid_df = valid_df.sort_values(\"timestamp\")\n",
        "\n",
        "  return train_df, valid_df"
      ],
      "metadata": {
        "id": "In7XrczRkzjE"
      },
      "execution_count": null,
      "outputs": []
    },
    {
      "cell_type": "markdown",
      "source": [
        "2 mesi di dati reali"
      ],
      "metadata": {
        "id": "5F05ytXikX_h"
      }
    },
    {
      "cell_type": "code",
      "source": [
        "#parametri\n",
        "features = [\"Mode 1\", \"Mode 2\", \"Mode 3\", \"Mode 4\", \"Mode 5\", \"Mode 6\"]\n",
        "results = []\n",
        "window_size = 2\n",
        "n_months = 12\n",
        "start_date = df[\"timestamp\"].min()\n",
        "\n",
        "for m in range(1, n_months - window_size + 2):\n",
        "  train_start = start_date + pd.DateOffset(months=m-1)\n",
        "  train_end = start_date + pd.DateOffset(months=m-1+window_size)\n",
        "  train_df = df[(df[\"timestamp\"] >= train_start) & (df[\"timestamp\"] < train_end)]\n",
        "\n",
        "  valid_df = df[~df[\"timestamp\"].isin(train_df[\"timestamp\"])]\n",
        "\n",
        "  anomaly = anomaly_rate_PCA(train_df, valid_df, features)\n",
        "\n",
        "  train_months = sorted(train_df[\"timestamp\"].dt.to_period(\"M\").unique())\n",
        "\n",
        "  results.append({\"train_months\": [str(x) for x in train_months] , \"window_size\": len(train_months), \"anomaly rate\": anomaly})\n",
        "\n",
        "results_df_2m = pd.DataFrame(results)\n",
        "print(results_df_2m)"
      ],
      "metadata": {
        "colab": {
          "base_uri": "https://localhost:8080/"
        },
        "id": "iy8hQ7qckWMM",
        "outputId": "a472d142-d7d9-4e46-cf16-5b75410a16d4"
      },
      "execution_count": null,
      "outputs": [
        {
          "output_type": "stream",
          "name": "stdout",
          "text": [
            "          train_months  window_size  anomaly rate\n",
            "0   [2024-01, 2024-02]            2      0.068025\n",
            "1   [2024-02, 2024-03]            2      0.298581\n",
            "2   [2024-03, 2024-04]            2      0.278217\n",
            "3   [2024-04, 2024-05]            2      0.055080\n",
            "4   [2024-05, 2024-06]            2      0.027646\n",
            "5   [2024-06, 2024-07]            2      0.060406\n",
            "6   [2024-07, 2024-08]            2      0.063684\n",
            "7   [2024-08, 2024-09]            2      0.116865\n",
            "8   [2024-09, 2024-10]            2      0.110059\n",
            "9   [2024-10, 2024-11]            2      0.045437\n",
            "10  [2024-11, 2024-12]            2      0.041436\n"
          ]
        }
      ]
    },
    {
      "cell_type": "markdown",
      "source": [
        "4 mesi di dati reali"
      ],
      "metadata": {
        "id": "P2xDyJcrkhFv"
      }
    },
    {
      "cell_type": "code",
      "source": [
        "#parametri\n",
        "features = [\"Mode 1\", \"Mode 2\", \"Mode 3\", \"Mode 4\", \"Mode 5\", \"Mode 6\"]\n",
        "results = []\n",
        "window_size = 4\n",
        "n_months = 12\n",
        "start_date = df[\"timestamp\"].min()\n",
        "\n",
        "for m in range(1, n_months - window_size + 2):\n",
        "  train_start = start_date + pd.DateOffset(months=m-1)\n",
        "  train_end = start_date + pd.DateOffset(months=m-1+window_size)\n",
        "  train_df = df[(df[\"timestamp\"] >= train_start) & (df[\"timestamp\"] < train_end)]\n",
        "\n",
        "  valid_df = df[~df[\"timestamp\"].isin(train_df[\"timestamp\"])]\n",
        "\n",
        "  anomaly = anomaly_rate_PCA(train_df, valid_df, features)\n",
        "\n",
        "  train_months = sorted(train_df[\"timestamp\"].dt.to_period(\"M\").unique())\n",
        "\n",
        "  results.append({\"train_months\": [str(x) for x in train_months] , \"window_size\": len(train_months), \"anomaly rate\": anomaly})\n",
        "\n",
        "results_df_4m = pd.DataFrame(results)\n",
        "print(results_df_4m)"
      ],
      "metadata": {
        "colab": {
          "base_uri": "https://localhost:8080/"
        },
        "id": "QDoqr1CVki9s",
        "outputId": "31cbb8c0-977f-4a53-cd8b-dbb8b42afd3a"
      },
      "execution_count": null,
      "outputs": [
        {
          "output_type": "stream",
          "name": "stdout",
          "text": [
            "                           train_months  window_size  anomaly rate\n",
            "0  [2024-01, 2024-02, 2024-03, 2024-04]            4      0.092596\n",
            "1  [2024-02, 2024-03, 2024-04, 2024-05]            4      0.035726\n",
            "2  [2024-03, 2024-04, 2024-05, 2024-06]            4      0.058692\n",
            "3  [2024-04, 2024-05, 2024-06, 2024-07]            4      0.032795\n",
            "4  [2024-05, 2024-06, 2024-07, 2024-08]            4      0.046922\n",
            "5  [2024-06, 2024-07, 2024-08, 2024-09]            4      0.025048\n",
            "6  [2024-07, 2024-08, 2024-09, 2024-10]            4      0.067748\n",
            "7  [2024-08, 2024-09, 2024-10, 2024-11]            4      0.020189\n",
            "8  [2024-09, 2024-10, 2024-11, 2024-12]            4      0.011305\n"
          ]
        }
      ]
    },
    {
      "cell_type": "markdown",
      "source": [
        "6 mesi di dati reali"
      ],
      "metadata": {
        "id": "scp2pbuvkqF0"
      }
    },
    {
      "cell_type": "code",
      "source": [
        "#parametri\n",
        "features = [\"Mode 1\", \"Mode 2\", \"Mode 3\", \"Mode 4\", \"Mode 5\", \"Mode 6\"]\n",
        "results = []\n",
        "window_size = 6\n",
        "n_months = 12\n",
        "start_date = df[\"timestamp\"].min()\n",
        "\n",
        "for m in range(1, n_months - window_size + 2):\n",
        "  train_start = start_date + pd.DateOffset(months=m-1)\n",
        "  train_end = start_date + pd.DateOffset(months=m-1+window_size)\n",
        "  train_df = df[(df[\"timestamp\"] >= train_start) & (df[\"timestamp\"] < train_end)]\n",
        "\n",
        "  valid_df = df[~df[\"timestamp\"].isin(train_df[\"timestamp\"])]\n",
        "\n",
        "  anomaly = anomaly_rate_PCA(train_df, valid_df, features)\n",
        "\n",
        "  train_months = sorted(train_df[\"timestamp\"].dt.to_period(\"M\").unique())\n",
        "\n",
        "  results.append({\"train_months\": [str(x) for x in train_months] ,  \"window_size\": len(train_months), \"anomaly rate\": anomaly})\n",
        "\n",
        "results_df_6m = pd.DataFrame(results)\n",
        "print(results_df_6m)"
      ],
      "metadata": {
        "colab": {
          "base_uri": "https://localhost:8080/"
        },
        "id": "Q6EVsqRfksk9",
        "outputId": "70e9f180-9238-416d-edc2-e5cd01f2e1b1"
      },
      "execution_count": null,
      "outputs": [
        {
          "output_type": "stream",
          "name": "stdout",
          "text": [
            "                                        train_months  window_size  \\\n",
            "0  [2024-01, 2024-02, 2024-03, 2024-04, 2024-05, ...            6   \n",
            "1  [2024-02, 2024-03, 2024-04, 2024-05, 2024-06, ...            6   \n",
            "2  [2024-03, 2024-04, 2024-05, 2024-06, 2024-07, ...            6   \n",
            "3  [2024-04, 2024-05, 2024-06, 2024-07, 2024-08, ...            6   \n",
            "4  [2024-05, 2024-06, 2024-07, 2024-08, 2024-09, ...            6   \n",
            "5  [2024-06, 2024-07, 2024-08, 2024-09, 2024-10, ...            6   \n",
            "6  [2024-07, 2024-08, 2024-09, 2024-10, 2024-11, ...            6   \n",
            "\n",
            "   anomaly rate  \n",
            "0      0.047176  \n",
            "1      0.036775  \n",
            "2      0.025295  \n",
            "3      0.021097  \n",
            "4      0.074342  \n",
            "5      0.017766  \n",
            "6      0.038791  \n"
          ]
        }
      ]
    },
    {
      "cell_type": "markdown",
      "source": [
        "2 mesi di dati falsi"
      ],
      "metadata": {
        "id": "6BeUC4bTk5WN"
      }
    },
    {
      "cell_type": "code",
      "source": [
        "#parametri\n",
        "features = [\"Mode 1\", \"Mode 2\", \"Mode 3\", \"Mode 4\", \"Mode 5\", \"Mode 6\"]\n",
        "results_2m_fake = []\n",
        "train_df, valid_df = create_fake_month(df_original, frac_per_month=0.1, random_state=42)\n",
        "\n",
        "print(\"Giorni training:\", train_df[\"timestamp\"].dt.date.nunique())\n",
        "print(\"Giorni validation:\", valid_df[\"timestamp\"].dt.date.nunique())\n",
        "\n",
        "anomaly = anomaly_rate_PCA(train_df, valid_df, features)\n",
        "results_2m_fake.append({\"window_size\": 2, \"anomaly\": anomaly})\n",
        "\n",
        "results_df_2m_fake = pd.DataFrame(results_2m_fake)\n",
        "print(results_df_2m_fake)"
      ],
      "metadata": {
        "colab": {
          "base_uri": "https://localhost:8080/"
        },
        "id": "UFGORGRrkxaE",
        "outputId": "43a268d1-248a-46a3-b031-27614337840e"
      },
      "execution_count": null,
      "outputs": [
        {
          "output_type": "stream",
          "name": "stdout",
          "text": [
            "Giorni training: 57\n",
            "Giorni validation: 547\n",
            "   window_size   anomaly\n",
            "0            2  0.017197\n"
          ]
        }
      ]
    },
    {
      "cell_type": "markdown",
      "source": [
        "4 mesi di dati falsi"
      ],
      "metadata": {
        "id": "nHT-hObvlH0m"
      }
    },
    {
      "cell_type": "code",
      "source": [
        "#parametri\n",
        "features = [\"Mode 1\", \"Mode 2\", \"Mode 3\", \"Mode 4\", \"Mode 5\", \"Mode 6\"]\n",
        "results_4m_fake = []\n",
        "\n",
        "train_df, valid_df = create_fake_month(df_original, frac_per_month=0.2, random_state=42)\n",
        "\n",
        "print(\"Giorni training:\", train_df[\"timestamp\"].dt.date.nunique())\n",
        "print(\"Giorni validation:\", valid_df[\"timestamp\"].dt.date.nunique())\n",
        "\n",
        "anomaly = anomaly_rate_PCA(train_df, valid_df, features)\n",
        "results_4m_fake.append({\"window_size\": 4, \"anomaly\": anomaly})\n",
        "\n",
        "results_df_4m_fake = pd.DataFrame(results_4m_fake)\n",
        "print(results_df_4m_fake)"
      ],
      "metadata": {
        "colab": {
          "base_uri": "https://localhost:8080/"
        },
        "id": "Z5cbsUeLlHVf",
        "outputId": "678141e0-6772-4f85-9ebe-0c2f17a1f4fc"
      },
      "execution_count": null,
      "outputs": [
        {
          "output_type": "stream",
          "name": "stdout",
          "text": [
            "Giorni training: 117\n",
            "Giorni validation: 487\n",
            "   window_size   anomaly\n",
            "0            4  0.015041\n"
          ]
        }
      ]
    },
    {
      "cell_type": "markdown",
      "source": [
        "6 mesi di dati falsi"
      ],
      "metadata": {
        "id": "pWYWKHRylOex"
      }
    },
    {
      "cell_type": "code",
      "source": [
        "#parametri\n",
        "features = [\"Mode 1\", \"Mode 2\", \"Mode 3\", \"Mode 4\", \"Mode 5\", \"Mode 6\"]\n",
        "results_6m_fake = []\n",
        "\n",
        "train_df, valid_df = create_fake_month(df_original, frac_per_month=0.3, random_state=42)\n",
        "\n",
        "print(\"Giorni training:\", train_df[\"timestamp\"].dt.date.nunique())\n",
        "print(\"Giorni validation:\", valid_df[\"timestamp\"].dt.date.nunique())\n",
        "\n",
        "anomaly = anomaly_rate_PCA(train_df, valid_df, features)\n",
        "results_6m_fake.append({\"window_size\": 6, \"anomaly\": anomaly})\n",
        "\n",
        "results_df_6m_fake = pd.DataFrame(results_6m_fake)\n",
        "print(results_df_6m_fake)"
      ],
      "metadata": {
        "colab": {
          "base_uri": "https://localhost:8080/"
        },
        "id": "i7D4H2WmlP_9",
        "outputId": "a4f24bb7-89b8-4d76-f3a4-95f06b4d445f"
      },
      "execution_count": null,
      "outputs": [
        {
          "output_type": "stream",
          "name": "stdout",
          "text": [
            "Giorni training: 177\n",
            "Giorni validation: 427\n",
            "   window_size   anomaly\n",
            "0            6  0.015173\n"
          ]
        }
      ]
    },
    {
      "cell_type": "code",
      "source": [
        "real_results_df = pd.concat([results_df_2m, results_df_4m, results_df_6m])\n",
        "real_mean = real_results_df.groupby(\"window_size\")[\"anomaly rate\"].mean().reset_index()\n",
        "\n",
        "fake_results_df = pd.concat([results_df_2m_fake, results_df_4m_fake, results_df_6m_fake])\n",
        "\n",
        "plt.figure(figsize=(8,5))\n",
        "plt.plot(real_mean[\"window_size\"], real_mean[\"anomaly rate\"]*100, \"o-\", label=\"Media mesi reali\")\n",
        "plt.plot(fake_results_df[\"window_size\"], fake_results_df[\"anomaly\"]*100, \"o-\", label=\"Mesi fake\")\n",
        "plt.axhline(2, color=\"r\", linestyle=\"--\", label=\"soglia 2%\")\n",
        "plt.xlabel(\"Numero di mesi nel training set\")\n",
        "plt.ylabel(\"Anomaly rate (%)\")\n",
        "plt.title(\"Confronto mesi reali vs mesi fake\")\n",
        "plt.legend()\n",
        "plt.grid(True)\n",
        "\n",
        "plt.show()"
      ],
      "metadata": {
        "colab": {
          "base_uri": "https://localhost:8080/",
          "height": 487
        },
        "id": "uvTSRyZCzPLi",
        "outputId": "a9bc34bb-ef93-463c-abcb-504bf7258e9f"
      },
      "execution_count": null,
      "outputs": [
        {
          "output_type": "display_data",
          "data": {
            "text/plain": [
              "<Figure size 800x500 with 1 Axes>"
            ],
            "image/png": "[encoded data removed]"
          },
          "metadata": {}
        }
      ]
    },
    {
      "cell_type": "code",
      "source": [
        "labels = [\"2 mesi\", \"4 mesi\", \"6 mesi\"]\n",
        "real_results_df = pd.concat([results_df_2m, results_df_4m, results_df_6m])\n",
        "real_mean = real_results_df.groupby(\"window_size\")[\"anomaly rate\"].mean().reset_index()\n",
        "real_std = real_results_df.groupby(\"window_size\")[\"anomaly rate\"].std().reset_index()\n",
        "\n",
        "fake_results_df = pd.concat([results_df_2m_fake, results_df_4m_fake, results_df_6m_fake])\n",
        "\n",
        "x = np.arange(len(labels))\n",
        "w = 0.35\n",
        "\n",
        "fig, ax = plt.subplots(figsize=(8, 5))\n",
        "bars1 = ax.bar(x - w/2, real_mean[\"anomaly rate\"]*100, w, yerr= real_std[\"anomaly rate\"]*100, label=\"Mesi reali consecutivi (media)\")\n",
        "bars2 = ax.bar(x + w/2, fake_results_df[\"anomaly\"]*100, w, label=\"Mesi falsi\")\n",
        "ax.axhline(2, color=\"r\", linestyle=\"--\", label=\"soglia 2%\")\n",
        "ax.set_xlabel(\"Numero di mesi nel training set\")\n",
        "ax.set_ylabel(\"Anomaly rate (%)\")\n",
        "ax.set_title(\"Confronto mesi reali vs mesi fake\")\n",
        "\n",
        "ax.set_xticks(x)\n",
        "ax.set_xticklabels(labels)\n",
        "ax.legend()\n",
        "ax.grid(axis=\"y\", linestyle=\":\", alpha=0.6)\n",
        "\n",
        "def add_labels(bars):\n",
        "  for bar in bars:\n",
        "    height = bar.get_height()\n",
        "    ax.text(\n",
        "        bar.get_x() + bar.get_width()/2,\n",
        "        height + 0.4,\n",
        "        f\"{height:.2f}\",\n",
        "        ha=\"center\",\n",
        "        va=\"bottom\",\n",
        "        fontsize=9,\n",
        "        color=\"white\",\n",
        "        bbox = dict(facecolor=\"black\", alpha=0.5, edgecolor=\"none\")\n",
        "    )\n",
        "\n",
        "add_labels(bars1)\n",
        "add_labels(bars2)\n",
        "plt.tight_layout()\n",
        "plt.show()"
      ],
      "metadata": {
        "colab": {
          "base_uri": "https://localhost:8080/",
          "height": 507
        },
        "id": "s_5KpS0vzrs2",
        "outputId": "8560522f-4bc8-42d0-e63a-e84d723fb91f"
      },
      "execution_count": null,
      "outputs": [
        {
          "output_type": "display_data",
          "data": {
            "text/plain": [
              "<Figure size 800x500 with 1 Axes>"
            ],
            "image/png": "[encoded data removed]"
          },
          "metadata": {}
        }
      ]
    },
    {
      "cell_type": "markdown",
      "source": [
        "# Finestre temporali con temperatura"
      ],
      "metadata": {
        "id": "zEDWn0xtmgBz"
      }
    },
    {
      "cell_type": "code",
      "source": [
        "df_temp = pd.read_csv(\"/content/data_temperature.csv\", encoding = \"utf-8\")\n",
        "df_temp[\"timestamp\"] = pd.to_datetime(df_temp[\"timestamp\"])\n",
        "df_temp[\"timestamp\"] = df_temp[\"timestamp\"].dt.tz_localize(None)\n",
        "df_temp = df_temp.sort_values(\"timestamp\")\n",
        "\n",
        "end = \"2025-01-01\"\n",
        "new_df = df_temp[(df_temp[\"timestamp\"] < end)]"
      ],
      "metadata": {
        "id": "cx7OhPaDmlJJ"
      },
      "execution_count": null,
      "outputs": []
    },
    {
      "cell_type": "code",
      "source": [
        "#parametri\n",
        "features = [\"Mode 1\", \"Mode 2\", \"Mode 3\", \"Mode 4\", \"Mode 5\", \"Mode 6\", \"temperatura\"]\n",
        "results = []\n",
        "window_size = 2\n",
        "n_months = 12\n",
        "start_date = new_df[\"timestamp\"].min()\n",
        "\n",
        "for m in range(1, n_months - window_size + 2):\n",
        "  train_start = start_date + pd.DateOffset(months=m-1)\n",
        "  train_end = start_date + pd.DateOffset(months=m-1+window_size)\n",
        "  train_df = new_df[(new_df[\"timestamp\"] >= train_start) & (new_df[\"timestamp\"] < train_end)]\n",
        "\n",
        "  valid_df = new_df[~new_df[\"timestamp\"].isin(train_df[\"timestamp\"])]\n",
        "\n",
        "  anomaly = anomaly_rate_PCA(train_df, valid_df, features)\n",
        "\n",
        "  train_months = sorted(train_df[\"timestamp\"].dt.to_period(\"M\").unique())\n",
        "\n",
        "  results.append({\"train_months\": [str(x) for x in train_months] , \"anomaly rate 0.01\": anomaly})\n",
        "\n",
        "results_df = pd.DataFrame(results)\n",
        "print(results_df)"
      ],
      "metadata": {
        "colab": {
          "base_uri": "https://localhost:8080/"
        },
        "id": "V3vM5iN9mx-p",
        "outputId": "c3f58973-da66-461e-e42c-9dee71fcc1d9"
      },
      "execution_count": null,
      "outputs": [
        {
          "output_type": "stream",
          "name": "stdout",
          "text": [
            "          train_months  anomaly rate 0.01\n",
            "0   [2024-01, 2024-02]           0.112739\n",
            "1   [2024-02, 2024-03]           0.421079\n",
            "2   [2024-03, 2024-04]           0.042930\n",
            "3   [2024-04, 2024-05]           0.191821\n",
            "4   [2024-05, 2024-06]           0.036222\n",
            "5   [2024-06, 2024-07]           0.465863\n",
            "6   [2024-07, 2024-08]           0.587136\n",
            "7   [2024-08, 2024-09]           0.250991\n",
            "8   [2024-09, 2024-10]           0.124648\n",
            "9   [2024-10, 2024-11]           0.091642\n",
            "10  [2024-11, 2024-12]           0.171793\n"
          ]
        }
      ]
    },
    {
      "cell_type": "code",
      "source": [
        "#parametri\n",
        "features = [\"Mode 1\", \"Mode 2\", \"Mode 3\", \"Mode 4\", \"Mode 5\", \"Mode 6\", \"temperatura\"]\n",
        "results = []\n",
        "window_size = 4\n",
        "n_months = 12\n",
        "start_date = new_df[\"timestamp\"].min()\n",
        "\n",
        "for m in range(1, n_months - window_size + 2):\n",
        "  train_start = start_date + pd.DateOffset(months=m-1)\n",
        "  train_end = start_date + pd.DateOffset(months=m-1+window_size)\n",
        "  train_df = new_df[(new_df[\"timestamp\"] >= train_start) & (new_df[\"timestamp\"] < train_end)]\n",
        "\n",
        "  valid_df = new_df[~new_df[\"timestamp\"].isin(train_df[\"timestamp\"])]\n",
        "\n",
        "  anomaly = anomaly_rate_PCA(train_df, valid_df, features)\n",
        "\n",
        "  train_months = sorted(train_df[\"timestamp\"].dt.to_period(\"M\").unique())\n",
        "\n",
        "  results.append({\"train_months\": [str(x) for x in train_months] , \"anomaly rate 0.01\": anomaly})\n",
        "\n",
        "results_df = pd.DataFrame(results)\n",
        "print(results_df)"
      ],
      "metadata": {
        "colab": {
          "base_uri": "https://localhost:8080/"
        },
        "id": "5WQW5vSYnQNQ",
        "outputId": "43015910-cfd7-4a3a-9bd1-4bcae71cec26"
      },
      "execution_count": null,
      "outputs": [
        {
          "output_type": "stream",
          "name": "stdout",
          "text": [
            "                           train_months  anomaly rate 0.01\n",
            "0  [2024-01, 2024-02, 2024-03, 2024-04]           0.116696\n",
            "1  [2024-02, 2024-03, 2024-04, 2024-05]           0.147328\n",
            "2  [2024-03, 2024-04, 2024-05, 2024-06]           0.047528\n",
            "3  [2024-04, 2024-05, 2024-06, 2024-07]           0.019487\n",
            "4  [2024-05, 2024-06, 2024-07, 2024-08]           0.051853\n",
            "5  [2024-06, 2024-07, 2024-08, 2024-09]           0.044388\n",
            "6  [2024-07, 2024-08, 2024-09, 2024-10]           0.583015\n",
            "7  [2024-08, 2024-09, 2024-10, 2024-11]           0.179298\n",
            "8  [2024-09, 2024-10, 2024-11, 2024-12]           0.166667\n"
          ]
        }
      ]
    },
    {
      "cell_type": "code",
      "source": [
        "#parametri\n",
        "features = [\"Mode 1\", \"Mode 2\", \"Mode 3\", \"Mode 4\", \"Mode 5\", \"Mode 6\", \"temperatura\"]\n",
        "results = []\n",
        "window_size = 6\n",
        "n_months = 12\n",
        "start_date = new_df[\"timestamp\"].min()\n",
        "\n",
        "for m in range(1, n_months - window_size + 2):\n",
        "  train_start = start_date + pd.DateOffset(months=m-1)\n",
        "  train_end = start_date + pd.DateOffset(months=m-1+window_size)\n",
        "  train_df = new_df[(new_df[\"timestamp\"] >= train_start) & (new_df[\"timestamp\"] < train_end)]\n",
        "\n",
        "  valid_df = new_df[~new_df[\"timestamp\"].isin(train_df[\"timestamp\"])]\n",
        "\n",
        "  anomaly = anomaly_rate_PCA(train_df, valid_df, features)\n",
        "\n",
        "  train_months = sorted(train_df[\"timestamp\"].dt.to_period(\"M\").unique())\n",
        "\n",
        "  results.append({\"train_months\": [str(x) for x in train_months] , \"anomaly rate 0.01\": anomaly})\n",
        "\n",
        "results_df = pd.DataFrame(results)\n",
        "print(results_df)"
      ],
      "metadata": {
        "colab": {
          "base_uri": "https://localhost:8080/"
        },
        "id": "1jOwBFt_nX_0",
        "outputId": "2eca677b-2b80-493a-fc35-65f4507d35da"
      },
      "execution_count": null,
      "outputs": [
        {
          "output_type": "stream",
          "name": "stdout",
          "text": [
            "                                        train_months  anomaly rate 0.01\n",
            "0  [2024-01, 2024-02, 2024-03, 2024-04, 2024-05, ...           0.210493\n",
            "1  [2024-02, 2024-03, 2024-04, 2024-05, 2024-06, ...           0.049034\n",
            "2  [2024-03, 2024-04, 2024-05, 2024-06, 2024-07, ...           0.016231\n",
            "3  [2024-04, 2024-05, 2024-06, 2024-07, 2024-08, ...           0.015823\n",
            "4  [2024-05, 2024-06, 2024-07, 2024-08, 2024-09, ...           0.047579\n",
            "5  [2024-06, 2024-07, 2024-08, 2024-09, 2024-10, ...           0.105330\n",
            "6  [2024-07, 2024-08, 2024-09, 2024-10, 2024-11, ...           0.013931\n"
          ]
        }
      ]
    }
  ]
}